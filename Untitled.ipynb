{
 "cells": [
  {
   "cell_type": "markdown",
   "metadata": {},
   "source": [
    "# Tugas Besar Probabilitas dan Statistika IF2220\n",
    "Rafi Raihansyah Munandar - 13519154\n",
    "\n",
    "Harith Fakhiri Setiawan - 13519161"
   ]
  },
  {
   "cell_type": "code",
   "execution_count": 14,
   "metadata": {},
   "outputs": [],
   "source": [
    "import pandas as pd\n",
    "import matplotlib as plt\n",
    "columns=['ID', 'Daerah', 'SumbuUtama', 'SumbuKecil','Keunikan','AreaBulatan','Diameter','KadarAir','Keliling','Bulatan','Ransum','Kelas'] \n",
    "data = pd.read_csv('Gandum.csv', names=columns, header=None)\n",
    "baris,kolom = data.shape"
   ]
  },
  {
   "cell_type": "code",
   "execution_count": 33,
   "metadata": {},
   "outputs": [
    {
     "data": {
      "text/html": [
       "<div>\n",
       "<style scoped>\n",
       "    .dataframe tbody tr th:only-of-type {\n",
       "        vertical-align: middle;\n",
       "    }\n",
       "\n",
       "    .dataframe tbody tr th {\n",
       "        vertical-align: top;\n",
       "    }\n",
       "\n",
       "    .dataframe thead th {\n",
       "        text-align: right;\n",
       "    }\n",
       "</style>\n",
       "<table border=\"1\" class=\"dataframe\">\n",
       "  <thead>\n",
       "    <tr style=\"text-align: right;\">\n",
       "      <th></th>\n",
       "      <th>ID</th>\n",
       "      <th>Daerah</th>\n",
       "      <th>SumbuUtama</th>\n",
       "      <th>SumbuKecil</th>\n",
       "      <th>Keunikan</th>\n",
       "      <th>AreaBulatan</th>\n",
       "      <th>Diameter</th>\n",
       "      <th>KadarAir</th>\n",
       "      <th>Keliling</th>\n",
       "      <th>Bulatan</th>\n",
       "      <th>Ransum</th>\n",
       "      <th>Kelas</th>\n",
       "    </tr>\n",
       "  </thead>\n",
       "  <tbody>\n",
       "    <tr>\n",
       "      <th>count</th>\n",
       "      <td>500.000000</td>\n",
       "      <td>500.000000</td>\n",
       "      <td>500.000000</td>\n",
       "      <td>500.000000</td>\n",
       "      <td>500.000000</td>\n",
       "      <td>500.000000</td>\n",
       "      <td>500.000000</td>\n",
       "      <td>500.000000</td>\n",
       "      <td>500.000000</td>\n",
       "      <td>500.000000</td>\n",
       "      <td>500.000000</td>\n",
       "      <td>500.000000</td>\n",
       "    </tr>\n",
       "    <tr>\n",
       "      <th>mean</th>\n",
       "      <td>250.500000</td>\n",
       "      <td>4801.246000</td>\n",
       "      <td>116.045171</td>\n",
       "      <td>53.715246</td>\n",
       "      <td>0.878764</td>\n",
       "      <td>4937.048000</td>\n",
       "      <td>77.771158</td>\n",
       "      <td>0.648372</td>\n",
       "      <td>281.479722</td>\n",
       "      <td>0.761737</td>\n",
       "      <td>2.150915</td>\n",
       "      <td>1.502000</td>\n",
       "    </tr>\n",
       "    <tr>\n",
       "      <th>std</th>\n",
       "      <td>144.481833</td>\n",
       "      <td>986.395491</td>\n",
       "      <td>18.282626</td>\n",
       "      <td>4.071075</td>\n",
       "      <td>0.036586</td>\n",
       "      <td>1011.696255</td>\n",
       "      <td>8.056867</td>\n",
       "      <td>0.094367</td>\n",
       "      <td>37.335402</td>\n",
       "      <td>0.061702</td>\n",
       "      <td>0.249767</td>\n",
       "      <td>0.500497</td>\n",
       "    </tr>\n",
       "    <tr>\n",
       "      <th>min</th>\n",
       "      <td>1.000000</td>\n",
       "      <td>2522.000000</td>\n",
       "      <td>74.133114</td>\n",
       "      <td>39.906517</td>\n",
       "      <td>0.719916</td>\n",
       "      <td>2579.000000</td>\n",
       "      <td>56.666658</td>\n",
       "      <td>0.409927</td>\n",
       "      <td>197.015000</td>\n",
       "      <td>0.174590</td>\n",
       "      <td>1.440796</td>\n",
       "      <td>1.000000</td>\n",
       "    </tr>\n",
       "    <tr>\n",
       "      <th>25%</th>\n",
       "      <td>125.750000</td>\n",
       "      <td>4042.750000</td>\n",
       "      <td>104.116098</td>\n",
       "      <td>51.193576</td>\n",
       "      <td>0.863676</td>\n",
       "      <td>4170.250000</td>\n",
       "      <td>71.745308</td>\n",
       "      <td>0.572632</td>\n",
       "      <td>255.883000</td>\n",
       "      <td>0.731991</td>\n",
       "      <td>1.983939</td>\n",
       "      <td>1.000000</td>\n",
       "    </tr>\n",
       "    <tr>\n",
       "      <th>50%</th>\n",
       "      <td>250.500000</td>\n",
       "      <td>4735.000000</td>\n",
       "      <td>115.405140</td>\n",
       "      <td>53.731199</td>\n",
       "      <td>0.890045</td>\n",
       "      <td>4857.000000</td>\n",
       "      <td>77.645277</td>\n",
       "      <td>0.626117</td>\n",
       "      <td>280.045500</td>\n",
       "      <td>0.761288</td>\n",
       "      <td>2.193599</td>\n",
       "      <td>2.000000</td>\n",
       "    </tr>\n",
       "    <tr>\n",
       "      <th>75%</th>\n",
       "      <td>375.250000</td>\n",
       "      <td>5495.500000</td>\n",
       "      <td>129.046792</td>\n",
       "      <td>56.325158</td>\n",
       "      <td>0.907578</td>\n",
       "      <td>5654.250000</td>\n",
       "      <td>83.648598</td>\n",
       "      <td>0.726633</td>\n",
       "      <td>306.062500</td>\n",
       "      <td>0.796361</td>\n",
       "      <td>2.381612</td>\n",
       "      <td>2.000000</td>\n",
       "    </tr>\n",
       "    <tr>\n",
       "      <th>max</th>\n",
       "      <td>500.000000</td>\n",
       "      <td>7453.000000</td>\n",
       "      <td>227.928583</td>\n",
       "      <td>68.977700</td>\n",
       "      <td>0.914001</td>\n",
       "      <td>7720.000000</td>\n",
       "      <td>97.413830</td>\n",
       "      <td>0.878899</td>\n",
       "      <td>488.837000</td>\n",
       "      <td>0.904748</td>\n",
       "      <td>2.464809</td>\n",
       "      <td>2.000000</td>\n",
       "    </tr>\n",
       "  </tbody>\n",
       "</table>\n",
       "</div>"
      ],
      "text/plain": [
       "               ID       Daerah  SumbuUtama  SumbuKecil    Keunikan  \\\n",
       "count  500.000000   500.000000  500.000000  500.000000  500.000000   \n",
       "mean   250.500000  4801.246000  116.045171   53.715246    0.878764   \n",
       "std    144.481833   986.395491   18.282626    4.071075    0.036586   \n",
       "min      1.000000  2522.000000   74.133114   39.906517    0.719916   \n",
       "25%    125.750000  4042.750000  104.116098   51.193576    0.863676   \n",
       "50%    250.500000  4735.000000  115.405140   53.731199    0.890045   \n",
       "75%    375.250000  5495.500000  129.046792   56.325158    0.907578   \n",
       "max    500.000000  7453.000000  227.928583   68.977700    0.914001   \n",
       "\n",
       "       AreaBulatan    Diameter    KadarAir    Keliling     Bulatan  \\\n",
       "count   500.000000  500.000000  500.000000  500.000000  500.000000   \n",
       "mean   4937.048000   77.771158    0.648372  281.479722    0.761737   \n",
       "std    1011.696255    8.056867    0.094367   37.335402    0.061702   \n",
       "min    2579.000000   56.666658    0.409927  197.015000    0.174590   \n",
       "25%    4170.250000   71.745308    0.572632  255.883000    0.731991   \n",
       "50%    4857.000000   77.645277    0.626117  280.045500    0.761288   \n",
       "75%    5654.250000   83.648598    0.726633  306.062500    0.796361   \n",
       "max    7720.000000   97.413830    0.878899  488.837000    0.904748   \n",
       "\n",
       "           Ransum       Kelas  \n",
       "count  500.000000  500.000000  \n",
       "mean     2.150915    1.502000  \n",
       "std      0.249767    0.500497  \n",
       "min      1.440796    1.000000  \n",
       "25%      1.983939    1.000000  \n",
       "50%      2.193599    2.000000  \n",
       "75%      2.381612    2.000000  \n",
       "max      2.464809    2.000000  "
      ]
     },
     "execution_count": 33,
     "metadata": {},
     "output_type": "execute_result"
    }
   ],
   "source": [
    "data.describe()"
   ]
  },
  {
   "cell_type": "markdown",
   "metadata": {},
   "source": [
    "## Soal No. 1"
   ]
  },
  {
   "cell_type": "code",
   "execution_count": 52,
   "metadata": {},
   "outputs": [
    {
     "data": {
      "text/html": [
       "<div>\n",
       "<style scoped>\n",
       "    .dataframe tbody tr th:only-of-type {\n",
       "        vertical-align: middle;\n",
       "    }\n",
       "\n",
       "    .dataframe tbody tr th {\n",
       "        vertical-align: top;\n",
       "    }\n",
       "\n",
       "    .dataframe thead th {\n",
       "        text-align: right;\n",
       "    }\n",
       "</style>\n",
       "<table border=\"1\" class=\"dataframe\">\n",
       "  <thead>\n",
       "    <tr style=\"text-align: right;\">\n",
       "      <th></th>\n",
       "      <th>ID</th>\n",
       "      <th>Daerah</th>\n",
       "      <th>SumbuUtama</th>\n",
       "      <th>SumbuKecil</th>\n",
       "      <th>Keunikan</th>\n",
       "      <th>AreaBulatan</th>\n",
       "      <th>Diameter</th>\n",
       "      <th>KadarAir</th>\n",
       "      <th>Keliling</th>\n",
       "      <th>Bulatan</th>\n",
       "      <th>Ransum</th>\n",
       "      <th>Kelas</th>\n",
       "    </tr>\n",
       "  </thead>\n",
       "  <tbody>\n",
       "    <tr>\n",
       "      <th>count</th>\n",
       "      <td>500.000000</td>\n",
       "      <td>500.000000</td>\n",
       "      <td>500.000000</td>\n",
       "      <td>500.000000</td>\n",
       "      <td>500.000000</td>\n",
       "      <td>5.000000e+02</td>\n",
       "      <td>500.000000</td>\n",
       "      <td>500.000000</td>\n",
       "      <td>500.000000</td>\n",
       "      <td>500.000000</td>\n",
       "      <td>500.000000</td>\n",
       "      <td>500.000000</td>\n",
       "    </tr>\n",
       "    <tr>\n",
       "      <th>mean</th>\n",
       "      <td>250.500000</td>\n",
       "      <td>4801.246000</td>\n",
       "      <td>116.045171</td>\n",
       "      <td>53.715246</td>\n",
       "      <td>0.878764</td>\n",
       "      <td>4.937048e+03</td>\n",
       "      <td>77.771158</td>\n",
       "      <td>0.648372</td>\n",
       "      <td>281.479722</td>\n",
       "      <td>0.761737</td>\n",
       "      <td>2.150915</td>\n",
       "      <td>1.502000</td>\n",
       "    </tr>\n",
       "    <tr>\n",
       "      <th>std</th>\n",
       "      <td>144.481833</td>\n",
       "      <td>986.395491</td>\n",
       "      <td>18.282626</td>\n",
       "      <td>4.071075</td>\n",
       "      <td>0.036586</td>\n",
       "      <td>1.011696e+03</td>\n",
       "      <td>8.056867</td>\n",
       "      <td>0.094367</td>\n",
       "      <td>37.335402</td>\n",
       "      <td>0.061702</td>\n",
       "      <td>0.249767</td>\n",
       "      <td>0.500497</td>\n",
       "    </tr>\n",
       "    <tr>\n",
       "      <th>min</th>\n",
       "      <td>1.000000</td>\n",
       "      <td>2522.000000</td>\n",
       "      <td>74.133114</td>\n",
       "      <td>39.906517</td>\n",
       "      <td>0.719916</td>\n",
       "      <td>2.579000e+03</td>\n",
       "      <td>56.666658</td>\n",
       "      <td>0.409927</td>\n",
       "      <td>197.015000</td>\n",
       "      <td>0.174590</td>\n",
       "      <td>1.440796</td>\n",
       "      <td>1.000000</td>\n",
       "    </tr>\n",
       "    <tr>\n",
       "      <th>25%</th>\n",
       "      <td>125.750000</td>\n",
       "      <td>4042.750000</td>\n",
       "      <td>104.116098</td>\n",
       "      <td>51.193576</td>\n",
       "      <td>0.863676</td>\n",
       "      <td>4.170250e+03</td>\n",
       "      <td>71.745308</td>\n",
       "      <td>0.572632</td>\n",
       "      <td>255.883000</td>\n",
       "      <td>0.731991</td>\n",
       "      <td>1.983939</td>\n",
       "      <td>1.000000</td>\n",
       "    </tr>\n",
       "    <tr>\n",
       "      <th>50%</th>\n",
       "      <td>250.500000</td>\n",
       "      <td>4735.000000</td>\n",
       "      <td>115.405140</td>\n",
       "      <td>53.731199</td>\n",
       "      <td>0.890045</td>\n",
       "      <td>4.857000e+03</td>\n",
       "      <td>77.645277</td>\n",
       "      <td>0.626117</td>\n",
       "      <td>280.045500</td>\n",
       "      <td>0.761288</td>\n",
       "      <td>2.193599</td>\n",
       "      <td>2.000000</td>\n",
       "    </tr>\n",
       "    <tr>\n",
       "      <th>75%</th>\n",
       "      <td>375.250000</td>\n",
       "      <td>5495.500000</td>\n",
       "      <td>129.046792</td>\n",
       "      <td>56.325158</td>\n",
       "      <td>0.907578</td>\n",
       "      <td>5.654250e+03</td>\n",
       "      <td>83.648598</td>\n",
       "      <td>0.726633</td>\n",
       "      <td>306.062500</td>\n",
       "      <td>0.796361</td>\n",
       "      <td>2.381612</td>\n",
       "      <td>2.000000</td>\n",
       "    </tr>\n",
       "    <tr>\n",
       "      <th>max</th>\n",
       "      <td>500.000000</td>\n",
       "      <td>7453.000000</td>\n",
       "      <td>227.928583</td>\n",
       "      <td>68.977700</td>\n",
       "      <td>0.914001</td>\n",
       "      <td>7.720000e+03</td>\n",
       "      <td>97.413830</td>\n",
       "      <td>0.878899</td>\n",
       "      <td>488.837000</td>\n",
       "      <td>0.904748</td>\n",
       "      <td>2.464809</td>\n",
       "      <td>2.000000</td>\n",
       "    </tr>\n",
       "    <tr>\n",
       "      <th>median</th>\n",
       "      <td>250.500000</td>\n",
       "      <td>4735.000000</td>\n",
       "      <td>115.405140</td>\n",
       "      <td>53.731199</td>\n",
       "      <td>0.890045</td>\n",
       "      <td>4.857000e+03</td>\n",
       "      <td>77.645277</td>\n",
       "      <td>0.626117</td>\n",
       "      <td>280.045500</td>\n",
       "      <td>0.761288</td>\n",
       "      <td>2.193599</td>\n",
       "      <td>2.000000</td>\n",
       "    </tr>\n",
       "    <tr>\n",
       "      <th>variance</th>\n",
       "      <td>20875.000000</td>\n",
       "      <td>972976.065615</td>\n",
       "      <td>334.254412</td>\n",
       "      <td>16.573650</td>\n",
       "      <td>0.001339</td>\n",
       "      <td>1.023529e+06</td>\n",
       "      <td>64.913111</td>\n",
       "      <td>0.008905</td>\n",
       "      <td>1393.932221</td>\n",
       "      <td>0.003807</td>\n",
       "      <td>0.062383</td>\n",
       "      <td>0.250497</td>\n",
       "    </tr>\n",
       "    <tr>\n",
       "      <th>range</th>\n",
       "      <td>499.000000</td>\n",
       "      <td>4931.000000</td>\n",
       "      <td>153.795469</td>\n",
       "      <td>29.071182</td>\n",
       "      <td>0.194085</td>\n",
       "      <td>5.141000e+03</td>\n",
       "      <td>40.747172</td>\n",
       "      <td>0.468972</td>\n",
       "      <td>291.822000</td>\n",
       "      <td>0.730158</td>\n",
       "      <td>1.024013</td>\n",
       "      <td>1.000000</td>\n",
       "    </tr>\n",
       "    <tr>\n",
       "      <th>IQR</th>\n",
       "      <td>249.500000</td>\n",
       "      <td>1452.750000</td>\n",
       "      <td>24.930694</td>\n",
       "      <td>5.131582</td>\n",
       "      <td>0.043902</td>\n",
       "      <td>1.484000e+03</td>\n",
       "      <td>11.903290</td>\n",
       "      <td>0.154001</td>\n",
       "      <td>50.179500</td>\n",
       "      <td>0.064370</td>\n",
       "      <td>0.397673</td>\n",
       "      <td>1.000000</td>\n",
       "    </tr>\n",
       "    <tr>\n",
       "      <th>skewness</th>\n",
       "      <td>0.000000</td>\n",
       "      <td>0.238144</td>\n",
       "      <td>0.761529</td>\n",
       "      <td>-0.010828</td>\n",
       "      <td>-1.623472</td>\n",
       "      <td>2.575600e-01</td>\n",
       "      <td>0.002725</td>\n",
       "      <td>0.493661</td>\n",
       "      <td>0.733627</td>\n",
       "      <td>-3.599237</td>\n",
       "      <td>-0.658188</td>\n",
       "      <td>-0.008024</td>\n",
       "    </tr>\n",
       "    <tr>\n",
       "      <th>kurtosis</th>\n",
       "      <td>-1.200000</td>\n",
       "      <td>-0.434631</td>\n",
       "      <td>4.330534</td>\n",
       "      <td>0.475568</td>\n",
       "      <td>2.917256</td>\n",
       "      <td>-4.096849e-01</td>\n",
       "      <td>-0.466455</td>\n",
       "      <td>-0.740326</td>\n",
       "      <td>2.272685</td>\n",
       "      <td>29.975096</td>\n",
       "      <td>-0.428656</td>\n",
       "      <td>-2.007984</td>\n",
       "    </tr>\n",
       "  </tbody>\n",
       "</table>\n",
       "</div>"
      ],
      "text/plain": [
       "                    ID         Daerah  SumbuUtama  SumbuKecil    Keunikan  \\\n",
       "count       500.000000     500.000000  500.000000  500.000000  500.000000   \n",
       "mean        250.500000    4801.246000  116.045171   53.715246    0.878764   \n",
       "std         144.481833     986.395491   18.282626    4.071075    0.036586   \n",
       "min           1.000000    2522.000000   74.133114   39.906517    0.719916   \n",
       "25%         125.750000    4042.750000  104.116098   51.193576    0.863676   \n",
       "50%         250.500000    4735.000000  115.405140   53.731199    0.890045   \n",
       "75%         375.250000    5495.500000  129.046792   56.325158    0.907578   \n",
       "max         500.000000    7453.000000  227.928583   68.977700    0.914001   \n",
       "median      250.500000    4735.000000  115.405140   53.731199    0.890045   \n",
       "variance  20875.000000  972976.065615  334.254412   16.573650    0.001339   \n",
       "range       499.000000    4931.000000  153.795469   29.071182    0.194085   \n",
       "IQR         249.500000    1452.750000   24.930694    5.131582    0.043902   \n",
       "skewness      0.000000       0.238144    0.761529   -0.010828   -1.623472   \n",
       "kurtosis     -1.200000      -0.434631    4.330534    0.475568    2.917256   \n",
       "\n",
       "           AreaBulatan    Diameter    KadarAir     Keliling     Bulatan  \\\n",
       "count     5.000000e+02  500.000000  500.000000   500.000000  500.000000   \n",
       "mean      4.937048e+03   77.771158    0.648372   281.479722    0.761737   \n",
       "std       1.011696e+03    8.056867    0.094367    37.335402    0.061702   \n",
       "min       2.579000e+03   56.666658    0.409927   197.015000    0.174590   \n",
       "25%       4.170250e+03   71.745308    0.572632   255.883000    0.731991   \n",
       "50%       4.857000e+03   77.645277    0.626117   280.045500    0.761288   \n",
       "75%       5.654250e+03   83.648598    0.726633   306.062500    0.796361   \n",
       "max       7.720000e+03   97.413830    0.878899   488.837000    0.904748   \n",
       "median    4.857000e+03   77.645277    0.626117   280.045500    0.761288   \n",
       "variance  1.023529e+06   64.913111    0.008905  1393.932221    0.003807   \n",
       "range     5.141000e+03   40.747172    0.468972   291.822000    0.730158   \n",
       "IQR       1.484000e+03   11.903290    0.154001    50.179500    0.064370   \n",
       "skewness  2.575600e-01    0.002725    0.493661     0.733627   -3.599237   \n",
       "kurtosis -4.096849e-01   -0.466455   -0.740326     2.272685   29.975096   \n",
       "\n",
       "              Ransum       Kelas  \n",
       "count     500.000000  500.000000  \n",
       "mean        2.150915    1.502000  \n",
       "std         0.249767    0.500497  \n",
       "min         1.440796    1.000000  \n",
       "25%         1.983939    1.000000  \n",
       "50%         2.193599    2.000000  \n",
       "75%         2.381612    2.000000  \n",
       "max         2.464809    2.000000  \n",
       "median      2.193599    2.000000  \n",
       "variance    0.062383    0.250497  \n",
       "range       1.024013    1.000000  \n",
       "IQR         0.397673    1.000000  \n",
       "skewness   -0.658188   -0.008024  \n",
       "kurtosis   -0.428656   -2.007984  "
      ]
     },
     "execution_count": 52,
     "metadata": {},
     "output_type": "execute_result"
    }
   ],
   "source": [
    "# BELOM MODUS\n",
    "descripadd = descrip.append(data.median(), ignore_index=True)\n",
    "descripadd = descripadd.append(data.var(), ignore_index=True)\n",
    "descripadd = descripadd.append(data.max()-data.min(), ignore_index=True)\n",
    "descripadd = descripadd.append(data.quantile(0.75)-data.quantile(0.25), ignore_index=True)\n",
    "descripadd = descripadd.append(data.skew(), ignore_index=True)\n",
    "descripadd = descripadd.append(data.kurt(), ignore_index=True)\n",
    "descripadd.index = ['count','mean','std','min','25%','50%','75%','max','median','variance','range','IQR','skewness','kurtosis']\n",
    "descripadd"
   ]
  },
  {
   "cell_type": "code",
   "execution_count": 82,
   "metadata": {},
   "outputs": [
    {
     "name": "stdout",
     "output_type": "stream",
     "text": [
      "Modus Daerah\n"
     ]
    },
    {
     "data": {
      "text/plain": [
       "0    3992\n",
       "1    4881\n",
       "2    5642\n",
       "3    6083\n",
       "dtype: int64"
      ]
     },
     "execution_count": 82,
     "metadata": {},
     "output_type": "execute_result"
    }
   ],
   "source": [
    "print(\"Modus Daerah\")\n",
    "data['Daerah'].mode()"
   ]
  },
  {
   "cell_type": "code",
   "execution_count": 83,
   "metadata": {},
   "outputs": [
    {
     "name": "stdout",
     "output_type": "stream",
     "text": [
      "Modus Sumbu Utama\n"
     ]
    },
    {
     "data": {
      "text/plain": [
       "0       74.133114\n",
       "1       74.364021\n",
       "2       74.691881\n",
       "3       76.293164\n",
       "4       76.789043\n",
       "          ...    \n",
       "495    152.068440\n",
       "496    152.113491\n",
       "497    153.583387\n",
       "498    227.105462\n",
       "499    227.928583\n",
       "Length: 500, dtype: float64"
      ]
     },
     "execution_count": 83,
     "metadata": {},
     "output_type": "execute_result"
    }
   ],
   "source": [
    "print(\"Modus Sumbu Utama\")\n",
    "data['SumbuUtama'].mode()"
   ]
  },
  {
   "cell_type": "code",
   "execution_count": 84,
   "metadata": {},
   "outputs": [
    {
     "name": "stdout",
     "output_type": "stream",
     "text": [
      "Modus Sumbu Kecil\n"
     ]
    },
    {
     "data": {
      "text/plain": [
       "0      39.906517\n",
       "1      41.436419\n",
       "2      42.871879\n",
       "3      43.284979\n",
       "4      44.119355\n",
       "         ...    \n",
       "495    63.322854\n",
       "496    63.762307\n",
       "497    64.012769\n",
       "498    65.738475\n",
       "499    68.977700\n",
       "Length: 500, dtype: float64"
      ]
     },
     "execution_count": 84,
     "metadata": {},
     "output_type": "execute_result"
    }
   ],
   "source": [
    "print(\"Modus Sumbu Kecil\")\n",
    "data['SumbuKecil'].mode()\n"
   ]
  },
  {
   "cell_type": "code",
   "execution_count": 85,
   "metadata": {},
   "outputs": [
    {
     "name": "stdout",
     "output_type": "stream",
     "text": [
      "Modus Keunikan\n"
     ]
    },
    {
     "data": {
      "text/plain": [
       "0      0.719916\n",
       "1      0.725553\n",
       "2      0.731211\n",
       "3      0.738639\n",
       "4      0.749282\n",
       "         ...   \n",
       "495    0.913724\n",
       "496    0.913760\n",
       "497    0.913891\n",
       "498    0.913909\n",
       "499    0.914001\n",
       "Length: 500, dtype: float64"
      ]
     },
     "execution_count": 85,
     "metadata": {},
     "output_type": "execute_result"
    }
   ],
   "source": [
    "print(\"Modus Keunikan\")\n",
    "data['Keunikan'].mode()"
   ]
  },
  {
   "cell_type": "code",
   "execution_count": 86,
   "metadata": {},
   "outputs": [
    {
     "name": "stdout",
     "output_type": "stream",
     "text": [
      "Modus Area Bulatan\n"
     ]
    },
    {
     "data": {
      "text/plain": [
       "0    3802\n",
       "1    4913\n",
       "dtype: int64"
      ]
     },
     "execution_count": 86,
     "metadata": {},
     "output_type": "execute_result"
    }
   ],
   "source": [
    "print(\"Modus Area Bulatan\")\n",
    "data['AreaBulatan'].mode()"
   ]
  },
  {
   "cell_type": "code",
   "execution_count": 87,
   "metadata": {},
   "outputs": [
    {
     "name": "stdout",
     "output_type": "stream",
     "text": [
      "Modus Diameter\n"
     ]
    },
    {
     "data": {
      "text/plain": [
       "0    71.293564\n",
       "1    78.833256\n",
       "2    84.756224\n",
       "3    88.006342\n",
       "dtype: float64"
      ]
     },
     "execution_count": 87,
     "metadata": {},
     "output_type": "execute_result"
    }
   ],
   "source": [
    "print(\"Modus Diameter\")\n",
    "data['Diameter'].mode()"
   ]
  },
  {
   "cell_type": "code",
   "execution_count": 88,
   "metadata": {},
   "outputs": [
    {
     "name": "stdout",
     "output_type": "stream",
     "text": [
      "Modus Kadar Air\n"
     ]
    },
    {
     "data": {
      "text/plain": [
       "0    0.735849\n",
       "1    0.824405\n",
       "dtype: float64"
      ]
     },
     "execution_count": 88,
     "metadata": {},
     "output_type": "execute_result"
    }
   ],
   "source": [
    "print(\"Modus Kadar Air\")\n",
    "data['KadarAir'].mode()"
   ]
  },
  {
   "cell_type": "code",
   "execution_count": 89,
   "metadata": {},
   "outputs": [
    {
     "name": "stdout",
     "output_type": "stream",
     "text": [
      "Modus Keliling\n"
     ]
    },
    {
     "data": {
      "text/plain": [
       "0      197.015\n",
       "1      200.587\n",
       "2      202.456\n",
       "3      207.325\n",
       "4      207.697\n",
       "        ...   \n",
       "495    375.651\n",
       "496    390.125\n",
       "497    434.235\n",
       "498    448.305\n",
       "499    488.837\n",
       "Length: 500, dtype: float64"
      ]
     },
     "execution_count": 89,
     "metadata": {},
     "output_type": "execute_result"
    }
   ],
   "source": [
    "print(\"Modus Keliling\")\n",
    "data['Keliling'].mode()"
   ]
  },
  {
   "cell_type": "code",
   "execution_count": 90,
   "metadata": {},
   "outputs": [
    {
     "name": "stdout",
     "output_type": "stream",
     "text": [
      "Modus Bulatan\n"
     ]
    },
    {
     "data": {
      "text/plain": [
       "0      0.174590\n",
       "1      0.261297\n",
       "2      0.299298\n",
       "3      0.589146\n",
       "4      0.603807\n",
       "         ...   \n",
       "495    0.872417\n",
       "496    0.874243\n",
       "497    0.874743\n",
       "498    0.891706\n",
       "499    0.904748\n",
       "Length: 500, dtype: float64"
      ]
     },
     "execution_count": 90,
     "metadata": {},
     "output_type": "execute_result"
    }
   ],
   "source": [
    "print(\"Modus Bulatan\")\n",
    "data['Bulatan'].mode()"
   ]
  },
  {
   "cell_type": "code",
   "execution_count": 91,
   "metadata": {},
   "outputs": [
    {
     "name": "stdout",
     "output_type": "stream",
     "text": [
      "Modus Ransum\n"
     ]
    },
    {
     "data": {
      "text/plain": [
       "0      1.440796\n",
       "1      1.453137\n",
       "2      1.465950\n",
       "3      1.483456\n",
       "4      1.510000\n",
       "         ...   \n",
       "495    2.461017\n",
       "496    2.461510\n",
       "497    2.463297\n",
       "498    2.463546\n",
       "499    2.464809\n",
       "Length: 500, dtype: float64"
      ]
     },
     "execution_count": 91,
     "metadata": {},
     "output_type": "execute_result"
    }
   ],
   "source": [
    "print(\"Modus Ransum\")\n",
    "data['Ransum'].mode()"
   ]
  },
  {
   "cell_type": "code",
   "execution_count": 78,
   "metadata": {},
   "outputs": [
    {
     "data": {
      "text/html": [
       "<div>\n",
       "<style scoped>\n",
       "    .dataframe tbody tr th:only-of-type {\n",
       "        vertical-align: middle;\n",
       "    }\n",
       "\n",
       "    .dataframe tbody tr th {\n",
       "        vertical-align: top;\n",
       "    }\n",
       "\n",
       "    .dataframe thead th {\n",
       "        text-align: right;\n",
       "    }\n",
       "</style>\n",
       "<table border=\"1\" class=\"dataframe\">\n",
       "  <thead>\n",
       "    <tr style=\"text-align: right;\">\n",
       "      <th></th>\n",
       "      <th>ID</th>\n",
       "      <th>Daerah</th>\n",
       "      <th>SumbuUtama</th>\n",
       "      <th>SumbuKecil</th>\n",
       "      <th>Keunikan</th>\n",
       "      <th>AreaBulatan</th>\n",
       "      <th>Diameter</th>\n",
       "      <th>KadarAir</th>\n",
       "      <th>Keliling</th>\n",
       "      <th>Bulatan</th>\n",
       "      <th>Ransum</th>\n",
       "      <th>Kelas</th>\n",
       "    </tr>\n",
       "  </thead>\n",
       "  <tbody>\n",
       "    <tr>\n",
       "      <th>0</th>\n",
       "      <td>1</td>\n",
       "      <td>3992.0</td>\n",
       "      <td>74.133114</td>\n",
       "      <td>39.906517</td>\n",
       "      <td>0.719916</td>\n",
       "      <td>3802.0</td>\n",
       "      <td>71.293564</td>\n",
       "      <td>0.735849</td>\n",
       "      <td>197.015</td>\n",
       "      <td>0.174590</td>\n",
       "      <td>1.440796</td>\n",
       "      <td>2.0</td>\n",
       "    </tr>\n",
       "    <tr>\n",
       "      <th>1</th>\n",
       "      <td>2</td>\n",
       "      <td>4881.0</td>\n",
       "      <td>74.364021</td>\n",
       "      <td>41.436419</td>\n",
       "      <td>0.725553</td>\n",
       "      <td>4913.0</td>\n",
       "      <td>78.833256</td>\n",
       "      <td>0.824405</td>\n",
       "      <td>200.587</td>\n",
       "      <td>0.261297</td>\n",
       "      <td>1.453137</td>\n",
       "      <td>NaN</td>\n",
       "    </tr>\n",
       "    <tr>\n",
       "      <th>2</th>\n",
       "      <td>3</td>\n",
       "      <td>5642.0</td>\n",
       "      <td>74.691881</td>\n",
       "      <td>42.871879</td>\n",
       "      <td>0.731211</td>\n",
       "      <td>NaN</td>\n",
       "      <td>84.756224</td>\n",
       "      <td>NaN</td>\n",
       "      <td>202.456</td>\n",
       "      <td>0.299298</td>\n",
       "      <td>1.465950</td>\n",
       "      <td>NaN</td>\n",
       "    </tr>\n",
       "    <tr>\n",
       "      <th>3</th>\n",
       "      <td>4</td>\n",
       "      <td>6083.0</td>\n",
       "      <td>76.293164</td>\n",
       "      <td>43.284979</td>\n",
       "      <td>0.738639</td>\n",
       "      <td>NaN</td>\n",
       "      <td>88.006342</td>\n",
       "      <td>NaN</td>\n",
       "      <td>207.325</td>\n",
       "      <td>0.589146</td>\n",
       "      <td>1.483456</td>\n",
       "      <td>NaN</td>\n",
       "    </tr>\n",
       "    <tr>\n",
       "      <th>4</th>\n",
       "      <td>5</td>\n",
       "      <td>NaN</td>\n",
       "      <td>76.789043</td>\n",
       "      <td>44.119355</td>\n",
       "      <td>0.749282</td>\n",
       "      <td>NaN</td>\n",
       "      <td>NaN</td>\n",
       "      <td>NaN</td>\n",
       "      <td>207.697</td>\n",
       "      <td>0.603807</td>\n",
       "      <td>1.510000</td>\n",
       "      <td>NaN</td>\n",
       "    </tr>\n",
       "    <tr>\n",
       "      <th>...</th>\n",
       "      <td>...</td>\n",
       "      <td>...</td>\n",
       "      <td>...</td>\n",
       "      <td>...</td>\n",
       "      <td>...</td>\n",
       "      <td>...</td>\n",
       "      <td>...</td>\n",
       "      <td>...</td>\n",
       "      <td>...</td>\n",
       "      <td>...</td>\n",
       "      <td>...</td>\n",
       "      <td>...</td>\n",
       "    </tr>\n",
       "    <tr>\n",
       "      <th>495</th>\n",
       "      <td>496</td>\n",
       "      <td>NaN</td>\n",
       "      <td>152.068440</td>\n",
       "      <td>63.322854</td>\n",
       "      <td>0.913724</td>\n",
       "      <td>NaN</td>\n",
       "      <td>NaN</td>\n",
       "      <td>NaN</td>\n",
       "      <td>375.651</td>\n",
       "      <td>0.872417</td>\n",
       "      <td>2.461017</td>\n",
       "      <td>NaN</td>\n",
       "    </tr>\n",
       "    <tr>\n",
       "      <th>496</th>\n",
       "      <td>497</td>\n",
       "      <td>NaN</td>\n",
       "      <td>152.113491</td>\n",
       "      <td>63.762307</td>\n",
       "      <td>0.913760</td>\n",
       "      <td>NaN</td>\n",
       "      <td>NaN</td>\n",
       "      <td>NaN</td>\n",
       "      <td>390.125</td>\n",
       "      <td>0.874243</td>\n",
       "      <td>2.461510</td>\n",
       "      <td>NaN</td>\n",
       "    </tr>\n",
       "    <tr>\n",
       "      <th>497</th>\n",
       "      <td>498</td>\n",
       "      <td>NaN</td>\n",
       "      <td>153.583387</td>\n",
       "      <td>64.012769</td>\n",
       "      <td>0.913891</td>\n",
       "      <td>NaN</td>\n",
       "      <td>NaN</td>\n",
       "      <td>NaN</td>\n",
       "      <td>434.235</td>\n",
       "      <td>0.874743</td>\n",
       "      <td>2.463297</td>\n",
       "      <td>NaN</td>\n",
       "    </tr>\n",
       "    <tr>\n",
       "      <th>498</th>\n",
       "      <td>499</td>\n",
       "      <td>NaN</td>\n",
       "      <td>227.105462</td>\n",
       "      <td>65.738475</td>\n",
       "      <td>0.913909</td>\n",
       "      <td>NaN</td>\n",
       "      <td>NaN</td>\n",
       "      <td>NaN</td>\n",
       "      <td>448.305</td>\n",
       "      <td>0.891706</td>\n",
       "      <td>2.463546</td>\n",
       "      <td>NaN</td>\n",
       "    </tr>\n",
       "    <tr>\n",
       "      <th>499</th>\n",
       "      <td>500</td>\n",
       "      <td>NaN</td>\n",
       "      <td>227.928583</td>\n",
       "      <td>68.977700</td>\n",
       "      <td>0.914001</td>\n",
       "      <td>NaN</td>\n",
       "      <td>NaN</td>\n",
       "      <td>NaN</td>\n",
       "      <td>488.837</td>\n",
       "      <td>0.904748</td>\n",
       "      <td>2.464809</td>\n",
       "      <td>NaN</td>\n",
       "    </tr>\n",
       "  </tbody>\n",
       "</table>\n",
       "<p>500 rows × 12 columns</p>\n",
       "</div>"
      ],
      "text/plain": [
       "      ID  Daerah  SumbuUtama  SumbuKecil  Keunikan  AreaBulatan   Diameter  \\\n",
       "0      1  3992.0   74.133114   39.906517  0.719916       3802.0  71.293564   \n",
       "1      2  4881.0   74.364021   41.436419  0.725553       4913.0  78.833256   \n",
       "2      3  5642.0   74.691881   42.871879  0.731211          NaN  84.756224   \n",
       "3      4  6083.0   76.293164   43.284979  0.738639          NaN  88.006342   \n",
       "4      5     NaN   76.789043   44.119355  0.749282          NaN        NaN   \n",
       "..   ...     ...         ...         ...       ...          ...        ...   \n",
       "495  496     NaN  152.068440   63.322854  0.913724          NaN        NaN   \n",
       "496  497     NaN  152.113491   63.762307  0.913760          NaN        NaN   \n",
       "497  498     NaN  153.583387   64.012769  0.913891          NaN        NaN   \n",
       "498  499     NaN  227.105462   65.738475  0.913909          NaN        NaN   \n",
       "499  500     NaN  227.928583   68.977700  0.914001          NaN        NaN   \n",
       "\n",
       "     KadarAir  Keliling   Bulatan    Ransum  Kelas  \n",
       "0    0.735849   197.015  0.174590  1.440796    2.0  \n",
       "1    0.824405   200.587  0.261297  1.453137    NaN  \n",
       "2         NaN   202.456  0.299298  1.465950    NaN  \n",
       "3         NaN   207.325  0.589146  1.483456    NaN  \n",
       "4         NaN   207.697  0.603807  1.510000    NaN  \n",
       "..        ...       ...       ...       ...    ...  \n",
       "495       NaN   375.651  0.872417  2.461017    NaN  \n",
       "496       NaN   390.125  0.874243  2.461510    NaN  \n",
       "497       NaN   434.235  0.874743  2.463297    NaN  \n",
       "498       NaN   448.305  0.891706  2.463546    NaN  \n",
       "499       NaN   488.837  0.904748  2.464809    NaN  \n",
       "\n",
       "[500 rows x 12 columns]"
      ]
     },
     "execution_count": 78,
     "metadata": {},
     "output_type": "execute_result"
    }
   ],
   "source": [
    "data.mode()"
   ]
  },
  {
   "cell_type": "markdown",
   "metadata": {},
   "source": [
    "# Soal No. 2"
   ]
  },
  {
   "cell_type": "code",
   "execution_count": 57,
   "metadata": {},
   "outputs": [
    {
     "name": "stdout",
     "output_type": "stream",
     "text": [
      "Daerah\n"
     ]
    },
    {
     "data": {
      "text/plain": [
       "array([[<AxesSubplot:title={'center':'Daerah'}>]], dtype=object)"
      ]
     },
     "execution_count": 57,
     "metadata": {},
     "output_type": "execute_result"
    },
    {
     "data": {
      "image/png": "[encoded data removed]",
      "text/plain": [
       "<Figure size 432x288 with 1 Axes>"
      ]
     },
     "metadata": {
      "needs_background": "light"
     },
     "output_type": "display_data"
    },
    {
     "data": {
      "image/png": "[encoded data removed]",
      "text/plain": [
       "<Figure size 432x288 with 1 Axes>"
      ]
     },
     "metadata": {
      "needs_background": "light"
     },
     "output_type": "display_data"
    }
   ],
   "source": [
    "data.boxplot(column = 'Daerah')\n",
    "data.hist(column = 'Daerah')"
   ]
  },
  {
   "cell_type": "code",
   "execution_count": 58,
   "metadata": {},
   "outputs": [
    {
     "data": {
      "text/plain": [
       "array([[<AxesSubplot:title={'center':'SumbuUtama'}>]], dtype=object)"
      ]
     },
     "execution_count": 58,
     "metadata": {},
     "output_type": "execute_result"
    },
    {
     "data": {
      "image/png": "[encoded data removed]",
      "text/plain": [
       "<Figure size 432x288 with 1 Axes>"
      ]
     },
     "metadata": {
      "needs_background": "light"
     },
     "output_type": "display_data"
    },
    {
     "data": {
      "image/png": "[encoded data removed]",
      "text/plain": [
       "<Figure size 432x288 with 1 Axes>"
      ]
     },
     "metadata": {
      "needs_background": "light"
     },
     "output_type": "display_data"
    }
   ],
   "source": [
    "data.boxplot(column = 'SumbuUtama')\n",
    "data.hist(column = 'SumbuUtama')"
   ]
  },
  {
   "cell_type": "code",
   "execution_count": 61,
   "metadata": {},
   "outputs": [
    {
     "data": {
      "text/plain": [
       "array([[<AxesSubplot:title={'center':'SumbuKecil'}>]], dtype=object)"
      ]
     },
     "execution_count": 61,
     "metadata": {},
     "output_type": "execute_result"
    },
    {
     "data": {
      "image/png": "[encoded data removed]",
      "text/plain": [
       "<Figure size 432x288 with 1 Axes>"
      ]
     },
     "metadata": {
      "needs_background": "light"
     },
     "output_type": "display_data"
    },
    {
     "data": {
      "image/png": "[encoded data removed]",
      "text/plain": [
       "<Figure size 432x288 with 1 Axes>"
      ]
     },
     "metadata": {
      "needs_background": "light"
     },
     "output_type": "display_data"
    }
   ],
   "source": [
    "data.boxplot(column = 'SumbuKecil')\n",
    "data.hist(column = 'SumbuKecil')"
   ]
  },
  {
   "cell_type": "code",
   "execution_count": 62,
   "metadata": {},
   "outputs": [
    {
     "data": {
      "text/plain": [
       "array([[<AxesSubplot:title={'center':'SumbuKecil'}>]], dtype=object)"
      ]
     },
     "execution_count": 62,
     "metadata": {},
     "output_type": "execute_result"
    },
    {
     "data": {
      "image/png": "[encoded data removed]",
      "text/plain": [
       "<Figure size 432x288 with 1 Axes>"
      ]
     },
     "metadata": {
      "needs_background": "light"
     },
     "output_type": "display_data"
    },
    {
     "data": {
      "image/png": "[encoded data removed]",
      "text/plain": [
       "<Figure size 432x288 with 1 Axes>"
      ]
     },
     "metadata": {
      "needs_background": "light"
     },
     "output_type": "display_data"
    }
   ],
   "source": [
    "data.boxplot(column = 'Keunikan')\n",
    "data.hist(column = 'Keunikan')"
   ]
  },
  {
   "cell_type": "code",
   "execution_count": 63,
   "metadata": {},
   "outputs": [
    {
     "data": {
      "text/plain": [
       "array([[<AxesSubplot:title={'center':'AreaBulatan'}>]], dtype=object)"
      ]
     },
     "execution_count": 63,
     "metadata": {},
     "output_type": "execute_result"
    },
    {
     "data": {
      "image/png": "[encoded data removed]",
      "text/plain": [
       "<Figure size 432x288 with 1 Axes>"
      ]
     },
     "metadata": {
      "needs_background": "light"
     },
     "output_type": "display_data"
    },
    {
     "data": {
      "image/png": "[encoded data removed]",
      "text/plain": [
       "<Figure size 432x288 with 1 Axes>"
      ]
     },
     "metadata": {
      "needs_background": "light"
     },
     "output_type": "display_data"
    }
   ],
   "source": [
    "data.boxplot(column = 'AreaBulatan')\n",
    "data.hist(column = 'AreaBulatan')"
   ]
  },
  {
   "cell_type": "code",
   "execution_count": 64,
   "metadata": {},
   "outputs": [
    {
     "data": {
      "text/plain": [
       "array([[<AxesSubplot:title={'center':'Diameter'}>]], dtype=object)"
      ]
     },
     "execution_count": 64,
     "metadata": {},
     "output_type": "execute_result"
    },
    {
     "data": {
      "image/png": "[encoded data removed]",
      "text/plain": [
       "<Figure size 432x288 with 1 Axes>"
      ]
     },
     "metadata": {
      "needs_background": "light"
     },
     "output_type": "display_data"
    },
    {
     "data": {
      "image/png": "[encoded data removed]",
      "text/plain": [
       "<Figure size 432x288 with 1 Axes>"
      ]
     },
     "metadata": {
      "needs_background": "light"
     },
     "output_type": "display_data"
    }
   ],
   "source": [
    "data.boxplot(column = 'Diameter')\n",
    "data.hist(column = 'Diameter')"
   ]
  },
  {
   "cell_type": "code",
   "execution_count": 65,
   "metadata": {},
   "outputs": [
    {
     "data": {
      "text/plain": [
       "array([[<AxesSubplot:title={'center':'KadarAir'}>]], dtype=object)"
      ]
     },
     "execution_count": 65,
     "metadata": {},
     "output_type": "execute_result"
    },
    {
     "data": {
      "image/png": "[encoded data removed]",
      "text/plain": [
       "<Figure size 432x288 with 1 Axes>"
      ]
     },
     "metadata": {
      "needs_background": "light"
     },
     "output_type": "display_data"
    },
    {
     "data": {
      "image/png": "[encoded data removed]",
      "text/plain": [
       "<Figure size 432x288 with 1 Axes>"
      ]
     },
     "metadata": {
      "needs_background": "light"
     },
     "output_type": "display_data"
    }
   ],
   "source": [
    "data.boxplot(column = 'KadarAir')\n",
    "data.hist(column = 'KadarAir')"
   ]
  },
  {
   "cell_type": "code",
   "execution_count": 66,
   "metadata": {},
   "outputs": [
    {
     "data": {
      "text/plain": [
       "array([[<AxesSubplot:title={'center':'Keliling'}>]], dtype=object)"
      ]
     },
     "execution_count": 66,
     "metadata": {},
     "output_type": "execute_result"
    },
    {
     "data": {
      "image/png": "[encoded data removed]",
      "text/plain": [
       "<Figure size 432x288 with 1 Axes>"
      ]
     },
     "metadata": {
      "needs_background": "light"
     },
     "output_type": "display_data"
    },
    {
     "data": {
      "image/png": "[encoded data removed]",
      "text/plain": [
       "<Figure size 432x288 with 1 Axes>"
      ]
     },
     "metadata": {
      "needs_background": "light"
     },
     "output_type": "display_data"
    }
   ],
   "source": [
    "data.boxplot(column = 'Keliling')\n",
    "data.hist(column = 'Keliling')"
   ]
  },
  {
   "cell_type": "code",
   "execution_count": 67,
   "metadata": {},
   "outputs": [
    {
     "data": {
      "text/plain": [
       "array([[<AxesSubplot:title={'center':'Bulatan'}>]], dtype=object)"
      ]
     },
     "execution_count": 67,
     "metadata": {},
     "output_type": "execute_result"
    },
    {
     "data": {
      "image/png": "[encoded data removed]",
      "text/plain": [
       "<Figure size 432x288 with 1 Axes>"
      ]
     },
     "metadata": {
      "needs_background": "light"
     },
     "output_type": "display_data"
    },
    {
     "data": {
      "image/png": "[encoded data removed]",
      "text/plain": [
       "<Figure size 432x288 with 1 Axes>"
      ]
     },
     "metadata": {
      "needs_background": "light"
     },
     "output_type": "display_data"
    }
   ],
   "source": [
    "data.boxplot(column = 'Bulatan')\n",
    "data.hist(column = 'Bulatan')"
   ]
  },
  {
   "cell_type": "code",
   "execution_count": 68,
   "metadata": {},
   "outputs": [
    {
     "data": {
      "text/plain": [
       "array([[<AxesSubplot:title={'center':'Ransum'}>]], dtype=object)"
      ]
     },
     "execution_count": 68,
     "metadata": {},
     "output_type": "execute_result"
    },
    {
     "data": {
      "image/png": "[encoded data removed]",
      "text/plain": [
       "<Figure size 432x288 with 1 Axes>"
      ]
     },
     "metadata": {
      "needs_background": "light"
     },
     "output_type": "display_data"
    },
    {
     "data": {
      "image/png": "[encoded data removed]",
      "text/plain": [
       "<Figure size 432x288 with 1 Axes>"
      ]
     },
     "metadata": {
      "needs_background": "light"
     },
     "output_type": "display_data"
    }
   ],
   "source": [
    "data.boxplot(column = 'Ransum')\n",
    "data.hist(column = 'Ransum')"
   ]
  },
  {
   "cell_type": "markdown",
   "metadata": {},
   "source": [
    "# Soal No. 3"
   ]
  },
  {
   "cell_type": "code",
   "execution_count": null,
   "metadata": {},
   "outputs": [],
   "source": []
  }
 ],
 "metadata": {
  "kernelspec": {
   "display_name": "Python 3",
   "language": "python",
   "name": "python3"
  },
  "language_info": {
   "codemirror_mode": {
    "name": "ipython",
    "version": 3
   },
   "file_extension": ".py",
   "mimetype": "text/x-python",
   "name": "python",
   "nbconvert_exporter": "python",
   "pygments_lexer": "ipython3",
   "version": "3.8.3"
  }
 },
 "nbformat": 4,
 "nbformat_minor": 4
}
