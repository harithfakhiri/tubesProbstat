{
 "cells": [
  {
   "cell_type": "markdown",
   "metadata": {},
   "source": [
    "# Tugas Besar Probabilitas dan Statistika IF2220\n",
    "Rafi Raihansyah Munandar - 13519154\n",
    "\n",
    "Harith Fakhiri Setiawan - 13519161"
   ]
  },
  {
   "cell_type": "code",
   "execution_count": 1,
   "metadata": {},
   "outputs": [],
   "source": [
    "# Imports\n",
    "import pandas as pd\n",
    "import matplotlib.pyplot as plt\n",
    "import seaborn as sns\n",
    "from math import sqrt\n",
    "import scipy.stats as st\n",
    "\n",
    "# Pembuatan nama masing-masing kolom\n",
    "columns=['ID', 'Daerah', 'SumbuUtama', 'SumbuKecil','Keunikan','AreaBulatan','Diameter','KadarAir','Keliling','Bulatan','Ransum','Kelas'] \n",
    "\n",
    "# Membaca file .csv\n",
    "data = pd.read_csv('Gandum.csv', names=columns, header=None)\n",
    "\n",
    "# Mendapatkan jumlah baris dan kolom pada data\n",
    "baris,kolom = data.shape"
   ]
  },
  {
   "cell_type": "markdown",
   "metadata": {},
   "source": [
    "***\n"
   ]
  },
  {
   "cell_type": "markdown",
   "metadata": {},
   "source": [
    "## Soal No. 1"
   ]
  },
  {
   "cell_type": "markdown",
   "metadata": {},
   "source": [
    "Menulis deskripsi statistika (Descriptive Statistics) dari semua kolom pada data yang bersifat\n",
    "numerik, terdiri dari mean, median, modus, standar deviasi, variansi, range, nilai minimum,\n",
    "maksimum, kuartil, IQR, skewness dan kurtosis. Boleh juga ditambahkan deskripsi lain."
   ]
  },
  {
   "cell_type": "markdown",
   "metadata": {},
   "source": [
    "### Deskripsi Data Keseluruhan"
   ]
  },
  {
   "cell_type": "code",
   "execution_count": 2,
   "metadata": {},
   "outputs": [
    {
     "data": {
      "text/html": [
       "<div>\n",
       "<style scoped>\n",
       "    .dataframe tbody tr th:only-of-type {\n",
       "        vertical-align: middle;\n",
       "    }\n",
       "\n",
       "    .dataframe tbody tr th {\n",
       "        vertical-align: top;\n",
       "    }\n",
       "\n",
       "    .dataframe thead th {\n",
       "        text-align: right;\n",
       "    }\n",
       "</style>\n",
       "<table border=\"1\" class=\"dataframe\">\n",
       "  <thead>\n",
       "    <tr style=\"text-align: right;\">\n",
       "      <th></th>\n",
       "      <th>ID</th>\n",
       "      <th>Daerah</th>\n",
       "      <th>SumbuUtama</th>\n",
       "      <th>SumbuKecil</th>\n",
       "      <th>Keunikan</th>\n",
       "      <th>AreaBulatan</th>\n",
       "      <th>Diameter</th>\n",
       "      <th>KadarAir</th>\n",
       "      <th>Keliling</th>\n",
       "      <th>Bulatan</th>\n",
       "      <th>Ransum</th>\n",
       "      <th>Kelas</th>\n",
       "    </tr>\n",
       "  </thead>\n",
       "  <tbody>\n",
       "    <tr>\n",
       "      <th>count</th>\n",
       "      <td>500.000000</td>\n",
       "      <td>500.000000</td>\n",
       "      <td>500.000000</td>\n",
       "      <td>500.000000</td>\n",
       "      <td>500.000000</td>\n",
       "      <td>5.000000e+02</td>\n",
       "      <td>500.000000</td>\n",
       "      <td>500.000000</td>\n",
       "      <td>500.000000</td>\n",
       "      <td>500.000000</td>\n",
       "      <td>500.000000</td>\n",
       "      <td>500.000000</td>\n",
       "    </tr>\n",
       "    <tr>\n",
       "      <th>mean</th>\n",
       "      <td>250.500000</td>\n",
       "      <td>4801.246000</td>\n",
       "      <td>116.045171</td>\n",
       "      <td>53.715246</td>\n",
       "      <td>0.878764</td>\n",
       "      <td>4.937048e+03</td>\n",
       "      <td>77.771158</td>\n",
       "      <td>0.648372</td>\n",
       "      <td>281.479722</td>\n",
       "      <td>0.761737</td>\n",
       "      <td>2.150915</td>\n",
       "      <td>1.502000</td>\n",
       "    </tr>\n",
       "    <tr>\n",
       "      <th>std</th>\n",
       "      <td>144.481833</td>\n",
       "      <td>986.395491</td>\n",
       "      <td>18.282626</td>\n",
       "      <td>4.071075</td>\n",
       "      <td>0.036586</td>\n",
       "      <td>1.011696e+03</td>\n",
       "      <td>8.056867</td>\n",
       "      <td>0.094367</td>\n",
       "      <td>37.335402</td>\n",
       "      <td>0.061702</td>\n",
       "      <td>0.249767</td>\n",
       "      <td>0.500497</td>\n",
       "    </tr>\n",
       "    <tr>\n",
       "      <th>min</th>\n",
       "      <td>1.000000</td>\n",
       "      <td>2522.000000</td>\n",
       "      <td>74.133114</td>\n",
       "      <td>39.906517</td>\n",
       "      <td>0.719916</td>\n",
       "      <td>2.579000e+03</td>\n",
       "      <td>56.666658</td>\n",
       "      <td>0.409927</td>\n",
       "      <td>197.015000</td>\n",
       "      <td>0.174590</td>\n",
       "      <td>1.440796</td>\n",
       "      <td>1.000000</td>\n",
       "    </tr>\n",
       "    <tr>\n",
       "      <th>25%</th>\n",
       "      <td>125.750000</td>\n",
       "      <td>4042.750000</td>\n",
       "      <td>104.116098</td>\n",
       "      <td>51.193576</td>\n",
       "      <td>0.863676</td>\n",
       "      <td>4.170250e+03</td>\n",
       "      <td>71.745308</td>\n",
       "      <td>0.572632</td>\n",
       "      <td>255.883000</td>\n",
       "      <td>0.731991</td>\n",
       "      <td>1.983939</td>\n",
       "      <td>1.000000</td>\n",
       "    </tr>\n",
       "    <tr>\n",
       "      <th>50%</th>\n",
       "      <td>250.500000</td>\n",
       "      <td>4735.000000</td>\n",
       "      <td>115.405140</td>\n",
       "      <td>53.731199</td>\n",
       "      <td>0.890045</td>\n",
       "      <td>4.857000e+03</td>\n",
       "      <td>77.645277</td>\n",
       "      <td>0.626117</td>\n",
       "      <td>280.045500</td>\n",
       "      <td>0.761288</td>\n",
       "      <td>2.193599</td>\n",
       "      <td>2.000000</td>\n",
       "    </tr>\n",
       "    <tr>\n",
       "      <th>75%</th>\n",
       "      <td>375.250000</td>\n",
       "      <td>5495.500000</td>\n",
       "      <td>129.046792</td>\n",
       "      <td>56.325158</td>\n",
       "      <td>0.907578</td>\n",
       "      <td>5.654250e+03</td>\n",
       "      <td>83.648598</td>\n",
       "      <td>0.726633</td>\n",
       "      <td>306.062500</td>\n",
       "      <td>0.796361</td>\n",
       "      <td>2.381612</td>\n",
       "      <td>2.000000</td>\n",
       "    </tr>\n",
       "    <tr>\n",
       "      <th>max</th>\n",
       "      <td>500.000000</td>\n",
       "      <td>7453.000000</td>\n",
       "      <td>227.928583</td>\n",
       "      <td>68.977700</td>\n",
       "      <td>0.914001</td>\n",
       "      <td>7.720000e+03</td>\n",
       "      <td>97.413830</td>\n",
       "      <td>0.878899</td>\n",
       "      <td>488.837000</td>\n",
       "      <td>0.904748</td>\n",
       "      <td>2.464809</td>\n",
       "      <td>2.000000</td>\n",
       "    </tr>\n",
       "    <tr>\n",
       "      <th>median</th>\n",
       "      <td>250.500000</td>\n",
       "      <td>4735.000000</td>\n",
       "      <td>115.405140</td>\n",
       "      <td>53.731199</td>\n",
       "      <td>0.890045</td>\n",
       "      <td>4.857000e+03</td>\n",
       "      <td>77.645277</td>\n",
       "      <td>0.626117</td>\n",
       "      <td>280.045500</td>\n",
       "      <td>0.761288</td>\n",
       "      <td>2.193599</td>\n",
       "      <td>2.000000</td>\n",
       "    </tr>\n",
       "    <tr>\n",
       "      <th>variance</th>\n",
       "      <td>20875.000000</td>\n",
       "      <td>972976.065615</td>\n",
       "      <td>334.254412</td>\n",
       "      <td>16.573650</td>\n",
       "      <td>0.001339</td>\n",
       "      <td>1.023529e+06</td>\n",
       "      <td>64.913111</td>\n",
       "      <td>0.008905</td>\n",
       "      <td>1393.932221</td>\n",
       "      <td>0.003807</td>\n",
       "      <td>0.062383</td>\n",
       "      <td>0.250497</td>\n",
       "    </tr>\n",
       "    <tr>\n",
       "      <th>range</th>\n",
       "      <td>499.000000</td>\n",
       "      <td>4931.000000</td>\n",
       "      <td>153.795469</td>\n",
       "      <td>29.071182</td>\n",
       "      <td>0.194085</td>\n",
       "      <td>5.141000e+03</td>\n",
       "      <td>40.747172</td>\n",
       "      <td>0.468972</td>\n",
       "      <td>291.822000</td>\n",
       "      <td>0.730158</td>\n",
       "      <td>1.024013</td>\n",
       "      <td>1.000000</td>\n",
       "    </tr>\n",
       "    <tr>\n",
       "      <th>IQR</th>\n",
       "      <td>249.500000</td>\n",
       "      <td>1452.750000</td>\n",
       "      <td>24.930694</td>\n",
       "      <td>5.131582</td>\n",
       "      <td>0.043902</td>\n",
       "      <td>1.484000e+03</td>\n",
       "      <td>11.903290</td>\n",
       "      <td>0.154001</td>\n",
       "      <td>50.179500</td>\n",
       "      <td>0.064370</td>\n",
       "      <td>0.397673</td>\n",
       "      <td>1.000000</td>\n",
       "    </tr>\n",
       "    <tr>\n",
       "      <th>skewness</th>\n",
       "      <td>0.000000</td>\n",
       "      <td>0.238144</td>\n",
       "      <td>0.761529</td>\n",
       "      <td>-0.010828</td>\n",
       "      <td>-1.623472</td>\n",
       "      <td>2.575600e-01</td>\n",
       "      <td>0.002725</td>\n",
       "      <td>0.493661</td>\n",
       "      <td>0.733627</td>\n",
       "      <td>-3.599237</td>\n",
       "      <td>-0.658188</td>\n",
       "      <td>-0.008024</td>\n",
       "    </tr>\n",
       "    <tr>\n",
       "      <th>kurtosis</th>\n",
       "      <td>-1.200000</td>\n",
       "      <td>-0.434631</td>\n",
       "      <td>4.330534</td>\n",
       "      <td>0.475568</td>\n",
       "      <td>2.917256</td>\n",
       "      <td>-4.096849e-01</td>\n",
       "      <td>-0.466455</td>\n",
       "      <td>-0.740326</td>\n",
       "      <td>2.272685</td>\n",
       "      <td>29.975096</td>\n",
       "      <td>-0.428656</td>\n",
       "      <td>-2.007984</td>\n",
       "    </tr>\n",
       "  </tbody>\n",
       "</table>\n",
       "</div>"
      ],
      "text/plain": [
       "                    ID         Daerah  SumbuUtama  SumbuKecil    Keunikan  \\\n",
       "count       500.000000     500.000000  500.000000  500.000000  500.000000   \n",
       "mean        250.500000    4801.246000  116.045171   53.715246    0.878764   \n",
       "std         144.481833     986.395491   18.282626    4.071075    0.036586   \n",
       "min           1.000000    2522.000000   74.133114   39.906517    0.719916   \n",
       "25%         125.750000    4042.750000  104.116098   51.193576    0.863676   \n",
       "50%         250.500000    4735.000000  115.405140   53.731199    0.890045   \n",
       "75%         375.250000    5495.500000  129.046792   56.325158    0.907578   \n",
       "max         500.000000    7453.000000  227.928583   68.977700    0.914001   \n",
       "median      250.500000    4735.000000  115.405140   53.731199    0.890045   \n",
       "variance  20875.000000  972976.065615  334.254412   16.573650    0.001339   \n",
       "range       499.000000    4931.000000  153.795469   29.071182    0.194085   \n",
       "IQR         249.500000    1452.750000   24.930694    5.131582    0.043902   \n",
       "skewness      0.000000       0.238144    0.761529   -0.010828   -1.623472   \n",
       "kurtosis     -1.200000      -0.434631    4.330534    0.475568    2.917256   \n",
       "\n",
       "           AreaBulatan    Diameter    KadarAir     Keliling     Bulatan  \\\n",
       "count     5.000000e+02  500.000000  500.000000   500.000000  500.000000   \n",
       "mean      4.937048e+03   77.771158    0.648372   281.479722    0.761737   \n",
       "std       1.011696e+03    8.056867    0.094367    37.335402    0.061702   \n",
       "min       2.579000e+03   56.666658    0.409927   197.015000    0.174590   \n",
       "25%       4.170250e+03   71.745308    0.572632   255.883000    0.731991   \n",
       "50%       4.857000e+03   77.645277    0.626117   280.045500    0.761288   \n",
       "75%       5.654250e+03   83.648598    0.726633   306.062500    0.796361   \n",
       "max       7.720000e+03   97.413830    0.878899   488.837000    0.904748   \n",
       "median    4.857000e+03   77.645277    0.626117   280.045500    0.761288   \n",
       "variance  1.023529e+06   64.913111    0.008905  1393.932221    0.003807   \n",
       "range     5.141000e+03   40.747172    0.468972   291.822000    0.730158   \n",
       "IQR       1.484000e+03   11.903290    0.154001    50.179500    0.064370   \n",
       "skewness  2.575600e-01    0.002725    0.493661     0.733627   -3.599237   \n",
       "kurtosis -4.096849e-01   -0.466455   -0.740326     2.272685   29.975096   \n",
       "\n",
       "              Ransum       Kelas  \n",
       "count     500.000000  500.000000  \n",
       "mean        2.150915    1.502000  \n",
       "std         0.249767    0.500497  \n",
       "min         1.440796    1.000000  \n",
       "25%         1.983939    1.000000  \n",
       "50%         2.193599    2.000000  \n",
       "75%         2.381612    2.000000  \n",
       "max         2.464809    2.000000  \n",
       "median      2.193599    2.000000  \n",
       "variance    0.062383    0.250497  \n",
       "range       1.024013    1.000000  \n",
       "IQR         0.397673    1.000000  \n",
       "skewness   -0.658188   -0.008024  \n",
       "kurtosis   -0.428656   -2.007984  "
      ]
     },
     "execution_count": 2,
     "metadata": {},
     "output_type": "execute_result"
    }
   ],
   "source": [
    "# Seluruh data kecuali modus\n",
    "descrip = data.describe()\n",
    "descripadd = descrip.append(data.median(), ignore_index=True)\n",
    "descripadd = descripadd.append(data.var(), ignore_index=True)\n",
    "descripadd = descripadd.append(data.max()-data.min(), ignore_index=True)\n",
    "descripadd = descripadd.append(data.quantile(0.75)-data.quantile(0.25), ignore_index=True)\n",
    "descripadd = descripadd.append(data.skew(), ignore_index=True)\n",
    "descripadd = descripadd.append(data.kurt(), ignore_index=True)\n",
    "descripadd.index = ['count','mean','std','min','25%','50%','75%','max','median','variance','range','IQR','skewness','kurtosis']\n",
    "descripadd"
   ]
  },
  {
   "cell_type": "markdown",
   "metadata": {},
   "source": [
    "***"
   ]
  },
  {
   "cell_type": "markdown",
   "metadata": {},
   "source": [
    "### Deksripsi Modus Data"
   ]
  },
  {
   "cell_type": "markdown",
   "metadata": {},
   "source": [
    "Deskripsi Modus dipisah dikarenakan terdapat lebih dari satu modus untuk beberapa kolom data"
   ]
  },
  {
   "cell_type": "markdown",
   "metadata": {},
   "source": [
    "#### Modus ID"
   ]
  },
  {
   "cell_type": "code",
   "execution_count": 3,
   "metadata": {},
   "outputs": [
    {
     "data": {
      "text/plain": [
       "0        1\n",
       "1        2\n",
       "2        3\n",
       "3        4\n",
       "4        5\n",
       "5        6\n",
       "6        7\n",
       "7        8\n",
       "8        9\n",
       "9       10\n",
       "10      11\n",
       "11      12\n",
       "12      13\n",
       "13      14\n",
       "14      15\n",
       "15      16\n",
       "16      17\n",
       "17      18\n",
       "18      19\n",
       "19      20\n",
       "20      21\n",
       "21      22\n",
       "22      23\n",
       "23      24\n",
       "24      25\n",
       "25      26\n",
       "26      27\n",
       "27      28\n",
       "28      29\n",
       "29      30\n",
       "      ... \n",
       "470    471\n",
       "471    472\n",
       "472    473\n",
       "473    474\n",
       "474    475\n",
       "475    476\n",
       "476    477\n",
       "477    478\n",
       "478    479\n",
       "479    480\n",
       "480    481\n",
       "481    482\n",
       "482    483\n",
       "483    484\n",
       "484    485\n",
       "485    486\n",
       "486    487\n",
       "487    488\n",
       "488    489\n",
       "489    490\n",
       "490    491\n",
       "491    492\n",
       "492    493\n",
       "493    494\n",
       "494    495\n",
       "495    496\n",
       "496    497\n",
       "497    498\n",
       "498    499\n",
       "499    500\n",
       "Length: 500, dtype: int64"
      ]
     },
     "execution_count": 3,
     "metadata": {},
     "output_type": "execute_result"
    }
   ],
   "source": [
    "data['ID'].mode()"
   ]
  },
  {
   "cell_type": "markdown",
   "metadata": {},
   "source": [
    "#### Modus Daerah"
   ]
  },
  {
   "cell_type": "code",
   "execution_count": 4,
   "metadata": {},
   "outputs": [
    {
     "data": {
      "text/plain": [
       "0    3992\n",
       "1    4881\n",
       "2    5642\n",
       "3    6083\n",
       "dtype: int64"
      ]
     },
     "execution_count": 4,
     "metadata": {},
     "output_type": "execute_result"
    }
   ],
   "source": [
    "data['Daerah'].mode()"
   ]
  },
  {
   "cell_type": "markdown",
   "metadata": {},
   "source": [
    "#### Modus Sumbu Utama"
   ]
  },
  {
   "cell_type": "code",
   "execution_count": 5,
   "metadata": {},
   "outputs": [
    {
     "data": {
      "text/plain": [
       "0       74.133114\n",
       "1       74.364021\n",
       "2       74.691881\n",
       "3       76.293164\n",
       "4       76.789043\n",
       "5       77.033628\n",
       "6       77.047682\n",
       "7       77.090790\n",
       "8       77.417073\n",
       "9       81.277552\n",
       "10      81.304200\n",
       "11      82.570141\n",
       "12      82.877814\n",
       "13      83.378487\n",
       "14      83.823270\n",
       "15      84.058480\n",
       "16      84.323564\n",
       "17      84.540785\n",
       "18      84.581148\n",
       "19      85.124785\n",
       "20      86.567816\n",
       "21      86.952411\n",
       "22      87.384504\n",
       "23      87.412863\n",
       "24      87.978305\n",
       "25      87.986656\n",
       "26      88.001794\n",
       "27      88.029378\n",
       "28      88.115939\n",
       "29      88.779904\n",
       "          ...    \n",
       "470    141.412475\n",
       "471    141.773018\n",
       "472    142.080654\n",
       "473    142.347250\n",
       "474    142.380796\n",
       "475    142.402787\n",
       "476    142.533566\n",
       "477    142.949501\n",
       "478    143.912498\n",
       "479    144.267473\n",
       "480    144.358774\n",
       "481    144.433114\n",
       "482    144.448739\n",
       "483    144.907334\n",
       "484    146.177056\n",
       "485    146.371785\n",
       "486    146.590229\n",
       "487    146.696300\n",
       "488    146.729018\n",
       "489    147.005775\n",
       "490    147.138743\n",
       "491    147.429313\n",
       "492    147.890545\n",
       "493    150.429964\n",
       "494    151.601766\n",
       "495    152.068440\n",
       "496    152.113491\n",
       "497    153.583387\n",
       "498    227.105462\n",
       "499    227.928583\n",
       "Length: 500, dtype: float64"
      ]
     },
     "execution_count": 5,
     "metadata": {},
     "output_type": "execute_result"
    }
   ],
   "source": [
    "data['SumbuUtama'].mode()"
   ]
  },
  {
   "cell_type": "markdown",
   "metadata": {},
   "source": [
    "#### Modus Sumbu Kecil"
   ]
  },
  {
   "cell_type": "code",
   "execution_count": 6,
   "metadata": {},
   "outputs": [
    {
     "data": {
      "text/plain": [
       "0      39.906517\n",
       "1      41.436419\n",
       "2      42.871879\n",
       "3      43.284979\n",
       "4      44.119355\n",
       "5      44.123138\n",
       "6      44.555234\n",
       "7      44.631551\n",
       "8      44.802734\n",
       "9      44.810110\n",
       "10     44.875199\n",
       "11     44.940785\n",
       "12     45.241139\n",
       "13     45.261657\n",
       "14     45.374247\n",
       "15     45.529112\n",
       "16     45.783989\n",
       "17     45.882867\n",
       "18     45.897752\n",
       "19     46.012820\n",
       "20     46.050367\n",
       "21     46.238929\n",
       "22     46.811578\n",
       "23     46.837917\n",
       "24     46.943265\n",
       "25     46.992019\n",
       "26     47.025904\n",
       "27     47.125335\n",
       "28     47.133155\n",
       "29     47.139683\n",
       "         ...    \n",
       "470    60.156956\n",
       "471    60.178119\n",
       "472    60.261765\n",
       "473    60.416315\n",
       "474    60.632241\n",
       "475    60.713944\n",
       "476    60.753330\n",
       "477    60.776901\n",
       "478    60.842333\n",
       "479    60.865929\n",
       "480    61.180621\n",
       "481    61.252729\n",
       "482    61.312148\n",
       "483    61.565377\n",
       "484    61.674040\n",
       "485    61.753627\n",
       "486    61.932663\n",
       "487    62.175346\n",
       "488    62.214983\n",
       "489    62.268120\n",
       "490    62.304970\n",
       "491    62.349249\n",
       "492    62.466066\n",
       "493    62.949892\n",
       "494    62.961830\n",
       "495    63.322854\n",
       "496    63.762307\n",
       "497    64.012769\n",
       "498    65.738475\n",
       "499    68.977700\n",
       "Length: 500, dtype: float64"
      ]
     },
     "execution_count": 6,
     "metadata": {},
     "output_type": "execute_result"
    }
   ],
   "source": [
    "data['SumbuKecil'].mode()"
   ]
  },
  {
   "cell_type": "markdown",
   "metadata": {},
   "source": [
    "#### Modus Keunikan"
   ]
  },
  {
   "cell_type": "code",
   "execution_count": 7,
   "metadata": {
    "scrolled": true
   },
   "outputs": [
    {
     "data": {
      "text/plain": [
       "0      0.719916\n",
       "1      0.725553\n",
       "2      0.731211\n",
       "3      0.738639\n",
       "4      0.749282\n",
       "5      0.752861\n",
       "6      0.753762\n",
       "7      0.760664\n",
       "8      0.761228\n",
       "9      0.763053\n",
       "10     0.763178\n",
       "11     0.764080\n",
       "12     0.769107\n",
       "13     0.774286\n",
       "14     0.776372\n",
       "15     0.776647\n",
       "16     0.777504\n",
       "17     0.786436\n",
       "18     0.796277\n",
       "19     0.796930\n",
       "20     0.800390\n",
       "21     0.802400\n",
       "22     0.803560\n",
       "23     0.804432\n",
       "24     0.805268\n",
       "25     0.805682\n",
       "26     0.807996\n",
       "27     0.808495\n",
       "28     0.808852\n",
       "29     0.810433\n",
       "         ...   \n",
       "470    0.912568\n",
       "471    0.912605\n",
       "472    0.912720\n",
       "473    0.912839\n",
       "474    0.912851\n",
       "475    0.912876\n",
       "476    0.912877\n",
       "477    0.912921\n",
       "478    0.912936\n",
       "479    0.913017\n",
       "480    0.913044\n",
       "481    0.913111\n",
       "482    0.913153\n",
       "483    0.913154\n",
       "484    0.913189\n",
       "485    0.913223\n",
       "486    0.913309\n",
       "487    0.913399\n",
       "488    0.913453\n",
       "489    0.913477\n",
       "490    0.913550\n",
       "491    0.913607\n",
       "492    0.913672\n",
       "493    0.913681\n",
       "494    0.913713\n",
       "495    0.913724\n",
       "496    0.913760\n",
       "497    0.913891\n",
       "498    0.913909\n",
       "499    0.914001\n",
       "Length: 500, dtype: float64"
      ]
     },
     "execution_count": 7,
     "metadata": {},
     "output_type": "execute_result"
    }
   ],
   "source": [
    "data['Keunikan'].mode()"
   ]
  },
  {
   "cell_type": "markdown",
   "metadata": {},
   "source": [
    "#### Modus Area Bulatan"
   ]
  },
  {
   "cell_type": "code",
   "execution_count": 8,
   "metadata": {},
   "outputs": [
    {
     "data": {
      "text/plain": [
       "0    3802\n",
       "1    4913\n",
       "dtype: int64"
      ]
     },
     "execution_count": 8,
     "metadata": {},
     "output_type": "execute_result"
    }
   ],
   "source": [
    "data['AreaBulatan'].mode()"
   ]
  },
  {
   "cell_type": "markdown",
   "metadata": {},
   "source": [
    "#### Modus Diameter"
   ]
  },
  {
   "cell_type": "code",
   "execution_count": 9,
   "metadata": {},
   "outputs": [
    {
     "data": {
      "text/plain": [
       "0    71.293564\n",
       "1    78.833256\n",
       "2    84.756224\n",
       "3    88.006342\n",
       "dtype: float64"
      ]
     },
     "execution_count": 9,
     "metadata": {},
     "output_type": "execute_result"
    }
   ],
   "source": [
    "data['Diameter'].mode()"
   ]
  },
  {
   "cell_type": "markdown",
   "metadata": {},
   "source": [
    "#### Modus Kadar Air"
   ]
  },
  {
   "cell_type": "code",
   "execution_count": 10,
   "metadata": {},
   "outputs": [
    {
     "data": {
      "text/plain": [
       "0    0.735849\n",
       "1    0.824405\n",
       "dtype: float64"
      ]
     },
     "execution_count": 10,
     "metadata": {},
     "output_type": "execute_result"
    }
   ],
   "source": [
    "data['KadarAir'].mode()"
   ]
  },
  {
   "cell_type": "markdown",
   "metadata": {},
   "source": [
    "#### Modus Keliling"
   ]
  },
  {
   "cell_type": "code",
   "execution_count": 11,
   "metadata": {},
   "outputs": [
    {
     "data": {
      "text/plain": [
       "0      197.015\n",
       "1      200.587\n",
       "2      202.456\n",
       "3      207.325\n",
       "4      207.697\n",
       "5      208.317\n",
       "6      209.823\n",
       "7      210.012\n",
       "8      210.657\n",
       "9      211.667\n",
       "10     214.338\n",
       "11     214.440\n",
       "12     216.930\n",
       "13     218.773\n",
       "14     219.663\n",
       "15     221.295\n",
       "16     221.380\n",
       "17     222.373\n",
       "18     223.117\n",
       "19     224.485\n",
       "20     225.237\n",
       "21     226.049\n",
       "22     226.454\n",
       "23     226.793\n",
       "24     227.007\n",
       "25     227.562\n",
       "26     227.853\n",
       "27     227.906\n",
       "28     227.934\n",
       "29     228.007\n",
       "        ...   \n",
       "470    339.413\n",
       "471    340.020\n",
       "472    340.600\n",
       "473    340.726\n",
       "474    341.702\n",
       "475    342.257\n",
       "476    342.990\n",
       "477    343.706\n",
       "478    343.917\n",
       "479    344.138\n",
       "480    346.308\n",
       "481    346.714\n",
       "482    347.364\n",
       "483    348.085\n",
       "484    348.740\n",
       "485    352.718\n",
       "486    353.032\n",
       "487    353.285\n",
       "488    354.483\n",
       "489    357.414\n",
       "490    359.911\n",
       "491    362.021\n",
       "492    365.062\n",
       "493    366.620\n",
       "494    367.844\n",
       "495    375.651\n",
       "496    390.125\n",
       "497    434.235\n",
       "498    448.305\n",
       "499    488.837\n",
       "Length: 500, dtype: float64"
      ]
     },
     "execution_count": 11,
     "metadata": {},
     "output_type": "execute_result"
    }
   ],
   "source": [
    "data['Keliling'].mode()"
   ]
  },
  {
   "cell_type": "markdown",
   "metadata": {},
   "source": [
    "#### Modus Bulatan"
   ]
  },
  {
   "cell_type": "code",
   "execution_count": 12,
   "metadata": {},
   "outputs": [
    {
     "data": {
      "text/plain": [
       "0      0.174590\n",
       "1      0.261297\n",
       "2      0.299298\n",
       "3      0.589146\n",
       "4      0.603807\n",
       "5      0.618132\n",
       "6      0.619331\n",
       "7      0.622202\n",
       "8      0.642940\n",
       "9      0.655424\n",
       "10     0.661849\n",
       "11     0.671240\n",
       "12     0.671415\n",
       "13     0.671775\n",
       "14     0.672018\n",
       "15     0.673292\n",
       "16     0.675019\n",
       "17     0.676293\n",
       "18     0.677200\n",
       "19     0.679893\n",
       "20     0.680195\n",
       "21     0.685223\n",
       "22     0.685881\n",
       "23     0.687464\n",
       "24     0.688160\n",
       "25     0.688452\n",
       "26     0.691150\n",
       "27     0.694162\n",
       "28     0.694463\n",
       "29     0.695464\n",
       "         ...   \n",
       "470    0.841529\n",
       "471    0.842805\n",
       "472    0.843048\n",
       "473    0.843860\n",
       "474    0.844453\n",
       "475    0.845113\n",
       "476    0.846095\n",
       "477    0.846535\n",
       "478    0.847519\n",
       "479    0.847593\n",
       "480    0.848319\n",
       "481    0.849297\n",
       "482    0.849891\n",
       "483    0.850159\n",
       "484    0.850306\n",
       "485    0.850763\n",
       "486    0.856198\n",
       "487    0.858473\n",
       "488    0.863234\n",
       "489    0.864092\n",
       "490    0.867148\n",
       "491    0.868434\n",
       "492    0.868444\n",
       "493    0.870203\n",
       "494    0.870746\n",
       "495    0.872417\n",
       "496    0.874243\n",
       "497    0.874743\n",
       "498    0.891706\n",
       "499    0.904748\n",
       "Length: 500, dtype: float64"
      ]
     },
     "execution_count": 12,
     "metadata": {},
     "output_type": "execute_result"
    }
   ],
   "source": [
    "data['Bulatan'].mode()"
   ]
  },
  {
   "cell_type": "markdown",
   "metadata": {},
   "source": [
    "#### Modus Ransum"
   ]
  },
  {
   "cell_type": "code",
   "execution_count": 13,
   "metadata": {},
   "outputs": [
    {
     "data": {
      "text/plain": [
       "0      1.440796\n",
       "1      1.453137\n",
       "2      1.465950\n",
       "3      1.483456\n",
       "4      1.510000\n",
       "5      1.519342\n",
       "6      1.521727\n",
       "7      1.540487\n",
       "8      1.542058\n",
       "9      1.547183\n",
       "10     1.547536\n",
       "11     1.550094\n",
       "12     1.564653\n",
       "13     1.580190\n",
       "14     1.586608\n",
       "15     1.587462\n",
       "16     1.590134\n",
       "17     1.618982\n",
       "18     1.653079\n",
       "19     1.655433\n",
       "20     1.668113\n",
       "21     1.675639\n",
       "22     1.680039\n",
       "23     1.683374\n",
       "24     1.686592\n",
       "25     1.688196\n",
       "26     1.697251\n",
       "27     1.699226\n",
       "28     1.700644\n",
       "29     1.706977\n",
       "         ...   \n",
       "470    2.445437\n",
       "471    2.445935\n",
       "472    2.447469\n",
       "473    2.449064\n",
       "474    2.449220\n",
       "475    2.449553\n",
       "476    2.449574\n",
       "477    2.450156\n",
       "478    2.450370\n",
       "479    2.451453\n",
       "480    2.451816\n",
       "481    2.452717\n",
       "482    2.453278\n",
       "483    2.453301\n",
       "484    2.453769\n",
       "485    2.454228\n",
       "486    2.455384\n",
       "487    2.456609\n",
       "488    2.457340\n",
       "489    2.457670\n",
       "490    2.458657\n",
       "491    2.459428\n",
       "492    2.460308\n",
       "493    2.460432\n",
       "494    2.460875\n",
       "495    2.461017\n",
       "496    2.461510\n",
       "497    2.463297\n",
       "498    2.463546\n",
       "499    2.464809\n",
       "Length: 500, dtype: float64"
      ]
     },
     "execution_count": 13,
     "metadata": {},
     "output_type": "execute_result"
    }
   ],
   "source": [
    "data['Ransum'].mode()"
   ]
  },
  {
   "cell_type": "markdown",
   "metadata": {},
   "source": [
    "#### Modus Kelas"
   ]
  },
  {
   "cell_type": "code",
   "execution_count": 14,
   "metadata": {},
   "outputs": [
    {
     "data": {
      "text/plain": [
       "0    2\n",
       "dtype: int64"
      ]
     },
     "execution_count": 14,
     "metadata": {},
     "output_type": "execute_result"
    }
   ],
   "source": [
    "data['Kelas'].mode()"
   ]
  },
  {
   "cell_type": "markdown",
   "metadata": {},
   "source": [
    "#### Modus Keseluruhan"
   ]
  },
  {
   "cell_type": "code",
   "execution_count": 15,
   "metadata": {},
   "outputs": [
    {
     "data": {
      "text/html": [
       "<div>\n",
       "<style scoped>\n",
       "    .dataframe tbody tr th:only-of-type {\n",
       "        vertical-align: middle;\n",
       "    }\n",
       "\n",
       "    .dataframe tbody tr th {\n",
       "        vertical-align: top;\n",
       "    }\n",
       "\n",
       "    .dataframe thead th {\n",
       "        text-align: right;\n",
       "    }\n",
       "</style>\n",
       "<table border=\"1\" class=\"dataframe\">\n",
       "  <thead>\n",
       "    <tr style=\"text-align: right;\">\n",
       "      <th></th>\n",
       "      <th>ID</th>\n",
       "      <th>Daerah</th>\n",
       "      <th>SumbuUtama</th>\n",
       "      <th>SumbuKecil</th>\n",
       "      <th>Keunikan</th>\n",
       "      <th>AreaBulatan</th>\n",
       "      <th>Diameter</th>\n",
       "      <th>KadarAir</th>\n",
       "      <th>Keliling</th>\n",
       "      <th>Bulatan</th>\n",
       "      <th>Ransum</th>\n",
       "      <th>Kelas</th>\n",
       "    </tr>\n",
       "  </thead>\n",
       "  <tbody>\n",
       "    <tr>\n",
       "      <th>0</th>\n",
       "      <td>1</td>\n",
       "      <td>3992.0</td>\n",
       "      <td>74.133114</td>\n",
       "      <td>39.906517</td>\n",
       "      <td>0.719916</td>\n",
       "      <td>3802.0</td>\n",
       "      <td>71.293564</td>\n",
       "      <td>0.735849</td>\n",
       "      <td>197.015</td>\n",
       "      <td>0.174590</td>\n",
       "      <td>1.440796</td>\n",
       "      <td>2.0</td>\n",
       "    </tr>\n",
       "    <tr>\n",
       "      <th>1</th>\n",
       "      <td>2</td>\n",
       "      <td>4881.0</td>\n",
       "      <td>74.364021</td>\n",
       "      <td>41.436419</td>\n",
       "      <td>0.725553</td>\n",
       "      <td>4913.0</td>\n",
       "      <td>78.833256</td>\n",
       "      <td>0.824405</td>\n",
       "      <td>200.587</td>\n",
       "      <td>0.261297</td>\n",
       "      <td>1.453137</td>\n",
       "      <td>NaN</td>\n",
       "    </tr>\n",
       "    <tr>\n",
       "      <th>2</th>\n",
       "      <td>3</td>\n",
       "      <td>5642.0</td>\n",
       "      <td>74.691881</td>\n",
       "      <td>42.871879</td>\n",
       "      <td>0.731211</td>\n",
       "      <td>NaN</td>\n",
       "      <td>84.756224</td>\n",
       "      <td>NaN</td>\n",
       "      <td>202.456</td>\n",
       "      <td>0.299298</td>\n",
       "      <td>1.465950</td>\n",
       "      <td>NaN</td>\n",
       "    </tr>\n",
       "    <tr>\n",
       "      <th>3</th>\n",
       "      <td>4</td>\n",
       "      <td>6083.0</td>\n",
       "      <td>76.293164</td>\n",
       "      <td>43.284979</td>\n",
       "      <td>0.738639</td>\n",
       "      <td>NaN</td>\n",
       "      <td>88.006342</td>\n",
       "      <td>NaN</td>\n",
       "      <td>207.325</td>\n",
       "      <td>0.589146</td>\n",
       "      <td>1.483456</td>\n",
       "      <td>NaN</td>\n",
       "    </tr>\n",
       "    <tr>\n",
       "      <th>4</th>\n",
       "      <td>5</td>\n",
       "      <td>NaN</td>\n",
       "      <td>76.789043</td>\n",
       "      <td>44.119355</td>\n",
       "      <td>0.749282</td>\n",
       "      <td>NaN</td>\n",
       "      <td>NaN</td>\n",
       "      <td>NaN</td>\n",
       "      <td>207.697</td>\n",
       "      <td>0.603807</td>\n",
       "      <td>1.510000</td>\n",
       "      <td>NaN</td>\n",
       "    </tr>\n",
       "    <tr>\n",
       "      <th>5</th>\n",
       "      <td>6</td>\n",
       "      <td>NaN</td>\n",
       "      <td>77.033628</td>\n",
       "      <td>44.123138</td>\n",
       "      <td>0.752861</td>\n",
       "      <td>NaN</td>\n",
       "      <td>NaN</td>\n",
       "      <td>NaN</td>\n",
       "      <td>208.317</td>\n",
       "      <td>0.618132</td>\n",
       "      <td>1.519342</td>\n",
       "      <td>NaN</td>\n",
       "    </tr>\n",
       "    <tr>\n",
       "      <th>6</th>\n",
       "      <td>7</td>\n",
       "      <td>NaN</td>\n",
       "      <td>77.047682</td>\n",
       "      <td>44.555234</td>\n",
       "      <td>0.753762</td>\n",
       "      <td>NaN</td>\n",
       "      <td>NaN</td>\n",
       "      <td>NaN</td>\n",
       "      <td>209.823</td>\n",
       "      <td>0.619331</td>\n",
       "      <td>1.521727</td>\n",
       "      <td>NaN</td>\n",
       "    </tr>\n",
       "    <tr>\n",
       "      <th>7</th>\n",
       "      <td>8</td>\n",
       "      <td>NaN</td>\n",
       "      <td>77.090790</td>\n",
       "      <td>44.631551</td>\n",
       "      <td>0.760664</td>\n",
       "      <td>NaN</td>\n",
       "      <td>NaN</td>\n",
       "      <td>NaN</td>\n",
       "      <td>210.012</td>\n",
       "      <td>0.622202</td>\n",
       "      <td>1.540487</td>\n",
       "      <td>NaN</td>\n",
       "    </tr>\n",
       "    <tr>\n",
       "      <th>8</th>\n",
       "      <td>9</td>\n",
       "      <td>NaN</td>\n",
       "      <td>77.417073</td>\n",
       "      <td>44.802734</td>\n",
       "      <td>0.761228</td>\n",
       "      <td>NaN</td>\n",
       "      <td>NaN</td>\n",
       "      <td>NaN</td>\n",
       "      <td>210.657</td>\n",
       "      <td>0.642940</td>\n",
       "      <td>1.542058</td>\n",
       "      <td>NaN</td>\n",
       "    </tr>\n",
       "    <tr>\n",
       "      <th>9</th>\n",
       "      <td>10</td>\n",
       "      <td>NaN</td>\n",
       "      <td>81.277552</td>\n",
       "      <td>44.810110</td>\n",
       "      <td>0.763053</td>\n",
       "      <td>NaN</td>\n",
       "      <td>NaN</td>\n",
       "      <td>NaN</td>\n",
       "      <td>211.667</td>\n",
       "      <td>0.655424</td>\n",
       "      <td>1.547183</td>\n",
       "      <td>NaN</td>\n",
       "    </tr>\n",
       "    <tr>\n",
       "      <th>10</th>\n",
       "      <td>11</td>\n",
       "      <td>NaN</td>\n",
       "      <td>81.304200</td>\n",
       "      <td>44.875199</td>\n",
       "      <td>0.763178</td>\n",
       "      <td>NaN</td>\n",
       "      <td>NaN</td>\n",
       "      <td>NaN</td>\n",
       "      <td>214.338</td>\n",
       "      <td>0.661849</td>\n",
       "      <td>1.547536</td>\n",
       "      <td>NaN</td>\n",
       "    </tr>\n",
       "    <tr>\n",
       "      <th>11</th>\n",
       "      <td>12</td>\n",
       "      <td>NaN</td>\n",
       "      <td>82.570141</td>\n",
       "      <td>44.940785</td>\n",
       "      <td>0.764080</td>\n",
       "      <td>NaN</td>\n",
       "      <td>NaN</td>\n",
       "      <td>NaN</td>\n",
       "      <td>214.440</td>\n",
       "      <td>0.671240</td>\n",
       "      <td>1.550094</td>\n",
       "      <td>NaN</td>\n",
       "    </tr>\n",
       "    <tr>\n",
       "      <th>12</th>\n",
       "      <td>13</td>\n",
       "      <td>NaN</td>\n",
       "      <td>82.877814</td>\n",
       "      <td>45.241139</td>\n",
       "      <td>0.769107</td>\n",
       "      <td>NaN</td>\n",
       "      <td>NaN</td>\n",
       "      <td>NaN</td>\n",
       "      <td>216.930</td>\n",
       "      <td>0.671415</td>\n",
       "      <td>1.564653</td>\n",
       "      <td>NaN</td>\n",
       "    </tr>\n",
       "    <tr>\n",
       "      <th>13</th>\n",
       "      <td>14</td>\n",
       "      <td>NaN</td>\n",
       "      <td>83.378487</td>\n",
       "      <td>45.261657</td>\n",
       "      <td>0.774286</td>\n",
       "      <td>NaN</td>\n",
       "      <td>NaN</td>\n",
       "      <td>NaN</td>\n",
       "      <td>218.773</td>\n",
       "      <td>0.671775</td>\n",
       "      <td>1.580190</td>\n",
       "      <td>NaN</td>\n",
       "    </tr>\n",
       "    <tr>\n",
       "      <th>14</th>\n",
       "      <td>15</td>\n",
       "      <td>NaN</td>\n",
       "      <td>83.823270</td>\n",
       "      <td>45.374247</td>\n",
       "      <td>0.776372</td>\n",
       "      <td>NaN</td>\n",
       "      <td>NaN</td>\n",
       "      <td>NaN</td>\n",
       "      <td>219.663</td>\n",
       "      <td>0.672018</td>\n",
       "      <td>1.586608</td>\n",
       "      <td>NaN</td>\n",
       "    </tr>\n",
       "    <tr>\n",
       "      <th>15</th>\n",
       "      <td>16</td>\n",
       "      <td>NaN</td>\n",
       "      <td>84.058480</td>\n",
       "      <td>45.529112</td>\n",
       "      <td>0.776647</td>\n",
       "      <td>NaN</td>\n",
       "      <td>NaN</td>\n",
       "      <td>NaN</td>\n",
       "      <td>221.295</td>\n",
       "      <td>0.673292</td>\n",
       "      <td>1.587462</td>\n",
       "      <td>NaN</td>\n",
       "    </tr>\n",
       "    <tr>\n",
       "      <th>16</th>\n",
       "      <td>17</td>\n",
       "      <td>NaN</td>\n",
       "      <td>84.323564</td>\n",
       "      <td>45.783989</td>\n",
       "      <td>0.777504</td>\n",
       "      <td>NaN</td>\n",
       "      <td>NaN</td>\n",
       "      <td>NaN</td>\n",
       "      <td>221.380</td>\n",
       "      <td>0.675019</td>\n",
       "      <td>1.590134</td>\n",
       "      <td>NaN</td>\n",
       "    </tr>\n",
       "    <tr>\n",
       "      <th>17</th>\n",
       "      <td>18</td>\n",
       "      <td>NaN</td>\n",
       "      <td>84.540785</td>\n",
       "      <td>45.882867</td>\n",
       "      <td>0.786436</td>\n",
       "      <td>NaN</td>\n",
       "      <td>NaN</td>\n",
       "      <td>NaN</td>\n",
       "      <td>222.373</td>\n",
       "      <td>0.676293</td>\n",
       "      <td>1.618982</td>\n",
       "      <td>NaN</td>\n",
       "    </tr>\n",
       "    <tr>\n",
       "      <th>18</th>\n",
       "      <td>19</td>\n",
       "      <td>NaN</td>\n",
       "      <td>84.581148</td>\n",
       "      <td>45.897752</td>\n",
       "      <td>0.796277</td>\n",
       "      <td>NaN</td>\n",
       "      <td>NaN</td>\n",
       "      <td>NaN</td>\n",
       "      <td>223.117</td>\n",
       "      <td>0.677200</td>\n",
       "      <td>1.653079</td>\n",
       "      <td>NaN</td>\n",
       "    </tr>\n",
       "    <tr>\n",
       "      <th>19</th>\n",
       "      <td>20</td>\n",
       "      <td>NaN</td>\n",
       "      <td>85.124785</td>\n",
       "      <td>46.012820</td>\n",
       "      <td>0.796930</td>\n",
       "      <td>NaN</td>\n",
       "      <td>NaN</td>\n",
       "      <td>NaN</td>\n",
       "      <td>224.485</td>\n",
       "      <td>0.679893</td>\n",
       "      <td>1.655433</td>\n",
       "      <td>NaN</td>\n",
       "    </tr>\n",
       "    <tr>\n",
       "      <th>20</th>\n",
       "      <td>21</td>\n",
       "      <td>NaN</td>\n",
       "      <td>86.567816</td>\n",
       "      <td>46.050367</td>\n",
       "      <td>0.800390</td>\n",
       "      <td>NaN</td>\n",
       "      <td>NaN</td>\n",
       "      <td>NaN</td>\n",
       "      <td>225.237</td>\n",
       "      <td>0.680195</td>\n",
       "      <td>1.668113</td>\n",
       "      <td>NaN</td>\n",
       "    </tr>\n",
       "    <tr>\n",
       "      <th>21</th>\n",
       "      <td>22</td>\n",
       "      <td>NaN</td>\n",
       "      <td>86.952411</td>\n",
       "      <td>46.238929</td>\n",
       "      <td>0.802400</td>\n",
       "      <td>NaN</td>\n",
       "      <td>NaN</td>\n",
       "      <td>NaN</td>\n",
       "      <td>226.049</td>\n",
       "      <td>0.685223</td>\n",
       "      <td>1.675639</td>\n",
       "      <td>NaN</td>\n",
       "    </tr>\n",
       "    <tr>\n",
       "      <th>22</th>\n",
       "      <td>23</td>\n",
       "      <td>NaN</td>\n",
       "      <td>87.384504</td>\n",
       "      <td>46.811578</td>\n",
       "      <td>0.803560</td>\n",
       "      <td>NaN</td>\n",
       "      <td>NaN</td>\n",
       "      <td>NaN</td>\n",
       "      <td>226.454</td>\n",
       "      <td>0.685881</td>\n",
       "      <td>1.680039</td>\n",
       "      <td>NaN</td>\n",
       "    </tr>\n",
       "    <tr>\n",
       "      <th>23</th>\n",
       "      <td>24</td>\n",
       "      <td>NaN</td>\n",
       "      <td>87.412863</td>\n",
       "      <td>46.837917</td>\n",
       "      <td>0.804432</td>\n",
       "      <td>NaN</td>\n",
       "      <td>NaN</td>\n",
       "      <td>NaN</td>\n",
       "      <td>226.793</td>\n",
       "      <td>0.687464</td>\n",
       "      <td>1.683374</td>\n",
       "      <td>NaN</td>\n",
       "    </tr>\n",
       "    <tr>\n",
       "      <th>24</th>\n",
       "      <td>25</td>\n",
       "      <td>NaN</td>\n",
       "      <td>87.978305</td>\n",
       "      <td>46.943265</td>\n",
       "      <td>0.805268</td>\n",
       "      <td>NaN</td>\n",
       "      <td>NaN</td>\n",
       "      <td>NaN</td>\n",
       "      <td>227.007</td>\n",
       "      <td>0.688160</td>\n",
       "      <td>1.686592</td>\n",
       "      <td>NaN</td>\n",
       "    </tr>\n",
       "    <tr>\n",
       "      <th>25</th>\n",
       "      <td>26</td>\n",
       "      <td>NaN</td>\n",
       "      <td>87.986656</td>\n",
       "      <td>46.992019</td>\n",
       "      <td>0.805682</td>\n",
       "      <td>NaN</td>\n",
       "      <td>NaN</td>\n",
       "      <td>NaN</td>\n",
       "      <td>227.562</td>\n",
       "      <td>0.688452</td>\n",
       "      <td>1.688196</td>\n",
       "      <td>NaN</td>\n",
       "    </tr>\n",
       "    <tr>\n",
       "      <th>26</th>\n",
       "      <td>27</td>\n",
       "      <td>NaN</td>\n",
       "      <td>88.001794</td>\n",
       "      <td>47.025904</td>\n",
       "      <td>0.807996</td>\n",
       "      <td>NaN</td>\n",
       "      <td>NaN</td>\n",
       "      <td>NaN</td>\n",
       "      <td>227.853</td>\n",
       "      <td>0.691150</td>\n",
       "      <td>1.697251</td>\n",
       "      <td>NaN</td>\n",
       "    </tr>\n",
       "    <tr>\n",
       "      <th>27</th>\n",
       "      <td>28</td>\n",
       "      <td>NaN</td>\n",
       "      <td>88.029378</td>\n",
       "      <td>47.125335</td>\n",
       "      <td>0.808495</td>\n",
       "      <td>NaN</td>\n",
       "      <td>NaN</td>\n",
       "      <td>NaN</td>\n",
       "      <td>227.906</td>\n",
       "      <td>0.694162</td>\n",
       "      <td>1.699226</td>\n",
       "      <td>NaN</td>\n",
       "    </tr>\n",
       "    <tr>\n",
       "      <th>28</th>\n",
       "      <td>29</td>\n",
       "      <td>NaN</td>\n",
       "      <td>88.115939</td>\n",
       "      <td>47.133155</td>\n",
       "      <td>0.808852</td>\n",
       "      <td>NaN</td>\n",
       "      <td>NaN</td>\n",
       "      <td>NaN</td>\n",
       "      <td>227.934</td>\n",
       "      <td>0.694463</td>\n",
       "      <td>1.700644</td>\n",
       "      <td>NaN</td>\n",
       "    </tr>\n",
       "    <tr>\n",
       "      <th>29</th>\n",
       "      <td>30</td>\n",
       "      <td>NaN</td>\n",
       "      <td>88.779904</td>\n",
       "      <td>47.139683</td>\n",
       "      <td>0.810433</td>\n",
       "      <td>NaN</td>\n",
       "      <td>NaN</td>\n",
       "      <td>NaN</td>\n",
       "      <td>228.007</td>\n",
       "      <td>0.695464</td>\n",
       "      <td>1.706977</td>\n",
       "      <td>NaN</td>\n",
       "    </tr>\n",
       "    <tr>\n",
       "      <th>...</th>\n",
       "      <td>...</td>\n",
       "      <td>...</td>\n",
       "      <td>...</td>\n",
       "      <td>...</td>\n",
       "      <td>...</td>\n",
       "      <td>...</td>\n",
       "      <td>...</td>\n",
       "      <td>...</td>\n",
       "      <td>...</td>\n",
       "      <td>...</td>\n",
       "      <td>...</td>\n",
       "      <td>...</td>\n",
       "    </tr>\n",
       "    <tr>\n",
       "      <th>470</th>\n",
       "      <td>471</td>\n",
       "      <td>NaN</td>\n",
       "      <td>141.412475</td>\n",
       "      <td>60.156956</td>\n",
       "      <td>0.912568</td>\n",
       "      <td>NaN</td>\n",
       "      <td>NaN</td>\n",
       "      <td>NaN</td>\n",
       "      <td>339.413</td>\n",
       "      <td>0.841529</td>\n",
       "      <td>2.445437</td>\n",
       "      <td>NaN</td>\n",
       "    </tr>\n",
       "    <tr>\n",
       "      <th>471</th>\n",
       "      <td>472</td>\n",
       "      <td>NaN</td>\n",
       "      <td>141.773018</td>\n",
       "      <td>60.178119</td>\n",
       "      <td>0.912605</td>\n",
       "      <td>NaN</td>\n",
       "      <td>NaN</td>\n",
       "      <td>NaN</td>\n",
       "      <td>340.020</td>\n",
       "      <td>0.842805</td>\n",
       "      <td>2.445935</td>\n",
       "      <td>NaN</td>\n",
       "    </tr>\n",
       "    <tr>\n",
       "      <th>472</th>\n",
       "      <td>473</td>\n",
       "      <td>NaN</td>\n",
       "      <td>142.080654</td>\n",
       "      <td>60.261765</td>\n",
       "      <td>0.912720</td>\n",
       "      <td>NaN</td>\n",
       "      <td>NaN</td>\n",
       "      <td>NaN</td>\n",
       "      <td>340.600</td>\n",
       "      <td>0.843048</td>\n",
       "      <td>2.447469</td>\n",
       "      <td>NaN</td>\n",
       "    </tr>\n",
       "    <tr>\n",
       "      <th>473</th>\n",
       "      <td>474</td>\n",
       "      <td>NaN</td>\n",
       "      <td>142.347250</td>\n",
       "      <td>60.416315</td>\n",
       "      <td>0.912839</td>\n",
       "      <td>NaN</td>\n",
       "      <td>NaN</td>\n",
       "      <td>NaN</td>\n",
       "      <td>340.726</td>\n",
       "      <td>0.843860</td>\n",
       "      <td>2.449064</td>\n",
       "      <td>NaN</td>\n",
       "    </tr>\n",
       "    <tr>\n",
       "      <th>474</th>\n",
       "      <td>475</td>\n",
       "      <td>NaN</td>\n",
       "      <td>142.380796</td>\n",
       "      <td>60.632241</td>\n",
       "      <td>0.912851</td>\n",
       "      <td>NaN</td>\n",
       "      <td>NaN</td>\n",
       "      <td>NaN</td>\n",
       "      <td>341.702</td>\n",
       "      <td>0.844453</td>\n",
       "      <td>2.449220</td>\n",
       "      <td>NaN</td>\n",
       "    </tr>\n",
       "    <tr>\n",
       "      <th>475</th>\n",
       "      <td>476</td>\n",
       "      <td>NaN</td>\n",
       "      <td>142.402787</td>\n",
       "      <td>60.713944</td>\n",
       "      <td>0.912876</td>\n",
       "      <td>NaN</td>\n",
       "      <td>NaN</td>\n",
       "      <td>NaN</td>\n",
       "      <td>342.257</td>\n",
       "      <td>0.845113</td>\n",
       "      <td>2.449553</td>\n",
       "      <td>NaN</td>\n",
       "    </tr>\n",
       "    <tr>\n",
       "      <th>476</th>\n",
       "      <td>477</td>\n",
       "      <td>NaN</td>\n",
       "      <td>142.533566</td>\n",
       "      <td>60.753330</td>\n",
       "      <td>0.912877</td>\n",
       "      <td>NaN</td>\n",
       "      <td>NaN</td>\n",
       "      <td>NaN</td>\n",
       "      <td>342.990</td>\n",
       "      <td>0.846095</td>\n",
       "      <td>2.449574</td>\n",
       "      <td>NaN</td>\n",
       "    </tr>\n",
       "    <tr>\n",
       "      <th>477</th>\n",
       "      <td>478</td>\n",
       "      <td>NaN</td>\n",
       "      <td>142.949501</td>\n",
       "      <td>60.776901</td>\n",
       "      <td>0.912921</td>\n",
       "      <td>NaN</td>\n",
       "      <td>NaN</td>\n",
       "      <td>NaN</td>\n",
       "      <td>343.706</td>\n",
       "      <td>0.846535</td>\n",
       "      <td>2.450156</td>\n",
       "      <td>NaN</td>\n",
       "    </tr>\n",
       "    <tr>\n",
       "      <th>478</th>\n",
       "      <td>479</td>\n",
       "      <td>NaN</td>\n",
       "      <td>143.912498</td>\n",
       "      <td>60.842333</td>\n",
       "      <td>0.912936</td>\n",
       "      <td>NaN</td>\n",
       "      <td>NaN</td>\n",
       "      <td>NaN</td>\n",
       "      <td>343.917</td>\n",
       "      <td>0.847519</td>\n",
       "      <td>2.450370</td>\n",
       "      <td>NaN</td>\n",
       "    </tr>\n",
       "    <tr>\n",
       "      <th>479</th>\n",
       "      <td>480</td>\n",
       "      <td>NaN</td>\n",
       "      <td>144.267473</td>\n",
       "      <td>60.865929</td>\n",
       "      <td>0.913017</td>\n",
       "      <td>NaN</td>\n",
       "      <td>NaN</td>\n",
       "      <td>NaN</td>\n",
       "      <td>344.138</td>\n",
       "      <td>0.847593</td>\n",
       "      <td>2.451453</td>\n",
       "      <td>NaN</td>\n",
       "    </tr>\n",
       "    <tr>\n",
       "      <th>480</th>\n",
       "      <td>481</td>\n",
       "      <td>NaN</td>\n",
       "      <td>144.358774</td>\n",
       "      <td>61.180621</td>\n",
       "      <td>0.913044</td>\n",
       "      <td>NaN</td>\n",
       "      <td>NaN</td>\n",
       "      <td>NaN</td>\n",
       "      <td>346.308</td>\n",
       "      <td>0.848319</td>\n",
       "      <td>2.451816</td>\n",
       "      <td>NaN</td>\n",
       "    </tr>\n",
       "    <tr>\n",
       "      <th>481</th>\n",
       "      <td>482</td>\n",
       "      <td>NaN</td>\n",
       "      <td>144.433114</td>\n",
       "      <td>61.252729</td>\n",
       "      <td>0.913111</td>\n",
       "      <td>NaN</td>\n",
       "      <td>NaN</td>\n",
       "      <td>NaN</td>\n",
       "      <td>346.714</td>\n",
       "      <td>0.849297</td>\n",
       "      <td>2.452717</td>\n",
       "      <td>NaN</td>\n",
       "    </tr>\n",
       "    <tr>\n",
       "      <th>482</th>\n",
       "      <td>483</td>\n",
       "      <td>NaN</td>\n",
       "      <td>144.448739</td>\n",
       "      <td>61.312148</td>\n",
       "      <td>0.913153</td>\n",
       "      <td>NaN</td>\n",
       "      <td>NaN</td>\n",
       "      <td>NaN</td>\n",
       "      <td>347.364</td>\n",
       "      <td>0.849891</td>\n",
       "      <td>2.453278</td>\n",
       "      <td>NaN</td>\n",
       "    </tr>\n",
       "    <tr>\n",
       "      <th>483</th>\n",
       "      <td>484</td>\n",
       "      <td>NaN</td>\n",
       "      <td>144.907334</td>\n",
       "      <td>61.565377</td>\n",
       "      <td>0.913154</td>\n",
       "      <td>NaN</td>\n",
       "      <td>NaN</td>\n",
       "      <td>NaN</td>\n",
       "      <td>348.085</td>\n",
       "      <td>0.850159</td>\n",
       "      <td>2.453301</td>\n",
       "      <td>NaN</td>\n",
       "    </tr>\n",
       "    <tr>\n",
       "      <th>484</th>\n",
       "      <td>485</td>\n",
       "      <td>NaN</td>\n",
       "      <td>146.177056</td>\n",
       "      <td>61.674040</td>\n",
       "      <td>0.913189</td>\n",
       "      <td>NaN</td>\n",
       "      <td>NaN</td>\n",
       "      <td>NaN</td>\n",
       "      <td>348.740</td>\n",
       "      <td>0.850306</td>\n",
       "      <td>2.453769</td>\n",
       "      <td>NaN</td>\n",
       "    </tr>\n",
       "    <tr>\n",
       "      <th>485</th>\n",
       "      <td>486</td>\n",
       "      <td>NaN</td>\n",
       "      <td>146.371785</td>\n",
       "      <td>61.753627</td>\n",
       "      <td>0.913223</td>\n",
       "      <td>NaN</td>\n",
       "      <td>NaN</td>\n",
       "      <td>NaN</td>\n",
       "      <td>352.718</td>\n",
       "      <td>0.850763</td>\n",
       "      <td>2.454228</td>\n",
       "      <td>NaN</td>\n",
       "    </tr>\n",
       "    <tr>\n",
       "      <th>486</th>\n",
       "      <td>487</td>\n",
       "      <td>NaN</td>\n",
       "      <td>146.590229</td>\n",
       "      <td>61.932663</td>\n",
       "      <td>0.913309</td>\n",
       "      <td>NaN</td>\n",
       "      <td>NaN</td>\n",
       "      <td>NaN</td>\n",
       "      <td>353.032</td>\n",
       "      <td>0.856198</td>\n",
       "      <td>2.455384</td>\n",
       "      <td>NaN</td>\n",
       "    </tr>\n",
       "    <tr>\n",
       "      <th>487</th>\n",
       "      <td>488</td>\n",
       "      <td>NaN</td>\n",
       "      <td>146.696300</td>\n",
       "      <td>62.175346</td>\n",
       "      <td>0.913399</td>\n",
       "      <td>NaN</td>\n",
       "      <td>NaN</td>\n",
       "      <td>NaN</td>\n",
       "      <td>353.285</td>\n",
       "      <td>0.858473</td>\n",
       "      <td>2.456609</td>\n",
       "      <td>NaN</td>\n",
       "    </tr>\n",
       "    <tr>\n",
       "      <th>488</th>\n",
       "      <td>489</td>\n",
       "      <td>NaN</td>\n",
       "      <td>146.729018</td>\n",
       "      <td>62.214983</td>\n",
       "      <td>0.913453</td>\n",
       "      <td>NaN</td>\n",
       "      <td>NaN</td>\n",
       "      <td>NaN</td>\n",
       "      <td>354.483</td>\n",
       "      <td>0.863234</td>\n",
       "      <td>2.457340</td>\n",
       "      <td>NaN</td>\n",
       "    </tr>\n",
       "    <tr>\n",
       "      <th>489</th>\n",
       "      <td>490</td>\n",
       "      <td>NaN</td>\n",
       "      <td>147.005775</td>\n",
       "      <td>62.268120</td>\n",
       "      <td>0.913477</td>\n",
       "      <td>NaN</td>\n",
       "      <td>NaN</td>\n",
       "      <td>NaN</td>\n",
       "      <td>357.414</td>\n",
       "      <td>0.864092</td>\n",
       "      <td>2.457670</td>\n",
       "      <td>NaN</td>\n",
       "    </tr>\n",
       "    <tr>\n",
       "      <th>490</th>\n",
       "      <td>491</td>\n",
       "      <td>NaN</td>\n",
       "      <td>147.138743</td>\n",
       "      <td>62.304970</td>\n",
       "      <td>0.913550</td>\n",
       "      <td>NaN</td>\n",
       "      <td>NaN</td>\n",
       "      <td>NaN</td>\n",
       "      <td>359.911</td>\n",
       "      <td>0.867148</td>\n",
       "      <td>2.458657</td>\n",
       "      <td>NaN</td>\n",
       "    </tr>\n",
       "    <tr>\n",
       "      <th>491</th>\n",
       "      <td>492</td>\n",
       "      <td>NaN</td>\n",
       "      <td>147.429313</td>\n",
       "      <td>62.349249</td>\n",
       "      <td>0.913607</td>\n",
       "      <td>NaN</td>\n",
       "      <td>NaN</td>\n",
       "      <td>NaN</td>\n",
       "      <td>362.021</td>\n",
       "      <td>0.868434</td>\n",
       "      <td>2.459428</td>\n",
       "      <td>NaN</td>\n",
       "    </tr>\n",
       "    <tr>\n",
       "      <th>492</th>\n",
       "      <td>493</td>\n",
       "      <td>NaN</td>\n",
       "      <td>147.890545</td>\n",
       "      <td>62.466066</td>\n",
       "      <td>0.913672</td>\n",
       "      <td>NaN</td>\n",
       "      <td>NaN</td>\n",
       "      <td>NaN</td>\n",
       "      <td>365.062</td>\n",
       "      <td>0.868444</td>\n",
       "      <td>2.460308</td>\n",
       "      <td>NaN</td>\n",
       "    </tr>\n",
       "    <tr>\n",
       "      <th>493</th>\n",
       "      <td>494</td>\n",
       "      <td>NaN</td>\n",
       "      <td>150.429964</td>\n",
       "      <td>62.949892</td>\n",
       "      <td>0.913681</td>\n",
       "      <td>NaN</td>\n",
       "      <td>NaN</td>\n",
       "      <td>NaN</td>\n",
       "      <td>366.620</td>\n",
       "      <td>0.870203</td>\n",
       "      <td>2.460432</td>\n",
       "      <td>NaN</td>\n",
       "    </tr>\n",
       "    <tr>\n",
       "      <th>494</th>\n",
       "      <td>495</td>\n",
       "      <td>NaN</td>\n",
       "      <td>151.601766</td>\n",
       "      <td>62.961830</td>\n",
       "      <td>0.913713</td>\n",
       "      <td>NaN</td>\n",
       "      <td>NaN</td>\n",
       "      <td>NaN</td>\n",
       "      <td>367.844</td>\n",
       "      <td>0.870746</td>\n",
       "      <td>2.460875</td>\n",
       "      <td>NaN</td>\n",
       "    </tr>\n",
       "    <tr>\n",
       "      <th>495</th>\n",
       "      <td>496</td>\n",
       "      <td>NaN</td>\n",
       "      <td>152.068440</td>\n",
       "      <td>63.322854</td>\n",
       "      <td>0.913724</td>\n",
       "      <td>NaN</td>\n",
       "      <td>NaN</td>\n",
       "      <td>NaN</td>\n",
       "      <td>375.651</td>\n",
       "      <td>0.872417</td>\n",
       "      <td>2.461017</td>\n",
       "      <td>NaN</td>\n",
       "    </tr>\n",
       "    <tr>\n",
       "      <th>496</th>\n",
       "      <td>497</td>\n",
       "      <td>NaN</td>\n",
       "      <td>152.113491</td>\n",
       "      <td>63.762307</td>\n",
       "      <td>0.913760</td>\n",
       "      <td>NaN</td>\n",
       "      <td>NaN</td>\n",
       "      <td>NaN</td>\n",
       "      <td>390.125</td>\n",
       "      <td>0.874243</td>\n",
       "      <td>2.461510</td>\n",
       "      <td>NaN</td>\n",
       "    </tr>\n",
       "    <tr>\n",
       "      <th>497</th>\n",
       "      <td>498</td>\n",
       "      <td>NaN</td>\n",
       "      <td>153.583387</td>\n",
       "      <td>64.012769</td>\n",
       "      <td>0.913891</td>\n",
       "      <td>NaN</td>\n",
       "      <td>NaN</td>\n",
       "      <td>NaN</td>\n",
       "      <td>434.235</td>\n",
       "      <td>0.874743</td>\n",
       "      <td>2.463297</td>\n",
       "      <td>NaN</td>\n",
       "    </tr>\n",
       "    <tr>\n",
       "      <th>498</th>\n",
       "      <td>499</td>\n",
       "      <td>NaN</td>\n",
       "      <td>227.105462</td>\n",
       "      <td>65.738475</td>\n",
       "      <td>0.913909</td>\n",
       "      <td>NaN</td>\n",
       "      <td>NaN</td>\n",
       "      <td>NaN</td>\n",
       "      <td>448.305</td>\n",
       "      <td>0.891706</td>\n",
       "      <td>2.463546</td>\n",
       "      <td>NaN</td>\n",
       "    </tr>\n",
       "    <tr>\n",
       "      <th>499</th>\n",
       "      <td>500</td>\n",
       "      <td>NaN</td>\n",
       "      <td>227.928583</td>\n",
       "      <td>68.977700</td>\n",
       "      <td>0.914001</td>\n",
       "      <td>NaN</td>\n",
       "      <td>NaN</td>\n",
       "      <td>NaN</td>\n",
       "      <td>488.837</td>\n",
       "      <td>0.904748</td>\n",
       "      <td>2.464809</td>\n",
       "      <td>NaN</td>\n",
       "    </tr>\n",
       "  </tbody>\n",
       "</table>\n",
       "<p>500 rows × 12 columns</p>\n",
       "</div>"
      ],
      "text/plain": [
       "      ID  Daerah  SumbuUtama  SumbuKecil  Keunikan  AreaBulatan   Diameter  \\\n",
       "0      1  3992.0   74.133114   39.906517  0.719916       3802.0  71.293564   \n",
       "1      2  4881.0   74.364021   41.436419  0.725553       4913.0  78.833256   \n",
       "2      3  5642.0   74.691881   42.871879  0.731211          NaN  84.756224   \n",
       "3      4  6083.0   76.293164   43.284979  0.738639          NaN  88.006342   \n",
       "4      5     NaN   76.789043   44.119355  0.749282          NaN        NaN   \n",
       "5      6     NaN   77.033628   44.123138  0.752861          NaN        NaN   \n",
       "6      7     NaN   77.047682   44.555234  0.753762          NaN        NaN   \n",
       "7      8     NaN   77.090790   44.631551  0.760664          NaN        NaN   \n",
       "8      9     NaN   77.417073   44.802734  0.761228          NaN        NaN   \n",
       "9     10     NaN   81.277552   44.810110  0.763053          NaN        NaN   \n",
       "10    11     NaN   81.304200   44.875199  0.763178          NaN        NaN   \n",
       "11    12     NaN   82.570141   44.940785  0.764080          NaN        NaN   \n",
       "12    13     NaN   82.877814   45.241139  0.769107          NaN        NaN   \n",
       "13    14     NaN   83.378487   45.261657  0.774286          NaN        NaN   \n",
       "14    15     NaN   83.823270   45.374247  0.776372          NaN        NaN   \n",
       "15    16     NaN   84.058480   45.529112  0.776647          NaN        NaN   \n",
       "16    17     NaN   84.323564   45.783989  0.777504          NaN        NaN   \n",
       "17    18     NaN   84.540785   45.882867  0.786436          NaN        NaN   \n",
       "18    19     NaN   84.581148   45.897752  0.796277          NaN        NaN   \n",
       "19    20     NaN   85.124785   46.012820  0.796930          NaN        NaN   \n",
       "20    21     NaN   86.567816   46.050367  0.800390          NaN        NaN   \n",
       "21    22     NaN   86.952411   46.238929  0.802400          NaN        NaN   \n",
       "22    23     NaN   87.384504   46.811578  0.803560          NaN        NaN   \n",
       "23    24     NaN   87.412863   46.837917  0.804432          NaN        NaN   \n",
       "24    25     NaN   87.978305   46.943265  0.805268          NaN        NaN   \n",
       "25    26     NaN   87.986656   46.992019  0.805682          NaN        NaN   \n",
       "26    27     NaN   88.001794   47.025904  0.807996          NaN        NaN   \n",
       "27    28     NaN   88.029378   47.125335  0.808495          NaN        NaN   \n",
       "28    29     NaN   88.115939   47.133155  0.808852          NaN        NaN   \n",
       "29    30     NaN   88.779904   47.139683  0.810433          NaN        NaN   \n",
       "..   ...     ...         ...         ...       ...          ...        ...   \n",
       "470  471     NaN  141.412475   60.156956  0.912568          NaN        NaN   \n",
       "471  472     NaN  141.773018   60.178119  0.912605          NaN        NaN   \n",
       "472  473     NaN  142.080654   60.261765  0.912720          NaN        NaN   \n",
       "473  474     NaN  142.347250   60.416315  0.912839          NaN        NaN   \n",
       "474  475     NaN  142.380796   60.632241  0.912851          NaN        NaN   \n",
       "475  476     NaN  142.402787   60.713944  0.912876          NaN        NaN   \n",
       "476  477     NaN  142.533566   60.753330  0.912877          NaN        NaN   \n",
       "477  478     NaN  142.949501   60.776901  0.912921          NaN        NaN   \n",
       "478  479     NaN  143.912498   60.842333  0.912936          NaN        NaN   \n",
       "479  480     NaN  144.267473   60.865929  0.913017          NaN        NaN   \n",
       "480  481     NaN  144.358774   61.180621  0.913044          NaN        NaN   \n",
       "481  482     NaN  144.433114   61.252729  0.913111          NaN        NaN   \n",
       "482  483     NaN  144.448739   61.312148  0.913153          NaN        NaN   \n",
       "483  484     NaN  144.907334   61.565377  0.913154          NaN        NaN   \n",
       "484  485     NaN  146.177056   61.674040  0.913189          NaN        NaN   \n",
       "485  486     NaN  146.371785   61.753627  0.913223          NaN        NaN   \n",
       "486  487     NaN  146.590229   61.932663  0.913309          NaN        NaN   \n",
       "487  488     NaN  146.696300   62.175346  0.913399          NaN        NaN   \n",
       "488  489     NaN  146.729018   62.214983  0.913453          NaN        NaN   \n",
       "489  490     NaN  147.005775   62.268120  0.913477          NaN        NaN   \n",
       "490  491     NaN  147.138743   62.304970  0.913550          NaN        NaN   \n",
       "491  492     NaN  147.429313   62.349249  0.913607          NaN        NaN   \n",
       "492  493     NaN  147.890545   62.466066  0.913672          NaN        NaN   \n",
       "493  494     NaN  150.429964   62.949892  0.913681          NaN        NaN   \n",
       "494  495     NaN  151.601766   62.961830  0.913713          NaN        NaN   \n",
       "495  496     NaN  152.068440   63.322854  0.913724          NaN        NaN   \n",
       "496  497     NaN  152.113491   63.762307  0.913760          NaN        NaN   \n",
       "497  498     NaN  153.583387   64.012769  0.913891          NaN        NaN   \n",
       "498  499     NaN  227.105462   65.738475  0.913909          NaN        NaN   \n",
       "499  500     NaN  227.928583   68.977700  0.914001          NaN        NaN   \n",
       "\n",
       "     KadarAir  Keliling   Bulatan    Ransum  Kelas  \n",
       "0    0.735849   197.015  0.174590  1.440796    2.0  \n",
       "1    0.824405   200.587  0.261297  1.453137    NaN  \n",
       "2         NaN   202.456  0.299298  1.465950    NaN  \n",
       "3         NaN   207.325  0.589146  1.483456    NaN  \n",
       "4         NaN   207.697  0.603807  1.510000    NaN  \n",
       "5         NaN   208.317  0.618132  1.519342    NaN  \n",
       "6         NaN   209.823  0.619331  1.521727    NaN  \n",
       "7         NaN   210.012  0.622202  1.540487    NaN  \n",
       "8         NaN   210.657  0.642940  1.542058    NaN  \n",
       "9         NaN   211.667  0.655424  1.547183    NaN  \n",
       "10        NaN   214.338  0.661849  1.547536    NaN  \n",
       "11        NaN   214.440  0.671240  1.550094    NaN  \n",
       "12        NaN   216.930  0.671415  1.564653    NaN  \n",
       "13        NaN   218.773  0.671775  1.580190    NaN  \n",
       "14        NaN   219.663  0.672018  1.586608    NaN  \n",
       "15        NaN   221.295  0.673292  1.587462    NaN  \n",
       "16        NaN   221.380  0.675019  1.590134    NaN  \n",
       "17        NaN   222.373  0.676293  1.618982    NaN  \n",
       "18        NaN   223.117  0.677200  1.653079    NaN  \n",
       "19        NaN   224.485  0.679893  1.655433    NaN  \n",
       "20        NaN   225.237  0.680195  1.668113    NaN  \n",
       "21        NaN   226.049  0.685223  1.675639    NaN  \n",
       "22        NaN   226.454  0.685881  1.680039    NaN  \n",
       "23        NaN   226.793  0.687464  1.683374    NaN  \n",
       "24        NaN   227.007  0.688160  1.686592    NaN  \n",
       "25        NaN   227.562  0.688452  1.688196    NaN  \n",
       "26        NaN   227.853  0.691150  1.697251    NaN  \n",
       "27        NaN   227.906  0.694162  1.699226    NaN  \n",
       "28        NaN   227.934  0.694463  1.700644    NaN  \n",
       "29        NaN   228.007  0.695464  1.706977    NaN  \n",
       "..        ...       ...       ...       ...    ...  \n",
       "470       NaN   339.413  0.841529  2.445437    NaN  \n",
       "471       NaN   340.020  0.842805  2.445935    NaN  \n",
       "472       NaN   340.600  0.843048  2.447469    NaN  \n",
       "473       NaN   340.726  0.843860  2.449064    NaN  \n",
       "474       NaN   341.702  0.844453  2.449220    NaN  \n",
       "475       NaN   342.257  0.845113  2.449553    NaN  \n",
       "476       NaN   342.990  0.846095  2.449574    NaN  \n",
       "477       NaN   343.706  0.846535  2.450156    NaN  \n",
       "478       NaN   343.917  0.847519  2.450370    NaN  \n",
       "479       NaN   344.138  0.847593  2.451453    NaN  \n",
       "480       NaN   346.308  0.848319  2.451816    NaN  \n",
       "481       NaN   346.714  0.849297  2.452717    NaN  \n",
       "482       NaN   347.364  0.849891  2.453278    NaN  \n",
       "483       NaN   348.085  0.850159  2.453301    NaN  \n",
       "484       NaN   348.740  0.850306  2.453769    NaN  \n",
       "485       NaN   352.718  0.850763  2.454228    NaN  \n",
       "486       NaN   353.032  0.856198  2.455384    NaN  \n",
       "487       NaN   353.285  0.858473  2.456609    NaN  \n",
       "488       NaN   354.483  0.863234  2.457340    NaN  \n",
       "489       NaN   357.414  0.864092  2.457670    NaN  \n",
       "490       NaN   359.911  0.867148  2.458657    NaN  \n",
       "491       NaN   362.021  0.868434  2.459428    NaN  \n",
       "492       NaN   365.062  0.868444  2.460308    NaN  \n",
       "493       NaN   366.620  0.870203  2.460432    NaN  \n",
       "494       NaN   367.844  0.870746  2.460875    NaN  \n",
       "495       NaN   375.651  0.872417  2.461017    NaN  \n",
       "496       NaN   390.125  0.874243  2.461510    NaN  \n",
       "497       NaN   434.235  0.874743  2.463297    NaN  \n",
       "498       NaN   448.305  0.891706  2.463546    NaN  \n",
       "499       NaN   488.837  0.904748  2.464809    NaN  \n",
       "\n",
       "[500 rows x 12 columns]"
      ]
     },
     "execution_count": 15,
     "metadata": {},
     "output_type": "execute_result"
    }
   ],
   "source": [
    "data.mode()"
   ]
  },
  {
   "cell_type": "markdown",
   "metadata": {},
   "source": [
    "***"
   ]
  },
  {
   "cell_type": "markdown",
   "metadata": {},
   "source": [
    "## Soal No. 2"
   ]
  },
  {
   "cell_type": "markdown",
   "metadata": {},
   "source": [
    "Membuat Visualisasi plot distribusi, dalam bentuk histogram dan boxplot untuk setiap\n",
    "kolom numerik. Berikan uraian penjelasan kondisi setiap kolom berdasarkan kedua plot\n",
    "tersebut."
   ]
  },
  {
   "cell_type": "markdown",
   "metadata": {},
   "source": [
    "### Plot Distribusi dalam bentuk Histogram dan Boxplot"
   ]
  },
  {
   "cell_type": "markdown",
   "metadata": {},
   "source": [
    "#### Plot Distribusi ID"
   ]
  },
  {
   "cell_type": "code",
   "execution_count": 16,
   "metadata": {},
   "outputs": [
    {
     "data": {
      "text/plain": [
       "array([[<matplotlib.axes._subplots.AxesSubplot object at 0x0000024694577CC0>]],\n",
       "      dtype=object)"
      ]
     },
     "execution_count": 16,
     "metadata": {},
     "output_type": "execute_result"
    },
    {
     "data": {
      "image/png": "[encoded data removed]",
      "text/plain": [
       "<Figure size 432x288 with 1 Axes>"
      ]
     },
     "metadata": {
      "needs_background": "light"
     },
     "output_type": "display_data"
    },
    {
     "data": {
      "image/png": "[encoded data removed]",
      "text/plain": [
       "<Figure size 432x288 with 1 Axes>"
      ]
     },
     "metadata": {
      "needs_background": "light"
     },
     "output_type": "display_data"
    }
   ],
   "source": [
    "data.boxplot(column = 'ID')\n",
    "data.hist(column = 'ID')"
   ]
  },
  {
   "cell_type": "markdown",
   "metadata": {},
   "source": [
    "#### Plot Distribusi Daerah"
   ]
  },
  {
   "cell_type": "code",
   "execution_count": 17,
   "metadata": {},
   "outputs": [
    {
     "data": {
      "text/plain": [
       "array([[<matplotlib.axes._subplots.AxesSubplot object at 0x0000024694577828>]],\n",
       "      dtype=object)"
      ]
     },
     "execution_count": 17,
     "metadata": {},
     "output_type": "execute_result"
    },
    {
     "data": {
      "image/png": "[encoded data removed]",
      "text/plain": [
       "<Figure size 432x288 with 1 Axes>"
      ]
     },
     "metadata": {
      "needs_background": "light"
     },
     "output_type": "display_data"
    },
    {
     "data": {
      "image/png": "[encoded data removed]",
      "text/plain": [
       "<Figure size 432x288 with 1 Axes>"
      ]
     },
     "metadata": {
      "needs_background": "light"
     },
     "output_type": "display_data"
    }
   ],
   "source": [
    "data.boxplot(column = 'Daerah')\n",
    "data.hist(column = 'Daerah')"
   ]
  },
  {
   "cell_type": "markdown",
   "metadata": {},
   "source": [
    "#### Plot Distribusi Sumbu Utama"
   ]
  },
  {
   "cell_type": "code",
   "execution_count": 18,
   "metadata": {},
   "outputs": [
    {
     "data": {
      "text/plain": [
       "array([[<matplotlib.axes._subplots.AxesSubplot object at 0x00000246944DA400>]],\n",
       "      dtype=object)"
      ]
     },
     "execution_count": 18,
     "metadata": {},
     "output_type": "execute_result"
    },
    {
     "data": {
      "image/png": "[encoded data removed]",
      "text/plain": [
       "<Figure size 432x288 with 1 Axes>"
      ]
     },
     "metadata": {
      "needs_background": "light"
     },
     "output_type": "display_data"
    },
    {
     "data": {
      "image/png": "[encoded data removed]",
      "text/plain": [
       "<Figure size 432x288 with 1 Axes>"
      ]
     },
     "metadata": {
      "needs_background": "light"
     },
     "output_type": "display_data"
    }
   ],
   "source": [
    "data.boxplot(column = 'SumbuUtama')\n",
    "data.hist(column = 'SumbuUtama')"
   ]
  },
  {
   "cell_type": "markdown",
   "metadata": {},
   "source": [
    "#### Plot Distribusi Sumbu Kecil"
   ]
  },
  {
   "cell_type": "code",
   "execution_count": 19,
   "metadata": {},
   "outputs": [
    {
     "data": {
      "text/plain": [
       "array([[<matplotlib.axes._subplots.AxesSubplot object at 0x00000246948D92E8>]],\n",
       "      dtype=object)"
      ]
     },
     "execution_count": 19,
     "metadata": {},
     "output_type": "execute_result"
    },
    {
     "data": {
      "image/png": "[encoded data removed]",
      "text/plain": [
       "<Figure size 432x288 with 1 Axes>"
      ]
     },
     "metadata": {
      "needs_background": "light"
     },
     "output_type": "display_data"
    },
    {
     "data": {
      "image/png": "[encoded data removed]",
      "text/plain": [
       "<Figure size 432x288 with 1 Axes>"
      ]
     },
     "metadata": {
      "needs_background": "light"
     },
     "output_type": "display_data"
    }
   ],
   "source": [
    "data.boxplot(column = 'SumbuKecil')\n",
    "data.hist(column = 'SumbuKecil')"
   ]
  },
  {
   "cell_type": "markdown",
   "metadata": {},
   "source": [
    "#### Plot Distribusi Keunikan"
   ]
  },
  {
   "cell_type": "code",
   "execution_count": 20,
   "metadata": {},
   "outputs": [
    {
     "data": {
      "text/plain": [
       "array([[<matplotlib.axes._subplots.AxesSubplot object at 0x0000024694929A20>]],\n",
       "      dtype=object)"
      ]
     },
     "execution_count": 20,
     "metadata": {},
     "output_type": "execute_result"
    },
    {
     "data": {
      "image/png": "[encoded data removed]",
      "text/plain": [
       "<Figure size 432x288 with 1 Axes>"
      ]
     },
     "metadata": {
      "needs_background": "light"
     },
     "output_type": "display_data"
    },
    {
     "data": {
      "image/png": "[encoded data removed]",
      "text/plain": [
       "<Figure size 432x288 with 1 Axes>"
      ]
     },
     "metadata": {
      "needs_background": "light"
     },
     "output_type": "display_data"
    }
   ],
   "source": [
    "data.boxplot(column = 'Keunikan')\n",
    "data.hist(column = 'Keunikan')"
   ]
  },
  {
   "cell_type": "markdown",
   "metadata": {},
   "source": [
    "#### Plot Distribusi Area Bulatan"
   ]
  },
  {
   "cell_type": "code",
   "execution_count": 21,
   "metadata": {},
   "outputs": [
    {
     "data": {
      "text/plain": [
       "array([[<matplotlib.axes._subplots.AxesSubplot object at 0x00000246949189B0>]],\n",
       "      dtype=object)"
      ]
     },
     "execution_count": 21,
     "metadata": {},
     "output_type": "execute_result"
    },
    {
     "data": {
      "image/png": "[encoded data removed]",
      "text/plain": [
       "<Figure size 432x288 with 1 Axes>"
      ]
     },
     "metadata": {
      "needs_background": "light"
     },
     "output_type": "display_data"
    },
    {
     "data": {
      "image/png": "[encoded data removed]",
      "text/plain": [
       "<Figure size 432x288 with 1 Axes>"
      ]
     },
     "metadata": {
      "needs_background": "light"
     },
     "output_type": "display_data"
    }
   ],
   "source": [
    "data.boxplot(column = 'AreaBulatan')\n",
    "data.hist(column = 'AreaBulatan')"
   ]
  },
  {
   "cell_type": "markdown",
   "metadata": {},
   "source": [
    "#### Plot Distribusi Diameter"
   ]
  },
  {
   "cell_type": "code",
   "execution_count": 22,
   "metadata": {},
   "outputs": [
    {
     "data": {
      "text/plain": [
       "array([[<matplotlib.axes._subplots.AxesSubplot object at 0x0000024694B05358>]],\n",
       "      dtype=object)"
      ]
     },
     "execution_count": 22,
     "metadata": {},
     "output_type": "execute_result"
    },
    {
     "data": {
      "image/png": "[encoded data removed]",
      "text/plain": [
       "<Figure size 432x288 with 1 Axes>"
      ]
     },
     "metadata": {
      "needs_background": "light"
     },
     "output_type": "display_data"
    },
    {
     "data": {
      "image/png": "[encoded data removed]",
      "text/plain": [
       "<Figure size 432x288 with 1 Axes>"
      ]
     },
     "metadata": {
      "needs_background": "light"
     },
     "output_type": "display_data"
    }
   ],
   "source": [
    "data.boxplot(column = 'Diameter')\n",
    "data.hist(column = 'Diameter')"
   ]
  },
  {
   "cell_type": "markdown",
   "metadata": {},
   "source": [
    "#### Plot Distribusi Kadar Air"
   ]
  },
  {
   "cell_type": "code",
   "execution_count": 23,
   "metadata": {},
   "outputs": [
    {
     "data": {
      "text/plain": [
       "array([[<matplotlib.axes._subplots.AxesSubplot object at 0x0000024694B6A710>]],\n",
       "      dtype=object)"
      ]
     },
     "execution_count": 23,
     "metadata": {},
     "output_type": "execute_result"
    },
    {
     "data": {
      "image/png": "[encoded data removed]",
      "text/plain": [
       "<Figure size 432x288 with 1 Axes>"
      ]
     },
     "metadata": {
      "needs_background": "light"
     },
     "output_type": "display_data"
    },
    {
     "data": {
      "image/png": "[encoded data removed]",
      "text/plain": [
       "<Figure size 432x288 with 1 Axes>"
      ]
     },
     "metadata": {
      "needs_background": "light"
     },
     "output_type": "display_data"
    }
   ],
   "source": [
    "data.boxplot(column = 'KadarAir')\n",
    "data.hist(column = 'KadarAir')"
   ]
  },
  {
   "cell_type": "markdown",
   "metadata": {},
   "source": [
    "#### Plot Distribusi Keliling"
   ]
  },
  {
   "cell_type": "code",
   "execution_count": 24,
   "metadata": {},
   "outputs": [
    {
     "data": {
      "text/plain": [
       "array([[<matplotlib.axes._subplots.AxesSubplot object at 0x0000024694C46240>]],\n",
       "      dtype=object)"
      ]
     },
     "execution_count": 24,
     "metadata": {},
     "output_type": "execute_result"
    },
    {
     "data": {
      "image/png": "[encoded data removed]",
      "text/plain": [
       "<Figure size 432x288 with 1 Axes>"
      ]
     },
     "metadata": {
      "needs_background": "light"
     },
     "output_type": "display_data"
    },
    {
     "data": {
      "image/png": "[encoded data removed]",
      "text/plain": [
       "<Figure size 432x288 with 1 Axes>"
      ]
     },
     "metadata": {
      "needs_background": "light"
     },
     "output_type": "display_data"
    }
   ],
   "source": [
    "data.boxplot(column = 'Keliling')\n",
    "data.hist(column = 'Keliling')"
   ]
  },
  {
   "cell_type": "markdown",
   "metadata": {},
   "source": [
    "#### Plot Distribusi Bulatan"
   ]
  },
  {
   "cell_type": "code",
   "execution_count": 25,
   "metadata": {},
   "outputs": [
    {
     "data": {
      "text/plain": [
       "array([[<matplotlib.axes._subplots.AxesSubplot object at 0x00000246949004E0>]],\n",
       "      dtype=object)"
      ]
     },
     "execution_count": 25,
     "metadata": {},
     "output_type": "execute_result"
    },
    {
     "data": {
      "image/png": "[encoded data removed]",
      "text/plain": [
       "<Figure size 432x288 with 1 Axes>"
      ]
     },
     "metadata": {
      "needs_background": "light"
     },
     "output_type": "display_data"
    },
    {
     "data": {
      "image/png": "[encoded data removed]",
      "text/plain": [
       "<Figure size 432x288 with 1 Axes>"
      ]
     },
     "metadata": {
      "needs_background": "light"
     },
     "output_type": "display_data"
    }
   ],
   "source": [
    "data.boxplot(column = 'Bulatan')\n",
    "data.hist(column = 'Bulatan')"
   ]
  },
  {
   "cell_type": "markdown",
   "metadata": {},
   "source": [
    "#### Plot Distribusi Ransum"
   ]
  },
  {
   "cell_type": "code",
   "execution_count": 26,
   "metadata": {},
   "outputs": [
    {
     "data": {
      "text/plain": [
       "array([[<matplotlib.axes._subplots.AxesSubplot object at 0x00000246949F9DA0>]],\n",
       "      dtype=object)"
      ]
     },
     "execution_count": 26,
     "metadata": {},
     "output_type": "execute_result"
    },
    {
     "data": {
      "image/png": "[encoded data removed]",
      "text/plain": [
       "<Figure size 432x288 with 1 Axes>"
      ]
     },
     "metadata": {
      "needs_background": "light"
     },
     "output_type": "display_data"
    },
    {
     "data": {
      "image/png": "[encoded data removed]",
      "text/plain": [
       "<Figure size 432x288 with 1 Axes>"
      ]
     },
     "metadata": {
      "needs_background": "light"
     },
     "output_type": "display_data"
    }
   ],
   "source": [
    "data.boxplot(column = 'Ransum')\n",
    "data.hist(column = 'Ransum')"
   ]
  },
  {
   "cell_type": "markdown",
   "metadata": {},
   "source": [
    "#### Plot Distribusi Kelas"
   ]
  },
  {
   "cell_type": "code",
   "execution_count": 27,
   "metadata": {},
   "outputs": [
    {
     "data": {
      "text/plain": [
       "array([[<matplotlib.axes._subplots.AxesSubplot object at 0x00000246949181D0>]],\n",
       "      dtype=object)"
      ]
     },
     "execution_count": 27,
     "metadata": {},
     "output_type": "execute_result"
    },
    {
     "data": {
      "image/png": "[encoded data removed]",
      "text/plain": [
       "<Figure size 432x288 with 1 Axes>"
      ]
     },
     "metadata": {
      "needs_background": "light"
     },
     "output_type": "display_data"
    },
    {
     "data": {
      "image/png": "[encoded data removed]",
      "text/plain": [
       "<Figure size 432x288 with 1 Axes>"
      ]
     },
     "metadata": {
      "needs_background": "light"
     },
     "output_type": "display_data"
    }
   ],
   "source": [
    "data.boxplot(column = 'Kelas')\n",
    "data.hist(column = 'Kelas')"
   ]
  },
  {
   "cell_type": "markdown",
   "metadata": {},
   "source": [
    "***"
   ]
  },
  {
   "cell_type": "markdown",
   "metadata": {},
   "source": [
    "## Soal No. 3"
   ]
  },
  {
   "cell_type": "markdown",
   "metadata": {},
   "source": [
    "Menentukan setiap kolom numerik berdistribusi normal atau tidak. Gunakan normality test\n",
    "yang dikaitkan dengan histogram plot."
   ]
  },
  {
   "cell_type": "markdown",
   "metadata": {},
   "source": [
    "### D’Agostino-Pearson Omnibus Test"
   ]
  },
  {
   "cell_type": "markdown",
   "metadata": {},
   "source": [
    "*Normality test* yang akan digunakan adalah *D’Agostino-Pearson Omnibus Test*. Dalam *normality test* ini, $Z_1$ dan $Z_2$ dapat dicari penyimpangannya dari *normality* berdasarkan *skewness* maupun *kurtosis*-nya. *Null hypothesis* ($H_0$) mengasumsikan bahwa data tes adalah berdistribusi normal. Data tes yang dilakukan untuk soal ini adalah data untuk setiap kolom.\n",
    "\n",
    "$$K^2 = Z_s(g_1)^2 + Z_k(g_2)^2$$\n",
    "\n",
    "Jika $H_0$ (*null hypothesis*) benar, maka $K^2$ diaproksimasi terdistribusi secara $\\chi^2$ (*chi-squared*) dengan 2 *degrees of freedom* (dua derajat kebebasan), di mana $g_1$ dan $g_2$ tidak independen, hanya berkolerasi, dan $Z_s(g_1)$ adalah hasil Skewness Agostino serta $Z_k(g_1)$ adalah hasil Kurtosis Agostino.\n",
    "\n",
    "Akan digunakan library `scipy` untuk mempermudah pencarian nilai stat dan p dari hasil normality test. Library `seaborn` digunakan untuk mempermudah visualisasi data dengan menggunakan histogram dan kurva.\n",
    "\n",
    "Terdapat dua kesimpulan yang dapat ditarik berdasarkan normality test, antara lain:\n",
    "1. Apabila $p > \\alpha$, maka $H_0$ diterima, sehingga kolom tersebut dikatakan berdistribusi normal.\n",
    "2. Apabila $p \\leq \\alpha$, maka $H_0$ ditolak, sehingga kolom tersebut **tidak dapat** dikatakan berdistribusi normal.\n",
    "\n",
    "Untuk setiap tes, akan digunakan nilai $\\alpha = 0.05$."
   ]
  },
  {
   "cell_type": "code",
   "execution_count": 28,
   "metadata": {},
   "outputs": [],
   "source": [
    "# Import dari scipy untuk mempermudah normality test\n",
    "from scipy.stats import normaltest\n",
    "\n",
    "# Fungsi normality test berdasarkan D’Agostino-Pearson Omnibus Test\n",
    "def omnibusTest(name):\n",
    "    s, p = normaltest(data[name])\n",
    "    print(\"Nilai s : {:.5f}\".format(s))\n",
    "    print(\"Nilai p : {:.5f}\".format(p))\n",
    "    if (p > 0.05):\n",
    "        print(\"Karena p > 0.05, maka kolom\", name, \"terdistribusi normal.\")\n",
    "    else:\n",
    "        print(\"Karena p \\u2264 0.05, maka kolom\", name, \"tidak terdistirbusi normal.\")\n",
    "        "
   ]
  },
  {
   "cell_type": "markdown",
   "metadata": {},
   "source": [
    "#### ID"
   ]
  },
  {
   "cell_type": "code",
   "execution_count": 29,
   "metadata": {
    "scrolled": true
   },
   "outputs": [
    {
     "name": "stderr",
     "output_type": "stream",
     "text": [
      "C:\\Users\\ASUS\\Anaconda3\\lib\\site-packages\\scipy\\stats\\stats.py:1713: FutureWarning: Using a non-tuple sequence for multidimensional indexing is deprecated; use `arr[tuple(seq)]` instead of `arr[seq]`. In the future this will be interpreted as an array index, `arr[np.array(seq)]`, which will result either in an error or a different result.\n",
      "  return np.add.reduce(sorted[indexer] * weights, axis=axis) / sumval\n"
     ]
    },
    {
     "data": {
      "text/plain": [
       "<matplotlib.axes._subplots.AxesSubplot at 0x24694dbb198>"
      ]
     },
     "execution_count": 29,
     "metadata": {},
     "output_type": "execute_result"
    },
    {
     "data": {
      "image/png": "[encoded data removed]",
      "text/plain": [
       "<Figure size 432x288 with 1 Axes>"
      ]
     },
     "metadata": {
      "needs_background": "light"
     },
     "output_type": "display_data"
    }
   ],
   "source": [
    "sns.distplot(data['ID'])"
   ]
  },
  {
   "cell_type": "code",
   "execution_count": 30,
   "metadata": {},
   "outputs": [
    {
     "name": "stdout",
     "output_type": "stream",
     "text": [
      "Nilai s : 317.44393\n",
      "Nilai p : 0.00000\n",
      "Karena p ≤ 0.05, maka kolom ID tidak terdistirbusi normal.\n"
     ]
    }
   ],
   "source": [
    "omnibusTest(\"ID\")"
   ]
  },
  {
   "cell_type": "markdown",
   "metadata": {},
   "source": [
    "**Penjelasan:** Puncak yang \"lebar\" menandakan nilai kurtosis yang kecil. Kolom ID **tidak** berdistribusi normal."
   ]
  },
  {
   "cell_type": "markdown",
   "metadata": {},
   "source": [
    "#### Daerah"
   ]
  },
  {
   "cell_type": "code",
   "execution_count": 31,
   "metadata": {},
   "outputs": [
    {
     "data": {
      "text/plain": [
       "<matplotlib.axes._subplots.AxesSubplot at 0x24694ef65c0>"
      ]
     },
     "execution_count": 31,
     "metadata": {},
     "output_type": "execute_result"
    },
    {
     "data": {
      "image/png": "[encoded data removed]",
      "text/plain": [
       "<Figure size 432x288 with 1 Axes>"
      ]
     },
     "metadata": {
      "needs_background": "light"
     },
     "output_type": "display_data"
    }
   ],
   "source": [
    "sns.distplot(data['Daerah'])"
   ]
  },
  {
   "cell_type": "code",
   "execution_count": 32,
   "metadata": {},
   "outputs": [
    {
     "name": "stdout",
     "output_type": "stream",
     "text": [
      "Nilai s : 10.85855\n",
      "Nilai p : 0.00439\n",
      "Karena p ≤ 0.05, maka kolom Daerah tidak terdistirbusi normal.\n"
     ]
    }
   ],
   "source": [
    "omnibusTest(\"Daerah\")"
   ]
  },
  {
   "cell_type": "markdown",
   "metadata": {},
   "source": [
    "**Penjelasan:** Dilihat dari grafik kurva pada histogram, tergambar *positive skewness*. Kolom Daerah **tidak** berdistribusi normal."
   ]
  },
  {
   "cell_type": "markdown",
   "metadata": {},
   "source": [
    "#### Sumbu Utama"
   ]
  },
  {
   "cell_type": "code",
   "execution_count": 33,
   "metadata": {},
   "outputs": [
    {
     "data": {
      "text/plain": [
       "<matplotlib.axes._subplots.AxesSubplot at 0x24694fbbe10>"
      ]
     },
     "execution_count": 33,
     "metadata": {},
     "output_type": "execute_result"
    },
    {
     "data": {
      "image/png": "[encoded data removed]",
      "text/plain": [
       "<Figure size 432x288 with 1 Axes>"
      ]
     },
     "metadata": {
      "needs_background": "light"
     },
     "output_type": "display_data"
    }
   ],
   "source": [
    "sns.distplot(data[\"SumbuUtama\"])"
   ]
  },
  {
   "cell_type": "code",
   "execution_count": 34,
   "metadata": {},
   "outputs": [
    {
     "name": "stdout",
     "output_type": "stream",
     "text": [
      "Nilai s : 95.12011\n",
      "Nilai p : 0.00000\n",
      "Karena p ≤ 0.05, maka kolom SumbuUtama tidak terdistirbusi normal.\n"
     ]
    }
   ],
   "source": [
    "omnibusTest(\"SumbuUtama\")"
   ]
  },
  {
   "cell_type": "markdown",
   "metadata": {},
   "source": [
    "**Penjelasan:** Nilai *positive skewness* cukup besar diakibatkan adanya *tail* di bagian kanan histogram. Kolom Sumbu Utama **tidak** berdistribusi normal."
   ]
  },
  {
   "cell_type": "markdown",
   "metadata": {},
   "source": [
    "#### Sumbu Kecil"
   ]
  },
  {
   "cell_type": "code",
   "execution_count": 35,
   "metadata": {},
   "outputs": [
    {
     "data": {
      "text/plain": [
       "<matplotlib.axes._subplots.AxesSubplot at 0x24695060978>"
      ]
     },
     "execution_count": 35,
     "metadata": {},
     "output_type": "execute_result"
    },
    {
     "data": {
      "image/png": "[encoded data removed]",
      "text/plain": [
       "<Figure size 432x288 with 1 Axes>"
      ]
     },
     "metadata": {
      "needs_background": "light"
     },
     "output_type": "display_data"
    }
   ],
   "source": [
    "sns.distplot(data[\"SumbuKecil\"])"
   ]
  },
  {
   "cell_type": "code",
   "execution_count": 36,
   "metadata": {},
   "outputs": [
    {
     "name": "stdout",
     "output_type": "stream",
     "text": [
      "Nilai s : 3.69839\n",
      "Nilai p : 0.15736\n",
      "Karena p > 0.05, maka kolom SumbuKecil terdistribusi normal.\n"
     ]
    }
   ],
   "source": [
    "omnibusTest(\"SumbuKecil\")"
   ]
  },
  {
   "cell_type": "markdown",
   "metadata": {},
   "source": [
    "**Penjelasan:** Nilai *skewness* sangat kecil, oleh karena itu terlihat bahwa kurva seperti simetris. Nilai kurtosis tidak terlalu menyimbang (terlalu \"kurus\" atau terlalu \"gendut\"). Kolom Sumbu Kecil **berdistribusi normal**."
   ]
  },
  {
   "cell_type": "markdown",
   "metadata": {},
   "source": [
    "#### Keunikan"
   ]
  },
  {
   "cell_type": "code",
   "execution_count": 37,
   "metadata": {},
   "outputs": [
    {
     "data": {
      "text/plain": [
       "<matplotlib.axes._subplots.AxesSubplot at 0x246950c6ac8>"
      ]
     },
     "execution_count": 37,
     "metadata": {},
     "output_type": "execute_result"
    },
    {
     "data": {
      "image/png": "[encoded data removed]",
      "text/plain": [
       "<Figure size 432x288 with 1 Axes>"
      ]
     },
     "metadata": {
      "needs_background": "light"
     },
     "output_type": "display_data"
    }
   ],
   "source": [
    "sns.distplot(data[\"Keunikan\"])"
   ]
  },
  {
   "cell_type": "code",
   "execution_count": 38,
   "metadata": {},
   "outputs": [
    {
     "name": "stdout",
     "output_type": "stream",
     "text": [
      "Nilai s : 158.61744\n",
      "Nilai p : 0.00000\n",
      "Karena p ≤ 0.05, maka kolom Keunikan tidak terdistirbusi normal.\n"
     ]
    }
   ],
   "source": [
    "omnibusTest(\"Keunikan\")"
   ]
  },
  {
   "cell_type": "markdown",
   "metadata": {},
   "source": [
    "**Penjelasan:** Histogram sangat *negative skewness*, karena data cenderung terkumpul di kanan. Kolom Keunikan **tidak** berdistribusi normal."
   ]
  },
  {
   "cell_type": "markdown",
   "metadata": {},
   "source": [
    "#### Area Bulatan"
   ]
  },
  {
   "cell_type": "code",
   "execution_count": 39,
   "metadata": {},
   "outputs": [
    {
     "data": {
      "text/plain": [
       "<matplotlib.axes._subplots.AxesSubplot at 0x2469516f198>"
      ]
     },
     "execution_count": 39,
     "metadata": {},
     "output_type": "execute_result"
    },
    {
     "data": {
      "image/png": "[encoded data removed]",
      "text/plain": [
       "<Figure size 432x288 with 1 Axes>"
      ]
     },
     "metadata": {
      "needs_background": "light"
     },
     "output_type": "display_data"
    }
   ],
   "source": [
    "sns.distplot(data[\"AreaBulatan\"])"
   ]
  },
  {
   "cell_type": "code",
   "execution_count": 40,
   "metadata": {},
   "outputs": [
    {
     "name": "stdout",
     "output_type": "stream",
     "text": [
      "Nilai s : 10.73874\n",
      "Nilai p : 0.00466\n",
      "Karena p ≤ 0.05, maka kolom AreaBulatan tidak terdistirbusi normal.\n"
     ]
    }
   ],
   "source": [
    "omnibusTest(\"AreaBulatan\")"
   ]
  },
  {
   "cell_type": "markdown",
   "metadata": {},
   "source": [
    "**Penjelasan:** Histogram cenderung bersifat *positive skewness*. Kurtosis cenderung negatif (kurva terlihat lebar). Kolom Area Bulatan **tidak** berdistribusi normal."
   ]
  },
  {
   "cell_type": "markdown",
   "metadata": {},
   "source": [
    "#### Diameter"
   ]
  },
  {
   "cell_type": "code",
   "execution_count": 41,
   "metadata": {},
   "outputs": [
    {
     "data": {
      "text/plain": [
       "<matplotlib.axes._subplots.AxesSubplot at 0x246951f6c50>"
      ]
     },
     "execution_count": 41,
     "metadata": {},
     "output_type": "execute_result"
    },
    {
     "data": {
      "image/png": "[encoded data removed]",
      "text/plain": [
       "<Figure size 432x288 with 1 Axes>"
      ]
     },
     "metadata": {
      "needs_background": "light"
     },
     "output_type": "display_data"
    }
   ],
   "source": [
    "sns.distplot(data[\"Diameter\"])"
   ]
  },
  {
   "cell_type": "code",
   "execution_count": 42,
   "metadata": {},
   "outputs": [
    {
     "name": "stdout",
     "output_type": "stream",
     "text": [
      "Nilai s : 7.44635\n",
      "Nilai p : 0.02416\n",
      "Karena p ≤ 0.05, maka kolom Diameter tidak terdistirbusi normal.\n"
     ]
    }
   ],
   "source": [
    "omnibusTest(\"Diameter\")"
   ]
  },
  {
   "cell_type": "markdown",
   "metadata": {},
   "source": [
    "**Penjelasan:** Kurva sedikit menunjukkan nilai *positive skewness*. Nilai kurtosis cenderung negatif (kurva lebar). Kolom Diameter **tidak** berdistribusi normal."
   ]
  },
  {
   "cell_type": "markdown",
   "metadata": {},
   "source": [
    "#### Kadar Air"
   ]
  },
  {
   "cell_type": "code",
   "execution_count": 43,
   "metadata": {},
   "outputs": [
    {
     "data": {
      "text/plain": [
       "<matplotlib.axes._subplots.AxesSubplot at 0x24695274ef0>"
      ]
     },
     "execution_count": 43,
     "metadata": {},
     "output_type": "execute_result"
    },
    {
     "data": {
      "image/png": "[encoded data removed]",
      "text/plain": [
       "<Figure size 432x288 with 1 Axes>"
      ]
     },
     "metadata": {
      "needs_background": "light"
     },
     "output_type": "display_data"
    }
   ],
   "source": [
    "sns.distplot(data[\"KadarAir\"])"
   ]
  },
  {
   "cell_type": "code",
   "execution_count": 44,
   "metadata": {},
   "outputs": [
    {
     "name": "stdout",
     "output_type": "stream",
     "text": [
      "Nilai s : 48.75592\n",
      "Nilai p : 0.00000\n",
      "Karena p ≤ 0.05, maka kolom KadarAir tidak terdistirbusi normal.\n"
     ]
    }
   ],
   "source": [
    "omnibusTest(\"KadarAir\")"
   ]
  },
  {
   "cell_type": "markdown",
   "metadata": {},
   "source": [
    "**Penjelasan:** Kurva histogram cenderung bersifat *positive skewness*. Nilai kurtosis cenderung negatif (kurva lebar). Kolom Kadar Air **tidak** berdistribusi normal."
   ]
  },
  {
   "cell_type": "markdown",
   "metadata": {},
   "source": [
    "#### Keliling"
   ]
  },
  {
   "cell_type": "code",
   "execution_count": 45,
   "metadata": {},
   "outputs": [
    {
     "data": {
      "text/plain": [
       "<matplotlib.axes._subplots.AxesSubplot at 0x246962c3630>"
      ]
     },
     "execution_count": 45,
     "metadata": {},
     "output_type": "execute_result"
    },
    {
     "data": {
      "image/png": "[encoded data removed]",
      "text/plain": [
       "<Figure size 432x288 with 1 Axes>"
      ]
     },
     "metadata": {
      "needs_background": "light"
     },
     "output_type": "display_data"
    }
   ],
   "source": [
    "sns.distplot(data[\"Keliling\"])"
   ]
  },
  {
   "cell_type": "code",
   "execution_count": 46,
   "metadata": {},
   "outputs": [
    {
     "name": "stdout",
     "output_type": "stream",
     "text": [
      "Nilai s : 67.46548\n",
      "Nilai p : 0.00000\n",
      "Karena p ≤ 0.05, maka kolom Keliling tidak terdistirbusi normal.\n"
     ]
    }
   ],
   "source": [
    "omnibusTest(\"Keliling\")"
   ]
  },
  {
   "cell_type": "markdown",
   "metadata": {},
   "source": [
    "**Penjelasan:** Histrogram cenderung *positive skewness* dilihat dari adanya *tail* pada bagian kanan. Kolom Keliling **tidak** berdistribusi normal."
   ]
  },
  {
   "cell_type": "markdown",
   "metadata": {},
   "source": [
    "#### Bulatan"
   ]
  },
  {
   "cell_type": "code",
   "execution_count": 47,
   "metadata": {},
   "outputs": [
    {
     "data": {
      "text/plain": [
       "<matplotlib.axes._subplots.AxesSubplot at 0x24696359e10>"
      ]
     },
     "execution_count": 47,
     "metadata": {},
     "output_type": "execute_result"
    },
    {
     "data": {
      "image/png": "[encoded data removed]",
      "text/plain": [
       "<Figure size 432x288 with 1 Axes>"
      ]
     },
     "metadata": {
      "needs_background": "light"
     },
     "output_type": "display_data"
    }
   ],
   "source": [
    "sns.distplot(data[\"Bulatan\"])"
   ]
  },
  {
   "cell_type": "code",
   "execution_count": 48,
   "metadata": {},
   "outputs": [
    {
     "name": "stdout",
     "output_type": "stream",
     "text": [
      "Nilai s : 442.11942\n",
      "Nilai p : 0.00000\n",
      "Karena p ≤ 0.05, maka kolom Bulatan tidak terdistirbusi normal.\n"
     ]
    }
   ],
   "source": [
    "omnibusTest(\"Bulatan\")"
   ]
  },
  {
   "cell_type": "markdown",
   "metadata": {},
   "source": [
    "**Penjelasan:** Histogram cenderung bersifat *negative skewness*, dilihat dari adanya *tail* pada bagian kiri histogram dan data yang menumpuk pada bagian kanan. Nilai kurtosis cenderung tinggi (kurva \"kurus). Kolom Bulatan **tidak** berdistribusi normal."
   ]
  },
  {
   "cell_type": "markdown",
   "metadata": {},
   "source": [
    "#### Ransum"
   ]
  },
  {
   "cell_type": "code",
   "execution_count": 49,
   "metadata": {},
   "outputs": [
    {
     "data": {
      "text/plain": [
       "<matplotlib.axes._subplots.AxesSubplot at 0x246964316d8>"
      ]
     },
     "execution_count": 49,
     "metadata": {},
     "output_type": "execute_result"
    },
    {
     "data": {
      "image/png": "[encoded data removed]",
      "text/plain": [
       "<Figure size 432x288 with 1 Axes>"
      ]
     },
     "metadata": {
      "needs_background": "light"
     },
     "output_type": "display_data"
    }
   ],
   "source": [
    "sns.distplot(data[\"Ransum\"])"
   ]
  },
  {
   "cell_type": "code",
   "execution_count": 50,
   "metadata": {},
   "outputs": [
    {
     "name": "stdout",
     "output_type": "stream",
     "text": [
      "Nilai s : 37.06032\n",
      "Nilai p : 0.00000\n",
      "Karena p ≤ 0.05, maka kolom Ransum tidak terdistirbusi normal.\n"
     ]
    }
   ],
   "source": [
    "omnibusTest(\"Ransum\")"
   ]
  },
  {
   "cell_type": "markdown",
   "metadata": {},
   "source": [
    "**Penjelasan:** Nilai cenderung *negative skewness*. Nilai kurtosis cenderung negatif akibat kurva yang terlihat cukup lebar. Kolom Ransum **tidak** berdistribusi normal."
   ]
  },
  {
   "cell_type": "markdown",
   "metadata": {},
   "source": [
    "#### Kelas"
   ]
  },
  {
   "cell_type": "code",
   "execution_count": 51,
   "metadata": {},
   "outputs": [
    {
     "data": {
      "text/plain": [
       "<matplotlib.axes._subplots.AxesSubplot at 0x24696455630>"
      ]
     },
     "execution_count": 51,
     "metadata": {},
     "output_type": "execute_result"
    },
    {
     "data": {
      "image/png": "[encoded data removed]",
      "text/plain": [
       "<Figure size 432x288 with 1 Axes>"
      ]
     },
     "metadata": {
      "needs_background": "light"
     },
     "output_type": "display_data"
    }
   ],
   "source": [
    "sns.distplot(data[\"Kelas\"])"
   ]
  },
  {
   "cell_type": "code",
   "execution_count": 52,
   "metadata": {},
   "outputs": [
    {
     "name": "stdout",
     "output_type": "stream",
     "text": [
      "Nilai s : 0.00549\n",
      "Nilai p : 0.99726\n",
      "Karena p > 0.05, maka kolom Kelas terdistribusi normal.\n"
     ]
    }
   ],
   "source": [
    "omnibusTest(\"Kelas\")"
   ]
  },
  {
   "cell_type": "markdown",
   "metadata": {},
   "source": [
    "**Penjelasan:** Terdapat dua puncak dengan tinggi yang sama. Tidak ada kecenderungan *skewness*. Namun, bentuk kurva tidak menyerupai bentul bel, sehingga kolom Kelas **tidak** berdistribusi normal."
   ]
  },
  {
   "cell_type": "markdown",
   "metadata": {},
   "source": [
    "### Kesimpulan"
   ]
  },
  {
   "cell_type": "markdown",
   "metadata": {},
   "source": [
    "Berdasarkan nilai $p$ yang dibandingkan dengan $\\alpha$, teridentifikasi bahwa ada 2 kolom yang memenuhi normality test, yaitu kolom Sumbu Kecil dan Kelas. Namun, apabila ditinjau dari visualisasi plot distribusi, hanya kolom Sumbu Kecil yang membentuk atau menyerupai bel.\n",
    "\n",
    "**Maka, hanya kolom Sumbu Kecil yang berdistribusi normal.**"
   ]
  },
  {
   "cell_type": "markdown",
   "metadata": {},
   "source": [
    "***"
   ]
  },
  {
   "cell_type": "markdown",
   "metadata": {},
   "source": [
    "## Soal No. 4"
   ]
  },
  {
   "cell_type": "markdown",
   "metadata": {},
   "source": [
    "Melakukan test hipotesis 1 sampel, dengan menuliskan 6 langkah testing dan menampilkan juga boxplotnya untuk kolom/bagian yang bersesuaian.\n",
    "1. Nilai rata-rata Daerah di atas 4700?\n",
    "2. Nilai rata-rata Sumbu Utama tidak sama dengan 116?\n",
    "3. Nilai rata-rata 20 baris pertama kolom Sumbu Kecil bukan 50?\n",
    "4. Proporsi nilai Diameter yang lebih dari 85, adalah tidak sama dengan 15% ?\n",
    "5. Proporsi nilai Keliling yang kurang dari 100, adalah kurang dari 5% ?"
   ]
  },
  {
   "cell_type": "code",
   "execution_count": 53,
   "metadata": {},
   "outputs": [],
   "source": [
    "## Slovinsform adalah sebuah formula yang digunakan untuk mencari nilai yang tepat untuk sebuah sample dari suatu populasi\n",
    "## berdasarkan margin of error yang diberikan\n",
    "## pada kasus ini, margin of error yang kami berikan adalah = 0.05 = 0.05%\n",
    "def slovinsForm(population, error):\n",
    "    sample = population/ (1+population*(error*error))\n",
    "    return round(sample)\n",
    "'''\n",
    "def getSample(array, mod, nsample):\n",
    "    newArr = []\n",
    "    count = 0\n",
    "    i = 0\n",
    "    while (i <len(array) and count < nsample):\n",
    "        if(i%mod == 0):\n",
    "            newArr.append(array[i])\n",
    "            count += 1\n",
    "        i+=1\n",
    "    return newArr\n",
    "'''\n",
    "\n",
    "\n",
    "def xbar(array):\n",
    "    sum = 0\n",
    "    for i in range(len(array)):\n",
    "        sum+=array[i]\n",
    "    avg = sum/len(array)\n",
    "    return avg"
   ]
  },
  {
   "cell_type": "markdown",
   "metadata": {},
   "source": [
    "### a. Nilai rata-rata Daerah di atas 4700? \n",
    "\n",
    "$ H_0 : \\mu = 4700 $\n",
    "\n",
    "$ H_1 : \\mu > 4700$\n",
    "\n",
    "$\\alpha = 0.05$\n",
    "\n",
    "digunakan tes hipotesis 1 arah\n",
    "\n",
    "Daerah kritis : $ Z > Z_{\\alpha} = Z > Z_{0.05} $"
   ]
  },
  {
   "cell_type": "code",
   "execution_count": 54,
   "metadata": {},
   "outputs": [
    {
     "name": "stdout",
     "output_type": "stream",
     "text": [
      "nilai dari Z alpha adalah  1.6448536269514722\n",
      "sehingga daerah keritisnya adalah Z >  1.6448536269514722\n"
     ]
    }
   ],
   "source": [
    "alpha = 0.05\n",
    "Z_alpha = st.norm.ppf(1 - alpha)\n",
    "print(\"nilai dari Z alpha adalah \", Z_alpha)\n",
    "print(\"sehingga daerah keritisnya adalah Z > \", Z_alpha)\n"
   ]
  },
  {
   "cell_type": "code",
   "execution_count": 55,
   "metadata": {},
   "outputs": [
    {
     "name": "stdout",
     "output_type": "stream",
     "text": [
      "Sampel yang diambil adalah  222\n",
      "rata rata sample 4852.261261261261\n",
      "nilai Z dari uji statistik daerah adalah  2.299931130490936\n"
     ]
    }
   ],
   "source": [
    "m = 4700\n",
    "std_daerah = data['Daerah'].std()\n",
    "nsample = slovinsForm(baris,0.05)\n",
    "print(\"Sampel yang diambil adalah \", nsample)\n",
    "daerahSample = data['Daerah'].head(nsample//2)\n",
    "daerahSample = daerahSample.append(data['Daerah'].tail(nsample//2))\n",
    "xbar_daerah = daerahSample.mean()\n",
    "print(\"rata rata sample\", xbar_daerah)\n",
    "Z_daerah = (xbar_daerah-m)/(std_daerah/(sqrt(nsample)))\n",
    "print(\"nilai Z dari uji statistik daerah adalah \",Z_daerah)"
   ]
  },
  {
   "cell_type": "markdown",
   "metadata": {},
   "source": [
    "Maka, Tolak  $ H_0 $ karena Z dari uji statistik daerah lebih besar dari $Z_{0.05}$ , yaitu 2.300 > 1.645, sehingga terletak pada daerah kritis. Jadi daerah rata rata diatas 4700\n",
    "\n",
    "Selanjutnya, dilakukan tes signifikansi dengan p-value\n",
    "\n",
    "p_value = P(Z>2.299931130490936) = 1 - P(Z<2.299931130490936)"
   ]
  },
  {
   "cell_type": "code",
   "execution_count": 56,
   "metadata": {},
   "outputs": [
    {
     "name": "stdout",
     "output_type": "stream",
     "text": [
      "P-value adalah 0.010726061045373658\n"
     ]
    }
   ],
   "source": [
    "p_value = 1-st.norm.cdf(Z_daerah)\n",
    "print(\"P-value adalah\", p_value)"
   ]
  },
  {
   "cell_type": "markdown",
   "metadata": {},
   "source": [
    "Karena P-value < alpha, yaitu 0.0107 < 0.05, maka benar tes ini menolak $ H_0 $"
   ]
  },
  {
   "cell_type": "markdown",
   "metadata": {},
   "source": [
    "#### Boxplot dari sampel daerah yang diambil"
   ]
  },
  {
   "cell_type": "code",
   "execution_count": 57,
   "metadata": {},
   "outputs": [
    {
     "data": {
      "text/plain": [
       "<matplotlib.axes._subplots.AxesSubplot at 0x246964a4358>"
      ]
     },
     "execution_count": 57,
     "metadata": {},
     "output_type": "execute_result"
    },
    {
     "data": {
      "image/png": "[encoded data removed]",
      "text/plain": [
       "<Figure size 432x288 with 1 Axes>"
      ]
     },
     "metadata": {
      "needs_background": "light"
     },
     "output_type": "display_data"
    }
   ],
   "source": [
    "newDaerah = data.head(nsample//2)\n",
    "newDaerah = newDaerah.append(data.tail(nsample//2))\n",
    "newDaerah.boxplot([\"Daerah\"])"
   ]
  },
  {
   "cell_type": "markdown",
   "metadata": {},
   "source": [
    "### b. Nilai Rata-rata Sumbu Utama tidak sama dengan 116?\n",
    "\n",
    "$ H_0 : \\mu = 116 $\n",
    "\n",
    "$ H_1 : \\mu \\neq 116$\n",
    "\n",
    "$\\alpha = 0.05$\n",
    "\n",
    "digunakan tes hipotesis 2 arah\n",
    "\n",
    "Daerah kritis : $ Z < -Z_{\\alpha/2} $ atau $Z > Z_{\\alpha/2}$ = $Z < -Z_{0.025}$ atau $ Z > Z_{0.025} $"
   ]
  },
  {
   "cell_type": "code",
   "execution_count": 58,
   "metadata": {},
   "outputs": [
    {
     "name": "stdout",
     "output_type": "stream",
     "text": [
      "nilai dari Z(alpha/2) adalah  1.959963984540054\n",
      "sehingga daerah kritisnya adalah  Z <  -1.959963984540054 atau Z >  1.959963984540054\n"
     ]
    }
   ],
   "source": [
    "alpha = 0.05\n",
    "Z_alpha = st.norm.ppf(1 - (alpha/2))\n",
    "print(\"nilai dari Z(alpha/2) adalah \", Z_alpha)\n",
    "print(\"sehingga daerah kritisnya adalah  Z < \", (-1*Z_alpha), \"atau Z > \", Z_alpha)"
   ]
  },
  {
   "cell_type": "code",
   "execution_count": 59,
   "metadata": {},
   "outputs": [
    {
     "name": "stdout",
     "output_type": "stream",
     "text": [
      "Sampel yang diambil adalah  222\n",
      "nilai Z dari uji statistik sumbu utama adalah  1.8612576272635428\n"
     ]
    }
   ],
   "source": [
    "m = 116\n",
    "std_sumbuUtama = data['SumbuUtama'].std()\n",
    "nsample = slovinsForm(baris,0.05)\n",
    "print(\"Sampel yang diambil adalah \", nsample)\n",
    "sumbuUtamaSample = data['SumbuUtama'].head(nsample//2)\n",
    "sumbuUtamaSample = sumbuUtamaSample.append(data['SumbuUtama'].tail(nsample//2))\n",
    "xbar_sumbuUtama = sumbuUtamaSample.mean()\n",
    "Z_sumbuUtama = (xbar_sumbuUtama-m)/(std_sumbuUtama/(sqrt(nsample)))\n",
    "print(\"nilai Z dari uji statistik sumbu utama adalah \",Z_sumbuUtama)"
   ]
  },
  {
   "cell_type": "markdown",
   "metadata": {},
   "source": [
    "Terima $ H_0 $, karena Z dari uji statistik sumbu utama terletak diluar daerah kritis. Jadi rata rata sumbu utama sama dengan 116.\n",
    "\n",
    "Selanjutnya, dilakukan tes signifikansi dengan p-value.\n",
    "\n",
    "p_value = 2 P(Z > 1.8612576272635428) = 2(1 - P(Z < 1.8612576272635428))"
   ]
  },
  {
   "cell_type": "code",
   "execution_count": 60,
   "metadata": {},
   "outputs": [
    {
     "name": "stdout",
     "output_type": "stream",
     "text": [
      "P-value adalah 0.06270780385712116\n"
     ]
    }
   ],
   "source": [
    "p_value = 2*(1-st.norm.cdf(Z_sumbuUtama))\n",
    "print(\"P-value adalah\", p_value)"
   ]
  },
  {
   "cell_type": "markdown",
   "metadata": {},
   "source": [
    "Karena $ P-value > {\\alpha} $, yaitu 0.063 > 0.05, maka benar tes ini menerima $ H_0 $."
   ]
  },
  {
   "cell_type": "markdown",
   "metadata": {},
   "source": [
    "#### Boxplot dari sampel sumbu utama yang diambil"
   ]
  },
  {
   "cell_type": "code",
   "execution_count": 61,
   "metadata": {},
   "outputs": [
    {
     "data": {
      "text/plain": [
       "<matplotlib.axes._subplots.AxesSubplot at 0x246965249b0>"
      ]
     },
     "execution_count": 61,
     "metadata": {},
     "output_type": "execute_result"
    },
    {
     "data": {
      "image/png": "[encoded data removed]",
      "text/plain": [
       "<Figure size 432x288 with 1 Axes>"
      ]
     },
     "metadata": {
      "needs_background": "light"
     },
     "output_type": "display_data"
    }
   ],
   "source": [
    "newSumbuUtama = data.head(nsample//2)\n",
    "newSumbuUtama = newSumbuUtama.append(data.tail(nsample//2))\n",
    "newSumbuUtama.boxplot([\"SumbuUtama\"])"
   ]
  },
  {
   "cell_type": "markdown",
   "metadata": {},
   "source": [
    "### c. Nilai Rata-rata 20 baris pertama kolom Sumbu Kecil bukan 50?\n",
    "\n",
    "$ H_0 : \\mu = 50 $\n",
    "\n",
    "$ H_1 : \\mu \\neq 50$\n",
    "\n",
    "$\\alpha = 0.05$\n",
    "\n",
    "digunakan tes hipotesis 2 arah\n",
    "\n",
    "Daerah kritis : $ Z < -Z_{\\alpha/2} $ atau $Z > Z_{\\alpha/2}$ = $Z < -Z_{0.025}$ atau $ Z > Z_{0.025} $"
   ]
  },
  {
   "cell_type": "code",
   "execution_count": 62,
   "metadata": {},
   "outputs": [
    {
     "name": "stdout",
     "output_type": "stream",
     "text": [
      "nilai dari Z(alpha/2) adalah  1.959963984540054\n",
      "sehingga daerah kritisnya adalah  Z <  -1.959963984540054 atau Z >  1.959963984540054\n"
     ]
    }
   ],
   "source": [
    "twenty = data['SumbuKecil'].head(20)\n",
    "alpha = 0.05\n",
    "Z_alpha = st.norm.ppf(1 - (alpha/2))\n",
    "print(\"nilai dari Z(alpha/2) adalah \", Z_alpha)\n",
    "print(\"sehingga daerah kritisnya adalah  Z < \", (-1*Z_alpha), \"atau Z > \", Z_alpha)"
   ]
  },
  {
   "cell_type": "code",
   "execution_count": 63,
   "metadata": {},
   "outputs": [
    {
     "name": "stdout",
     "output_type": "stream",
     "text": [
      "nilai Z dari uji statistik 20 sampel sumbu kecil adalah  5.368745408889898\n"
     ]
    }
   ],
   "source": [
    "m = 50\n",
    "std_sumbuKecil = data['SumbuKecil'].std()\n",
    "xbar_sumbuKecil = twenty.mean()\n",
    "Z_sumbuKecil = (xbar_sumbuKecil-m)/(std_sumbuKecil/(sqrt(20)))\n",
    "print(\"nilai Z dari uji statistik 20 sampel sumbu kecil adalah \",Z_sumbuKecil)"
   ]
  },
  {
   "cell_type": "markdown",
   "metadata": {},
   "source": [
    "Tolak $ H_0 $, Karena z hasil uji statistik dari 20 sampel yang diambil terdapat pada daerah kritis. Maka rata rata baris kolom sumbu kecil bukan 50.\n",
    "\n",
    "Selanjutnya, dilakukan tes signifikansi dengan p-value.\n",
    "\n",
    "p_value = 2 P(Z > 5.368745408889898) = 2(1 - P(Z < 5.368745408889898))"
   ]
  },
  {
   "cell_type": "code",
   "execution_count": 64,
   "metadata": {},
   "outputs": [
    {
     "name": "stdout",
     "output_type": "stream",
     "text": [
      "P-value adalah 7.928624956576868e-08\n"
     ]
    }
   ],
   "source": [
    "p_value = 2* (1-st.norm.cdf(Z_sumbuKecil))\n",
    "print(\"P-value adalah\", p_value)"
   ]
  },
  {
   "cell_type": "markdown",
   "metadata": {},
   "source": [
    "Karena $ P-value < {\\alpha} $, maka benar tes ini menolak $ H_0 $."
   ]
  },
  {
   "cell_type": "markdown",
   "metadata": {},
   "source": [
    "#### Boxplot Sampel 20 data pertama sumbu kecil"
   ]
  },
  {
   "cell_type": "code",
   "execution_count": 65,
   "metadata": {},
   "outputs": [
    {
     "data": {
      "text/plain": [
       "<matplotlib.axes._subplots.AxesSubplot at 0x24696531a58>"
      ]
     },
     "execution_count": 65,
     "metadata": {},
     "output_type": "execute_result"
    },
    {
     "data": {
      "image/png": "[encoded data removed]",
      "text/plain": [
       "<Figure size 432x288 with 1 Axes>"
      ]
     },
     "metadata": {
      "needs_background": "light"
     },
     "output_type": "display_data"
    }
   ],
   "source": [
    "newdat = data.head(20)\n",
    "newdat.boxplot([\"SumbuKecil\"])"
   ]
  },
  {
   "cell_type": "markdown",
   "metadata": {},
   "source": [
    "### d. Proporsi nilai Diameter yang lebih dari 85, adalah tidak sama dengan 15% ?\n",
    "\n",
    "$ H_0 : p_{(X > 85)} = 0.15 % $\n",
    "\n",
    "$ H_1 :  p_{(X > 85)} \\neq 0.15 %$\n",
    "\n",
    "$\\alpha = 0.05$\n",
    "\n",
    "digunakan tes hipotesis 2 arah\n",
    "\n",
    "Daerah kritis : $ Z < -Z_{\\alpha/2} $ atau $Z > Z_{\\alpha/2}$ = $Z < -Z_{0.025}$ atau $ Z > Z_{0.025} $"
   ]
  },
  {
   "cell_type": "code",
   "execution_count": 66,
   "metadata": {},
   "outputs": [
    {
     "name": "stdout",
     "output_type": "stream",
     "text": [
      "nilai dari Z(alpha/2) adalah  1.959963984540054\n",
      "sehingga daerah kritisnya adalah  Z <  -1.959963984540054 atau Z >  1.959963984540054\n"
     ]
    }
   ],
   "source": [
    "alpha = 0.05\n",
    "Z_alpha = st.norm.ppf(1 - (alpha/2))\n",
    "print(\"nilai dari Z(alpha/2) adalah \", Z_alpha)\n",
    "print(\"sehingga daerah kritisnya adalah  Z < \", (-1*Z_alpha), \"atau Z > \", Z_alpha)"
   ]
  },
  {
   "cell_type": "code",
   "execution_count": 67,
   "metadata": {},
   "outputs": [
    {
     "name": "stdout",
     "output_type": "stream",
     "text": [
      "Sampel yang diambil adalah  222\n",
      "jumlah Diameter lebih besar dari 85 pada sample adalah 29\n"
     ]
    }
   ],
   "source": [
    "nsample = slovinsForm(baris,0.05)\n",
    "print(\"Sampel yang diambil adalah \", nsample)\n",
    "diameterSample = data.head(nsample//2)\n",
    "diameterSample = diameterSample.append(data.tail(nsample//2))\n",
    "sampleDiameter = diameterSample['Diameter'].loc[diameterSample['Diameter'] > 85 ]\n",
    "print(\"jumlah Diameter lebih besar dari 85 pada sample adalah\", len(sampleDiameter))"
   ]
  },
  {
   "cell_type": "code",
   "execution_count": 68,
   "metadata": {},
   "outputs": [
    {
     "name": "stdout",
     "output_type": "stream",
     "text": [
      "0.13063063063063063\n"
     ]
    }
   ],
   "source": [
    "pcap = len(sampleDiameter)/nsample\n",
    "print(pcap)"
   ]
  },
  {
   "cell_type": "markdown",
   "metadata": {},
   "source": [
    "dengan $\\hat{p} = \\frac{x}{n} $ , didapat $\\hat{p} = 0.13063063063063063 $"
   ]
  },
  {
   "cell_type": "code",
   "execution_count": 69,
   "metadata": {},
   "outputs": [
    {
     "name": "stdout",
     "output_type": "stream",
     "text": [
      "-0.8082335533562611\n"
     ]
    }
   ],
   "source": [
    "pnol = 0.15\n",
    "Z_diameter = (pcap-pnol)/(sqrt(pnol*(1-pnol)/nsample))\n",
    "print(Z_diameter)"
   ]
  },
  {
   "cell_type": "markdown",
   "metadata": {},
   "source": [
    "Terima $ H_0 $, Karena z hasil uji statistik dari sampel yang diambil terdapat diluar daerah kritis. Maka,  Proporsi nilai Diameter yang lebih dari 85, adalah tidak sama dengan 15%.\n",
    "\n",
    "Selanjutnya, dilakukan tes signifikansi dengan p-value.\n",
    "\n",
    "p_value = 2 P(Z > -0.8082335533562611) = 2(1 - P(Z < -0.8082335533562611))"
   ]
  },
  {
   "cell_type": "code",
   "execution_count": 70,
   "metadata": {},
   "outputs": [
    {
     "name": "stdout",
     "output_type": "stream",
     "text": [
      "P-value adalah 1.581043854475231\n"
     ]
    }
   ],
   "source": [
    "p_value = 2*(1-st.norm.cdf(Z_diameter))\n",
    "print(\"P-value adalah\", p_value)"
   ]
  },
  {
   "cell_type": "markdown",
   "metadata": {},
   "source": [
    "Karena $ P-value > {\\alpha} $, maka benar tes ini menerima $ H_0 $."
   ]
  },
  {
   "cell_type": "markdown",
   "metadata": {},
   "source": [
    "#### Boxplot dari sampel data diameter yang diambil"
   ]
  },
  {
   "cell_type": "code",
   "execution_count": 71,
   "metadata": {},
   "outputs": [
    {
     "data": {
      "text/plain": [
       "<matplotlib.axes._subplots.AxesSubplot at 0x246965ffcf8>"
      ]
     },
     "execution_count": 71,
     "metadata": {},
     "output_type": "execute_result"
    },
    {
     "data": {
      "image/png": "[encoded data removed]",
      "text/plain": [
       "<Figure size 432x288 with 1 Axes>"
      ]
     },
     "metadata": {
      "needs_background": "light"
     },
     "output_type": "display_data"
    }
   ],
   "source": [
    "newDiameter = data.head(nsample//2)\n",
    "newDiameter = newDiameter.append(data.tail(nsample//2))\n",
    "newDiameter.boxplot([\"Diameter\"])"
   ]
  },
  {
   "cell_type": "markdown",
   "metadata": {},
   "source": [
    "### e. Proporsi nilai Keliling yang kurang dari 100, adalah kurang dari 5% ?\n",
    "\n",
    "$ H_0 : p_{(X > 100)} = 0.05 % $\n",
    "\n",
    "$ H_1 :  p_{(X > 100)} < 0.05 %$\n",
    "\n",
    "$\\alpha = 0.05$\n",
    "\n",
    "digunakan tes hipotesis 1 arah\n",
    "\n",
    "Daerah kritis : $ Z < -Z_{\\alpha} = Z < -Z_{0.05} $"
   ]
  },
  {
   "cell_type": "code",
   "execution_count": 72,
   "metadata": {},
   "outputs": [
    {
     "name": "stdout",
     "output_type": "stream",
     "text": [
      "nilai dari Z alpha adalah  -1.6448536269514722\n",
      "sehingga daerah keritisnya adalah Z <  -1.6448536269514722\n"
     ]
    }
   ],
   "source": [
    "alpha = 0.05\n",
    "Z_alpha = st.norm.ppf(1 - alpha)\n",
    "print(\"nilai dari Z alpha adalah \", (-1*Z_alpha))\n",
    "print(\"sehingga daerah keritisnya adalah Z < \", (-1*Z_alpha))\n"
   ]
  },
  {
   "cell_type": "code",
   "execution_count": 73,
   "metadata": {},
   "outputs": [
    {
     "name": "stdout",
     "output_type": "stream",
     "text": [
      "Sampel yang diambil adalah  222\n",
      "jumlah keliling kurang dari 100 pada sample adalah 0\n"
     ]
    }
   ],
   "source": [
    "nsample = slovinsForm(baris,0.05)\n",
    "print(\"Sampel yang diambil adalah \", nsample)\n",
    "kelilingSample = data.head(nsample//2)\n",
    "kelilingSample = kelilingSample.append(data.tail(nsample//2))\n",
    "sampleKeliling = kelilingSample['Keliling'].loc[kelilingSample['Keliling'] < 100 ]\n",
    "print(\"jumlah keliling kurang dari 100 pada sample adalah\", len(sampleKeliling))"
   ]
  },
  {
   "cell_type": "code",
   "execution_count": 74,
   "metadata": {},
   "outputs": [
    {
     "name": "stdout",
     "output_type": "stream",
     "text": [
      "0.0\n"
     ]
    }
   ],
   "source": [
    "pcap = len(sampleKeliling)/nsample\n",
    "print(pcap)"
   ]
  },
  {
   "cell_type": "markdown",
   "metadata": {},
   "source": [
    "dengan $\\hat{p} = \\frac{x}{n} $ , didapat $\\hat{p} = 0.0 $"
   ]
  },
  {
   "cell_type": "code",
   "execution_count": 75,
   "metadata": {},
   "outputs": [
    {
     "name": "stdout",
     "output_type": "stream",
     "text": [
      "-3.418217448658846\n"
     ]
    }
   ],
   "source": [
    "pnol = 0.05\n",
    "Z_keliling = (pcap-pnol)/(sqrt(pnol*(1-pnol)/nsample))\n",
    "print(Z_keliling)"
   ]
  },
  {
   "cell_type": "markdown",
   "metadata": {},
   "source": [
    "Maka, Tolak $ H_0 $ karena Z dari uji statistik daerah lebih besar dari $Z_{0.05}$ , yaitu -3.418 < -1.645, sehingga terletak pada daerah kritis.\n",
    "\n",
    "Selanjutnya, dilakukan tes signifikansi dengan p-value\n",
    "p_value = P( Z < -3.418217448658846 )"
   ]
  },
  {
   "cell_type": "code",
   "execution_count": 76,
   "metadata": {},
   "outputs": [
    {
     "name": "stdout",
     "output_type": "stream",
     "text": [
      "P-value adalah 0.00031516363117592585\n"
     ]
    }
   ],
   "source": [
    "p_value = (st.norm.cdf(Z_keliling))\n",
    "print(\"P-value adalah\", p_value)"
   ]
  },
  {
   "cell_type": "markdown",
   "metadata": {},
   "source": [
    "Karena $ P-value < {\\alpha} $, maka benar tes ini menolak $ H_0 $."
   ]
  },
  {
   "cell_type": "markdown",
   "metadata": {},
   "source": [
    "#### Boxplot dari sampel data keliling yang diambil"
   ]
  },
  {
   "cell_type": "code",
   "execution_count": 77,
   "metadata": {},
   "outputs": [
    {
     "data": {
      "text/plain": [
       "<matplotlib.axes._subplots.AxesSubplot at 0x2469666c8d0>"
      ]
     },
     "execution_count": 77,
     "metadata": {},
     "output_type": "execute_result"
    },
    {
     "data": {
      "image/png": "[encoded data removed]",
      "text/plain": [
       "<Figure size 432x288 with 1 Axes>"
      ]
     },
     "metadata": {
      "needs_background": "light"
     },
     "output_type": "display_data"
    }
   ],
   "source": [
    "newKeliling = data.head(nsample//2)\n",
    "newKeliling = newKeliling.append(data.tail(nsample//2))\n",
    "newKeliling.boxplot([\"Keliling\"])"
   ]
  },
  {
   "cell_type": "markdown",
   "metadata": {},
   "source": [
    "## Soal No. 5"
   ]
  },
  {
   "cell_type": "markdown",
   "metadata": {},
   "source": [
    "Melakukan test hipotesis 2 sampel, dengan menuliskan 6 langkah testing dan menampilkan juga boxplotnya untuk kolom/bagian yang bersesuaian.\n",
    "1. Data kolom AreaBulatan dibagi 2 sama rata: bagian awal dan bagian akhir kolom. Benarkah rata-rata kedua bagian tersebut sama?\n",
    "2. Data kolom Kadar Air dibagi 2 sama rata: bagian awal dan bagian akhir kolom. Benarkah rata-rata bagian awal lebih besar dari pada bagian akhir sebesar 0.2?\n",
    "3. Rata-rata 20 baris pertama kolom Bulatan sama dengan 20 baris terakhirnya?\n",
    "4. Proporsi nilai bagian awal Ransum yang lebih dari 2, adalah lebih besar daripada, proporsi nilai yang sama di bagian akhir Ransum?\n",
    "5. Bagian awal kolom Diameter memiliki variansi yang sama dengan bagian akhirnya?"
   ]
  },
  {
   "cell_type": "code",
   "execution_count": 78,
   "metadata": {},
   "outputs": [],
   "source": [
    "# Fungsi perhitungan uji statistik\n",
    "def ujiStatistikT(X1, X2, d, s1, s2, n1, n2):\n",
    "    a = (X1 - X2) - d\n",
    "    b = sqrt(((s1**2) / n1) + ((s2**2) / n2))\n",
    "    return a/b"
   ]
  },
  {
   "cell_type": "markdown",
   "metadata": {},
   "source": [
    "### a. Data kolom AreaBulatan dibagi 2 sama rata: bagian awal dan bagian akhir kolom. Benarkah rata-rata kedua bagian tersebut sama?"
   ]
  },
  {
   "cell_type": "markdown",
   "metadata": {},
   "source": [
    "#### Data untuk 250 baris pertama"
   ]
  },
  {
   "cell_type": "code",
   "execution_count": 79,
   "metadata": {},
   "outputs": [
    {
     "data": {
      "text/plain": [
       "count     250.000000\n",
       "mean     5549.804000\n",
       "std       867.025436\n",
       "min      3270.000000\n",
       "25%      4961.250000\n",
       "50%      5551.000000\n",
       "75%      6093.750000\n",
       "max      7720.000000\n",
       "Name: AreaBulatan, dtype: float64"
      ]
     },
     "execution_count": 79,
     "metadata": {},
     "output_type": "execute_result"
    }
   ],
   "source": [
    "data[\"AreaBulatan\"].head(250).describe()"
   ]
  },
  {
   "cell_type": "markdown",
   "metadata": {},
   "source": [
    "#### Data untuk 250 baris terakhir"
   ]
  },
  {
   "cell_type": "code",
   "execution_count": 80,
   "metadata": {},
   "outputs": [
    {
     "data": {
      "text/plain": [
       "count     250.000000\n",
       "mean     4324.292000\n",
       "std       738.566466\n",
       "min      2579.000000\n",
       "25%      3827.250000\n",
       "50%      4283.000000\n",
       "75%      4759.750000\n",
       "max      7115.000000\n",
       "Name: AreaBulatan, dtype: float64"
      ]
     },
     "execution_count": 80,
     "metadata": {},
     "output_type": "execute_result"
    }
   ],
   "source": [
    "data[\"AreaBulatan\"].tail(250).describe()"
   ]
  },
  {
   "cell_type": "markdown",
   "metadata": {},
   "source": [
    "$\\mu_{1}$ adalah rataan bagian awal kolom AreaBulatan.\n",
    "\n",
    "$\\mu_{2}$ adalah rataan bagian akhir kolom AreaBulatan.\n",
    "\n",
    "##### 1. Hipotesis nol\n",
    "\n",
    "$H_0 : \\mu_{1} = \\mu_{2}$\n",
    "\n",
    "$H_0 : \\mu_{1} - \\mu_{2} = 0$\n",
    "\n",
    "##### 2. Hipotesis alternatif\n",
    "\n",
    "$H_1 : \\mu_{1} \\neq \\mu_{2}$\n",
    "\n",
    "$H_1 : \\mu_{1} - \\mu_{2} \\neq 0$\n",
    "\n",
    "##### 3. Tingkat signifikan\n",
    "\n",
    "$\\alpha = 0.05$\n",
    "\n",
    "##### 4. Uji statistik dan daerah kritis\n",
    "\n",
    "Derajat kebebasan digunakan untuk menghitung *Student's t Critical Value*. Derajat kebebasan $v = n_1 + n_2 - 2$ di mana $n_1$ dan $n_2$ bernilai 250, sehingga derajat kebebasan $v = 498$\n",
    "\n",
    "nilai $Z_{\\alpha/2}$ dihitung menggunakan library `scipy` yang menggunakan method `.t.ppf(p, df)` di mana p adalah probabilitas dari tingkat signifikan dan df adalah derajat kebebasan. "
   ]
  },
  {
   "cell_type": "code",
   "execution_count": 81,
   "metadata": {},
   "outputs": [
    {
     "name": "stdout",
     "output_type": "stream",
     "text": [
      "1.965\n"
     ]
    }
   ],
   "source": [
    "zalph = st.t.ppf(1-0.025, 498)\n",
    "print(\"{:.3f}\".format(zalph))"
   ]
  },
  {
   "cell_type": "markdown",
   "metadata": {},
   "source": [
    "Didapatkan nilai $Z_{\\alpha/2}$ adalah 1.965, sehingga daerah kritisnya adalah $t < -1.965$ dan $t > 1.965$\n",
    "\n",
    "Uji statistik dilakukan dengan rumus\n",
    "\n",
    "$$t = \\Large\\frac{(\\bar{X_1} - \\bar{X_2})-(d_0)}{\\sqrt{\\Large\\frac{\\sigma_1^2}{\\Large n_{\\ 1}} + \\Large\\frac{\\sigma_2^2}{\\Large n_{\\large 2}}}}$$\n",
    "\n",
    "dengan $d_0 = \\mu_1 - \\mu_2$\n",
    "\n",
    "##### 5. Hitung uji statistik dan p-value"
   ]
  },
  {
   "cell_type": "code",
   "execution_count": 82,
   "metadata": {},
   "outputs": [
    {
     "name": "stdout",
     "output_type": "stream",
     "text": [
      "17.01304\n"
     ]
    }
   ],
   "source": [
    "x1_bar = 5549.804000\n",
    "x2_bar = 4324.292000\n",
    "d0 = 0\n",
    "s1 = 867.025436\n",
    "s2 = 738.566466\n",
    "n1 = 250\n",
    "n2 = 250\n",
    "t = ujiStatistikT(x1_bar, x2_bar, d0, s1, s2, n1, n2)\n",
    "print(\"{:.5f}\".format(t))"
   ]
  },
  {
   "cell_type": "code",
   "execution_count": 83,
   "metadata": {},
   "outputs": [
    {
     "name": "stdout",
     "output_type": "stream",
     "text": [
      "0.000\n"
     ]
    }
   ],
   "source": [
    "# Menghitung p-value\n",
    "pval1 = 1 - st.t.cdf(t, 498)\n",
    "print(\"{:.3f}\".format(pval1))"
   ]
  },
  {
   "cell_type": "markdown",
   "metadata": {},
   "source": [
    "##### 6. Keputusan\n",
    "Nilai $t = 17.01304$ memenuhi $t > 1.965$ dan $p_{value} = 0.0 < 0.05$, sehingga $H_0$ dapat **ditolak**."
   ]
  },
  {
   "cell_type": "markdown",
   "metadata": {},
   "source": [
    "### b. Data kolom Kadar Air dibagi 2 sama rata: bagian awal dan bagian akhir kolom. Benarkah rata-rata bagian awal lebih besar dari pada bagian akhir sebesar 0.2?"
   ]
  },
  {
   "cell_type": "markdown",
   "metadata": {},
   "source": [
    "#### Data untuk 250 baris pertama"
   ]
  },
  {
   "cell_type": "code",
   "execution_count": 84,
   "metadata": {},
   "outputs": [
    {
     "data": {
      "text/plain": [
       "count    250.000000\n",
       "mean       0.635743\n",
       "std        0.095096\n",
       "min        0.418947\n",
       "25%        0.553903\n",
       "50%        0.611873\n",
       "75%        0.712129\n",
       "max        0.878899\n",
       "Name: KadarAir, dtype: float64"
      ]
     },
     "execution_count": 84,
     "metadata": {},
     "output_type": "execute_result"
    }
   ],
   "source": [
    "data[\"KadarAir\"].head(250).describe()"
   ]
  },
  {
   "cell_type": "markdown",
   "metadata": {},
   "source": [
    "#### Data untuk 250 baris terakhir"
   ]
  },
  {
   "cell_type": "code",
   "execution_count": 85,
   "metadata": {},
   "outputs": [
    {
     "data": {
      "text/plain": [
       "count    250.000000\n",
       "mean       0.661000\n",
       "std        0.092101\n",
       "min        0.409927\n",
       "25%        0.590431\n",
       "50%        0.634284\n",
       "75%        0.737766\n",
       "max        0.877897\n",
       "Name: KadarAir, dtype: float64"
      ]
     },
     "execution_count": 85,
     "metadata": {},
     "output_type": "execute_result"
    }
   ],
   "source": [
    "data[\"KadarAir\"].tail(250).describe()"
   ]
  },
  {
   "cell_type": "markdown",
   "metadata": {},
   "source": [
    "##### 1. Hipotesis nol\n",
    "\n",
    "$H_0 : \\mu_{1} - \\mu_{2} = 0.2$\n",
    "\n",
    "##### 2. Hipotesis alternatif\n",
    "\n",
    "$H_1 : \\mu_{1} - \\mu_{2} \\neq 2$\n",
    "\n",
    "##### 3. Tingkat signifikan\n",
    "\n",
    "$\\alpha = 0.05$\n",
    "\n",
    "##### 4. Uji statistik dan daerah kritis\n",
    "Derajat kebebasan $v = n_1 + n_2 - 2$ di mana $n_1$ dan $n_2$ bernilai 250, sehingga derajat kebebasan $v = 498$"
   ]
  },
  {
   "cell_type": "code",
   "execution_count": 126,
   "metadata": {},
   "outputs": [
    {
     "name": "stdout",
     "output_type": "stream",
     "text": [
      "1.965\n"
     ]
    }
   ],
   "source": [
    "zalph = st.t.ppf(1-0.025, 498)\n",
    "print(\"{:.3f}\".format(zalph))"
   ]
  },
  {
   "cell_type": "markdown",
   "metadata": {},
   "source": [
    "Didapatkan nilai $Z_{\\alpha/2}$ adalah 1.965, sehingga daerah kritisnya adalah $t < -1.965$ dan $t > 1.965$\n",
    "\n",
    "Uji statistik dilakukan dengan rumus\n",
    "\n",
    "$$t = \\Large\\frac{(\\bar{X_1} - \\bar{X_2})-(d_0)}{\\sqrt{\\Large\\frac{\\sigma_1^2}{\\Large n_{\\ 1}} + \\Large\\frac{\\sigma_2^2}{\\Large n_{\\large 2}}}}$$\n",
    "\n",
    "dengan $d_0 = \\mu_1 - \\mu_2$\n",
    "\n",
    "##### 5. Hitung uji statistik dan p-value"
   ]
  },
  {
   "cell_type": "code",
   "execution_count": 127,
   "metadata": {},
   "outputs": [
    {
     "name": "stdout",
     "output_type": "stream",
     "text": [
      "-26.90350\n"
     ]
    }
   ],
   "source": [
    "x1_bar = 0.635743\n",
    "x2_bar = 0.661000\n",
    "d0 = 0.2\n",
    "s1 = 0.095096\n",
    "s2 = 0.092101\n",
    "n1 = 250\n",
    "n2 = 250\n",
    "t = ujiStatistikT(x1_bar, x2_bar, d0, s1, s2, n1, n2)\n",
    "print(\"{:.5f}\".format(t))"
   ]
  },
  {
   "cell_type": "code",
   "execution_count": 130,
   "metadata": {},
   "outputs": [
    {
     "name": "stdout",
     "output_type": "stream",
     "text": [
      "1.0\n"
     ]
    }
   ],
   "source": [
    "# Menghitung p-value\n",
    "pval2 = 1 - st.t.cdf(-26.90350, 498)\n",
    "print(pval2)"
   ]
  },
  {
   "cell_type": "markdown",
   "metadata": {},
   "source": [
    "##### 6. Keputusan\n",
    "Nilai $t = -26.90350$ memenuhi $t < -1.965$, sehingga $H_0$ dapat **ditolak**."
   ]
  },
  {
   "cell_type": "markdown",
   "metadata": {},
   "source": [
    "### c. Rata-rata 20 baris pertama kolom Bulatan sama dengan 20 baris terakhirnya?"
   ]
  },
  {
   "cell_type": "markdown",
   "metadata": {},
   "source": [
    "#### Statistik data 20 baris pertama kolom Bulatan"
   ]
  },
  {
   "cell_type": "code",
   "execution_count": 89,
   "metadata": {},
   "outputs": [
    {
     "data": {
      "text/plain": [
       "count    20.000000\n",
       "mean      0.737535\n",
       "std       0.030385\n",
       "min       0.661849\n",
       "25%       0.722509\n",
       "50%       0.738314\n",
       "75%       0.764427\n",
       "max       0.780418\n",
       "Name: Bulatan, dtype: float64"
      ]
     },
     "execution_count": 89,
     "metadata": {},
     "output_type": "execute_result"
    }
   ],
   "source": [
    "data[\"Bulatan\"].head(20).describe()"
   ]
  },
  {
   "cell_type": "markdown",
   "metadata": {},
   "source": [
    "#### Statistik data 20 baris terakhir kolom Bulatan"
   ]
  },
  {
   "cell_type": "code",
   "execution_count": 90,
   "metadata": {},
   "outputs": [
    {
     "data": {
      "text/plain": [
       "count    20.000000\n",
       "mean      0.767322\n",
       "std       0.025115\n",
       "min       0.711677\n",
       "25%       0.753426\n",
       "50%       0.773010\n",
       "75%       0.780859\n",
       "max       0.804733\n",
       "Name: Bulatan, dtype: float64"
      ]
     },
     "execution_count": 90,
     "metadata": {},
     "output_type": "execute_result"
    }
   ],
   "source": [
    "data[\"Bulatan\"].tail(20).describe()"
   ]
  },
  {
   "cell_type": "markdown",
   "metadata": {},
   "source": [
    "$\\mu_{1}$ adalah rataan 20 baris pertama kolom Bulatan.\n",
    "\n",
    "$\\mu_{2}$ adalah rataan 20 baris terakhir kolom Bulatan.\n",
    "\n",
    "##### 1. Hipotesis nol\n",
    "\n",
    "$H_0 : \\mu_{1} = \\mu_{2}$\n",
    "\n",
    "$H_0 : \\mu_{1} - \\mu_{2} = 0$\n",
    "\n",
    "##### 2. Hipotesis alternatif\n",
    "\n",
    "$H_1 : \\mu_{1} \\neq \\mu_{2}$\n",
    "\n",
    "$H_1 : \\mu_{1} - \\mu_{2} \\neq 0$\n",
    "\n",
    "##### 3. Tingkat signifikan\n",
    "\n",
    "$\\alpha = 0.05$\n",
    "\n",
    "##### 4. Uji statistik dan daerah kritis\n",
    "\n",
    "Derajat kebebasan $v = n_1 + n_2 - 2$ di mana $n_1$ dan $n_2$ bernilai 20, sehingga derajat kebebasan $v = 38$"
   ]
  },
  {
   "cell_type": "code",
   "execution_count": 91,
   "metadata": {},
   "outputs": [
    {
     "name": "stdout",
     "output_type": "stream",
     "text": [
      "2.024\n"
     ]
    }
   ],
   "source": [
    "zalph = st.t.ppf(1-0.025, 38)\n",
    "print(\"{:.3f}\".format(zalph))"
   ]
  },
  {
   "cell_type": "markdown",
   "metadata": {},
   "source": [
    "Didapatkan nilai $Z_{\\alpha/2}$ adalah 2.024, sehingga daerah kritisnya adalah $t < -2.024$ dan $t > 2.024$\n",
    "\n",
    "Uji statistik dilakukan dengan rumus\n",
    "\n",
    "$$t = \\Large\\frac{(\\bar{X_1} - \\bar{X_2})-(d_0)}{\\sqrt{\\Large\\frac{\\sigma_1^2}{\\Large n_{\\ 1}} + \\Large\\frac{\\sigma_2^2}{\\Large n_{\\large 2}}}}$$\n",
    "\n",
    "dengan $d_0 = \\mu_1 - \\mu_2$\n",
    "\n",
    "##### 5. Hitung uji statistik dan p-value"
   ]
  },
  {
   "cell_type": "code",
   "execution_count": 92,
   "metadata": {},
   "outputs": [
    {
     "name": "stdout",
     "output_type": "stream",
     "text": [
      "-3.37921\n"
     ]
    }
   ],
   "source": [
    "x1_bar = 0.737535\n",
    "x2_bar = 0.767322\n",
    "d0 = 0\n",
    "s1 = 0.030385\n",
    "s2 = 0.025115\n",
    "n1 = 20\n",
    "n2 = 20\n",
    "t = ujiStatistikT(x1_bar, x2_bar, d0, s1, s2, n1, n2)\n",
    "print(\"{:.5f}\".format(t))"
   ]
  },
  {
   "cell_type": "code",
   "execution_count": 93,
   "metadata": {},
   "outputs": [
    {
     "name": "stdout",
     "output_type": "stream",
     "text": [
      "1.000\n"
     ]
    }
   ],
   "source": [
    "# Menghitung p-value\n",
    "pval3 = 1 - st.t.cdf(t, 498)\n",
    "print(\"{:.3f}\".format(pval3))"
   ]
  },
  {
   "cell_type": "markdown",
   "metadata": {},
   "source": [
    "##### 6. Keputusan\n",
    "Nilai $t = -3.37921$ memenuhi $t < -2.024$, sehingga $H_0$ dapat **ditolak**."
   ]
  },
  {
   "cell_type": "markdown",
   "metadata": {},
   "source": [
    "### d. Proporsi nilai bagian awal Ransum yang lebih dari 2, adalah lebih besar daripada, proporsi nilai yang sama di bagian akhir Ransum?"
   ]
  },
  {
   "cell_type": "markdown",
   "metadata": {},
   "source": [
    "#### Menampilkan data Ransum bagian awal"
   ]
  },
  {
   "cell_type": "code",
   "execution_count": 94,
   "metadata": {},
   "outputs": [
    {
     "data": {
      "text/plain": [
       "0      2.194066\n",
       "1      2.194088\n",
       "2      2.194158\n",
       "3      2.197877\n",
       "4      2.201446\n",
       "5      2.204013\n",
       "6      2.205910\n",
       "7      2.206428\n",
       "8      2.207129\n",
       "9      2.208922\n",
       "10     2.209335\n",
       "11     2.209734\n",
       "12     2.212888\n",
       "13     2.213027\n",
       "14     2.219625\n",
       "15     2.220306\n",
       "16     2.221112\n",
       "17     2.221395\n",
       "18     2.222422\n",
       "19     2.224152\n",
       "20     2.226197\n",
       "21     2.226576\n",
       "22     2.236574\n",
       "23     2.239398\n",
       "24     2.239576\n",
       "25     2.251277\n",
       "26     2.252513\n",
       "27     2.256540\n",
       "28     2.257983\n",
       "29     2.260137\n",
       "         ...   \n",
       "220    2.445935\n",
       "221    2.447469\n",
       "222    2.449064\n",
       "223    2.449220\n",
       "224    2.449553\n",
       "225    2.449574\n",
       "226    2.450156\n",
       "227    2.450370\n",
       "228    2.451453\n",
       "229    2.451816\n",
       "230    2.452717\n",
       "231    2.453278\n",
       "232    2.453301\n",
       "233    2.453769\n",
       "234    2.454228\n",
       "235    2.455384\n",
       "236    2.456609\n",
       "237    2.457340\n",
       "238    2.457670\n",
       "239    2.458657\n",
       "240    2.459428\n",
       "241    2.460308\n",
       "242    2.460432\n",
       "243    2.460875\n",
       "244    2.461017\n",
       "245    2.461510\n",
       "246    2.463297\n",
       "247    2.463546\n",
       "248    2.464809\n",
       "249    1.440796\n",
       "Name: Ransum, Length: 250, dtype: float64"
      ]
     },
     "execution_count": 94,
     "metadata": {},
     "output_type": "execute_result"
    }
   ],
   "source": [
    "ransumDataAwal = data[\"Ransum\"].head(250)\n",
    "ransumDataAwal"
   ]
  },
  {
   "cell_type": "markdown",
   "metadata": {},
   "source": [
    "#### Menampilkan data Ransum bagian akhir"
   ]
  },
  {
   "cell_type": "code",
   "execution_count": 95,
   "metadata": {},
   "outputs": [
    {
     "data": {
      "text/plain": [
       "250    1.453137\n",
       "251    1.465950\n",
       "252    1.483456\n",
       "253    1.510000\n",
       "254    1.519342\n",
       "255    1.521727\n",
       "256    1.540487\n",
       "257    1.542058\n",
       "258    1.547183\n",
       "259    1.547536\n",
       "260    1.550094\n",
       "261    1.564653\n",
       "262    1.580190\n",
       "263    1.586608\n",
       "264    1.587462\n",
       "265    1.590134\n",
       "266    1.618982\n",
       "267    1.653079\n",
       "268    1.655433\n",
       "269    1.668113\n",
       "270    1.675639\n",
       "271    1.680039\n",
       "272    1.683374\n",
       "273    1.686592\n",
       "274    1.688196\n",
       "275    1.697251\n",
       "276    1.699226\n",
       "277    1.700644\n",
       "278    1.706977\n",
       "279    1.713914\n",
       "         ...   \n",
       "470    2.126628\n",
       "471    2.128537\n",
       "472    2.131496\n",
       "473    2.132348\n",
       "474    2.133620\n",
       "475    2.133648\n",
       "476    2.136814\n",
       "477    2.143552\n",
       "478    2.149283\n",
       "479    2.152572\n",
       "480    2.153467\n",
       "481    2.156809\n",
       "482    2.162217\n",
       "483    2.163122\n",
       "484    2.166889\n",
       "485    2.168974\n",
       "486    2.169265\n",
       "487    2.176712\n",
       "488    2.177475\n",
       "489    2.180490\n",
       "490    2.180739\n",
       "491    2.181716\n",
       "492    2.182484\n",
       "493    2.185158\n",
       "494    2.189798\n",
       "495    2.190441\n",
       "496    2.190608\n",
       "497    2.190733\n",
       "498    2.193132\n",
       "499    2.218493\n",
       "Name: Ransum, Length: 250, dtype: float64"
      ]
     },
     "execution_count": 95,
     "metadata": {},
     "output_type": "execute_result"
    }
   ],
   "source": [
    "ransumDataAkhir = data[\"Ransum\"].tail(250)\n",
    "ransumDataAkhir"
   ]
  },
  {
   "cell_type": "markdown",
   "metadata": {},
   "source": [
    "##### 1. Hipotesis nol\n",
    "\n",
    "$H_0 : P(X > 2) = P(Y > 2)$\n",
    "\n",
    "##### 2. Hipotesis alternatif\n",
    "\n",
    "$H_1 : P(X > 2) > P(Y > 2)$\n",
    "\n",
    "##### 3. Tingkat signifikan\n",
    "\n",
    "$\\alpha = 0.05$\n",
    "\n",
    "##### 4. Uji statistik dan daerah kritis\n",
    "\n",
    "Menghitung nilai $Z_{\\alpha}$"
   ]
  },
  {
   "cell_type": "code",
   "execution_count": 96,
   "metadata": {},
   "outputs": [
    {
     "name": "stdout",
     "output_type": "stream",
     "text": [
      "1.645\n"
     ]
    }
   ],
   "source": [
    "zalph = st.norm.ppf(1-0.05)\n",
    "print(\"{:.3f}\".format(zalph))"
   ]
  },
  {
   "cell_type": "markdown",
   "metadata": {},
   "source": [
    "Maka daerah kritisnya adalah $z > 1.645$\n",
    "\n",
    "Uji statistik dengan rumus\n",
    "\n",
    "$$\\Large z = \\frac{(\\hat{p}_1 - \\hat{p}_2)}{\\sqrt{\\hat{p}\\hat{q}(\\frac{1}{n_1} + \\frac{1}{n_2})}}$$\n",
    "\n",
    "$$\\hat{p} = \\Large\\frac{x_1 + x_1}{n_1 + n_2}$$\n",
    "\n",
    "di mana $\\hat{p}_1$ adalah Proporsi kolom Ransum bagian awal dan $\\hat{p}_2$ adalah Proporsi kolom Ransum bagian akhir, dan\n",
    "\n",
    "$\\hat{q} = 1 - \\hat{p}$"
   ]
  },
  {
   "cell_type": "markdown",
   "metadata": {},
   "source": [
    "##### 5. Hitung uji statistik dan p-value"
   ]
  },
  {
   "cell_type": "code",
   "execution_count": 97,
   "metadata": {},
   "outputs": [
    {
     "name": "stdout",
     "output_type": "stream",
     "text": [
      "Jumlah data yang lebih dari dua adalah 249 untuk bagian awal dan 116 untuk bagian akhir.\n"
     ]
    }
   ],
   "source": [
    "# Mendapatkan jumlah sampel bagian awal dan akhir yang lebih dari 2\n",
    "x1 = ransumDataAwal[ransumDataAwal > 2].count()\n",
    "x2 = ransumDataAkhir[ransumDataAkhir > 2].count()\n",
    "print(\"Jumlah data yang lebih dari dua adalah {} untuk bagian awal dan {} untuk bagian akhir.\".format(x1, x2))"
   ]
  },
  {
   "cell_type": "code",
   "execution_count": 98,
   "metadata": {},
   "outputs": [
    {
     "name": "stdout",
     "output_type": "stream",
     "text": [
      "p1 bernilai : 0.996\n",
      "p2 bernilai : 0.464\n",
      "p bernilai : 0.73\n"
     ]
    }
   ],
   "source": [
    "# Mendapatkan proporsi p1, p2, dan p\n",
    "n1 = 250\n",
    "n2 = 250\n",
    "p1 = x1/n1\n",
    "p2 = x2/n2\n",
    "p = (x1 + x2)/(n1 + n2)\n",
    "print(\"p1 bernilai : {}\".format(p1))\n",
    "print(\"p2 bernilai : {}\".format(p2))\n",
    "print(\"p bernilai : {}\".format(p))"
   ]
  },
  {
   "cell_type": "code",
   "execution_count": 99,
   "metadata": {},
   "outputs": [
    {
     "name": "stdout",
     "output_type": "stream",
     "text": [
      "z bernilai : 13.397486455610238\n"
     ]
    }
   ],
   "source": [
    "# Menghitung nilai z\n",
    "q = 1 - p\n",
    "a = (p1 - p2)\n",
    "b = sqrt(p * q * (1/n1 + 1/n2))\n",
    "z = a/b\n",
    "print(\"z bernilai : {}\".format(z))"
   ]
  },
  {
   "cell_type": "code",
   "execution_count": 100,
   "metadata": {},
   "outputs": [
    {
     "name": "stdout",
     "output_type": "stream",
     "text": [
      "0.000\n"
     ]
    }
   ],
   "source": [
    "# Menghitung p-value\n",
    "pval4 = 1 - st.norm.cdf(z)\n",
    "print(\"{:.3f}\".format(pval4))"
   ]
  },
  {
   "cell_type": "markdown",
   "metadata": {},
   "source": [
    "##### 6. Keputusan\n",
    "Nilai $z = 13.397486455610238$ memenuhi $z > 1.645$ dan $p_{value} = 0.0 < 0.05$, sehingga $H_0$ dapat **ditolak**."
   ]
  },
  {
   "cell_type": "markdown",
   "metadata": {},
   "source": [
    "### e. Bagian awal kolom Diameter memiliki variansi yang sama dengan bagian akhirnya?"
   ]
  },
  {
   "cell_type": "markdown",
   "metadata": {},
   "source": [
    "#### Data bagian awal kolom Diameter"
   ]
  },
  {
   "cell_type": "code",
   "execution_count": 101,
   "metadata": {},
   "outputs": [
    {
     "data": {
      "text/plain": [
       "count    250.000000\n",
       "mean      82.613746\n",
       "std        6.570311\n",
       "min       63.189233\n",
       "25%       78.314712\n",
       "50%       83.259548\n",
       "75%       86.965749\n",
       "max       97.413830\n",
       "Name: Diameter, dtype: float64"
      ]
     },
     "execution_count": 101,
     "metadata": {},
     "output_type": "execute_result"
    }
   ],
   "source": [
    "data[\"Diameter\"].head(250).describe()"
   ]
  },
  {
   "cell_type": "markdown",
   "metadata": {},
   "source": [
    "#### Data bagian akhir kolom Diameter"
   ]
  },
  {
   "cell_type": "code",
   "execution_count": 102,
   "metadata": {},
   "outputs": [
    {
     "data": {
      "text/plain": [
       "count    250.000000\n",
       "mean      72.928570\n",
       "std        6.310964\n",
       "min       56.666658\n",
       "25%       68.946644\n",
       "50%       72.878794\n",
       "75%       76.717337\n",
       "max       94.042128\n",
       "Name: Diameter, dtype: float64"
      ]
     },
     "execution_count": 102,
     "metadata": {},
     "output_type": "execute_result"
    }
   ],
   "source": [
    "data[\"Diameter\"].tail(250).describe()"
   ]
  },
  {
   "cell_type": "markdown",
   "metadata": {},
   "source": [
    "##### 1. Hipotesis nol\n",
    "\n",
    "$H_0 : s_1^2 = s_2^2$\n",
    "\n",
    "##### 2. Hipotesis alternatif\n",
    "\n",
    "$H_1 : s_1^2 \\neq s_2^2$\n",
    "\n",
    "##### 3. Tingkat signifikan\n",
    "\n",
    "$\\alpha = 0.05$\n",
    "\n",
    "##### 4. Uji statistik dan daerah kritis\n",
    "\n",
    "Derajat kebebasan digunakan untuk menghitung *F-Distribution*. Derajat kebebasan $v_1 = n_1 - 1$ dan $v_2 = n_2 - 1$.\n",
    "\n",
    "nilai $Z_{\\alpha/2}$ dihitung menggunakan library `scipy` yang menggunakan method `.f.ppf(p, v1, v2)` di mana p adalah probabilitas dari tingkat signifikan dan df adalah derajat kebebasan."
   ]
  },
  {
   "cell_type": "code",
   "execution_count": 103,
   "metadata": {},
   "outputs": [
    {
     "name": "stdout",
     "output_type": "stream",
     "text": [
      "1.232\n",
      "0.811\n"
     ]
    }
   ],
   "source": [
    "zalph1 = st.f.ppf(1-0.05, 249, 249)\n",
    "zalph2 = st.f.ppf(0.05, 249, 249)\n",
    "print(\"{:.3f}\".format(zalph1))\n",
    "print(\"{:.3f}\".format(zalph2))"
   ]
  },
  {
   "cell_type": "markdown",
   "metadata": {},
   "source": [
    "Didapatkan nilai daerah kritis adalah $f > 1.232$ atau $f < \\frac{1}{1.232} = 0.811$\n",
    "\n",
    "Uji statistik yang akan digunakan adalah *F-distribution* dengan rumus\n",
    "\n",
    "$$\\Large f = \\frac{s_1^2}{s_2^2}$$\n",
    "\n",
    "di mana $s_1^2$ adalah variansi untuk kolom Diameter bagian awal dan $s_2^2$ adalah variansi untuk kolom Diameter bagian akhir"
   ]
  },
  {
   "cell_type": "markdown",
   "metadata": {},
   "source": [
    "##### 5. Hitung uji statistik dan p-value"
   ]
  },
  {
   "cell_type": "code",
   "execution_count": 104,
   "metadata": {},
   "outputs": [
    {
     "name": "stdout",
     "output_type": "stream",
     "text": [
      "1.083878117523831\n"
     ]
    }
   ],
   "source": [
    "# Menghitung nilai f\n",
    "s1 = 6.570311\n",
    "s2 = 6.310964\n",
    "f = (s1**2)/(s2**2)\n",
    "print(f)"
   ]
  },
  {
   "cell_type": "code",
   "execution_count": 105,
   "metadata": {},
   "outputs": [
    {
     "name": "stdout",
     "output_type": "stream",
     "text": [
      "0.263\n"
     ]
    }
   ],
   "source": [
    "# Menghitung p-value\n",
    "pval5 = 1 - st.f.cdf(f, 249, 249)\n",
    "print(\"{:.3f}\".format(pval5))"
   ]
  },
  {
   "cell_type": "markdown",
   "metadata": {},
   "source": [
    "##### 6. Keputusan\n",
    "Nilai $f = 1.083878117523831$ tidak memenuhi $f > 1.232$ atau $f < \\frac{1}{1.232} = 0.811$ dan nilai $p_{value} = 0.2627893656526461 > 0.05$, sehingga $H_0$ **diterima**."
   ]
  },
  {
   "cell_type": "markdown",
   "metadata": {},
   "source": [
    "## Soal No. 6"
   ]
  },
  {
   "cell_type": "markdown",
   "metadata": {},
   "source": [
    "Test korelasi: tentukan apakah setiap kolom non-target berkorelasi dengan kolom target,\n",
    "dengan menggambarkan juga scatter plot nya. Gunakan correlation test."
   ]
  },
  {
   "cell_type": "markdown",
   "metadata": {},
   "source": [
    "Misalkan $ r $ adalah Pearson Correlation Coefficient\n",
    "\n",
    "$ r $ selalu berada pada interval $ -1 \\leq r \\leq 1$ , dan dibagi menjadi 3 kategori :\n",
    "\n",
    "1. untuk $ r > 0 $ dikegorikan sebagai positive correlation\n",
    "1. untuk $ r < 0 $ dikegorikan sebagai negative correlation\n",
    "1. untuk $ r = 0 $ dikegorikan sebagai no correlation\n",
    "\n"
   ]
  },
  {
   "cell_type": "markdown",
   "metadata": {},
   "source": [
    "### Korelasi kolom daerah (non-target) dengan kolom kelas (target)"
   ]
  },
  {
   "cell_type": "markdown",
   "metadata": {},
   "source": [
    "cari nilai $ r $"
   ]
  },
  {
   "cell_type": "code",
   "execution_count": 106,
   "metadata": {},
   "outputs": [
    {
     "name": "stdout",
     "output_type": "stream",
     "text": [
      "nilai dari r adalah  -0.6027466517416654\n"
     ]
    }
   ],
   "source": [
    "dataDaerah = data['Daerah']\n",
    "dataKelas = data['Kelas']\n",
    "print(\"nilai dari r adalah \", dataDaerah.corr(dataKelas))"
   ]
  },
  {
   "cell_type": "markdown",
   "metadata": {},
   "source": [
    "##### scatterplot "
   ]
  },
  {
   "cell_type": "code",
   "execution_count": 107,
   "metadata": {},
   "outputs": [
    {
     "data": {
      "text/plain": [
       "<matplotlib.axes._subplots.AxesSubplot at 0x2469455f6d8>"
      ]
     },
     "execution_count": 107,
     "metadata": {},
     "output_type": "execute_result"
    },
    {
     "data": {
      "image/png": "[encoded data removed]",
      "text/plain": [
       "<Figure size 432x288 with 1 Axes>"
      ]
     },
     "metadata": {
      "needs_background": "light"
     },
     "output_type": "display_data"
    }
   ],
   "source": [
    "data.plot(kind=\"scatter\",x=\"Daerah\",y= \"Kelas\", color = 'r')"
   ]
  },
  {
   "cell_type": "markdown",
   "metadata": {},
   "source": [
    "### Korelasi Sumbu Utama (non-target) dengan kolom Kelas (target)"
   ]
  },
  {
   "cell_type": "markdown",
   "metadata": {},
   "source": [
    "cari nilai $ r $"
   ]
  },
  {
   "cell_type": "code",
   "execution_count": 108,
   "metadata": {},
   "outputs": [
    {
     "name": "stdout",
     "output_type": "stream",
     "text": [
      "nilai dari r adalah  -0.7130906104204592\n"
     ]
    }
   ],
   "source": [
    "dataSumbuUtama = data['SumbuUtama']\n",
    "dataKelas = data['Kelas']\n",
    "print(\"nilai dari r adalah \", dataSumbuUtama.corr(dataKelas))"
   ]
  },
  {
   "cell_type": "markdown",
   "metadata": {},
   "source": [
    "##### scatterplot"
   ]
  },
  {
   "cell_type": "code",
   "execution_count": 109,
   "metadata": {},
   "outputs": [
    {
     "data": {
      "text/plain": [
       "<matplotlib.axes._subplots.AxesSubplot at 0x24696b906d8>"
      ]
     },
     "execution_count": 109,
     "metadata": {},
     "output_type": "execute_result"
    },
    {
     "data": {
      "image/png": "[encoded data removed]",
      "text/plain": [
       "<Figure size 432x288 with 1 Axes>"
      ]
     },
     "metadata": {
      "needs_background": "light"
     },
     "output_type": "display_data"
    }
   ],
   "source": [
    "data.plot(kind=\"scatter\",x=\"SumbuUtama\",y= \"Kelas\", color = 'r')"
   ]
  },
  {
   "cell_type": "markdown",
   "metadata": {},
   "source": [
    "### Korelasi kolom Sumbu Kecil (non-target) dengan kolom kelas (target)"
   ]
  },
  {
   "cell_type": "markdown",
   "metadata": {},
   "source": [
    "cari nilai $ r $"
   ]
  },
  {
   "cell_type": "code",
   "execution_count": 110,
   "metadata": {},
   "outputs": [
    {
     "name": "stdout",
     "output_type": "stream",
     "text": [
      "nilai dari r adalah  -0.15297517335535024\n"
     ]
    }
   ],
   "source": [
    "dataSumbuKecil = data['SumbuKecil']\n",
    "dataKelas = data['Kelas']\n",
    "print(\"nilai dari r adalah \", dataSumbuKecil.corr(dataKelas))"
   ]
  },
  {
   "cell_type": "markdown",
   "metadata": {},
   "source": [
    "##### scatterplot "
   ]
  },
  {
   "cell_type": "code",
   "execution_count": 111,
   "metadata": {},
   "outputs": [
    {
     "data": {
      "text/plain": [
       "<matplotlib.axes._subplots.AxesSubplot at 0x24696be0128>"
      ]
     },
     "execution_count": 111,
     "metadata": {},
     "output_type": "execute_result"
    },
    {
     "data": {
      "image/png": "[encoded data removed]",
      "text/plain": [
       "<Figure size 432x288 with 1 Axes>"
      ]
     },
     "metadata": {
      "needs_background": "light"
     },
     "output_type": "display_data"
    }
   ],
   "source": [
    "data.plot(kind=\"scatter\",x=\"SumbuKecil\",y= \"Kelas\", color = 'r')"
   ]
  },
  {
   "cell_type": "markdown",
   "metadata": {},
   "source": [
    "### Korelasi kolom Keunikan (non-target) dengan kolom kelas (target)"
   ]
  },
  {
   "cell_type": "markdown",
   "metadata": {},
   "source": [
    "cari nilai $ r $"
   ]
  },
  {
   "cell_type": "code",
   "execution_count": 112,
   "metadata": {},
   "outputs": [
    {
     "name": "stdout",
     "output_type": "stream",
     "text": [
      "nilai dari r adalah  -0.7304563686511927\n"
     ]
    }
   ],
   "source": [
    "dataKeunikan = data['Keunikan']\n",
    "dataKelas = data['Kelas']\n",
    "print(\"nilai dari r adalah \", dataKeunikan.corr(dataKelas))"
   ]
  },
  {
   "cell_type": "markdown",
   "metadata": {},
   "source": [
    "##### scatterplot"
   ]
  },
  {
   "cell_type": "code",
   "execution_count": 113,
   "metadata": {},
   "outputs": [
    {
     "data": {
      "text/plain": [
       "<matplotlib.axes._subplots.AxesSubplot at 0x24696c3b748>"
      ]
     },
     "execution_count": 113,
     "metadata": {},
     "output_type": "execute_result"
    },
    {
     "data": {
      "image/png": "[encoded data removed]",
      "text/plain": [
       "<Figure size 432x288 with 1 Axes>"
      ]
     },
     "metadata": {
      "needs_background": "light"
     },
     "output_type": "display_data"
    }
   ],
   "source": [
    "data.plot(kind=\"scatter\",x=\"Keunikan\",y= \"Kelas\", color = 'r')"
   ]
  },
  {
   "cell_type": "markdown",
   "metadata": {},
   "source": [
    "### Korelasi kolom Area Bulatan (non-target) dengan kolom kelas (target)"
   ]
  },
  {
   "cell_type": "markdown",
   "metadata": {},
   "source": [
    "cari nilai $ r $"
   ]
  },
  {
   "cell_type": "code",
   "execution_count": 114,
   "metadata": {},
   "outputs": [
    {
     "name": "stdout",
     "output_type": "stream",
     "text": [
      "nilai dari r adalah  -0.6073125434153747\n"
     ]
    }
   ],
   "source": [
    "dataAreaBulatan = data['AreaBulatan']\n",
    "dataKelas = data['Kelas']\n",
    "print(\"nilai dari r adalah \", dataAreaBulatan.corr(dataKelas))"
   ]
  },
  {
   "cell_type": "markdown",
   "metadata": {},
   "source": [
    "##### scatterplot"
   ]
  },
  {
   "cell_type": "code",
   "execution_count": 115,
   "metadata": {},
   "outputs": [
    {
     "data": {
      "text/plain": [
       "<matplotlib.axes._subplots.AxesSubplot at 0x24696c92208>"
      ]
     },
     "execution_count": 115,
     "metadata": {},
     "output_type": "execute_result"
    },
    {
     "data": {
      "image/png": "[encoded data removed]",
      "text/plain": [
       "<Figure size 432x288 with 1 Axes>"
      ]
     },
     "metadata": {
      "needs_background": "light"
     },
     "output_type": "display_data"
    }
   ],
   "source": [
    "data.plot(kind=\"scatter\",x=\"AreaBulatan\",y= \"Kelas\", color = 'r')"
   ]
  },
  {
   "cell_type": "markdown",
   "metadata": {},
   "source": [
    "### Korelasi kolom Diameter (non-target) dengan kolom kelas (target)"
   ]
  },
  {
   "cell_type": "markdown",
   "metadata": {},
   "source": [
    "cari nilai $ r $"
   ]
  },
  {
   "cell_type": "code",
   "execution_count": 116,
   "metadata": {},
   "outputs": [
    {
     "name": "stdout",
     "output_type": "stream",
     "text": [
      "nilai dari r adalah  -0.6025356896618811\n"
     ]
    }
   ],
   "source": [
    "dataDiameter = data['Diameter']\n",
    "dataKelas = data['Kelas']\n",
    "print(\"nilai dari r adalah \", dataDiameter.corr(dataKelas))"
   ]
  },
  {
   "cell_type": "markdown",
   "metadata": {},
   "source": [
    "###### scatterplot"
   ]
  },
  {
   "cell_type": "code",
   "execution_count": 117,
   "metadata": {},
   "outputs": [
    {
     "data": {
      "text/plain": [
       "<matplotlib.axes._subplots.AxesSubplot at 0x24696ce5160>"
      ]
     },
     "execution_count": 117,
     "metadata": {},
     "output_type": "execute_result"
    },
    {
     "data": {
      "image/png": "[encoded data removed]",
      "text/plain": [
       "<Figure size 432x288 with 1 Axes>"
      ]
     },
     "metadata": {
      "needs_background": "light"
     },
     "output_type": "display_data"
    }
   ],
   "source": [
    "data.plot(kind=\"scatter\",x=\"Diameter\",y= \"Kelas\", color = 'r')"
   ]
  },
  {
   "cell_type": "markdown",
   "metadata": {},
   "source": [
    "### Korelasi kolom KadarAir (non-target) dengan kolom kelas (target)"
   ]
  },
  {
   "cell_type": "markdown",
   "metadata": {},
   "source": [
    "cari nilai $ r $"
   ]
  },
  {
   "cell_type": "code",
   "execution_count": 118,
   "metadata": {},
   "outputs": [
    {
     "name": "stdout",
     "output_type": "stream",
     "text": [
      "nilai dari r adalah  0.13434422605727642\n"
     ]
    }
   ],
   "source": [
    "dataKadarAir = data['KadarAir']\n",
    "dataKelas = data['Kelas']\n",
    "print(\"nilai dari r adalah \", dataKadarAir.corr(dataKelas))"
   ]
  },
  {
   "cell_type": "markdown",
   "metadata": {},
   "source": [
    "###### scatterplot"
   ]
  },
  {
   "cell_type": "code",
   "execution_count": 119,
   "metadata": {},
   "outputs": [
    {
     "data": {
      "text/plain": [
       "<matplotlib.axes._subplots.AxesSubplot at 0x24696c73ba8>"
      ]
     },
     "execution_count": 119,
     "metadata": {},
     "output_type": "execute_result"
    },
    {
     "data": {
      "image/png": "[encoded data removed]",
      "text/plain": [
       "<Figure size 432x288 with 1 Axes>"
      ]
     },
     "metadata": {
      "needs_background": "light"
     },
     "output_type": "display_data"
    }
   ],
   "source": [
    "data.plot(kind=\"scatter\",x=\"KadarAir\",y= \"Kelas\", color = 'r')"
   ]
  },
  {
   "cell_type": "markdown",
   "metadata": {},
   "source": [
    "### Korelasi kolom Keliling (non-target) dengan kolom kelas (target)"
   ]
  },
  {
   "cell_type": "markdown",
   "metadata": {},
   "source": [
    "cari nilai $ r $"
   ]
  },
  {
   "cell_type": "code",
   "execution_count": 120,
   "metadata": {},
   "outputs": [
    {
     "name": "stdout",
     "output_type": "stream",
     "text": [
      "nilai dari r adalah  -0.6348607454756853\n"
     ]
    }
   ],
   "source": [
    "dataKeliling = data['Keliling']\n",
    "dataKelas = data['Kelas']\n",
    "print(\"nilai dari r adalah \", dataKeliling.corr(dataKelas))"
   ]
  },
  {
   "cell_type": "markdown",
   "metadata": {},
   "source": [
    "###### scatterplot"
   ]
  },
  {
   "cell_type": "code",
   "execution_count": 121,
   "metadata": {},
   "outputs": [
    {
     "data": {
      "text/plain": [
       "<matplotlib.axes._subplots.AxesSubplot at 0x24696dad080>"
      ]
     },
     "execution_count": 121,
     "metadata": {},
     "output_type": "execute_result"
    },
    {
     "data": {
      "image/png": "[encoded data removed]",
      "text/plain": [
       "<Figure size 432x288 with 1 Axes>"
      ]
     },
     "metadata": {
      "needs_background": "light"
     },
     "output_type": "display_data"
    }
   ],
   "source": [
    "data.plot(kind=\"scatter\",x=\"Keliling\",y= \"Kelas\", color = 'r')"
   ]
  },
  {
   "cell_type": "markdown",
   "metadata": {},
   "source": [
    "### Korelasi kolom Bulatan (non-target) dengan kolom kelas (target)"
   ]
  },
  {
   "cell_type": "markdown",
   "metadata": {},
   "source": [
    "cari nilai $ r $"
   ]
  },
  {
   "cell_type": "code",
   "execution_count": 122,
   "metadata": {},
   "outputs": [
    {
     "name": "stdout",
     "output_type": "stream",
     "text": [
      "nilai dari r adalah  0.5450045317240073\n"
     ]
    }
   ],
   "source": [
    "dataBulatan = data['Bulatan']\n",
    "dataKelas = data['Kelas']\n",
    "print(\"nilai dari r adalah \", dataBulatan.corr(dataKelas))"
   ]
  },
  {
   "cell_type": "markdown",
   "metadata": {},
   "source": [
    "###### scatterplot"
   ]
  },
  {
   "cell_type": "code",
   "execution_count": 123,
   "metadata": {},
   "outputs": [
    {
     "data": {
      "text/plain": [
       "<matplotlib.axes._subplots.AxesSubplot at 0x24696e01b00>"
      ]
     },
     "execution_count": 123,
     "metadata": {},
     "output_type": "execute_result"
    },
    {
     "data": {
      "image/png": "[encoded data removed]",
      "text/plain": [
       "<Figure size 432x288 with 1 Axes>"
      ]
     },
     "metadata": {
      "needs_background": "light"
     },
     "output_type": "display_data"
    }
   ],
   "source": [
    "data.plot(kind=\"scatter\",x=\"Bulatan\",y= \"Kelas\", color = 'r')"
   ]
  },
  {
   "cell_type": "markdown",
   "metadata": {},
   "source": [
    "### Korelasi kolom ransum (non-target) dengan kolom kelas (target)"
   ]
  },
  {
   "cell_type": "markdown",
   "metadata": {},
   "source": [
    "cari nilai $ r $"
   ]
  },
  {
   "cell_type": "code",
   "execution_count": 124,
   "metadata": {},
   "outputs": [
    {
     "name": "stdout",
     "output_type": "stream",
     "text": [
      "nilai dari r adalah  -0.8399038681287486\n"
     ]
    }
   ],
   "source": [
    "dataRansum = data['Ransum']\n",
    "dataKelas = data['Kelas']\n",
    "print(\"nilai dari r adalah \", dataRansum.corr(dataKelas))"
   ]
  },
  {
   "cell_type": "markdown",
   "metadata": {},
   "source": [
    "###### scatterplot"
   ]
  },
  {
   "cell_type": "code",
   "execution_count": 125,
   "metadata": {},
   "outputs": [
    {
     "data": {
      "text/plain": [
       "<matplotlib.axes._subplots.AxesSubplot at 0x24696e65630>"
      ]
     },
     "execution_count": 125,
     "metadata": {},
     "output_type": "execute_result"
    },
    {
     "data": {
      "image/png": "[encoded data removed]",
      "text/plain": [
       "<Figure size 432x288 with 1 Axes>"
      ]
     },
     "metadata": {
      "needs_background": "light"
     },
     "output_type": "display_data"
    }
   ],
   "source": [
    "data.plot(kind=\"scatter\",x=\"Ransum\",y= \"Kelas\", color = 'r')"
   ]
  },
  {
   "cell_type": "code",
   "execution_count": null,
   "metadata": {},
   "outputs": [],
   "source": []
  }
 ],
 "metadata": {
  "kernelspec": {
   "display_name": "Python 3",
   "language": "python",
   "name": "python3"
  },
  "language_info": {
   "codemirror_mode": {
    "name": "ipython",
    "version": 3
   },
   "file_extension": ".py",
   "mimetype": "text/x-python",
   "name": "python",
   "nbconvert_exporter": "python",
   "pygments_lexer": "ipython3",
   "version": "3.7.1"
  }
 },
 "nbformat": 4,
 "nbformat_minor": 4
}
