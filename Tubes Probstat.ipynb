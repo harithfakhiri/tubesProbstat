{
 "cells": [
  {
   "cell_type": "markdown",
   "metadata": {},
   "source": [
    "# Tugas Besar Probabilitas dan Statistika IF2220\n",
    "Rafi Raihansyah Munandar - 13519154\n",
    "\n",
    "Harith Fakhiri Setiawan - 13519161"
   ]
  },
  {
   "cell_type": "code",
   "execution_count": 1,
   "metadata": {},
   "outputs": [],
   "source": [
    "# Imports\n",
    "import pandas as pd\n",
    "import matplotlib.pyplot as plt\n",
    "import seaborn as sns\n",
    "from math import sqrt\n",
    "import scipy.stats as st\n",
    "\n",
    "# Pembuatan nama masing-masing kolom\n",
    "columns=['ID', 'Daerah', 'SumbuUtama', 'SumbuKecil','Keunikan','AreaBulatan','Diameter','KadarAir','Keliling','Bulatan','Ransum','Kelas'] \n",
    "\n",
    "# Membaca file .csv\n",
    "data = pd.read_csv('Gandum.csv', names=columns, header=None)\n",
    "\n",
    "# Mendapatkan jumlah baris dan kolom pada data\n",
    "baris,kolom = data.shape"
   ]
  },
  {
   "cell_type": "markdown",
   "metadata": {},
   "source": [
    "***\n"
   ]
  },
  {
   "cell_type": "markdown",
   "metadata": {},
   "source": [
    "## Soal No. 1"
   ]
  },
  {
   "cell_type": "markdown",
   "metadata": {},
   "source": [
    "Menulis deskripsi statistika (Descriptive Statistics) dari semua kolom pada data yang bersifat\n",
    "numerik, terdiri dari mean, median, modus, standar deviasi, variansi, range, nilai minimum,\n",
    "maksimum, kuartil, IQR, skewness dan kurtosis. Boleh juga ditambahkan deskripsi lain."
   ]
  },
  {
   "cell_type": "markdown",
   "metadata": {},
   "source": [
    "### Deskripsi Data Keseluruhan"
   ]
  },
  {
   "cell_type": "code",
   "execution_count": 2,
   "metadata": {},
   "outputs": [
    {
     "data": {
      "text/html": [
       "<div>\n",
       "<style scoped>\n",
       "    .dataframe tbody tr th:only-of-type {\n",
       "        vertical-align: middle;\n",
       "    }\n",
       "\n",
       "    .dataframe tbody tr th {\n",
       "        vertical-align: top;\n",
       "    }\n",
       "\n",
       "    .dataframe thead th {\n",
       "        text-align: right;\n",
       "    }\n",
       "</style>\n",
       "<table border=\"1\" class=\"dataframe\">\n",
       "  <thead>\n",
       "    <tr style=\"text-align: right;\">\n",
       "      <th></th>\n",
       "      <th>ID</th>\n",
       "      <th>Daerah</th>\n",
       "      <th>SumbuUtama</th>\n",
       "      <th>SumbuKecil</th>\n",
       "      <th>Keunikan</th>\n",
       "      <th>AreaBulatan</th>\n",
       "      <th>Diameter</th>\n",
       "      <th>KadarAir</th>\n",
       "      <th>Keliling</th>\n",
       "      <th>Bulatan</th>\n",
       "      <th>Ransum</th>\n",
       "      <th>Kelas</th>\n",
       "    </tr>\n",
       "  </thead>\n",
       "  <tbody>\n",
       "    <tr>\n",
       "      <th>count</th>\n",
       "      <td>500.000000</td>\n",
       "      <td>500.000000</td>\n",
       "      <td>500.000000</td>\n",
       "      <td>500.000000</td>\n",
       "      <td>500.000000</td>\n",
       "      <td>5.000000e+02</td>\n",
       "      <td>500.000000</td>\n",
       "      <td>500.000000</td>\n",
       "      <td>500.000000</td>\n",
       "      <td>500.000000</td>\n",
       "      <td>500.000000</td>\n",
       "      <td>500.000000</td>\n",
       "    </tr>\n",
       "    <tr>\n",
       "      <th>mean</th>\n",
       "      <td>250.500000</td>\n",
       "      <td>4801.246000</td>\n",
       "      <td>116.045171</td>\n",
       "      <td>53.715246</td>\n",
       "      <td>0.878764</td>\n",
       "      <td>4.937048e+03</td>\n",
       "      <td>77.771158</td>\n",
       "      <td>0.648372</td>\n",
       "      <td>281.479722</td>\n",
       "      <td>0.761737</td>\n",
       "      <td>2.150915</td>\n",
       "      <td>1.502000</td>\n",
       "    </tr>\n",
       "    <tr>\n",
       "      <th>std</th>\n",
       "      <td>144.481833</td>\n",
       "      <td>986.395491</td>\n",
       "      <td>18.282626</td>\n",
       "      <td>4.071075</td>\n",
       "      <td>0.036586</td>\n",
       "      <td>1.011696e+03</td>\n",
       "      <td>8.056867</td>\n",
       "      <td>0.094367</td>\n",
       "      <td>37.335402</td>\n",
       "      <td>0.061702</td>\n",
       "      <td>0.249767</td>\n",
       "      <td>0.500497</td>\n",
       "    </tr>\n",
       "    <tr>\n",
       "      <th>min</th>\n",
       "      <td>1.000000</td>\n",
       "      <td>2522.000000</td>\n",
       "      <td>74.133114</td>\n",
       "      <td>39.906517</td>\n",
       "      <td>0.719916</td>\n",
       "      <td>2.579000e+03</td>\n",
       "      <td>56.666658</td>\n",
       "      <td>0.409927</td>\n",
       "      <td>197.015000</td>\n",
       "      <td>0.174590</td>\n",
       "      <td>1.440796</td>\n",
       "      <td>1.000000</td>\n",
       "    </tr>\n",
       "    <tr>\n",
       "      <th>25%</th>\n",
       "      <td>125.750000</td>\n",
       "      <td>4042.750000</td>\n",
       "      <td>104.116098</td>\n",
       "      <td>51.193576</td>\n",
       "      <td>0.863676</td>\n",
       "      <td>4.170250e+03</td>\n",
       "      <td>71.745308</td>\n",
       "      <td>0.572632</td>\n",
       "      <td>255.883000</td>\n",
       "      <td>0.731991</td>\n",
       "      <td>1.983939</td>\n",
       "      <td>1.000000</td>\n",
       "    </tr>\n",
       "    <tr>\n",
       "      <th>50%</th>\n",
       "      <td>250.500000</td>\n",
       "      <td>4735.000000</td>\n",
       "      <td>115.405140</td>\n",
       "      <td>53.731199</td>\n",
       "      <td>0.890045</td>\n",
       "      <td>4.857000e+03</td>\n",
       "      <td>77.645277</td>\n",
       "      <td>0.626117</td>\n",
       "      <td>280.045500</td>\n",
       "      <td>0.761288</td>\n",
       "      <td>2.193599</td>\n",
       "      <td>2.000000</td>\n",
       "    </tr>\n",
       "    <tr>\n",
       "      <th>75%</th>\n",
       "      <td>375.250000</td>\n",
       "      <td>5495.500000</td>\n",
       "      <td>129.046792</td>\n",
       "      <td>56.325158</td>\n",
       "      <td>0.907578</td>\n",
       "      <td>5.654250e+03</td>\n",
       "      <td>83.648598</td>\n",
       "      <td>0.726633</td>\n",
       "      <td>306.062500</td>\n",
       "      <td>0.796361</td>\n",
       "      <td>2.381612</td>\n",
       "      <td>2.000000</td>\n",
       "    </tr>\n",
       "    <tr>\n",
       "      <th>max</th>\n",
       "      <td>500.000000</td>\n",
       "      <td>7453.000000</td>\n",
       "      <td>227.928583</td>\n",
       "      <td>68.977700</td>\n",
       "      <td>0.914001</td>\n",
       "      <td>7.720000e+03</td>\n",
       "      <td>97.413830</td>\n",
       "      <td>0.878899</td>\n",
       "      <td>488.837000</td>\n",
       "      <td>0.904748</td>\n",
       "      <td>2.464809</td>\n",
       "      <td>2.000000</td>\n",
       "    </tr>\n",
       "    <tr>\n",
       "      <th>median</th>\n",
       "      <td>250.500000</td>\n",
       "      <td>4735.000000</td>\n",
       "      <td>115.405140</td>\n",
       "      <td>53.731199</td>\n",
       "      <td>0.890045</td>\n",
       "      <td>4.857000e+03</td>\n",
       "      <td>77.645277</td>\n",
       "      <td>0.626117</td>\n",
       "      <td>280.045500</td>\n",
       "      <td>0.761288</td>\n",
       "      <td>2.193599</td>\n",
       "      <td>2.000000</td>\n",
       "    </tr>\n",
       "    <tr>\n",
       "      <th>variance</th>\n",
       "      <td>20875.000000</td>\n",
       "      <td>972976.065615</td>\n",
       "      <td>334.254412</td>\n",
       "      <td>16.573650</td>\n",
       "      <td>0.001339</td>\n",
       "      <td>1.023529e+06</td>\n",
       "      <td>64.913111</td>\n",
       "      <td>0.008905</td>\n",
       "      <td>1393.932221</td>\n",
       "      <td>0.003807</td>\n",
       "      <td>0.062383</td>\n",
       "      <td>0.250497</td>\n",
       "    </tr>\n",
       "    <tr>\n",
       "      <th>range</th>\n",
       "      <td>499.000000</td>\n",
       "      <td>4931.000000</td>\n",
       "      <td>153.795469</td>\n",
       "      <td>29.071182</td>\n",
       "      <td>0.194085</td>\n",
       "      <td>5.141000e+03</td>\n",
       "      <td>40.747172</td>\n",
       "      <td>0.468972</td>\n",
       "      <td>291.822000</td>\n",
       "      <td>0.730158</td>\n",
       "      <td>1.024013</td>\n",
       "      <td>1.000000</td>\n",
       "    </tr>\n",
       "    <tr>\n",
       "      <th>IQR</th>\n",
       "      <td>249.500000</td>\n",
       "      <td>1452.750000</td>\n",
       "      <td>24.930694</td>\n",
       "      <td>5.131582</td>\n",
       "      <td>0.043902</td>\n",
       "      <td>1.484000e+03</td>\n",
       "      <td>11.903290</td>\n",
       "      <td>0.154001</td>\n",
       "      <td>50.179500</td>\n",
       "      <td>0.064370</td>\n",
       "      <td>0.397673</td>\n",
       "      <td>1.000000</td>\n",
       "    </tr>\n",
       "    <tr>\n",
       "      <th>skewness</th>\n",
       "      <td>0.000000</td>\n",
       "      <td>0.238144</td>\n",
       "      <td>0.761529</td>\n",
       "      <td>-0.010828</td>\n",
       "      <td>-1.623472</td>\n",
       "      <td>2.575600e-01</td>\n",
       "      <td>0.002725</td>\n",
       "      <td>0.493661</td>\n",
       "      <td>0.733627</td>\n",
       "      <td>-3.599237</td>\n",
       "      <td>-0.658188</td>\n",
       "      <td>-0.008024</td>\n",
       "    </tr>\n",
       "    <tr>\n",
       "      <th>kurtosis</th>\n",
       "      <td>-1.200000</td>\n",
       "      <td>-0.434631</td>\n",
       "      <td>4.330534</td>\n",
       "      <td>0.475568</td>\n",
       "      <td>2.917256</td>\n",
       "      <td>-4.096849e-01</td>\n",
       "      <td>-0.466455</td>\n",
       "      <td>-0.740326</td>\n",
       "      <td>2.272685</td>\n",
       "      <td>29.975096</td>\n",
       "      <td>-0.428656</td>\n",
       "      <td>-2.007984</td>\n",
       "    </tr>\n",
       "  </tbody>\n",
       "</table>\n",
       "</div>"
      ],
      "text/plain": [
       "                    ID         Daerah  SumbuUtama  SumbuKecil    Keunikan  \\\n",
       "count       500.000000     500.000000  500.000000  500.000000  500.000000   \n",
       "mean        250.500000    4801.246000  116.045171   53.715246    0.878764   \n",
       "std         144.481833     986.395491   18.282626    4.071075    0.036586   \n",
       "min           1.000000    2522.000000   74.133114   39.906517    0.719916   \n",
       "25%         125.750000    4042.750000  104.116098   51.193576    0.863676   \n",
       "50%         250.500000    4735.000000  115.405140   53.731199    0.890045   \n",
       "75%         375.250000    5495.500000  129.046792   56.325158    0.907578   \n",
       "max         500.000000    7453.000000  227.928583   68.977700    0.914001   \n",
       "median      250.500000    4735.000000  115.405140   53.731199    0.890045   \n",
       "variance  20875.000000  972976.065615  334.254412   16.573650    0.001339   \n",
       "range       499.000000    4931.000000  153.795469   29.071182    0.194085   \n",
       "IQR         249.500000    1452.750000   24.930694    5.131582    0.043902   \n",
       "skewness      0.000000       0.238144    0.761529   -0.010828   -1.623472   \n",
       "kurtosis     -1.200000      -0.434631    4.330534    0.475568    2.917256   \n",
       "\n",
       "           AreaBulatan    Diameter    KadarAir     Keliling     Bulatan  \\\n",
       "count     5.000000e+02  500.000000  500.000000   500.000000  500.000000   \n",
       "mean      4.937048e+03   77.771158    0.648372   281.479722    0.761737   \n",
       "std       1.011696e+03    8.056867    0.094367    37.335402    0.061702   \n",
       "min       2.579000e+03   56.666658    0.409927   197.015000    0.174590   \n",
       "25%       4.170250e+03   71.745308    0.572632   255.883000    0.731991   \n",
       "50%       4.857000e+03   77.645277    0.626117   280.045500    0.761288   \n",
       "75%       5.654250e+03   83.648598    0.726633   306.062500    0.796361   \n",
       "max       7.720000e+03   97.413830    0.878899   488.837000    0.904748   \n",
       "median    4.857000e+03   77.645277    0.626117   280.045500    0.761288   \n",
       "variance  1.023529e+06   64.913111    0.008905  1393.932221    0.003807   \n",
       "range     5.141000e+03   40.747172    0.468972   291.822000    0.730158   \n",
       "IQR       1.484000e+03   11.903290    0.154001    50.179500    0.064370   \n",
       "skewness  2.575600e-01    0.002725    0.493661     0.733627   -3.599237   \n",
       "kurtosis -4.096849e-01   -0.466455   -0.740326     2.272685   29.975096   \n",
       "\n",
       "              Ransum       Kelas  \n",
       "count     500.000000  500.000000  \n",
       "mean        2.150915    1.502000  \n",
       "std         0.249767    0.500497  \n",
       "min         1.440796    1.000000  \n",
       "25%         1.983939    1.000000  \n",
       "50%         2.193599    2.000000  \n",
       "75%         2.381612    2.000000  \n",
       "max         2.464809    2.000000  \n",
       "median      2.193599    2.000000  \n",
       "variance    0.062383    0.250497  \n",
       "range       1.024013    1.000000  \n",
       "IQR         0.397673    1.000000  \n",
       "skewness   -0.658188   -0.008024  \n",
       "kurtosis   -0.428656   -2.007984  "
      ]
     },
     "execution_count": 2,
     "metadata": {},
     "output_type": "execute_result"
    }
   ],
   "source": [
    "# Seluruh data kecuali modus\n",
    "descrip = data.describe()\n",
    "descripadd = descrip.append(data.median(), ignore_index=True)\n",
    "descripadd = descripadd.append(data.var(), ignore_index=True)\n",
    "descripadd = descripadd.append(data.max()-data.min(), ignore_index=True)\n",
    "descripadd = descripadd.append(data.quantile(0.75)-data.quantile(0.25), ignore_index=True)\n",
    "descripadd = descripadd.append(data.skew(), ignore_index=True)\n",
    "descripadd = descripadd.append(data.kurt(), ignore_index=True)\n",
    "descripadd.index = ['count','mean','std','min','25%','50%','75%','max','median','variance','range','IQR','skewness','kurtosis']\n",
    "descripadd"
   ]
  },
  {
   "cell_type": "markdown",
   "metadata": {},
   "source": [
    "***"
   ]
  },
  {
   "cell_type": "markdown",
   "metadata": {},
   "source": [
    "### Deksripsi Modus Data"
   ]
  },
  {
   "cell_type": "markdown",
   "metadata": {},
   "source": [
    "Deskripsi Modus dipisah dikarenakan terdapat lebih dari satu modus untuk beberapa kolom data"
   ]
  },
  {
   "cell_type": "markdown",
   "metadata": {},
   "source": [
    "#### Modus ID"
   ]
  },
  {
   "cell_type": "code",
   "execution_count": 3,
   "metadata": {},
   "outputs": [
    {
     "data": {
      "text/plain": [
       "0        1\n",
       "1        2\n",
       "2        3\n",
       "3        4\n",
       "4        5\n",
       "      ... \n",
       "495    496\n",
       "496    497\n",
       "497    498\n",
       "498    499\n",
       "499    500\n",
       "Length: 500, dtype: int64"
      ]
     },
     "execution_count": 3,
     "metadata": {},
     "output_type": "execute_result"
    }
   ],
   "source": [
    "data['ID'].mode()"
   ]
  },
  {
   "cell_type": "markdown",
   "metadata": {},
   "source": [
    "#### Modus Daerah"
   ]
  },
  {
   "cell_type": "code",
   "execution_count": 4,
   "metadata": {},
   "outputs": [
    {
     "data": {
      "text/plain": [
       "0    3992\n",
       "1    4881\n",
       "2    5642\n",
       "3    6083\n",
       "dtype: int64"
      ]
     },
     "execution_count": 4,
     "metadata": {},
     "output_type": "execute_result"
    }
   ],
   "source": [
    "data['Daerah'].mode()"
   ]
  },
  {
   "cell_type": "markdown",
   "metadata": {},
   "source": [
    "#### Modus Sumbu Utama"
   ]
  },
  {
   "cell_type": "code",
   "execution_count": 5,
   "metadata": {},
   "outputs": [
    {
     "data": {
      "text/plain": [
       "0       74.133114\n",
       "1       74.364021\n",
       "2       74.691881\n",
       "3       76.293164\n",
       "4       76.789043\n",
       "          ...    \n",
       "495    152.068440\n",
       "496    152.113491\n",
       "497    153.583387\n",
       "498    227.105462\n",
       "499    227.928583\n",
       "Length: 500, dtype: float64"
      ]
     },
     "execution_count": 5,
     "metadata": {},
     "output_type": "execute_result"
    }
   ],
   "source": [
    "data['SumbuUtama'].mode()"
   ]
  },
  {
   "cell_type": "markdown",
   "metadata": {},
   "source": [
    "#### Modus Sumbu Kecil"
   ]
  },
  {
   "cell_type": "code",
   "execution_count": 6,
   "metadata": {},
   "outputs": [
    {
     "data": {
      "text/plain": [
       "0      39.906517\n",
       "1      41.436419\n",
       "2      42.871879\n",
       "3      43.284979\n",
       "4      44.119355\n",
       "         ...    \n",
       "495    63.322854\n",
       "496    63.762307\n",
       "497    64.012769\n",
       "498    65.738475\n",
       "499    68.977700\n",
       "Length: 500, dtype: float64"
      ]
     },
     "execution_count": 6,
     "metadata": {},
     "output_type": "execute_result"
    }
   ],
   "source": [
    "data['SumbuKecil'].mode()"
   ]
  },
  {
   "cell_type": "markdown",
   "metadata": {},
   "source": [
    "#### Modus Keunikan"
   ]
  },
  {
   "cell_type": "code",
   "execution_count": 7,
   "metadata": {
    "scrolled": true
   },
   "outputs": [
    {
     "data": {
      "text/plain": [
       "0      0.719916\n",
       "1      0.725553\n",
       "2      0.731211\n",
       "3      0.738639\n",
       "4      0.749282\n",
       "         ...   \n",
       "495    0.913724\n",
       "496    0.913760\n",
       "497    0.913891\n",
       "498    0.913909\n",
       "499    0.914001\n",
       "Length: 500, dtype: float64"
      ]
     },
     "execution_count": 7,
     "metadata": {},
     "output_type": "execute_result"
    }
   ],
   "source": [
    "data['Keunikan'].mode()"
   ]
  },
  {
   "cell_type": "markdown",
   "metadata": {},
   "source": [
    "#### Modus Area Bulatan"
   ]
  },
  {
   "cell_type": "code",
   "execution_count": 8,
   "metadata": {},
   "outputs": [
    {
     "data": {
      "text/plain": [
       "0    3802\n",
       "1    4913\n",
       "dtype: int64"
      ]
     },
     "execution_count": 8,
     "metadata": {},
     "output_type": "execute_result"
    }
   ],
   "source": [
    "data['AreaBulatan'].mode()"
   ]
  },
  {
   "cell_type": "markdown",
   "metadata": {},
   "source": [
    "#### Modus Diameter"
   ]
  },
  {
   "cell_type": "code",
   "execution_count": 9,
   "metadata": {},
   "outputs": [
    {
     "data": {
      "text/plain": [
       "0    71.293564\n",
       "1    78.833256\n",
       "2    84.756224\n",
       "3    88.006342\n",
       "dtype: float64"
      ]
     },
     "execution_count": 9,
     "metadata": {},
     "output_type": "execute_result"
    }
   ],
   "source": [
    "data['Diameter'].mode()"
   ]
  },
  {
   "cell_type": "markdown",
   "metadata": {},
   "source": [
    "#### Modus Kadar Air"
   ]
  },
  {
   "cell_type": "code",
   "execution_count": 10,
   "metadata": {},
   "outputs": [
    {
     "data": {
      "text/plain": [
       "0    0.735849\n",
       "1    0.824405\n",
       "dtype: float64"
      ]
     },
     "execution_count": 10,
     "metadata": {},
     "output_type": "execute_result"
    }
   ],
   "source": [
    "data['KadarAir'].mode()"
   ]
  },
  {
   "cell_type": "markdown",
   "metadata": {},
   "source": [
    "#### Modus Keliling"
   ]
  },
  {
   "cell_type": "code",
   "execution_count": 11,
   "metadata": {},
   "outputs": [
    {
     "data": {
      "text/plain": [
       "0      197.015\n",
       "1      200.587\n",
       "2      202.456\n",
       "3      207.325\n",
       "4      207.697\n",
       "        ...   \n",
       "495    375.651\n",
       "496    390.125\n",
       "497    434.235\n",
       "498    448.305\n",
       "499    488.837\n",
       "Length: 500, dtype: float64"
      ]
     },
     "execution_count": 11,
     "metadata": {},
     "output_type": "execute_result"
    }
   ],
   "source": [
    "data['Keliling'].mode()"
   ]
  },
  {
   "cell_type": "markdown",
   "metadata": {},
   "source": [
    "#### Modus Bulatan"
   ]
  },
  {
   "cell_type": "code",
   "execution_count": 12,
   "metadata": {},
   "outputs": [
    {
     "data": {
      "text/plain": [
       "0      0.174590\n",
       "1      0.261297\n",
       "2      0.299298\n",
       "3      0.589146\n",
       "4      0.603807\n",
       "         ...   \n",
       "495    0.872417\n",
       "496    0.874243\n",
       "497    0.874743\n",
       "498    0.891706\n",
       "499    0.904748\n",
       "Length: 500, dtype: float64"
      ]
     },
     "execution_count": 12,
     "metadata": {},
     "output_type": "execute_result"
    }
   ],
   "source": [
    "data['Bulatan'].mode()"
   ]
  },
  {
   "cell_type": "markdown",
   "metadata": {},
   "source": [
    "#### Modus Ransum"
   ]
  },
  {
   "cell_type": "code",
   "execution_count": 13,
   "metadata": {},
   "outputs": [
    {
     "data": {
      "text/plain": [
       "0      1.440796\n",
       "1      1.453137\n",
       "2      1.465950\n",
       "3      1.483456\n",
       "4      1.510000\n",
       "         ...   \n",
       "495    2.461017\n",
       "496    2.461510\n",
       "497    2.463297\n",
       "498    2.463546\n",
       "499    2.464809\n",
       "Length: 500, dtype: float64"
      ]
     },
     "execution_count": 13,
     "metadata": {},
     "output_type": "execute_result"
    }
   ],
   "source": [
    "data['Ransum'].mode()"
   ]
  },
  {
   "cell_type": "markdown",
   "metadata": {},
   "source": [
    "#### Modus Kelas"
   ]
  },
  {
   "cell_type": "code",
   "execution_count": 14,
   "metadata": {},
   "outputs": [
    {
     "data": {
      "text/plain": [
       "0    2\n",
       "dtype: int64"
      ]
     },
     "execution_count": 14,
     "metadata": {},
     "output_type": "execute_result"
    }
   ],
   "source": [
    "data['Kelas'].mode()"
   ]
  },
  {
   "cell_type": "markdown",
   "metadata": {},
   "source": [
    "#### Modus Keseluruhan"
   ]
  },
  {
   "cell_type": "code",
   "execution_count": 15,
   "metadata": {},
   "outputs": [
    {
     "data": {
      "text/html": [
       "<div>\n",
       "<style scoped>\n",
       "    .dataframe tbody tr th:only-of-type {\n",
       "        vertical-align: middle;\n",
       "    }\n",
       "\n",
       "    .dataframe tbody tr th {\n",
       "        vertical-align: top;\n",
       "    }\n",
       "\n",
       "    .dataframe thead th {\n",
       "        text-align: right;\n",
       "    }\n",
       "</style>\n",
       "<table border=\"1\" class=\"dataframe\">\n",
       "  <thead>\n",
       "    <tr style=\"text-align: right;\">\n",
       "      <th></th>\n",
       "      <th>ID</th>\n",
       "      <th>Daerah</th>\n",
       "      <th>SumbuUtama</th>\n",
       "      <th>SumbuKecil</th>\n",
       "      <th>Keunikan</th>\n",
       "      <th>AreaBulatan</th>\n",
       "      <th>Diameter</th>\n",
       "      <th>KadarAir</th>\n",
       "      <th>Keliling</th>\n",
       "      <th>Bulatan</th>\n",
       "      <th>Ransum</th>\n",
       "      <th>Kelas</th>\n",
       "    </tr>\n",
       "  </thead>\n",
       "  <tbody>\n",
       "    <tr>\n",
       "      <th>0</th>\n",
       "      <td>1</td>\n",
       "      <td>3992.0</td>\n",
       "      <td>74.133114</td>\n",
       "      <td>39.906517</td>\n",
       "      <td>0.719916</td>\n",
       "      <td>3802.0</td>\n",
       "      <td>71.293564</td>\n",
       "      <td>0.735849</td>\n",
       "      <td>197.015</td>\n",
       "      <td>0.174590</td>\n",
       "      <td>1.440796</td>\n",
       "      <td>2.0</td>\n",
       "    </tr>\n",
       "    <tr>\n",
       "      <th>1</th>\n",
       "      <td>2</td>\n",
       "      <td>4881.0</td>\n",
       "      <td>74.364021</td>\n",
       "      <td>41.436419</td>\n",
       "      <td>0.725553</td>\n",
       "      <td>4913.0</td>\n",
       "      <td>78.833256</td>\n",
       "      <td>0.824405</td>\n",
       "      <td>200.587</td>\n",
       "      <td>0.261297</td>\n",
       "      <td>1.453137</td>\n",
       "      <td>NaN</td>\n",
       "    </tr>\n",
       "    <tr>\n",
       "      <th>2</th>\n",
       "      <td>3</td>\n",
       "      <td>5642.0</td>\n",
       "      <td>74.691881</td>\n",
       "      <td>42.871879</td>\n",
       "      <td>0.731211</td>\n",
       "      <td>NaN</td>\n",
       "      <td>84.756224</td>\n",
       "      <td>NaN</td>\n",
       "      <td>202.456</td>\n",
       "      <td>0.299298</td>\n",
       "      <td>1.465950</td>\n",
       "      <td>NaN</td>\n",
       "    </tr>\n",
       "    <tr>\n",
       "      <th>3</th>\n",
       "      <td>4</td>\n",
       "      <td>6083.0</td>\n",
       "      <td>76.293164</td>\n",
       "      <td>43.284979</td>\n",
       "      <td>0.738639</td>\n",
       "      <td>NaN</td>\n",
       "      <td>88.006342</td>\n",
       "      <td>NaN</td>\n",
       "      <td>207.325</td>\n",
       "      <td>0.589146</td>\n",
       "      <td>1.483456</td>\n",
       "      <td>NaN</td>\n",
       "    </tr>\n",
       "    <tr>\n",
       "      <th>4</th>\n",
       "      <td>5</td>\n",
       "      <td>NaN</td>\n",
       "      <td>76.789043</td>\n",
       "      <td>44.119355</td>\n",
       "      <td>0.749282</td>\n",
       "      <td>NaN</td>\n",
       "      <td>NaN</td>\n",
       "      <td>NaN</td>\n",
       "      <td>207.697</td>\n",
       "      <td>0.603807</td>\n",
       "      <td>1.510000</td>\n",
       "      <td>NaN</td>\n",
       "    </tr>\n",
       "    <tr>\n",
       "      <th>...</th>\n",
       "      <td>...</td>\n",
       "      <td>...</td>\n",
       "      <td>...</td>\n",
       "      <td>...</td>\n",
       "      <td>...</td>\n",
       "      <td>...</td>\n",
       "      <td>...</td>\n",
       "      <td>...</td>\n",
       "      <td>...</td>\n",
       "      <td>...</td>\n",
       "      <td>...</td>\n",
       "      <td>...</td>\n",
       "    </tr>\n",
       "    <tr>\n",
       "      <th>495</th>\n",
       "      <td>496</td>\n",
       "      <td>NaN</td>\n",
       "      <td>152.068440</td>\n",
       "      <td>63.322854</td>\n",
       "      <td>0.913724</td>\n",
       "      <td>NaN</td>\n",
       "      <td>NaN</td>\n",
       "      <td>NaN</td>\n",
       "      <td>375.651</td>\n",
       "      <td>0.872417</td>\n",
       "      <td>2.461017</td>\n",
       "      <td>NaN</td>\n",
       "    </tr>\n",
       "    <tr>\n",
       "      <th>496</th>\n",
       "      <td>497</td>\n",
       "      <td>NaN</td>\n",
       "      <td>152.113491</td>\n",
       "      <td>63.762307</td>\n",
       "      <td>0.913760</td>\n",
       "      <td>NaN</td>\n",
       "      <td>NaN</td>\n",
       "      <td>NaN</td>\n",
       "      <td>390.125</td>\n",
       "      <td>0.874243</td>\n",
       "      <td>2.461510</td>\n",
       "      <td>NaN</td>\n",
       "    </tr>\n",
       "    <tr>\n",
       "      <th>497</th>\n",
       "      <td>498</td>\n",
       "      <td>NaN</td>\n",
       "      <td>153.583387</td>\n",
       "      <td>64.012769</td>\n",
       "      <td>0.913891</td>\n",
       "      <td>NaN</td>\n",
       "      <td>NaN</td>\n",
       "      <td>NaN</td>\n",
       "      <td>434.235</td>\n",
       "      <td>0.874743</td>\n",
       "      <td>2.463297</td>\n",
       "      <td>NaN</td>\n",
       "    </tr>\n",
       "    <tr>\n",
       "      <th>498</th>\n",
       "      <td>499</td>\n",
       "      <td>NaN</td>\n",
       "      <td>227.105462</td>\n",
       "      <td>65.738475</td>\n",
       "      <td>0.913909</td>\n",
       "      <td>NaN</td>\n",
       "      <td>NaN</td>\n",
       "      <td>NaN</td>\n",
       "      <td>448.305</td>\n",
       "      <td>0.891706</td>\n",
       "      <td>2.463546</td>\n",
       "      <td>NaN</td>\n",
       "    </tr>\n",
       "    <tr>\n",
       "      <th>499</th>\n",
       "      <td>500</td>\n",
       "      <td>NaN</td>\n",
       "      <td>227.928583</td>\n",
       "      <td>68.977700</td>\n",
       "      <td>0.914001</td>\n",
       "      <td>NaN</td>\n",
       "      <td>NaN</td>\n",
       "      <td>NaN</td>\n",
       "      <td>488.837</td>\n",
       "      <td>0.904748</td>\n",
       "      <td>2.464809</td>\n",
       "      <td>NaN</td>\n",
       "    </tr>\n",
       "  </tbody>\n",
       "</table>\n",
       "<p>500 rows × 12 columns</p>\n",
       "</div>"
      ],
      "text/plain": [
       "      ID  Daerah  SumbuUtama  SumbuKecil  Keunikan  AreaBulatan   Diameter  \\\n",
       "0      1  3992.0   74.133114   39.906517  0.719916       3802.0  71.293564   \n",
       "1      2  4881.0   74.364021   41.436419  0.725553       4913.0  78.833256   \n",
       "2      3  5642.0   74.691881   42.871879  0.731211          NaN  84.756224   \n",
       "3      4  6083.0   76.293164   43.284979  0.738639          NaN  88.006342   \n",
       "4      5     NaN   76.789043   44.119355  0.749282          NaN        NaN   \n",
       "..   ...     ...         ...         ...       ...          ...        ...   \n",
       "495  496     NaN  152.068440   63.322854  0.913724          NaN        NaN   \n",
       "496  497     NaN  152.113491   63.762307  0.913760          NaN        NaN   \n",
       "497  498     NaN  153.583387   64.012769  0.913891          NaN        NaN   \n",
       "498  499     NaN  227.105462   65.738475  0.913909          NaN        NaN   \n",
       "499  500     NaN  227.928583   68.977700  0.914001          NaN        NaN   \n",
       "\n",
       "     KadarAir  Keliling   Bulatan    Ransum  Kelas  \n",
       "0    0.735849   197.015  0.174590  1.440796    2.0  \n",
       "1    0.824405   200.587  0.261297  1.453137    NaN  \n",
       "2         NaN   202.456  0.299298  1.465950    NaN  \n",
       "3         NaN   207.325  0.589146  1.483456    NaN  \n",
       "4         NaN   207.697  0.603807  1.510000    NaN  \n",
       "..        ...       ...       ...       ...    ...  \n",
       "495       NaN   375.651  0.872417  2.461017    NaN  \n",
       "496       NaN   390.125  0.874243  2.461510    NaN  \n",
       "497       NaN   434.235  0.874743  2.463297    NaN  \n",
       "498       NaN   448.305  0.891706  2.463546    NaN  \n",
       "499       NaN   488.837  0.904748  2.464809    NaN  \n",
       "\n",
       "[500 rows x 12 columns]"
      ]
     },
     "execution_count": 15,
     "metadata": {},
     "output_type": "execute_result"
    }
   ],
   "source": [
    "data.mode()"
   ]
  },
  {
   "cell_type": "markdown",
   "metadata": {},
   "source": [
    "***"
   ]
  },
  {
   "cell_type": "markdown",
   "metadata": {},
   "source": [
    "## Soal No. 2"
   ]
  },
  {
   "cell_type": "markdown",
   "metadata": {},
   "source": [
    "Membuat Visualisasi plot distribusi, dalam bentuk histogram dan boxplot untuk setiap\n",
    "kolom numerik. Berikan uraian penjelasan kondisi setiap kolom berdasarkan kedua plot\n",
    "tersebut."
   ]
  },
  {
   "cell_type": "markdown",
   "metadata": {},
   "source": [
    "### Plot Distribusi dalam bentuk Histogram dan Boxplot"
   ]
  },
  {
   "cell_type": "markdown",
   "metadata": {},
   "source": [
    "#### Plot Distribusi ID"
   ]
  },
  {
   "cell_type": "code",
   "execution_count": 16,
   "metadata": {},
   "outputs": [
    {
     "data": {
      "text/plain": [
       "array([[<AxesSubplot:title={'center':'ID'}>]], dtype=object)"
      ]
     },
     "execution_count": 16,
     "metadata": {},
     "output_type": "execute_result"
    },
    {
     "data": {
      "image/png": "[encoded data removed]",
      "text/plain": [
       "<Figure size 432x288 with 1 Axes>"
      ]
     },
     "metadata": {
      "needs_background": "light"
     },
     "output_type": "display_data"
    },
    {
     "data": {
      "image/png": "[encoded data removed]",
      "text/plain": [
       "<Figure size 432x288 with 1 Axes>"
      ]
     },
     "metadata": {
      "needs_background": "light"
     },
     "output_type": "display_data"
    }
   ],
   "source": [
    "data.boxplot(column = 'ID')\n",
    "data.hist(column = 'ID')"
   ]
  },
  {
   "cell_type": "markdown",
   "metadata": {},
   "source": [
    "###### Analisis plot ID :\n",
    "Berdasarkan histogram plot dan boxplot dari data ID diatas, dapat disimpulkan bahwa data ID **tidak memiliki outliers**. Selain itu, persebaran data ID juga **No Skew**, atau **Normal**."
   ]
  },
  {
   "cell_type": "markdown",
   "metadata": {},
   "source": [
    "#### Plot Distribusi Daerah"
   ]
  },
  {
   "cell_type": "code",
   "execution_count": 160,
   "metadata": {},
   "outputs": [
    {
     "data": {
      "text/plain": [
       "array([[<AxesSubplot:title={'center':'Daerah'}>]], dtype=object)"
      ]
     },
     "execution_count": 160,
     "metadata": {},
     "output_type": "execute_result"
    },
    {
     "data": {
      "image/png": "[encoded data removed]",
      "text/plain": [
       "<Figure size 432x288 with 1 Axes>"
      ]
     },
     "metadata": {
      "needs_background": "light"
     },
     "output_type": "display_data"
    },
    {
     "data": {
      "image/png": "[encoded data removed]",
      "text/plain": [
       "<Figure size 432x288 with 1 Axes>"
      ]
     },
     "metadata": {
      "needs_background": "light"
     },
     "output_type": "display_data"
    }
   ],
   "source": [
    "data.boxplot(column = 'Daerah')\n",
    "data.hist(column = 'Daerah')"
   ]
  },
  {
   "cell_type": "markdown",
   "metadata": {},
   "source": [
    "##### Analisis plot Daerah:\n",
    "Berdasarkan histogramplot dan boxplot dari data Daerah diatas, dapat disimpulkan bahwa data daerah **tidak memiliki outliers**. Selain itu pada distribusi datanya, dapat dilihat bahwa data Daerah memiliki lebih banyak nilai yang lebih rendah. Sehingga dapat dikatakan sebagai **Positively Skewed**."
   ]
  },
  {
   "cell_type": "markdown",
   "metadata": {},
   "source": [
    "#### Plot Distribusi Sumbu Utama"
   ]
  },
  {
   "cell_type": "code",
   "execution_count": 162,
   "metadata": {},
   "outputs": [
    {
     "data": {
      "text/plain": [
       "array([[<AxesSubplot:title={'center':'SumbuUtama'}>]], dtype=object)"
      ]
     },
     "execution_count": 162,
     "metadata": {},
     "output_type": "execute_result"
    },
    {
     "data": {
      "image/png": "[encoded data removed]",
      "text/plain": [
       "<Figure size 432x288 with 1 Axes>"
      ]
     },
     "metadata": {
      "needs_background": "light"
     },
     "output_type": "display_data"
    },
    {
     "data": {
      "image/png": "[encoded data removed]",
      "text/plain": [
       "<Figure size 432x288 with 1 Axes>"
      ]
     },
     "metadata": {
      "needs_background": "light"
     },
     "output_type": "display_data"
    }
   ],
   "source": [
    "data.boxplot(column = 'SumbuUtama')\n",
    "data.hist(column = 'SumbuUtama')"
   ]
  },
  {
   "cell_type": "markdown",
   "metadata": {},
   "source": [
    "##### Analisis plot SumbuUtama : \n",
    "Berdasarkan histogramplot dan boxplot dari data SumbuUtama di atas, dapat disimpulkan bahwa data SumbuUtama **memiliki outliers** yang berada jauh diatas nilai \"maksimum\". Selain itu pada distribusi datanya, dapat dilihat bahwa data SumbuUtama memiliki lebih banyak nilai yang rendah. Sehingga dapat dikatakan sebagai **Positively Skewed**"
   ]
  },
  {
   "cell_type": "markdown",
   "metadata": {},
   "source": [
    "#### Plot Distribusi Sumbu Kecil"
   ]
  },
  {
   "cell_type": "code",
   "execution_count": 164,
   "metadata": {},
   "outputs": [
    {
     "data": {
      "text/plain": [
       "array([[<AxesSubplot:title={'center':'SumbuKecil'}>]], dtype=object)"
      ]
     },
     "execution_count": 164,
     "metadata": {},
     "output_type": "execute_result"
    },
    {
     "data": {
      "image/png": "[encoded data removed]",
      "text/plain": [
       "<Figure size 432x288 with 1 Axes>"
      ]
     },
     "metadata": {
      "needs_background": "light"
     },
     "output_type": "display_data"
    },
    {
     "data": {
      "image/png": "[encoded data removed]",
      "text/plain": [
       "<Figure size 432x288 with 1 Axes>"
      ]
     },
     "metadata": {
      "needs_background": "light"
     },
     "output_type": "display_data"
    }
   ],
   "source": [
    "data.boxplot(column = 'SumbuKecil')\n",
    "data.hist(column = 'SumbuKecil')"
   ]
  },
  {
   "cell_type": "markdown",
   "metadata": {},
   "source": [
    "##### Analisis plot SumbuKecil : \n",
    "Berdasarkan histogramplot dan boxplot dari data SumbuKecil di atas, dapat disimpulkan bahwa data SumbuKecil **memiliki outliers** yang berada diatas nilai \"maksimum\" dan juga di bawah nilai \"minimum\". Selain itu pada distribusi datanya, dapat dilihat bahwa data SumbuKecil memiliki lebih banyak nilai yang tinggi namun tidak signifikan. Sehingga dapat dikatakan sebagai sedikit **Negatively Skewed**"
   ]
  },
  {
   "cell_type": "markdown",
   "metadata": {},
   "source": [
    "#### Plot Distribusi Keunikan"
   ]
  },
  {
   "cell_type": "code",
   "execution_count": 166,
   "metadata": {},
   "outputs": [
    {
     "data": {
      "text/plain": [
       "array([[<AxesSubplot:title={'center':'Keunikan'}>]], dtype=object)"
      ]
     },
     "execution_count": 166,
     "metadata": {},
     "output_type": "execute_result"
    },
    {
     "data": {
      "image/png": "[encoded data removed]",
      "text/plain": [
       "<Figure size 432x288 with 1 Axes>"
      ]
     },
     "metadata": {
      "needs_background": "light"
     },
     "output_type": "display_data"
    },
    {
     "data": {
      "image/png": "[encoded data removed]",
      "text/plain": [
       "<Figure size 432x288 with 1 Axes>"
      ]
     },
     "metadata": {
      "needs_background": "light"
     },
     "output_type": "display_data"
    }
   ],
   "source": [
    "data.boxplot(column = 'Keunikan')\n",
    "data.hist(column = 'Keunikan')"
   ]
  },
  {
   "cell_type": "markdown",
   "metadata": {},
   "source": [
    "##### Analisis plot Keunikan : \n",
    "Berdasarkan histogramplot dan boxplot dari data Keunikan di atas, dapat disimpulkan bahwa data Keunikan **memiliki banyak outliers** yang berada di bawah nilai \"minimum\". Selain itu pada distribusi datanya, dapat dilihat bahwa data Keunikan memiliki lebih banyak nilai yang lebih tinggi dengan signifikan. Sehingga dapat dikatakan sebagai **Negatively Skewed**"
   ]
  },
  {
   "cell_type": "markdown",
   "metadata": {},
   "source": [
    "#### Plot Distribusi Area Bulatan"
   ]
  },
  {
   "cell_type": "code",
   "execution_count": 168,
   "metadata": {},
   "outputs": [
    {
     "data": {
      "text/plain": [
       "array([[<AxesSubplot:title={'center':'AreaBulatan'}>]], dtype=object)"
      ]
     },
     "execution_count": 168,
     "metadata": {},
     "output_type": "execute_result"
    },
    {
     "data": {
      "image/png": "[encoded data removed]",
      "text/plain": [
       "<Figure size 432x288 with 1 Axes>"
      ]
     },
     "metadata": {
      "needs_background": "light"
     },
     "output_type": "display_data"
    },
    {
     "data": {
      "image/png": "[encoded data removed]",
      "text/plain": [
       "<Figure size 432x288 with 1 Axes>"
      ]
     },
     "metadata": {
      "needs_background": "light"
     },
     "output_type": "display_data"
    }
   ],
   "source": [
    "data.boxplot(column = 'AreaBulatan')\n",
    "data.hist(column = 'AreaBulatan')"
   ]
  },
  {
   "cell_type": "markdown",
   "metadata": {},
   "source": [
    "##### Analisis plot AreaBulatan : \n",
    "Berdasarkan histogramplot dan boxplot dari data AreaBulatan di atas, dapat disimpulkan bahwa data AreaBulatan **tidak memiliki outliers**. Selain itu pada distribusi datanya, dapat dilihat bahwa data Keunikan memiliki lebih banyak nilai yang lebih rendah. Sehingga dapat dikatakan sebagai **Positively Skewed**"
   ]
  },
  {
   "cell_type": "markdown",
   "metadata": {},
   "source": [
    "#### Plot Distribusi Diameter"
   ]
  },
  {
   "cell_type": "code",
   "execution_count": 170,
   "metadata": {},
   "outputs": [
    {
     "data": {
      "text/plain": [
       "array([[<AxesSubplot:title={'center':'Diameter'}>]], dtype=object)"
      ]
     },
     "execution_count": 170,
     "metadata": {},
     "output_type": "execute_result"
    },
    {
     "data": {
      "image/png": "[encoded data removed]",
      "text/plain": [
       "<Figure size 432x288 with 1 Axes>"
      ]
     },
     "metadata": {
      "needs_background": "light"
     },
     "output_type": "display_data"
    },
    {
     "data": {
      "image/png": "[encoded data removed]",
      "text/plain": [
       "<Figure size 432x288 with 1 Axes>"
      ]
     },
     "metadata": {
      "needs_background": "light"
     },
     "output_type": "display_data"
    }
   ],
   "source": [
    "data.boxplot(column = 'Diameter')\n",
    "data.hist(column = 'Diameter')"
   ]
  },
  {
   "cell_type": "markdown",
   "metadata": {},
   "source": [
    "##### Analisis plot Diameter : \n",
    "Berdasarkan histogramplot dan boxplot dari data Diameter di atas, dapat disimpulkan bahwa data Diameter **tidak memiliki outliers**. Selain itu pada distribusi datanya, dapat dilihat bahwa data Diameter memiliki persebaranyan yang cenderung merata. Sehingga dapat dikatakan sebagai mendekati **No Skewed** atau **Normal**"
   ]
  },
  {
   "cell_type": "markdown",
   "metadata": {},
   "source": [
    "#### Plot Distribusi Kadar Air"
   ]
  },
  {
   "cell_type": "code",
   "execution_count": 23,
   "metadata": {},
   "outputs": [
    {
     "data": {
      "text/plain": [
       "array([[<AxesSubplot:title={'center':'KadarAir'}>]], dtype=object)"
      ]
     },
     "execution_count": 23,
     "metadata": {},
     "output_type": "execute_result"
    },
    {
     "data": {
      "image/png": "[encoded data removed]",
      "text/plain": [
       "<Figure size 432x288 with 1 Axes>"
      ]
     },
     "metadata": {
      "needs_background": "light"
     },
     "output_type": "display_data"
    },
    {
     "data": {
      "image/png": "[encoded data removed]",
      "text/plain": [
       "<Figure size 432x288 with 1 Axes>"
      ]
     },
     "metadata": {
      "needs_background": "light"
     },
     "output_type": "display_data"
    }
   ],
   "source": [
    "data.boxplot(column = 'KadarAir')\n",
    "data.hist(column = 'KadarAir')"
   ]
  },
  {
   "cell_type": "markdown",
   "metadata": {},
   "source": [
    "##### Analisis plot KadarAir : \n",
    "Berdasarkan histogramplot dan boxplot dari data KadarAir di atas, dapat disimpulkan bahwa data KadarAir **tidak memiliki outliers**. Selain itu pada distribusi datanya, dapat dilihat bahwa data KadarAir memiliki lebih banyak nilai yang lebih rendah. Sehingga dapat dikatakan sebagai **Positively Skewed**"
   ]
  },
  {
   "cell_type": "markdown",
   "metadata": {},
   "source": [
    "#### Plot Distribusi Keliling"
   ]
  },
  {
   "cell_type": "code",
   "execution_count": 172,
   "metadata": {},
   "outputs": [
    {
     "data": {
      "text/plain": [
       "array([[<AxesSubplot:title={'center':'Keliling'}>]], dtype=object)"
      ]
     },
     "execution_count": 172,
     "metadata": {},
     "output_type": "execute_result"
    },
    {
     "data": {
      "image/png": "[encoded data removed]",
      "text/plain": [
       "<Figure size 432x288 with 1 Axes>"
      ]
     },
     "metadata": {
      "needs_background": "light"
     },
     "output_type": "display_data"
    },
    {
     "data": {
      "image/png": "[encoded data removed]",
      "text/plain": [
       "<Figure size 432x288 with 1 Axes>"
      ]
     },
     "metadata": {
      "needs_background": "light"
     },
     "output_type": "display_data"
    }
   ],
   "source": [
    "data.boxplot(column = 'Keliling')\n",
    "data.hist(column = 'Keliling')"
   ]
  },
  {
   "cell_type": "markdown",
   "metadata": {},
   "source": [
    "##### Analisis plot Keliling: \n",
    "Berdasarkan histogramplot dan boxplot dari data Keliling di atas, dapat disimpulkan bahwa data Keliling **memiliki beberapa outliers** yang berada di atas nilai \"maksimum\". Selain itu pada distribusi datanya, dapat dilihat bahwa data Keliling memiliki lebih banyak nilai yang lebih rendah secara signifikan. Sehingga dapat dikatakan sebagai **Positively Skewed**"
   ]
  },
  {
   "cell_type": "markdown",
   "metadata": {},
   "source": [
    "#### Plot Distribusi Bulatan"
   ]
  },
  {
   "cell_type": "code",
   "execution_count": 25,
   "metadata": {},
   "outputs": [
    {
     "data": {
      "text/plain": [
       "array([[<AxesSubplot:title={'center':'Bulatan'}>]], dtype=object)"
      ]
     },
     "execution_count": 25,
     "metadata": {},
     "output_type": "execute_result"
    },
    {
     "data": {
      "image/png": "[encoded data removed]",
      "text/plain": [
       "<Figure size 432x288 with 1 Axes>"
      ]
     },
     "metadata": {
      "needs_background": "light"
     },
     "output_type": "display_data"
    },
    {
     "data": {
      "image/png": "[encoded data removed]",
      "text/plain": [
       "<Figure size 432x288 with 1 Axes>"
      ]
     },
     "metadata": {
      "needs_background": "light"
     },
     "output_type": "display_data"
    }
   ],
   "source": [
    "data.boxplot(column = 'Bulatan')\n",
    "data.hist(column = 'Bulatan')"
   ]
  },
  {
   "cell_type": "markdown",
   "metadata": {},
   "source": [
    "##### Analisis plot Bulatan : \n",
    "Berdasarkan histogramplot dan boxplot dari data Bulatan di atas, dapat disimpulkan bahwa data Bulatan **memiliki banyak outliers** yang berada di bawah nilai \"minimum\" dan juga satu di atas nilai \"maksimum\". Selain itu pada distribusi datanya, dapat dilihat bahwa data Bulatan memiliki lebih banyak nilai yang lebih tinggi dengan signifikan. Sehingga dapat dikatakan sebagai **Negatively Skewed**"
   ]
  },
  {
   "cell_type": "markdown",
   "metadata": {},
   "source": [
    "#### Plot Distribusi Ransum"
   ]
  },
  {
   "cell_type": "code",
   "execution_count": 26,
   "metadata": {},
   "outputs": [
    {
     "data": {
      "text/plain": [
       "array([[<AxesSubplot:title={'center':'Ransum'}>]], dtype=object)"
      ]
     },
     "execution_count": 26,
     "metadata": {},
     "output_type": "execute_result"
    },
    {
     "data": {
      "image/png": "[encoded data removed]",
      "text/plain": [
       "<Figure size 432x288 with 1 Axes>"
      ]
     },
     "metadata": {
      "needs_background": "light"
     },
     "output_type": "display_data"
    },
    {
     "data": {
      "image/png": "[encoded data removed]",
      "text/plain": [
       "<Figure size 432x288 with 1 Axes>"
      ]
     },
     "metadata": {
      "needs_background": "light"
     },
     "output_type": "display_data"
    }
   ],
   "source": [
    "data.boxplot(column = 'Ransum')\n",
    "data.hist(column = 'Ransum')"
   ]
  },
  {
   "cell_type": "markdown",
   "metadata": {},
   "source": [
    "##### Analisis plot Ransum : \n",
    "Berdasarkan histogramplot dan boxplot dari data Ransum di atas, dapat disimpulkan bahwa data Ransum **tidak memiliki outliers**. Selain itu pada distribusi datanya, dapat dilihat bahwa data Ransum memiliki lebih banyak nilai yang lebih tinggi dengan signifikan. Sehingga dapat dikatakan sebagai **Negatively Skewed**"
   ]
  },
  {
   "cell_type": "markdown",
   "metadata": {},
   "source": [
    "#### Plot Distribusi Kelas"
   ]
  },
  {
   "cell_type": "code",
   "execution_count": 175,
   "metadata": {},
   "outputs": [
    {
     "data": {
      "text/plain": [
       "array([[<AxesSubplot:title={'center':'Kelas'}>]], dtype=object)"
      ]
     },
     "execution_count": 175,
     "metadata": {},
     "output_type": "execute_result"
    },
    {
     "data": {
      "image/png": "[encoded data removed]",
      "text/plain": [
       "<Figure size 432x288 with 1 Axes>"
      ]
     },
     "metadata": {
      "needs_background": "light"
     },
     "output_type": "display_data"
    },
    {
     "data": {
      "image/png": "[encoded data removed]",
      "text/plain": [
       "<Figure size 432x288 with 1 Axes>"
      ]
     },
     "metadata": {
      "needs_background": "light"
     },
     "output_type": "display_data"
    }
   ],
   "source": [
    "data.boxplot(column = 'Kelas')\n",
    "data.hist(column = 'Kelas')"
   ]
  },
  {
   "cell_type": "markdown",
   "metadata": {},
   "source": [
    "##### Analisis plot Kelas : \n",
    "Berdasarkan histogramplot dan boxplot dari data Kelas di atas, dapat disimpulkan bahwa data Kelas **tidak memiliki outliers**. Selain itu pada distribusi datanya, dapat dilihat bahwa data Kelas memiliki persebaran data yang relatif sama. Sehingga dapat dikatakan sebagai **No Skew** atau **Normal**"
   ]
  },
  {
   "cell_type": "markdown",
   "metadata": {},
   "source": [
    "***"
   ]
  },
  {
   "cell_type": "markdown",
   "metadata": {},
   "source": [
    "## Soal No. 3"
   ]
  },
  {
   "cell_type": "markdown",
   "metadata": {},
   "source": [
    "Menentukan setiap kolom numerik berdistribusi normal atau tidak. Gunakan normality test\n",
    "yang dikaitkan dengan histogram plot."
   ]
  },
  {
   "cell_type": "markdown",
   "metadata": {},
   "source": [
    "### D’Agostino-Pearson Omnibus Test"
   ]
  },
  {
   "cell_type": "markdown",
   "metadata": {},
   "source": [
    "*Normality test* yang akan digunakan adalah *D’Agostino-Pearson Omnibus Test*. Dalam *normality test* ini, $Z_1$ dan $Z_2$ dapat dicari penyimpangannya dari *normality* berdasarkan *skewness* maupun *kurtosis*-nya. *Null hypothesis* ($H_0$) mengasumsikan bahwa data tes adalah berdistribusi normal. Data tes yang dilakukan untuk soal ini adalah data untuk setiap kolom.\n",
    "\n",
    "$$K^2 = Z_s(g_1)^2 + Z_k(g_2)^2$$\n",
    "\n",
    "Jika $H_0$ (*null hypothesis*) benar, maka $K^2$ diaproksimasi terdistribusi secara $\\chi^2$ (*chi-squared*) dengan 2 *degrees of freedom* (dua derajat kebebasan), di mana $g_1$ dan $g_2$ tidak independen, hanya berkolerasi, dan $Z_s(g_1)$ adalah hasil Skewness Agostino serta $Z_k(g_1)$ adalah hasil Kurtosis Agostino.\n",
    "\n",
    "Akan digunakan library `scipy` untuk mempermudah pencarian nilai stat dan p dari hasil normality test. Library `seaborn` digunakan untuk mempermudah visualisasi data dengan menggunakan histogram dan kurva.\n",
    "\n",
    "Terdapat dua kesimpulan yang dapat ditarik berdasarkan normality test, antara lain:\n",
    "1. Apabila $p > \\alpha$, maka $H_0$ diterima, sehingga kolom tersebut dikatakan berdistribusi normal.\n",
    "2. Apabila $p \\leq \\alpha$, maka $H_0$ ditolak, sehingga kolom tersebut **tidak dapat** dikatakan berdistribusi normal.\n",
    "\n",
    "Untuk setiap tes, akan digunakan nilai $\\alpha = 0.05$."
   ]
  },
  {
   "cell_type": "code",
   "execution_count": 28,
   "metadata": {},
   "outputs": [],
   "source": [
    "# Import dari scipy untuk mempermudah normality test\n",
    "from scipy.stats import normaltest\n",
    "\n",
    "# Fungsi normality test berdasarkan D’Agostino-Pearson Omnibus Test\n",
    "def omnibusTest(name):\n",
    "    s, p = normaltest(data[name])\n",
    "    print(\"Nilai s : {:.5f}\".format(s))\n",
    "    print(\"Nilai p : {:.5f}\".format(p))\n",
    "    if (p > 0.05):\n",
    "        print(\"Karena p > 0.05, maka kolom\", name, \"terdistribusi normal.\")\n",
    "    else:\n",
    "        print(\"Karena p \\u2264 0.05, maka kolom\", name, \"tidak terdistirbusi normal.\")\n",
    "        "
   ]
  },
  {
   "cell_type": "markdown",
   "metadata": {},
   "source": [
    "#### ID"
   ]
  },
  {
   "cell_type": "code",
   "execution_count": 29,
   "metadata": {
    "scrolled": true
   },
   "outputs": [
    {
     "data": {
      "text/plain": [
       "<AxesSubplot:xlabel='ID'>"
      ]
     },
     "execution_count": 29,
     "metadata": {},
     "output_type": "execute_result"
    },
    {
     "data": {
      "image/png": "[encoded data removed]",
      "text/plain": [
       "<Figure size 432x288 with 1 Axes>"
      ]
     },
     "metadata": {
      "needs_background": "light"
     },
     "output_type": "display_data"
    }
   ],
   "source": [
    "sns.distplot(data['ID'])"
   ]
  },
  {
   "cell_type": "code",
   "execution_count": 30,
   "metadata": {},
   "outputs": [
    {
     "name": "stdout",
     "output_type": "stream",
     "text": [
      "Nilai s : 317.44393\n",
      "Nilai p : 0.00000\n",
      "Karena p ≤ 0.05, maka kolom ID tidak terdistirbusi normal.\n"
     ]
    }
   ],
   "source": [
    "omnibusTest(\"ID\")"
   ]
  },
  {
   "cell_type": "markdown",
   "metadata": {},
   "source": [
    "**Penjelasan:** Puncak yang \"lebar\" menandakan nilai kurtosis yang kecil. Kolom ID **tidak** berdistribusi normal."
   ]
  },
  {
   "cell_type": "markdown",
   "metadata": {},
   "source": [
    "#### Daerah"
   ]
  },
  {
   "cell_type": "code",
   "execution_count": 31,
   "metadata": {},
   "outputs": [
    {
     "data": {
      "text/plain": [
       "<AxesSubplot:xlabel='Daerah'>"
      ]
     },
     "execution_count": 31,
     "metadata": {},
     "output_type": "execute_result"
    },
    {
     "data": {
      "image/png": "[encoded data removed]",
      "text/plain": [
       "<Figure size 432x288 with 1 Axes>"
      ]
     },
     "metadata": {
      "needs_background": "light"
     },
     "output_type": "display_data"
    }
   ],
   "source": [
    "sns.distplot(data['Daerah'])"
   ]
  },
  {
   "cell_type": "code",
   "execution_count": 32,
   "metadata": {},
   "outputs": [
    {
     "name": "stdout",
     "output_type": "stream",
     "text": [
      "Nilai s : 10.85855\n",
      "Nilai p : 0.00439\n",
      "Karena p ≤ 0.05, maka kolom Daerah tidak terdistirbusi normal.\n"
     ]
    }
   ],
   "source": [
    "omnibusTest(\"Daerah\")"
   ]
  },
  {
   "cell_type": "markdown",
   "metadata": {},
   "source": [
    "**Penjelasan:** Dilihat dari grafik kurva pada histogram, tergambar *positive skewness*. Kolom Daerah **tidak** berdistribusi normal."
   ]
  },
  {
   "cell_type": "markdown",
   "metadata": {},
   "source": [
    "#### Sumbu Utama"
   ]
  },
  {
   "cell_type": "code",
   "execution_count": 33,
   "metadata": {},
   "outputs": [
    {
     "data": {
      "text/plain": [
       "<AxesSubplot:xlabel='SumbuUtama'>"
      ]
     },
     "execution_count": 33,
     "metadata": {},
     "output_type": "execute_result"
    },
    {
     "data": {
      "image/png": "[encoded data removed]",
      "text/plain": [
       "<Figure size 432x288 with 1 Axes>"
      ]
     },
     "metadata": {
      "needs_background": "light"
     },
     "output_type": "display_data"
    }
   ],
   "source": [
    "sns.distplot(data[\"SumbuUtama\"])"
   ]
  },
  {
   "cell_type": "code",
   "execution_count": 34,
   "metadata": {},
   "outputs": [
    {
     "name": "stdout",
     "output_type": "stream",
     "text": [
      "Nilai s : 95.12011\n",
      "Nilai p : 0.00000\n",
      "Karena p ≤ 0.05, maka kolom SumbuUtama tidak terdistirbusi normal.\n"
     ]
    }
   ],
   "source": [
    "omnibusTest(\"SumbuUtama\")"
   ]
  },
  {
   "cell_type": "markdown",
   "metadata": {},
   "source": [
    "**Penjelasan:** Nilai *positive skewness* cukup besar diakibatkan adanya *tail* di bagian kanan histogram. Kolom Sumbu Utama **tidak** berdistribusi normal."
   ]
  },
  {
   "cell_type": "markdown",
   "metadata": {},
   "source": [
    "#### Sumbu Kecil"
   ]
  },
  {
   "cell_type": "code",
   "execution_count": 35,
   "metadata": {},
   "outputs": [
    {
     "data": {
      "text/plain": [
       "<AxesSubplot:xlabel='SumbuKecil'>"
      ]
     },
     "execution_count": 35,
     "metadata": {},
     "output_type": "execute_result"
    },
    {
     "data": {
      "image/png": "[encoded data removed]",
      "text/plain": [
       "<Figure size 432x288 with 1 Axes>"
      ]
     },
     "metadata": {
      "needs_background": "light"
     },
     "output_type": "display_data"
    }
   ],
   "source": [
    "sns.distplot(data[\"SumbuKecil\"])"
   ]
  },
  {
   "cell_type": "code",
   "execution_count": 36,
   "metadata": {},
   "outputs": [
    {
     "name": "stdout",
     "output_type": "stream",
     "text": [
      "Nilai s : 3.69839\n",
      "Nilai p : 0.15736\n",
      "Karena p > 0.05, maka kolom SumbuKecil terdistribusi normal.\n"
     ]
    }
   ],
   "source": [
    "omnibusTest(\"SumbuKecil\")"
   ]
  },
  {
   "cell_type": "markdown",
   "metadata": {},
   "source": [
    "**Penjelasan:** Nilai *skewness* sangat kecil, oleh karena itu terlihat bahwa kurva seperti simetris. Nilai kurtosis tidak terlalu menyimbang (terlalu \"kurus\" atau terlalu \"gendut\"). Kolom Sumbu Kecil **berdistribusi normal**."
   ]
  },
  {
   "cell_type": "markdown",
   "metadata": {},
   "source": [
    "#### Keunikan"
   ]
  },
  {
   "cell_type": "code",
   "execution_count": 37,
   "metadata": {},
   "outputs": [
    {
     "data": {
      "text/plain": [
       "<AxesSubplot:xlabel='Keunikan'>"
      ]
     },
     "execution_count": 37,
     "metadata": {},
     "output_type": "execute_result"
    },
    {
     "data": {
      "image/png": "[encoded data removed]",
      "text/plain": [
       "<Figure size 432x288 with 1 Axes>"
      ]
     },
     "metadata": {
      "needs_background": "light"
     },
     "output_type": "display_data"
    }
   ],
   "source": [
    "sns.distplot(data[\"Keunikan\"])"
   ]
  },
  {
   "cell_type": "code",
   "execution_count": 38,
   "metadata": {},
   "outputs": [
    {
     "name": "stdout",
     "output_type": "stream",
     "text": [
      "Nilai s : 158.61744\n",
      "Nilai p : 0.00000\n",
      "Karena p ≤ 0.05, maka kolom Keunikan tidak terdistirbusi normal.\n"
     ]
    }
   ],
   "source": [
    "omnibusTest(\"Keunikan\")"
   ]
  },
  {
   "cell_type": "markdown",
   "metadata": {},
   "source": [
    "**Penjelasan:** Histogram sangat *negative skewness*, karena data cenderung terkumpul di kanan. Kolom Keunikan **tidak** berdistribusi normal."
   ]
  },
  {
   "cell_type": "markdown",
   "metadata": {},
   "source": [
    "#### Area Bulatan"
   ]
  },
  {
   "cell_type": "code",
   "execution_count": 39,
   "metadata": {},
   "outputs": [
    {
     "data": {
      "text/plain": [
       "<AxesSubplot:xlabel='AreaBulatan'>"
      ]
     },
     "execution_count": 39,
     "metadata": {},
     "output_type": "execute_result"
    },
    {
     "data": {
      "image/png": "[encoded data removed]",
      "text/plain": [
       "<Figure size 432x288 with 1 Axes>"
      ]
     },
     "metadata": {
      "needs_background": "light"
     },
     "output_type": "display_data"
    }
   ],
   "source": [
    "sns.distplot(data[\"AreaBulatan\"])"
   ]
  },
  {
   "cell_type": "code",
   "execution_count": 40,
   "metadata": {},
   "outputs": [
    {
     "name": "stdout",
     "output_type": "stream",
     "text": [
      "Nilai s : 10.73874\n",
      "Nilai p : 0.00466\n",
      "Karena p ≤ 0.05, maka kolom AreaBulatan tidak terdistirbusi normal.\n"
     ]
    }
   ],
   "source": [
    "omnibusTest(\"AreaBulatan\")"
   ]
  },
  {
   "cell_type": "markdown",
   "metadata": {},
   "source": [
    "**Penjelasan:** Histogram cenderung bersifat *positive skewness*. Kurtosis cenderung negatif (kurva terlihat lebar). Kolom Area Bulatan **tidak** berdistribusi normal."
   ]
  },
  {
   "cell_type": "markdown",
   "metadata": {},
   "source": [
    "#### Diameter"
   ]
  },
  {
   "cell_type": "code",
   "execution_count": 41,
   "metadata": {},
   "outputs": [
    {
     "data": {
      "text/plain": [
       "<AxesSubplot:xlabel='Diameter'>"
      ]
     },
     "execution_count": 41,
     "metadata": {},
     "output_type": "execute_result"
    },
    {
     "data": {
      "image/png": "[encoded data removed]",
      "text/plain": [
       "<Figure size 432x288 with 1 Axes>"
      ]
     },
     "metadata": {
      "needs_background": "light"
     },
     "output_type": "display_data"
    }
   ],
   "source": [
    "sns.distplot(data[\"Diameter\"])"
   ]
  },
  {
   "cell_type": "code",
   "execution_count": 42,
   "metadata": {},
   "outputs": [
    {
     "name": "stdout",
     "output_type": "stream",
     "text": [
      "Nilai s : 7.44635\n",
      "Nilai p : 0.02416\n",
      "Karena p ≤ 0.05, maka kolom Diameter tidak terdistirbusi normal.\n"
     ]
    }
   ],
   "source": [
    "omnibusTest(\"Diameter\")"
   ]
  },
  {
   "cell_type": "markdown",
   "metadata": {},
   "source": [
    "**Penjelasan:** Kurva sedikit menunjukkan nilai *positive skewness*. Nilai kurtosis cenderung negatif (kurva lebar). Kolom Diameter **tidak** berdistribusi normal."
   ]
  },
  {
   "cell_type": "markdown",
   "metadata": {},
   "source": [
    "#### Kadar Air"
   ]
  },
  {
   "cell_type": "code",
   "execution_count": 43,
   "metadata": {},
   "outputs": [
    {
     "data": {
      "text/plain": [
       "<AxesSubplot:xlabel='KadarAir'>"
      ]
     },
     "execution_count": 43,
     "metadata": {},
     "output_type": "execute_result"
    },
    {
     "data": {
      "image/png": "[encoded data removed]",
      "text/plain": [
       "<Figure size 432x288 with 1 Axes>"
      ]
     },
     "metadata": {
      "needs_background": "light"
     },
     "output_type": "display_data"
    }
   ],
   "source": [
    "sns.distplot(data[\"KadarAir\"])"
   ]
  },
  {
   "cell_type": "code",
   "execution_count": 44,
   "metadata": {},
   "outputs": [
    {
     "name": "stdout",
     "output_type": "stream",
     "text": [
      "Nilai s : 48.75592\n",
      "Nilai p : 0.00000\n",
      "Karena p ≤ 0.05, maka kolom KadarAir tidak terdistirbusi normal.\n"
     ]
    }
   ],
   "source": [
    "omnibusTest(\"KadarAir\")"
   ]
  },
  {
   "cell_type": "markdown",
   "metadata": {},
   "source": [
    "**Penjelasan:** Kurva histogram cenderung bersifat *positive skewness*. Nilai kurtosis cenderung negatif (kurva lebar). Kolom Kadar Air **tidak** berdistribusi normal."
   ]
  },
  {
   "cell_type": "markdown",
   "metadata": {},
   "source": [
    "#### Keliling"
   ]
  },
  {
   "cell_type": "code",
   "execution_count": 45,
   "metadata": {},
   "outputs": [
    {
     "data": {
      "text/plain": [
       "<AxesSubplot:xlabel='Keliling'>"
      ]
     },
     "execution_count": 45,
     "metadata": {},
     "output_type": "execute_result"
    },
    {
     "data": {
      "image/png": "[encoded data removed]",
      "text/plain": [
       "<Figure size 432x288 with 1 Axes>"
      ]
     },
     "metadata": {
      "needs_background": "light"
     },
     "output_type": "display_data"
    }
   ],
   "source": [
    "sns.distplot(data[\"Keliling\"])"
   ]
  },
  {
   "cell_type": "code",
   "execution_count": 46,
   "metadata": {},
   "outputs": [
    {
     "name": "stdout",
     "output_type": "stream",
     "text": [
      "Nilai s : 67.46548\n",
      "Nilai p : 0.00000\n",
      "Karena p ≤ 0.05, maka kolom Keliling tidak terdistirbusi normal.\n"
     ]
    }
   ],
   "source": [
    "omnibusTest(\"Keliling\")"
   ]
  },
  {
   "cell_type": "markdown",
   "metadata": {},
   "source": [
    "**Penjelasan:** Histrogram cenderung *positive skewness* dilihat dari adanya *tail* pada bagian kanan. Kolom Keliling **tidak** berdistribusi normal."
   ]
  },
  {
   "cell_type": "markdown",
   "metadata": {},
   "source": [
    "#### Bulatan"
   ]
  },
  {
   "cell_type": "code",
   "execution_count": 47,
   "metadata": {},
   "outputs": [
    {
     "data": {
      "text/plain": [
       "<AxesSubplot:xlabel='Bulatan'>"
      ]
     },
     "execution_count": 47,
     "metadata": {},
     "output_type": "execute_result"
    },
    {
     "data": {
      "image/png": "[encoded data removed]",
      "text/plain": [
       "<Figure size 432x288 with 1 Axes>"
      ]
     },
     "metadata": {
      "needs_background": "light"
     },
     "output_type": "display_data"
    }
   ],
   "source": [
    "sns.distplot(data[\"Bulatan\"])"
   ]
  },
  {
   "cell_type": "code",
   "execution_count": 48,
   "metadata": {},
   "outputs": [
    {
     "name": "stdout",
     "output_type": "stream",
     "text": [
      "Nilai s : 442.11942\n",
      "Nilai p : 0.00000\n",
      "Karena p ≤ 0.05, maka kolom Bulatan tidak terdistirbusi normal.\n"
     ]
    }
   ],
   "source": [
    "omnibusTest(\"Bulatan\")"
   ]
  },
  {
   "cell_type": "markdown",
   "metadata": {},
   "source": [
    "**Penjelasan:** Histogram cenderung bersifat *negative skewness*, dilihat dari adanya *tail* pada bagian kiri histogram dan data yang menumpuk pada bagian kanan. Nilai kurtosis cenderung tinggi (kurva \"kurus). Kolom Bulatan **tidak** berdistribusi normal."
   ]
  },
  {
   "cell_type": "markdown",
   "metadata": {},
   "source": [
    "#### Ransum"
   ]
  },
  {
   "cell_type": "code",
   "execution_count": 49,
   "metadata": {},
   "outputs": [
    {
     "data": {
      "text/plain": [
       "<AxesSubplot:xlabel='Ransum'>"
      ]
     },
     "execution_count": 49,
     "metadata": {},
     "output_type": "execute_result"
    },
    {
     "data": {
      "image/png": "[encoded data removed]",
      "text/plain": [
       "<Figure size 432x288 with 1 Axes>"
      ]
     },
     "metadata": {
      "needs_background": "light"
     },
     "output_type": "display_data"
    }
   ],
   "source": [
    "sns.distplot(data[\"Ransum\"])"
   ]
  },
  {
   "cell_type": "code",
   "execution_count": 50,
   "metadata": {},
   "outputs": [
    {
     "name": "stdout",
     "output_type": "stream",
     "text": [
      "Nilai s : 37.06032\n",
      "Nilai p : 0.00000\n",
      "Karena p ≤ 0.05, maka kolom Ransum tidak terdistirbusi normal.\n"
     ]
    }
   ],
   "source": [
    "omnibusTest(\"Ransum\")"
   ]
  },
  {
   "cell_type": "markdown",
   "metadata": {},
   "source": [
    "**Penjelasan:** Nilai cenderung *negative skewness*. Nilai kurtosis cenderung negatif akibat kurva yang terlihat cukup lebar. Kolom Ransum **tidak** berdistribusi normal."
   ]
  },
  {
   "cell_type": "markdown",
   "metadata": {},
   "source": [
    "#### Kelas"
   ]
  },
  {
   "cell_type": "code",
   "execution_count": 51,
   "metadata": {},
   "outputs": [
    {
     "data": {
      "text/plain": [
       "<AxesSubplot:xlabel='Kelas'>"
      ]
     },
     "execution_count": 51,
     "metadata": {},
     "output_type": "execute_result"
    },
    {
     "data": {
      "image/png": "[encoded data removed]",
      "text/plain": [
       "<Figure size 432x288 with 1 Axes>"
      ]
     },
     "metadata": {
      "needs_background": "light"
     },
     "output_type": "display_data"
    }
   ],
   "source": [
    "sns.distplot(data[\"Kelas\"])"
   ]
  },
  {
   "cell_type": "code",
   "execution_count": 52,
   "metadata": {},
   "outputs": [
    {
     "name": "stdout",
     "output_type": "stream",
     "text": [
      "Nilai s : 2069.99536\n",
      "Nilai p : 0.00000\n",
      "Karena p ≤ 0.05, maka kolom Kelas tidak terdistirbusi normal.\n"
     ]
    }
   ],
   "source": [
    "omnibusTest(\"Kelas\")"
   ]
  },
  {
   "cell_type": "markdown",
   "metadata": {},
   "source": [
    "**Penjelasan:** Terdapat dua puncak dengan tinggi yang sama. Tidak ada kecenderungan *skewness*. Namun, bentuk kurva tidak menyerupai bentul bel, sehingga kolom Kelas **tidak** berdistribusi normal."
   ]
  },
  {
   "cell_type": "markdown",
   "metadata": {},
   "source": [
    "### Kesimpulan"
   ]
  },
  {
   "cell_type": "markdown",
   "metadata": {},
   "source": [
    "Berdasarkan nilai $p$ yang dibandingkan dengan $\\alpha$, teridentifikasi bahwa ada 2 kolom yang memenuhi normality test, yaitu kolom Sumbu Kecil dan Kelas. Namun, apabila ditinjau dari visualisasi plot distribusi, hanya kolom Sumbu Kecil yang membentuk atau menyerupai bel.\n",
    "\n",
    "**Maka, hanya kolom Sumbu Kecil yang berdistribusi normal.**"
   ]
  },
  {
   "cell_type": "markdown",
   "metadata": {},
   "source": [
    "***"
   ]
  },
  {
   "cell_type": "markdown",
   "metadata": {},
   "source": [
    "## Soal No. 4"
   ]
  },
  {
   "cell_type": "markdown",
   "metadata": {},
   "source": [
    "Melakukan test hipotesis 1 sampel, dengan menuliskan 6 langkah testing dan menampilkan juga boxplotnya untuk kolom/bagian yang bersesuaian.\n",
    "1. Nilai rata-rata Daerah di atas 4700?\n",
    "2. Nilai rata-rata Sumbu Utama tidak sama dengan 116?\n",
    "3. Nilai rata-rata 20 baris pertama kolom Sumbu Kecil bukan 50?\n",
    "4. Proporsi nilai Diameter yang lebih dari 85, adalah tidak sama dengan 15% ?\n",
    "5. Proporsi nilai Keliling yang kurang dari 100, adalah kurang dari 5% ?"
   ]
  },
  {
   "cell_type": "code",
   "execution_count": 144,
   "metadata": {},
   "outputs": [],
   "source": [
    "## Slovinsform adalah sebuah formula yang digunakan untuk mencari nilai yang tepat untuk sebuah sample dari suatu populasi\n",
    "## berdasarkan margin of error yang diberikan\n",
    "## pada kasus ini, margin of error yang kami berikan adalah = 0.05 = 0.05%\n",
    "def slovinsForm(population, error):\n",
    "    sample = population/ (1+population*(error*error))\n",
    "    return round(sample)\n",
    "'''\n",
    "def getSample(array, mod, nsample):\n",
    "    newArr = []\n",
    "    count = 0\n",
    "    i = 0\n",
    "    while (i <len(array) and count < nsample):\n",
    "        if(i%mod == 0):\n",
    "            newArr.append(array[i])\n",
    "            count += 1\n",
    "        i+=1\n",
    "    return newArr\n",
    "'''\n",
    "\n",
    "\n",
    "def xbar(array):\n",
    "    sum = 0\n",
    "    for i in range(len(array)):\n",
    "        sum+=array[i]\n",
    "    avg = sum/len(array)\n",
    "    return avg"
   ]
  },
  {
   "cell_type": "markdown",
   "metadata": {},
   "source": [
    "### a. Nilai rata-rata Daerah di atas 4700? \n",
    "\n",
    "###### 1. Hipotesis Null\n",
    "\n",
    "$ H_0 : \\mu = 4700 $\n",
    "\n",
    "###### 2. Hipotesis Alternatif\n",
    "\n",
    "$ H_1 : \\mu > 4700$\n",
    "\n",
    "###### 3. Tingkat Signifikan\n",
    "\n",
    "$\\alpha = 0.05$\n",
    "\n",
    "###### 4. Uji Statistik yang sesuai dan Daerah Kritis\n",
    "\n",
    "Uji statistik yang sesuai adalah **tes hipotesis 1 arah**\n",
    "\n",
    "Daerah kritis : $ Z > Z_{\\alpha} = Z > Z_{0.05} $"
   ]
  },
  {
   "cell_type": "code",
   "execution_count": 145,
   "metadata": {},
   "outputs": [
    {
     "name": "stdout",
     "output_type": "stream",
     "text": [
      "nilai dari Z alpha adalah  1.6448536269514722\n"
     ]
    }
   ],
   "source": [
    "alpha = 0.05\n",
    "Z_alpha = st.norm.ppf(1 - alpha)\n",
    "print(\"nilai dari Z alpha adalah \", Z_alpha)\n"
   ]
  },
  {
   "cell_type": "markdown",
   "metadata": {},
   "source": [
    "sehingga daerah kritisnya adalah $ Z > 1.645 $\n",
    "\n",
    "###### 5. Uji Statistik dan P - Value"
   ]
  },
  {
   "cell_type": "code",
   "execution_count": 146,
   "metadata": {},
   "outputs": [
    {
     "name": "stdout",
     "output_type": "stream",
     "text": [
      "Sampel yang diambil adalah  222\n",
      "rata rata sample 4852.261261261261\n",
      "nilai Z dari uji statistik daerah adalah  2.299931130490936\n"
     ]
    }
   ],
   "source": [
    "m = 4700\n",
    "std_daerah = data['Daerah'].std()\n",
    "nsample = slovinsForm(baris,0.05)\n",
    "print(\"Sampel yang diambil adalah \", nsample)\n",
    "daerahSample = data['Daerah'].head(nsample//2)\n",
    "daerahSample = daerahSample.append(data['Daerah'].tail(nsample//2))\n",
    "xbar_daerah = daerahSample.mean()\n",
    "print(\"rata rata sample\", xbar_daerah)\n",
    "Z_daerah = (xbar_daerah-m)/(std_daerah/(sqrt(nsample)))\n",
    "print(\"nilai Z dari uji statistik daerah adalah \",Z_daerah)"
   ]
  },
  {
   "cell_type": "markdown",
   "metadata": {},
   "source": [
    "Selanjutnya, dilakukan tes signifikansi dengan p-value\n",
    "\n",
    "p_value = P(Z>2.299931130490936) = 1 - P(Z<2.299931130490936)"
   ]
  },
  {
   "cell_type": "code",
   "execution_count": 56,
   "metadata": {},
   "outputs": [
    {
     "name": "stdout",
     "output_type": "stream",
     "text": [
      "P-value adalah 0.010726061045373658\n"
     ]
    }
   ],
   "source": [
    "p_value = 1-st.norm.cdf(Z_daerah)\n",
    "print(\"P-value adalah\", p_value)"
   ]
  },
  {
   "cell_type": "markdown",
   "metadata": {},
   "source": [
    "###### 6. Keputusan"
   ]
  },
  {
   "cell_type": "markdown",
   "metadata": {},
   "source": [
    "Maka dari uji statistik, Tolak  $ H_0 $ karena Z dari uji statistik daerah lebih besar dari $Z_{0.05}$ , yaitu 2.300 > 1.645, sehingga terletak pada daerah kritis. Jadi daerah rata rata diatas 4700\n",
    "\n",
    "Karena $ P-value < \\alpha $, yaitu 0.0107 < 0.05, maka benar tes ini menolak $ H_0 $"
   ]
  },
  {
   "cell_type": "markdown",
   "metadata": {},
   "source": [
    "#### Boxplot dari sampel daerah yang diambil"
   ]
  },
  {
   "cell_type": "code",
   "execution_count": 57,
   "metadata": {},
   "outputs": [
    {
     "data": {
      "text/plain": [
       "<AxesSubplot:>"
      ]
     },
     "execution_count": 57,
     "metadata": {},
     "output_type": "execute_result"
    },
    {
     "data": {
      "image/png": "[encoded data removed]",
      "text/plain": [
       "<Figure size 432x288 with 1 Axes>"
      ]
     },
     "metadata": {
      "needs_background": "light"
     },
     "output_type": "display_data"
    }
   ],
   "source": [
    "newDaerah = data.head(nsample//2)\n",
    "newDaerah = newDaerah.append(data.tail(nsample//2))\n",
    "newDaerah.boxplot([\"Daerah\"])"
   ]
  },
  {
   "cell_type": "markdown",
   "metadata": {},
   "source": [
    "### b. Nilai Rata-rata Sumbu Utama tidak sama dengan 116?\n",
    "\n",
    "###### 1. Hipotesis Null\n",
    "$ H_0 : \\mu = 116 $\n",
    "###### 2. Hipotesis Alternatif\n",
    "$ H_1 : \\mu \\neq 116$\n",
    "###### 3. Tingkat Signifikan\n",
    "$\\alpha = 0.05$\n",
    "###### 4. Uji Statistik yang sesuaidan Daserah Kritis\n",
    "Uji statistik yang sesuai adalah  **tes hipotesis 2 arah**\n",
    "\n",
    "Daerah kritis : $ Z < -Z_{\\alpha/2} $ atau $Z > Z_{\\alpha/2}$ = $Z < -Z_{0.025}$ atau $ Z > Z_{0.025} $"
   ]
  },
  {
   "cell_type": "code",
   "execution_count": 147,
   "metadata": {},
   "outputs": [
    {
     "name": "stdout",
     "output_type": "stream",
     "text": [
      "nilai dari Z(alpha/2) adalah  1.959963984540054\n",
      "nilai dari -Z(alpha/2) adalah  -1.959963984540054\n"
     ]
    }
   ],
   "source": [
    "alpha = 0.05\n",
    "Z_alpha = st.norm.ppf(1 - (alpha/2))\n",
    "print(\"nilai dari Z(alpha/2) adalah \", Z_alpha)\n",
    "print(\"nilai dari -Z(alpha/2) adalah \", (-1*Z_alpha))"
   ]
  },
  {
   "cell_type": "markdown",
   "metadata": {},
   "source": [
    "sehingga daerah kritisnya adalah $ Z <  -1.960 $ atau $ Z >  1.960 $\n",
    "\n",
    "###### 5. Uji Statistik dan P - Value"
   ]
  },
  {
   "cell_type": "code",
   "execution_count": 59,
   "metadata": {},
   "outputs": [
    {
     "name": "stdout",
     "output_type": "stream",
     "text": [
      "Sampel yang diambil adalah  222\n",
      "nilai Z dari uji statistik sumbu utama adalah  1.8612576272635428\n"
     ]
    }
   ],
   "source": [
    "m = 116\n",
    "std_sumbuUtama = data['SumbuUtama'].std()\n",
    "nsample = slovinsForm(baris,0.05)\n",
    "print(\"Sampel yang diambil adalah \", nsample)\n",
    "sumbuUtamaSample = data['SumbuUtama'].head(nsample//2)\n",
    "sumbuUtamaSample = sumbuUtamaSample.append(data['SumbuUtama'].tail(nsample//2))\n",
    "xbar_sumbuUtama = sumbuUtamaSample.mean()\n",
    "Z_sumbuUtama = (xbar_sumbuUtama-m)/(std_sumbuUtama/(sqrt(nsample)))\n",
    "print(\"nilai Z dari uji statistik sumbu utama adalah \",Z_sumbuUtama)"
   ]
  },
  {
   "cell_type": "markdown",
   "metadata": {},
   "source": [
    "Selanjutnya, dilakukan tes signifikansi dengan p-value.\n",
    "\n",
    "p_value = 2 P(Z > 1.8612576272635428) = 2(1 - P(Z < 1.8612576272635428))"
   ]
  },
  {
   "cell_type": "code",
   "execution_count": 60,
   "metadata": {},
   "outputs": [
    {
     "name": "stdout",
     "output_type": "stream",
     "text": [
      "P-value adalah 0.06270780385712116\n"
     ]
    }
   ],
   "source": [
    "p_value = 2*(1-st.norm.cdf(Z_sumbuUtama))\n",
    "print(\"P-value adalah\", p_value)"
   ]
  },
  {
   "cell_type": "markdown",
   "metadata": {},
   "source": [
    "##### 6. Keputusan\n",
    "Maka dari uji statistik, Terima $ H_0 $ karena Z dari uji statistik sumbu utama terletak diluar daerah kritis. Jadi rata rata sumbu utama sama dengan 116.\n",
    "\n",
    "Karena $ P-value > {\\alpha} $, yaitu 0.063 > 0.05, maka benar tes ini menerima $ H_0 $."
   ]
  },
  {
   "cell_type": "markdown",
   "metadata": {},
   "source": [
    "#### Boxplot dari sampel sumbu utama yang diambil"
   ]
  },
  {
   "cell_type": "code",
   "execution_count": 61,
   "metadata": {},
   "outputs": [
    {
     "data": {
      "text/plain": [
       "<AxesSubplot:>"
      ]
     },
     "execution_count": 61,
     "metadata": {},
     "output_type": "execute_result"
    },
    {
     "data": {
      "image/png": "[encoded data removed]",
      "text/plain": [
       "<Figure size 432x288 with 1 Axes>"
      ]
     },
     "metadata": {
      "needs_background": "light"
     },
     "output_type": "display_data"
    }
   ],
   "source": [
    "newSumbuUtama = data.head(nsample//2)\n",
    "newSumbuUtama = newSumbuUtama.append(data.tail(nsample//2))\n",
    "newSumbuUtama.boxplot([\"SumbuUtama\"])"
   ]
  },
  {
   "cell_type": "markdown",
   "metadata": {},
   "source": [
    "### c. Nilai Rata-rata 20 baris pertama kolom Sumbu Kecil bukan 50?\n",
    "\n",
    "##### 1. Hipotesis Null\n",
    "$ H_0 : \\mu = 50 $\n",
    "##### 2. Hipotesis Alternatif\n",
    "$ H_1 : \\mu \\neq 50$\n",
    "##### 3. Tingkat Signifikan\n",
    "$\\alpha = 0.05$\n",
    "##### 4. Uji Statistik yang Sesuai dan Daerah Kritis\n",
    "Uji satistik yang sesuai adalah **tes hipotesis 2 arah**\n",
    "\n",
    "Daerah kritis : $ Z < -Z_{\\alpha/2} $ atau $Z > Z_{\\alpha/2}$ = $Z < -Z_{0.025}$ atau $ Z > Z_{0.025} $"
   ]
  },
  {
   "cell_type": "code",
   "execution_count": 149,
   "metadata": {},
   "outputs": [
    {
     "name": "stdout",
     "output_type": "stream",
     "text": [
      "nilai dari Z(alpha/2) adalah  1.959963984540054\n",
      "nilai dari -Z(alpha/2) adalah  -1.959963984540054\n"
     ]
    }
   ],
   "source": [
    "twenty = data['SumbuKecil'].head(20)\n",
    "alpha = 0.05\n",
    "Z_alpha = st.norm.ppf(1 - (alpha/2))\n",
    "print(\"nilai dari Z(alpha/2) adalah \", Z_alpha)\n",
    "print(\"nilai dari -Z(alpha/2) adalah \", (-1*Z_alpha))"
   ]
  },
  {
   "cell_type": "markdown",
   "metadata": {},
   "source": [
    "sehingga daerah kritisnya adalah $ Z <  -1.960 $ atau $ Z >  1.960 $\n",
    "\n",
    "###### 5. Uji Statistik dan P - Value"
   ]
  },
  {
   "cell_type": "code",
   "execution_count": 63,
   "metadata": {},
   "outputs": [
    {
     "name": "stdout",
     "output_type": "stream",
     "text": [
      "nilai Z dari uji statistik 20 sampel sumbu kecil adalah  5.368745408889898\n"
     ]
    }
   ],
   "source": [
    "m = 50\n",
    "std_sumbuKecil = data['SumbuKecil'].std()\n",
    "xbar_sumbuKecil = twenty.mean()\n",
    "Z_sumbuKecil = (xbar_sumbuKecil-m)/(std_sumbuKecil/(sqrt(20)))\n",
    "print(\"nilai Z dari uji statistik 20 sampel sumbu kecil adalah \",Z_sumbuKecil)"
   ]
  },
  {
   "cell_type": "markdown",
   "metadata": {},
   "source": [
    "Selanjutnya, dilakukan tes signifikansi dengan p-value.\n",
    "\n",
    "p_value = 2 P(Z > 5.368745408889898) = 2(1 - P(Z < 5.368745408889898))"
   ]
  },
  {
   "cell_type": "code",
   "execution_count": 64,
   "metadata": {},
   "outputs": [
    {
     "name": "stdout",
     "output_type": "stream",
     "text": [
      "P-value adalah 7.928624956576868e-08\n"
     ]
    }
   ],
   "source": [
    "p_value = 2* (1-st.norm.cdf(Z_sumbuKecil))\n",
    "print(\"P-value adalah\", p_value)"
   ]
  },
  {
   "cell_type": "markdown",
   "metadata": {},
   "source": [
    "##### 6. Keputusan\n",
    "Maka dari uji statistik, Tolak $ H_0 $ Karena z hasil uji statistik dari 20 sampel yang diambil terdapat pada daerah kritis. Maka rata rata baris kolom sumbu kecil tidak sama dengan 50.\n",
    "\n",
    "Karena $ P-value < {\\alpha} $, maka benar tes ini menolak $ H_0 $."
   ]
  },
  {
   "cell_type": "markdown",
   "metadata": {},
   "source": [
    "#### Boxplot Sampel 20 data pertama sumbu kecil"
   ]
  },
  {
   "cell_type": "code",
   "execution_count": 65,
   "metadata": {},
   "outputs": [
    {
     "data": {
      "text/plain": [
       "<AxesSubplot:>"
      ]
     },
     "execution_count": 65,
     "metadata": {},
     "output_type": "execute_result"
    },
    {
     "data": {
      "image/png": "[encoded data removed]",
      "text/plain": [
       "<Figure size 432x288 with 1 Axes>"
      ]
     },
     "metadata": {
      "needs_background": "light"
     },
     "output_type": "display_data"
    }
   ],
   "source": [
    "newdat = data.head(20)\n",
    "newdat.boxplot([\"SumbuKecil\"])"
   ]
  },
  {
   "cell_type": "markdown",
   "metadata": {},
   "source": [
    "### d. Proporsi nilai Diameter yang lebih dari 85, adalah tidak sama dengan 15% ?\n",
    "##### 1. Hipotesis Null\n",
    "$ H_0 : p_{(X > 85)} = 0.15 % $\n",
    "##### 2. Hipotesis Alternatif\n",
    "$ H_1 :  p_{(X > 85)} \\neq 0.15 %$\n",
    "##### 3. Tingkat Signifikan\n",
    "$\\alpha = 0.05$\n",
    "##### 4. Uji Statistik yang Sesuai dan Daerah Kritis\n",
    "Uji Statistik yang sesuai adalah  **tes hipotesis proporsi 2 arah**\n",
    "\n",
    "Daerah kritis : $ Z < -Z_{\\alpha/2} $ atau $Z > Z_{\\alpha/2}$ = $Z < -Z_{0.025}$ atau $ Z > Z_{0.025} $"
   ]
  },
  {
   "cell_type": "code",
   "execution_count": 150,
   "metadata": {},
   "outputs": [
    {
     "name": "stdout",
     "output_type": "stream",
     "text": [
      "nilai dari Z(alpha/2) adalah  1.959963984540054\n",
      "nilai dari -Z(alpha/2) adalah  -1.959963984540054\n"
     ]
    }
   ],
   "source": [
    "alpha = 0.05\n",
    "Z_alpha = st.norm.ppf(1 - (alpha/2))\n",
    "print(\"nilai dari Z(alpha/2) adalah \", Z_alpha)\n",
    "print(\"nilai dari -Z(alpha/2) adalah \", (-1*Z_alpha))\n",
    "print(\"sehingga daerah kritisnya adalah  Z < \", (-1*Z_alpha), \"atau Z > \", Z_alpha)"
   ]
  },
  {
   "cell_type": "markdown",
   "metadata": {},
   "source": [
    "sehingga daerah kritisnya adalah $ Z <  -1.960 $ atau $ Z >  1.960 $\n",
    "\n",
    "###### 5. Uji Statistik dan P - Value"
   ]
  },
  {
   "cell_type": "code",
   "execution_count": 151,
   "metadata": {},
   "outputs": [
    {
     "name": "stdout",
     "output_type": "stream",
     "text": [
      "0.13063063063063063\n"
     ]
    }
   ],
   "source": [
    "pcap = len(sampleDiameter)/nsample\n",
    "print(pcap)"
   ]
  },
  {
   "cell_type": "markdown",
   "metadata": {},
   "source": [
    "dengan $\\hat{p} = \\frac{x}{n} $ , didapat $\\hat{p} = 0.13063063063063063 $"
   ]
  },
  {
   "cell_type": "code",
   "execution_count": 153,
   "metadata": {},
   "outputs": [
    {
     "name": "stdout",
     "output_type": "stream",
     "text": [
      "Sampel yang diambil adalah  222\n",
      "jumlah Diameter lebih besar dari 85 pada sample adalah 29\n"
     ]
    }
   ],
   "source": [
    "nsample = slovinsForm(baris,0.05)\n",
    "print(\"Sampel yang diambil adalah \", nsample)\n",
    "diameterSample = data.head(nsample//2)\n",
    "diameterSample = diameterSample.append(data.tail(nsample//2))\n",
    "sampleDiameter = diameterSample['Diameter'].loc[diameterSample['Diameter'] > 85 ]\n",
    "print(\"jumlah Diameter lebih besar dari 85 pada sample adalah\", len(sampleDiameter))"
   ]
  },
  {
   "cell_type": "code",
   "execution_count": 155,
   "metadata": {},
   "outputs": [
    {
     "name": "stdout",
     "output_type": "stream",
     "text": [
      "Nilai Z dari uji statistik yang dilakuakan adalah  -0.8082335533562611\n"
     ]
    }
   ],
   "source": [
    "pnol = 0.15\n",
    "Z_diameter = (pcap-pnol)/(sqrt(pnol*(1-pnol)/nsample))\n",
    "print(\"Nilai Z dari uji statistik yang dilakuakan adalah \", Z_diameter)"
   ]
  },
  {
   "cell_type": "markdown",
   "metadata": {},
   "source": [
    "Selanjutnya, dilakukan tes signifikansi dengan p-value.\n",
    "\n",
    "p_value = 2 P(Z > -0.8082335533562611) = 2(1 - P(Z < -0.8082335533562611))"
   ]
  },
  {
   "cell_type": "code",
   "execution_count": 70,
   "metadata": {},
   "outputs": [
    {
     "name": "stdout",
     "output_type": "stream",
     "text": [
      "P-value adalah 1.581043854475231\n"
     ]
    }
   ],
   "source": [
    "p_value = 2*(1-st.norm.cdf(Z_diameter))\n",
    "print(\"P-value adalah\", p_value)"
   ]
  },
  {
   "cell_type": "markdown",
   "metadata": {},
   "source": [
    "##### 6. Keputusan\n",
    "Maka dari uji statistik, terima $ H_0 $, Karena z hasil uji statistik dari sampel yang diambil terdapat diluar daerah kritis. Maka,  Proporsi nilai Diameter yang lebih dari 85, adalah tidak sama dengan 15%.\n",
    "\n",
    "Karena $ P-value > {\\alpha} $, maka benar tes ini menerima $ H_0 $."
   ]
  },
  {
   "cell_type": "markdown",
   "metadata": {},
   "source": [
    "#### Boxplot dari sampel data diameter yang diambil"
   ]
  },
  {
   "cell_type": "code",
   "execution_count": 71,
   "metadata": {},
   "outputs": [
    {
     "data": {
      "text/plain": [
       "<AxesSubplot:>"
      ]
     },
     "execution_count": 71,
     "metadata": {},
     "output_type": "execute_result"
    },
    {
     "data": {
      "image/png": "[encoded data removed]",
      "text/plain": [
       "<Figure size 432x288 with 1 Axes>"
      ]
     },
     "metadata": {
      "needs_background": "light"
     },
     "output_type": "display_data"
    }
   ],
   "source": [
    "newDiameter = data.head(nsample//2)\n",
    "newDiameter = newDiameter.append(data.tail(nsample//2))\n",
    "newDiameter.boxplot([\"Diameter\"])"
   ]
  },
  {
   "cell_type": "markdown",
   "metadata": {},
   "source": [
    "### e. Proporsi nilai Keliling yang kurang dari 100, adalah kurang dari 5% ?\n",
    "##### 1. Hipotesis Null\n",
    "$ H_0 : p_{(X > 100)} = 0.05 % $\n",
    "##### 2. Hipotesis Alternatif\n",
    "$ H_1 :  p_{(X > 100)} < 0.05 %$\n",
    "##### 3. Tingkat Signifikan\n",
    "$\\alpha = 0.05$\n",
    "##### 4. Uji Statistik yang Sesuai dan Daerah Kritis\n",
    "Uji statistik yang sesuai adalah **tes hipotesis proporsi 1 arah**\n",
    "\n",
    "Daerah kritis : $ Z < -Z_{\\alpha} = Z < -Z_{0.05} $"
   ]
  },
  {
   "cell_type": "code",
   "execution_count": 157,
   "metadata": {},
   "outputs": [
    {
     "name": "stdout",
     "output_type": "stream",
     "text": [
      "nilai dari -Z alpha adalah  -1.6448536269514722\n"
     ]
    }
   ],
   "source": [
    "alpha = 0.05\n",
    "Z_alpha = st.norm.ppf(1 - alpha)\n",
    "print(\"nilai dari -Z alpha adalah \", (-1*Z_alpha))\n"
   ]
  },
  {
   "cell_type": "markdown",
   "metadata": {},
   "source": [
    "sehingga daerah kritisnya adalah $ Z < -1.645 $\n",
    "\n",
    "###### 5. Uji Statistik dan P - Value"
   ]
  },
  {
   "cell_type": "code",
   "execution_count": 73,
   "metadata": {},
   "outputs": [
    {
     "name": "stdout",
     "output_type": "stream",
     "text": [
      "Sampel yang diambil adalah  222\n",
      "jumlah keliling kurang dari 100 pada sample adalah 0\n"
     ]
    }
   ],
   "source": [
    "nsample = slovinsForm(baris,0.05)\n",
    "print(\"Sampel yang diambil adalah \", nsample)\n",
    "kelilingSample = data.head(nsample//2)\n",
    "kelilingSample = kelilingSample.append(data.tail(nsample//2))\n",
    "sampleKeliling = kelilingSample['Keliling'].loc[kelilingSample['Keliling'] < 100 ]\n",
    "print(\"jumlah keliling kurang dari 100 pada sample adalah\", len(sampleKeliling))"
   ]
  },
  {
   "cell_type": "code",
   "execution_count": 74,
   "metadata": {},
   "outputs": [
    {
     "name": "stdout",
     "output_type": "stream",
     "text": [
      "0.0\n"
     ]
    }
   ],
   "source": [
    "pcap = len(sampleKeliling)/nsample\n",
    "print(pcap)"
   ]
  },
  {
   "cell_type": "markdown",
   "metadata": {},
   "source": [
    "dengan $\\hat{p} = \\frac{x}{n} $ , didapat $\\hat{p} = 0.0 $"
   ]
  },
  {
   "cell_type": "code",
   "execution_count": 158,
   "metadata": {},
   "outputs": [
    {
     "name": "stdout",
     "output_type": "stream",
     "text": [
      "Nilai Z dari uji statistik yang dilakuakan adalah  5.51226057035976\n"
     ]
    }
   ],
   "source": [
    "pnol = 0.05\n",
    "Z_keliling = (pcap-pnol)/(sqrt(pnol*(1-pnol)/nsample))\n",
    "print(\"Nilai Z dari uji statistik yang dilakuakan adalah \",Z_keliling)"
   ]
  },
  {
   "cell_type": "markdown",
   "metadata": {},
   "source": [
    "Selanjutnya, dilakukan tes signifikansi dengan p-value\n",
    "\n",
    "p_value = P( Z < -3.418217448658846 )"
   ]
  },
  {
   "cell_type": "code",
   "execution_count": 76,
   "metadata": {},
   "outputs": [
    {
     "name": "stdout",
     "output_type": "stream",
     "text": [
      "P-value adalah 0.00031516363117592585\n"
     ]
    }
   ],
   "source": [
    "p_value = (st.norm.cdf(Z_keliling))\n",
    "print(\"P-value adalah\", p_value)"
   ]
  },
  {
   "cell_type": "markdown",
   "metadata": {},
   "source": [
    "##### 6. Keputusan\n",
    "Maka dari uji statistik, Tolak $ H_0 $ karena Z dari uji statistik daerah lebih besar dari $Z_{0.05}$ , yaitu -3.418 < -1.645, sehingga terletak pada daerah kritis.\n",
    "\n",
    "Karena $ P-value < {\\alpha} $, maka benar tes ini menolak $ H_0 $."
   ]
  },
  {
   "cell_type": "markdown",
   "metadata": {},
   "source": [
    "#### Boxplot dari sampel data keliling yang diambil"
   ]
  },
  {
   "cell_type": "code",
   "execution_count": 77,
   "metadata": {},
   "outputs": [
    {
     "data": {
      "text/plain": [
       "<AxesSubplot:>"
      ]
     },
     "execution_count": 77,
     "metadata": {},
     "output_type": "execute_result"
    },
    {
     "data": {
      "image/png": "[encoded data removed]",
      "text/plain": [
       "<Figure size 432x288 with 1 Axes>"
      ]
     },
     "metadata": {
      "needs_background": "light"
     },
     "output_type": "display_data"
    }
   ],
   "source": [
    "newKeliling = data.head(nsample//2)\n",
    "newKeliling = newKeliling.append(data.tail(nsample//2))\n",
    "newKeliling.boxplot([\"Keliling\"])"
   ]
  },
  {
   "cell_type": "markdown",
   "metadata": {},
   "source": [
    "## Soal No. 5"
   ]
  },
  {
   "cell_type": "markdown",
   "metadata": {},
   "source": [
    "Melakukan test hipotesis 2 sampel, dengan menuliskan 6 langkah testing dan menampilkan juga boxplotnya untuk kolom/bagian yang bersesuaian.\n",
    "1. Data kolom AreaBulatan dibagi 2 sama rata: bagian awal dan bagian akhir kolom. Benarkah rata-rata kedua bagian tersebut sama?\n",
    "2. Data kolom Kadar Air dibagi 2 sama rata: bagian awal dan bagian akhir kolom. Benarkah rata-rata bagian awal lebih besar dari pada bagian akhir sebesar 0.2?\n",
    "3. Rata-rata 20 baris pertama kolom Bulatan sama dengan 20 baris terakhirnya?\n",
    "4. Proporsi nilai bagian awal Ransum yang lebih dari 2, adalah lebih besar daripada, proporsi nilai yang sama di bagian akhir Ransum?\n",
    "5. Bagian awal kolom Diameter memiliki variansi yang sama dengan bagian akhirnya?"
   ]
  },
  {
   "cell_type": "code",
   "execution_count": 78,
   "metadata": {},
   "outputs": [],
   "source": [
    "# Fungsi perhitungan uji statistik\n",
    "def ujiStatistikT(X1, X2, d, s1, s2, n1, n2):\n",
    "    a = (X1 - X2) - d\n",
    "    b = sqrt(((s1**2) / n1) + ((s2**2) / n2))\n",
    "    return a/b"
   ]
  },
  {
   "cell_type": "markdown",
   "metadata": {},
   "source": [
    "### a. Data kolom AreaBulatan dibagi 2 sama rata: bagian awal dan bagian akhir kolom. Benarkah rata-rata kedua bagian tersebut sama?"
   ]
  },
  {
   "cell_type": "markdown",
   "metadata": {},
   "source": [
    "#### Data untuk 250 baris pertama"
   ]
  },
  {
   "cell_type": "code",
   "execution_count": 79,
   "metadata": {},
   "outputs": [
    {
     "data": {
      "text/plain": [
       "count     250.000000\n",
       "mean     5549.804000\n",
       "std       867.025436\n",
       "min      3270.000000\n",
       "25%      4961.250000\n",
       "50%      5551.000000\n",
       "75%      6093.750000\n",
       "max      7720.000000\n",
       "Name: AreaBulatan, dtype: float64"
      ]
     },
     "execution_count": 79,
     "metadata": {},
     "output_type": "execute_result"
    }
   ],
   "source": [
    "data[\"AreaBulatan\"].head(250).describe()"
   ]
  },
  {
   "cell_type": "markdown",
   "metadata": {},
   "source": [
    "#### Data untuk 250 baris terakhir"
   ]
  },
  {
   "cell_type": "code",
   "execution_count": 80,
   "metadata": {},
   "outputs": [
    {
     "data": {
      "text/plain": [
       "count     250.000000\n",
       "mean     4324.292000\n",
       "std       738.566466\n",
       "min      2579.000000\n",
       "25%      3827.250000\n",
       "50%      4283.000000\n",
       "75%      4759.750000\n",
       "max      7115.000000\n",
       "Name: AreaBulatan, dtype: float64"
      ]
     },
     "execution_count": 80,
     "metadata": {},
     "output_type": "execute_result"
    }
   ],
   "source": [
    "data[\"AreaBulatan\"].tail(250).describe()"
   ]
  },
  {
   "cell_type": "markdown",
   "metadata": {},
   "source": [
    "$\\mu_{1}$ adalah rataan bagian awal kolom AreaBulatan.\n",
    "\n",
    "$\\mu_{2}$ adalah rataan bagian akhir kolom AreaBulatan.\n",
    "\n",
    "##### 1. Hipotesis nol\n",
    "\n",
    "$H_0 : \\mu_{1} = \\mu_{2}$\n",
    "\n",
    "$H_0 : \\mu_{1} - \\mu_{2} = 0$\n",
    "\n",
    "##### 2. Hipotesis alternatif\n",
    "\n",
    "$H_1 : \\mu_{1} \\neq \\mu_{2}$\n",
    "\n",
    "$H_1 : \\mu_{1} - \\mu_{2} \\neq 0$\n",
    "\n",
    "##### 3. Tingkat signifikan\n",
    "\n",
    "$\\alpha = 0.05$\n",
    "\n",
    "##### 4. Uji statistik dan daerah kritis\n",
    "\n",
    "Derajat kebebasan digunakan untuk menghitung *Student's t Critical Value*. Derajat kebebasan $v = n_1 + n_2 - 2$ di mana $n_1$ dan $n_2$ bernilai 250, sehingga derajat kebebasan $v = 498$\n",
    "\n",
    "nilai $Z_{\\alpha/2}$ dihitung menggunakan library `scipy` yang menggunakan method `.t.ppf(p, df)` di mana p adalah probabilitas dari tingkat signifikan dan df adalah derajat kebebasan. "
   ]
  },
  {
   "cell_type": "code",
   "execution_count": 81,
   "metadata": {},
   "outputs": [
    {
     "name": "stdout",
     "output_type": "stream",
     "text": [
      "1.965\n"
     ]
    }
   ],
   "source": [
    "zalph = st.t.ppf(1-0.025, 498)\n",
    "print(\"{:.3f}\".format(zalph))"
   ]
  },
  {
   "cell_type": "markdown",
   "metadata": {},
   "source": [
    "Didapatkan nilai $Z_{\\alpha/2}$ adalah 1.965, sehingga daerah kritisnya adalah $t < -1.965$ dan $t > 1.965$\n",
    "\n",
    "Uji statistik dilakukan dengan rumus\n",
    "\n",
    "$$t = \\Large\\frac{(\\bar{X_1} - \\bar{X_2})-(d_0)}{\\sqrt{\\Large\\frac{\\sigma_1^2}{\\Large n_{\\ 1}} + \\Large\\frac{\\sigma_2^2}{\\Large n_{\\large 2}}}}$$\n",
    "\n",
    "dengan $d_0 = \\mu_1 - \\mu_2$\n",
    "\n",
    "##### 5. Hitung uji statistik dan p-value"
   ]
  },
  {
   "cell_type": "code",
   "execution_count": 82,
   "metadata": {},
   "outputs": [
    {
     "name": "stdout",
     "output_type": "stream",
     "text": [
      "17.01304\n"
     ]
    }
   ],
   "source": [
    "x1_bar = 5549.804000\n",
    "x2_bar = 4324.292000\n",
    "d0 = 0\n",
    "s1 = 867.025436\n",
    "s2 = 738.566466\n",
    "n1 = 250\n",
    "n2 = 250\n",
    "t = ujiStatistikT(x1_bar, x2_bar, d0, s1, s2, n1, n2)\n",
    "print(\"{:.5f}\".format(t))"
   ]
  },
  {
   "cell_type": "code",
   "execution_count": 83,
   "metadata": {},
   "outputs": [
    {
     "name": "stdout",
     "output_type": "stream",
     "text": [
      "0.000\n"
     ]
    }
   ],
   "source": [
    "# Menghitung p-value\n",
    "pval1 = 1 - st.t.cdf(t, 498)\n",
    "print(\"{:.3f}\".format(pval1))"
   ]
  },
  {
   "cell_type": "markdown",
   "metadata": {},
   "source": [
    "##### 6. Keputusan\n",
    "Nilai $t = 17.01304$ memenuhi $t > 1.965$ dan $p_{value} = 0.0 < 0.05$, sehingga $H_0$ dapat **ditolak**."
   ]
  },
  {
   "cell_type": "markdown",
   "metadata": {},
   "source": [
    "##### boxplot"
   ]
  },
  {
   "cell_type": "code",
   "execution_count": 128,
   "metadata": {},
   "outputs": [
    {
     "data": {
      "text/plain": [
       "<AxesSubplot:>"
      ]
     },
     "execution_count": 128,
     "metadata": {},
     "output_type": "execute_result"
    },
    {
     "data": {
      "image/png": "[encoded data removed]",
      "text/plain": [
       "<Figure size 432x288 with 1 Axes>"
      ]
     },
     "metadata": {
      "needs_background": "light"
     },
     "output_type": "display_data"
    }
   ],
   "source": [
    "firstArea = data.head(250)\n",
    "firstArea.boxplot([\"AreaBulatan\"])"
   ]
  },
  {
   "cell_type": "code",
   "execution_count": 129,
   "metadata": {},
   "outputs": [
    {
     "data": {
      "text/plain": [
       "<AxesSubplot:>"
      ]
     },
     "execution_count": 129,
     "metadata": {},
     "output_type": "execute_result"
    },
    {
     "data": {
      "image/png": "[encoded data removed]",
      "text/plain": [
       "<Figure size 432x288 with 1 Axes>"
      ]
     },
     "metadata": {
      "needs_background": "light"
     },
     "output_type": "display_data"
    }
   ],
   "source": [
    "lastArea = data.tail(250)\n",
    "lastArea.boxplot([\"AreaBulatan\"])"
   ]
  },
  {
   "cell_type": "markdown",
   "metadata": {},
   "source": [
    "### b. Data kolom Kadar Air dibagi 2 sama rata: bagian awal dan bagian akhir kolom. Benarkah rata-rata bagian awal lebih besar dari pada bagian akhir sebesar 0.2?"
   ]
  },
  {
   "cell_type": "markdown",
   "metadata": {},
   "source": [
    "#### Data untuk 250 baris pertama"
   ]
  },
  {
   "cell_type": "code",
   "execution_count": 84,
   "metadata": {},
   "outputs": [
    {
     "data": {
      "text/plain": [
       "count    250.000000\n",
       "mean       0.635743\n",
       "std        0.095096\n",
       "min        0.418947\n",
       "25%        0.553903\n",
       "50%        0.611873\n",
       "75%        0.712129\n",
       "max        0.878899\n",
       "Name: KadarAir, dtype: float64"
      ]
     },
     "execution_count": 84,
     "metadata": {},
     "output_type": "execute_result"
    }
   ],
   "source": [
    "data[\"KadarAir\"].head(250).describe()"
   ]
  },
  {
   "cell_type": "markdown",
   "metadata": {},
   "source": [
    "#### Data untuk 250 baris terakhir"
   ]
  },
  {
   "cell_type": "code",
   "execution_count": 85,
   "metadata": {},
   "outputs": [
    {
     "data": {
      "text/plain": [
       "count    250.000000\n",
       "mean       0.661000\n",
       "std        0.092101\n",
       "min        0.409927\n",
       "25%        0.590431\n",
       "50%        0.634284\n",
       "75%        0.737766\n",
       "max        0.877897\n",
       "Name: KadarAir, dtype: float64"
      ]
     },
     "execution_count": 85,
     "metadata": {},
     "output_type": "execute_result"
    }
   ],
   "source": [
    "data[\"KadarAir\"].tail(250).describe()"
   ]
  },
  {
   "cell_type": "markdown",
   "metadata": {},
   "source": [
    "##### 1. Hipotesis nol\n",
    "\n",
    "$H_0 : \\mu_{1} - \\mu_{2} = 0.2$\n",
    "\n",
    "##### 2. Hipotesis alternatif\n",
    "\n",
    "$H_1 : \\mu_{1} - \\mu_{2} \\neq 2$\n",
    "\n",
    "##### 3. Tingkat signifikan\n",
    "\n",
    "$\\alpha = 0.05$\n",
    "\n",
    "##### 4. Uji statistik dan daerah kritis\n",
    "Derajat kebebasan $v = n_1 + n_2 - 2$ di mana $n_1$ dan $n_2$ bernilai 250, sehingga derajat kebebasan $v = 498$"
   ]
  },
  {
   "cell_type": "code",
   "execution_count": 86,
   "metadata": {},
   "outputs": [
    {
     "name": "stdout",
     "output_type": "stream",
     "text": [
      "1.965\n"
     ]
    }
   ],
   "source": [
    "zalph = st.t.ppf(1-0.025, 498)\n",
    "print(\"{:.3f}\".format(zalph))"
   ]
  },
  {
   "cell_type": "markdown",
   "metadata": {},
   "source": [
    "Didapatkan nilai $Z_{\\alpha/2}$ adalah 1.965, sehingga daerah kritisnya adalah $t < -1.965$ dan $t > 1.965$\n",
    "\n",
    "Uji statistik dilakukan dengan rumus\n",
    "\n",
    "$$t = \\Large\\frac{(\\bar{X_1} - \\bar{X_2})-(d_0)}{\\sqrt{\\Large\\frac{\\sigma_1^2}{\\Large n_{\\ 1}} + \\Large\\frac{\\sigma_2^2}{\\Large n_{\\large 2}}}}$$\n",
    "\n",
    "dengan $d_0 = \\mu_1 - \\mu_2$\n",
    "\n",
    "##### 5. Hitung uji statistik dan p-value"
   ]
  },
  {
   "cell_type": "code",
   "execution_count": 87,
   "metadata": {},
   "outputs": [
    {
     "name": "stdout",
     "output_type": "stream",
     "text": [
      "-26.90350\n"
     ]
    }
   ],
   "source": [
    "x1_bar = 0.635743\n",
    "x2_bar = 0.661000\n",
    "d0 = 0.2\n",
    "s1 = 0.095096\n",
    "s2 = 0.092101\n",
    "n1 = 250\n",
    "n2 = 250\n",
    "t = ujiStatistikT(x1_bar, x2_bar, d0, s1, s2, n1, n2)\n",
    "print(\"{:.5f}\".format(t))"
   ]
  },
  {
   "cell_type": "code",
   "execution_count": 88,
   "metadata": {},
   "outputs": [
    {
     "name": "stdout",
     "output_type": "stream",
     "text": [
      "1.0\n"
     ]
    }
   ],
   "source": [
    "# Menghitung p-value\n",
    "pval2 = 1 - st.t.cdf(-26.90350, 498)\n",
    "print(pval2)"
   ]
  },
  {
   "cell_type": "markdown",
   "metadata": {},
   "source": [
    "##### 6. Keputusan\n",
    "Nilai $t = -26.90350$ memenuhi $t < -1.965$, sehingga $H_0$ dapat **ditolak**."
   ]
  },
  {
   "cell_type": "markdown",
   "metadata": {},
   "source": [
    "##### boxplot"
   ]
  },
  {
   "cell_type": "code",
   "execution_count": 130,
   "metadata": {},
   "outputs": [
    {
     "data": {
      "text/plain": [
       "<AxesSubplot:>"
      ]
     },
     "execution_count": 130,
     "metadata": {},
     "output_type": "execute_result"
    },
    {
     "data": {
      "image/png": "[encoded data removed]",
      "text/plain": [
       "<Figure size 432x288 with 1 Axes>"
      ]
     },
     "metadata": {
      "needs_background": "light"
     },
     "output_type": "display_data"
    }
   ],
   "source": [
    "firstKadar = data.head(250)\n",
    "firstKadar.boxplot([\"KadarAir\"])"
   ]
  },
  {
   "cell_type": "code",
   "execution_count": 131,
   "metadata": {},
   "outputs": [
    {
     "data": {
      "text/plain": [
       "<AxesSubplot:>"
      ]
     },
     "execution_count": 131,
     "metadata": {},
     "output_type": "execute_result"
    },
    {
     "data": {
      "image/png": "[encoded data removed]",
      "text/plain": [
       "<Figure size 432x288 with 1 Axes>"
      ]
     },
     "metadata": {
      "needs_background": "light"
     },
     "output_type": "display_data"
    }
   ],
   "source": [
    "lastKadar = data.tail(250)\n",
    "lastKadar.boxplot([\"KadarAir\"])"
   ]
  },
  {
   "cell_type": "markdown",
   "metadata": {},
   "source": [
    "### c. Rata-rata 20 baris pertama kolom Bulatan sama dengan 20 baris terakhirnya?"
   ]
  },
  {
   "cell_type": "markdown",
   "metadata": {},
   "source": [
    "#### Statistik data 20 baris pertama kolom Bulatan"
   ]
  },
  {
   "cell_type": "code",
   "execution_count": 89,
   "metadata": {},
   "outputs": [
    {
     "data": {
      "text/plain": [
       "count    20.000000\n",
       "mean      0.737535\n",
       "std       0.030385\n",
       "min       0.661849\n",
       "25%       0.722509\n",
       "50%       0.738314\n",
       "75%       0.764427\n",
       "max       0.780418\n",
       "Name: Bulatan, dtype: float64"
      ]
     },
     "execution_count": 89,
     "metadata": {},
     "output_type": "execute_result"
    }
   ],
   "source": [
    "data[\"Bulatan\"].head(20).describe()"
   ]
  },
  {
   "cell_type": "markdown",
   "metadata": {},
   "source": [
    "#### Statistik data 20 baris terakhir kolom Bulatan"
   ]
  },
  {
   "cell_type": "code",
   "execution_count": 90,
   "metadata": {},
   "outputs": [
    {
     "data": {
      "text/plain": [
       "count    20.000000\n",
       "mean      0.767322\n",
       "std       0.025115\n",
       "min       0.711677\n",
       "25%       0.753426\n",
       "50%       0.773010\n",
       "75%       0.780859\n",
       "max       0.804733\n",
       "Name: Bulatan, dtype: float64"
      ]
     },
     "execution_count": 90,
     "metadata": {},
     "output_type": "execute_result"
    }
   ],
   "source": [
    "data[\"Bulatan\"].tail(20).describe()"
   ]
  },
  {
   "cell_type": "markdown",
   "metadata": {},
   "source": [
    "$\\mu_{1}$ adalah rataan 20 baris pertama kolom Bulatan.\n",
    "\n",
    "$\\mu_{2}$ adalah rataan 20 baris terakhir kolom Bulatan.\n",
    "\n",
    "##### 1. Hipotesis nol\n",
    "\n",
    "$H_0 : \\mu_{1} = \\mu_{2}$\n",
    "\n",
    "$H_0 : \\mu_{1} - \\mu_{2} = 0$\n",
    "\n",
    "##### 2. Hipotesis alternatif\n",
    "\n",
    "$H_1 : \\mu_{1} \\neq \\mu_{2}$\n",
    "\n",
    "$H_1 : \\mu_{1} - \\mu_{2} \\neq 0$\n",
    "\n",
    "##### 3. Tingkat signifikan\n",
    "\n",
    "$\\alpha = 0.05$\n",
    "\n",
    "##### 4. Uji statistik dan daerah kritis\n",
    "\n",
    "Derajat kebebasan $v = n_1 + n_2 - 2$ di mana $n_1$ dan $n_2$ bernilai 20, sehingga derajat kebebasan $v = 38$"
   ]
  },
  {
   "cell_type": "code",
   "execution_count": 91,
   "metadata": {},
   "outputs": [
    {
     "name": "stdout",
     "output_type": "stream",
     "text": [
      "2.024\n"
     ]
    }
   ],
   "source": [
    "zalph = st.t.ppf(1-0.025, 38)\n",
    "print(\"{:.3f}\".format(zalph))"
   ]
  },
  {
   "cell_type": "markdown",
   "metadata": {},
   "source": [
    "Didapatkan nilai $Z_{\\alpha/2}$ adalah 2.024, sehingga daerah kritisnya adalah $t < -2.024$ dan $t > 2.024$\n",
    "\n",
    "Uji statistik dilakukan dengan rumus\n",
    "\n",
    "$$t = \\Large\\frac{(\\bar{X_1} - \\bar{X_2})-(d_0)}{\\sqrt{\\Large\\frac{\\sigma_1^2}{\\Large n_{\\ 1}} + \\Large\\frac{\\sigma_2^2}{\\Large n_{\\large 2}}}}$$\n",
    "\n",
    "dengan $d_0 = \\mu_1 - \\mu_2$\n",
    "\n",
    "##### 5. Hitung uji statistik dan p-value"
   ]
  },
  {
   "cell_type": "code",
   "execution_count": 92,
   "metadata": {},
   "outputs": [
    {
     "name": "stdout",
     "output_type": "stream",
     "text": [
      "-3.37921\n"
     ]
    }
   ],
   "source": [
    "x1_bar = 0.737535\n",
    "x2_bar = 0.767322\n",
    "d0 = 0\n",
    "s1 = 0.030385\n",
    "s2 = 0.025115\n",
    "n1 = 20\n",
    "n2 = 20\n",
    "t = ujiStatistikT(x1_bar, x2_bar, d0, s1, s2, n1, n2)\n",
    "print(\"{:.5f}\".format(t))"
   ]
  },
  {
   "cell_type": "code",
   "execution_count": 93,
   "metadata": {},
   "outputs": [
    {
     "name": "stdout",
     "output_type": "stream",
     "text": [
      "1.000\n"
     ]
    }
   ],
   "source": [
    "# Menghitung p-value\n",
    "pval3 = 1 - st.t.cdf(t, 498)\n",
    "print(\"{:.3f}\".format(pval3))"
   ]
  },
  {
   "cell_type": "markdown",
   "metadata": {},
   "source": [
    "##### 6. Keputusan\n",
    "Nilai $t = -3.37921$ memenuhi $t < -2.024$, sehingga $H_0$ dapat **ditolak**."
   ]
  },
  {
   "cell_type": "markdown",
   "metadata": {},
   "source": [
    "##### boxplot"
   ]
  },
  {
   "cell_type": "code",
   "execution_count": 133,
   "metadata": {},
   "outputs": [
    {
     "data": {
      "text/plain": [
       "<AxesSubplot:>"
      ]
     },
     "execution_count": 133,
     "metadata": {},
     "output_type": "execute_result"
    },
    {
     "data": {
      "image/png": "[encoded data removed]",
      "text/plain": [
       "<Figure size 432x288 with 1 Axes>"
      ]
     },
     "metadata": {
      "needs_background": "light"
     },
     "output_type": "display_data"
    }
   ],
   "source": [
    "firstBulatan = data.head(20)\n",
    "firstBulatan.boxplot([\"Bulatan\"])"
   ]
  },
  {
   "cell_type": "code",
   "execution_count": 134,
   "metadata": {},
   "outputs": [
    {
     "data": {
      "text/plain": [
       "<AxesSubplot:>"
      ]
     },
     "execution_count": 134,
     "metadata": {},
     "output_type": "execute_result"
    },
    {
     "data": {
      "image/png": "[encoded data removed]",
      "text/plain": [
       "<Figure size 432x288 with 1 Axes>"
      ]
     },
     "metadata": {
      "needs_background": "light"
     },
     "output_type": "display_data"
    }
   ],
   "source": [
    "lastBulatan = data.tail(20)\n",
    "lastBulatan.boxplot([\"Bulatan\"])"
   ]
  },
  {
   "cell_type": "markdown",
   "metadata": {},
   "source": [
    "### d. Proporsi nilai bagian awal Ransum yang lebih dari 2, adalah lebih besar daripada, proporsi nilai yang sama di bagian akhir Ransum?"
   ]
  },
  {
   "cell_type": "markdown",
   "metadata": {},
   "source": [
    "#### Menampilkan data Ransum bagian awal"
   ]
  },
  {
   "cell_type": "code",
   "execution_count": 94,
   "metadata": {},
   "outputs": [
    {
     "data": {
      "text/plain": [
       "0      2.194066\n",
       "1      2.194088\n",
       "2      2.194158\n",
       "3      2.197877\n",
       "4      2.201446\n",
       "         ...   \n",
       "245    2.461510\n",
       "246    2.463297\n",
       "247    2.463546\n",
       "248    2.464809\n",
       "249    1.440796\n",
       "Name: Ransum, Length: 250, dtype: float64"
      ]
     },
     "execution_count": 94,
     "metadata": {},
     "output_type": "execute_result"
    }
   ],
   "source": [
    "ransumDataAwal = data[\"Ransum\"].head(250)\n",
    "ransumDataAwal"
   ]
  },
  {
   "cell_type": "markdown",
   "metadata": {},
   "source": [
    "#### Menampilkan data Ransum bagian akhir"
   ]
  },
  {
   "cell_type": "code",
   "execution_count": 95,
   "metadata": {},
   "outputs": [
    {
     "data": {
      "text/plain": [
       "250    1.453137\n",
       "251    1.465950\n",
       "252    1.483456\n",
       "253    1.510000\n",
       "254    1.519342\n",
       "         ...   \n",
       "495    2.190441\n",
       "496    2.190608\n",
       "497    2.190733\n",
       "498    2.193132\n",
       "499    2.218493\n",
       "Name: Ransum, Length: 250, dtype: float64"
      ]
     },
     "execution_count": 95,
     "metadata": {},
     "output_type": "execute_result"
    }
   ],
   "source": [
    "ransumDataAkhir = data[\"Ransum\"].tail(250)\n",
    "ransumDataAkhir"
   ]
  },
  {
   "cell_type": "markdown",
   "metadata": {},
   "source": [
    "##### 1. Hipotesis nol\n",
    "\n",
    "$H_0 : P(X > 2) = P(Y > 2)$\n",
    "\n",
    "##### 2. Hipotesis alternatif\n",
    "\n",
    "$H_1 : P(X > 2) > P(Y > 2)$\n",
    "\n",
    "##### 3. Tingkat signifikan\n",
    "\n",
    "$\\alpha = 0.05$\n",
    "\n",
    "##### 4. Uji statistik dan daerah kritis\n",
    "\n",
    "Menghitung nilai $Z_{\\alpha}$"
   ]
  },
  {
   "cell_type": "code",
   "execution_count": 96,
   "metadata": {},
   "outputs": [
    {
     "name": "stdout",
     "output_type": "stream",
     "text": [
      "1.645\n"
     ]
    }
   ],
   "source": [
    "zalph = st.norm.ppf(1-0.05)\n",
    "print(\"{:.3f}\".format(zalph))"
   ]
  },
  {
   "cell_type": "markdown",
   "metadata": {},
   "source": [
    "Maka daerah kritisnya adalah $z > 1.645$\n",
    "\n",
    "Uji statistik dengan rumus\n",
    "\n",
    "$$\\Large z = \\frac{(\\hat{p}_1 - \\hat{p}_2)}{\\sqrt{\\hat{p}\\hat{q}(\\frac{1}{n_1} + \\frac{1}{n_2})}}$$\n",
    "\n",
    "$$\\hat{p} = \\Large\\frac{x_1 + x_1}{n_1 + n_2}$$\n",
    "\n",
    "di mana $\\hat{p}_1$ adalah Proporsi kolom Ransum bagian awal dan $\\hat{p}_2$ adalah Proporsi kolom Ransum bagian akhir, dan\n",
    "\n",
    "$\\hat{q} = 1 - \\hat{p}$"
   ]
  },
  {
   "cell_type": "markdown",
   "metadata": {},
   "source": [
    "##### 5. Hitung uji statistik dan p-value"
   ]
  },
  {
   "cell_type": "code",
   "execution_count": 97,
   "metadata": {},
   "outputs": [
    {
     "name": "stdout",
     "output_type": "stream",
     "text": [
      "Jumlah data yang lebih dari dua adalah 249 untuk bagian awal dan 116 untuk bagian akhir.\n"
     ]
    }
   ],
   "source": [
    "# Mendapatkan jumlah sampel bagian awal dan akhir yang lebih dari 2\n",
    "x1 = ransumDataAwal[ransumDataAwal > 2].count()\n",
    "x2 = ransumDataAkhir[ransumDataAkhir > 2].count()\n",
    "print(\"Jumlah data yang lebih dari dua adalah {} untuk bagian awal dan {} untuk bagian akhir.\".format(x1, x2))"
   ]
  },
  {
   "cell_type": "code",
   "execution_count": 98,
   "metadata": {},
   "outputs": [
    {
     "name": "stdout",
     "output_type": "stream",
     "text": [
      "p1 bernilai : 0.996\n",
      "p2 bernilai : 0.464\n",
      "p bernilai : 0.73\n"
     ]
    }
   ],
   "source": [
    "# Mendapatkan proporsi p1, p2, dan p\n",
    "n1 = 250\n",
    "n2 = 250\n",
    "p1 = x1/n1\n",
    "p2 = x2/n2\n",
    "p = (x1 + x2)/(n1 + n2)\n",
    "print(\"p1 bernilai : {}\".format(p1))\n",
    "print(\"p2 bernilai : {}\".format(p2))\n",
    "print(\"p bernilai : {}\".format(p))"
   ]
  },
  {
   "cell_type": "code",
   "execution_count": 99,
   "metadata": {},
   "outputs": [
    {
     "name": "stdout",
     "output_type": "stream",
     "text": [
      "z bernilai : 13.397486455610238\n"
     ]
    }
   ],
   "source": [
    "# Menghitung nilai z\n",
    "q = 1 - p\n",
    "a = (p1 - p2)\n",
    "b = sqrt(p * q * (1/n1 + 1/n2))\n",
    "z = a/b\n",
    "print(\"z bernilai : {}\".format(z))"
   ]
  },
  {
   "cell_type": "code",
   "execution_count": 100,
   "metadata": {},
   "outputs": [
    {
     "name": "stdout",
     "output_type": "stream",
     "text": [
      "0.000\n"
     ]
    }
   ],
   "source": [
    "# Menghitung p-value\n",
    "pval4 = 1 - st.norm.cdf(z)\n",
    "print(\"{:.3f}\".format(pval4))"
   ]
  },
  {
   "cell_type": "markdown",
   "metadata": {},
   "source": [
    "##### 6. Keputusan\n",
    "Nilai $z = 13.397486455610238$ memenuhi $z > 1.645$ dan $p_{value} = 0.0 < 0.05$, sehingga $H_0$ dapat **ditolak**."
   ]
  },
  {
   "cell_type": "markdown",
   "metadata": {},
   "source": [
    "##### boxplot"
   ]
  },
  {
   "cell_type": "code",
   "execution_count": 135,
   "metadata": {},
   "outputs": [
    {
     "data": {
      "text/plain": [
       "<AxesSubplot:>"
      ]
     },
     "execution_count": 135,
     "metadata": {},
     "output_type": "execute_result"
    },
    {
     "data": {
      "image/png": "[encoded data removed]",
      "text/plain": [
       "<Figure size 432x288 with 1 Axes>"
      ]
     },
     "metadata": {
      "needs_background": "light"
     },
     "output_type": "display_data"
    }
   ],
   "source": [
    "firstRansum = data.head(250)\n",
    "firstRansum.boxplot([\"Ransum\"])"
   ]
  },
  {
   "cell_type": "code",
   "execution_count": 136,
   "metadata": {},
   "outputs": [
    {
     "data": {
      "text/plain": [
       "<AxesSubplot:>"
      ]
     },
     "execution_count": 136,
     "metadata": {},
     "output_type": "execute_result"
    },
    {
     "data": {
      "image/png": "[encoded data removed]",
      "text/plain": [
       "<Figure size 432x288 with 1 Axes>"
      ]
     },
     "metadata": {
      "needs_background": "light"
     },
     "output_type": "display_data"
    }
   ],
   "source": [
    "lastRansum = data.tail(250)\n",
    "lastRansum.boxplot([\"Ransum\"])"
   ]
  },
  {
   "cell_type": "markdown",
   "metadata": {},
   "source": [
    "### e. Bagian awal kolom Diameter memiliki variansi yang sama dengan bagian akhirnya?"
   ]
  },
  {
   "cell_type": "markdown",
   "metadata": {},
   "source": [
    "#### Data bagian awal kolom Diameter"
   ]
  },
  {
   "cell_type": "code",
   "execution_count": 101,
   "metadata": {},
   "outputs": [
    {
     "data": {
      "text/plain": [
       "count    250.000000\n",
       "mean      82.613746\n",
       "std        6.570311\n",
       "min       63.189233\n",
       "25%       78.314712\n",
       "50%       83.259548\n",
       "75%       86.965749\n",
       "max       97.413830\n",
       "Name: Diameter, dtype: float64"
      ]
     },
     "execution_count": 101,
     "metadata": {},
     "output_type": "execute_result"
    }
   ],
   "source": [
    "data[\"Diameter\"].head(250).describe()"
   ]
  },
  {
   "cell_type": "markdown",
   "metadata": {},
   "source": [
    "#### Data bagian akhir kolom Diameter"
   ]
  },
  {
   "cell_type": "code",
   "execution_count": 102,
   "metadata": {},
   "outputs": [
    {
     "data": {
      "text/plain": [
       "count    250.000000\n",
       "mean      72.928570\n",
       "std        6.310964\n",
       "min       56.666658\n",
       "25%       68.946644\n",
       "50%       72.878794\n",
       "75%       76.717337\n",
       "max       94.042128\n",
       "Name: Diameter, dtype: float64"
      ]
     },
     "execution_count": 102,
     "metadata": {},
     "output_type": "execute_result"
    }
   ],
   "source": [
    "data[\"Diameter\"].tail(250).describe()"
   ]
  },
  {
   "cell_type": "markdown",
   "metadata": {},
   "source": [
    "##### 1. Hipotesis nol\n",
    "\n",
    "$H_0 : s_1^2 = s_2^2$\n",
    "\n",
    "##### 2. Hipotesis alternatif\n",
    "\n",
    "$H_1 : s_1^2 \\neq s_2^2$\n",
    "\n",
    "##### 3. Tingkat signifikan\n",
    "\n",
    "$\\alpha = 0.05$\n",
    "\n",
    "##### 4. Uji statistik dan daerah kritis\n",
    "\n",
    "Derajat kebebasan digunakan untuk menghitung *F-Distribution*. Derajat kebebasan $v_1 = n_1 - 1$ dan $v_2 = n_2 - 1$.\n",
    "\n",
    "nilai $Z_{\\alpha/2}$ dihitung menggunakan library `scipy` yang menggunakan method `.f.ppf(p, v1, v2)` di mana p adalah probabilitas dari tingkat signifikan dan df adalah derajat kebebasan."
   ]
  },
  {
   "cell_type": "code",
   "execution_count": 103,
   "metadata": {},
   "outputs": [
    {
     "name": "stdout",
     "output_type": "stream",
     "text": [
      "1.232\n",
      "0.811\n"
     ]
    }
   ],
   "source": [
    "zalph1 = st.f.ppf(1-0.05, 249, 249)\n",
    "zalph2 = st.f.ppf(0.05, 249, 249)\n",
    "print(\"{:.3f}\".format(zalph1))\n",
    "print(\"{:.3f}\".format(zalph2))"
   ]
  },
  {
   "cell_type": "markdown",
   "metadata": {},
   "source": [
    "Didapatkan nilai daerah kritis adalah $f > 1.232$ atau $f < \\frac{1}{1.232} = 0.811$\n",
    "\n",
    "Uji statistik yang akan digunakan adalah *F-distribution* dengan rumus\n",
    "\n",
    "$$\\Large f = \\frac{s_1^2}{s_2^2}$$\n",
    "\n",
    "di mana $s_1^2$ adalah variansi untuk kolom Diameter bagian awal dan $s_2^2$ adalah variansi untuk kolom Diameter bagian akhir"
   ]
  },
  {
   "cell_type": "markdown",
   "metadata": {},
   "source": [
    "##### 5. Hitung uji statistik dan p-value"
   ]
  },
  {
   "cell_type": "code",
   "execution_count": 104,
   "metadata": {},
   "outputs": [
    {
     "name": "stdout",
     "output_type": "stream",
     "text": [
      "1.083878117523831\n"
     ]
    }
   ],
   "source": [
    "# Menghitung nilai f\n",
    "s1 = 6.570311\n",
    "s2 = 6.310964\n",
    "f = (s1**2)/(s2**2)\n",
    "print(f)"
   ]
  },
  {
   "cell_type": "code",
   "execution_count": 105,
   "metadata": {},
   "outputs": [
    {
     "name": "stdout",
     "output_type": "stream",
     "text": [
      "0.263\n"
     ]
    }
   ],
   "source": [
    "# Menghitung p-value\n",
    "pval5 = 1 - st.f.cdf(f, 249, 249)\n",
    "print(\"{:.3f}\".format(pval5))"
   ]
  },
  {
   "cell_type": "markdown",
   "metadata": {},
   "source": [
    "##### 6. Keputusan\n",
    "Nilai $f = 1.083878117523831$ tidak memenuhi $f > 1.232$ atau $f < \\frac{1}{1.232} = 0.811$ dan nilai $p_{value} = 0.2627893656526461 > 0.05$, sehingga $H_0$ **diterima**."
   ]
  },
  {
   "cell_type": "markdown",
   "metadata": {},
   "source": [
    "##### boxplot"
   ]
  },
  {
   "cell_type": "code",
   "execution_count": 138,
   "metadata": {},
   "outputs": [
    {
     "data": {
      "text/plain": [
       "<AxesSubplot:>"
      ]
     },
     "execution_count": 138,
     "metadata": {},
     "output_type": "execute_result"
    },
    {
     "data": {
      "image/png": "[encoded data removed]",
      "text/plain": [
       "<Figure size 432x288 with 1 Axes>"
      ]
     },
     "metadata": {
      "needs_background": "light"
     },
     "output_type": "display_data"
    }
   ],
   "source": [
    "firstDiameter = data.head(250)\n",
    "firstDiameter.boxplot([\"Diameter\"])"
   ]
  },
  {
   "cell_type": "code",
   "execution_count": 139,
   "metadata": {},
   "outputs": [
    {
     "data": {
      "text/plain": [
       "<AxesSubplot:>"
      ]
     },
     "execution_count": 139,
     "metadata": {},
     "output_type": "execute_result"
    },
    {
     "data": {
      "image/png": "[encoded data removed]",
      "text/plain": [
       "<Figure size 432x288 with 1 Axes>"
      ]
     },
     "metadata": {
      "needs_background": "light"
     },
     "output_type": "display_data"
    }
   ],
   "source": [
    "lastDiameter = data.tail(250)\n",
    "lastDiameter.boxplot([\"Diameter\"])"
   ]
  },
  {
   "cell_type": "markdown",
   "metadata": {},
   "source": [
    "## Soal No. 6"
   ]
  },
  {
   "cell_type": "markdown",
   "metadata": {},
   "source": [
    "Test korelasi: tentukan apakah setiap kolom non-target berkorelasi dengan kolom target,\n",
    "dengan menggambarkan juga scatter plot nya. Gunakan correlation test."
   ]
  },
  {
   "cell_type": "markdown",
   "metadata": {},
   "source": [
    "Misalkan $ r $ adalah Pearson Correlation Coefficient\n",
    "\n",
    "$ r $ selalu berada pada interval $ -1 \\leq r \\leq 1$ , dan dibagi menjadi 3 kategori :\n",
    "\n",
    "1. untuk $ r > 0 $ dikegorikan sebagai positive correlation\n",
    "2. untuk $ r < 0 $ dikegorikan sebagai negative correlation\n",
    "3. untuk $ r = 0 $ dikegorikan sebagai no correlation\n",
    "\n",
    "klasifikasi dari strength of correlation :\n",
    "1. perfect relationship, $ |r| = 1 $\n",
    "2. Very strong relationship, $ 0.70 \\leq |r| < 1 $\n",
    "3. strong relationship, $ 0.40 \\leq |r| < 0.70 $\n",
    "4. moderate relationship, $ 0.30 \\leq |r| < 0.40 $\n",
    "5. weak relationship, $ 0.10 \\leq |r| < 0.30 $\n",
    "6. no or negligible relationship, $ 0.0 \\leq |r| < 0.10 $"
   ]
  },
  {
   "cell_type": "markdown",
   "metadata": {},
   "source": [
    "### Korelasi kolom daerah (non-target) dengan kolom kelas (target)"
   ]
  },
  {
   "cell_type": "markdown",
   "metadata": {},
   "source": [
    "cari nilai $ r $"
   ]
  },
  {
   "cell_type": "code",
   "execution_count": 106,
   "metadata": {},
   "outputs": [
    {
     "name": "stdout",
     "output_type": "stream",
     "text": [
      "nilai dari r adalah  -0.6027466517416654\n"
     ]
    }
   ],
   "source": [
    "dataDaerah = data['Daerah']\n",
    "dataKelas = data['Kelas']\n",
    "print(\"nilai dari r adalah \", dataDaerah.corr(dataKelas))"
   ]
  },
  {
   "cell_type": "markdown",
   "metadata": {},
   "source": [
    "Karena $ r = -0.6027466517416654 $ , sehingga bernilai $ r < 0 $ dan berada pada interval $ 0.40 \\leq |r| < 0.70 $, maka korelasi antara kolom Daerah dan kolom Kelas dikatakan sebagai **Strong Negative Relationship**"
   ]
  },
  {
   "cell_type": "markdown",
   "metadata": {},
   "source": [
    "##### scatterplot "
   ]
  },
  {
   "cell_type": "code",
   "execution_count": 107,
   "metadata": {},
   "outputs": [
    {
     "data": {
      "text/plain": [
       "<AxesSubplot:xlabel='Daerah', ylabel='Kelas'>"
      ]
     },
     "execution_count": 107,
     "metadata": {},
     "output_type": "execute_result"
    },
    {
     "data": {
      "image/png": "[encoded data removed]",
      "text/plain": [
       "<Figure size 432x288 with 1 Axes>"
      ]
     },
     "metadata": {
      "needs_background": "light"
     },
     "output_type": "display_data"
    }
   ],
   "source": [
    "data.plot(kind=\"scatter\",x=\"Daerah\",y= \"Kelas\", color = 'r')"
   ]
  },
  {
   "cell_type": "markdown",
   "metadata": {},
   "source": [
    "### Korelasi Sumbu Utama (non-target) dengan kolom Kelas (target)"
   ]
  },
  {
   "cell_type": "markdown",
   "metadata": {},
   "source": [
    "cari nilai $ r $"
   ]
  },
  {
   "cell_type": "code",
   "execution_count": 108,
   "metadata": {},
   "outputs": [
    {
     "name": "stdout",
     "output_type": "stream",
     "text": [
      "nilai dari r adalah  -0.7130906104204592\n"
     ]
    }
   ],
   "source": [
    "dataSumbuUtama = data['SumbuUtama']\n",
    "dataKelas = data['Kelas']\n",
    "print(\"nilai dari r adalah \", dataSumbuUtama.corr(dataKelas))"
   ]
  },
  {
   "cell_type": "markdown",
   "metadata": {},
   "source": [
    "Karena $ r = -0.7130906104204592 $ , sehingga bernilai $ r < 0 $ dan berada pada interval $ 0.70 \\leq |r| < 1 $, maka korelasi antara kolom Daerah dan kolom Kelas dikatakan sebagai **Very Strong Negative Relationship**"
   ]
  },
  {
   "cell_type": "markdown",
   "metadata": {},
   "source": [
    "##### scatterplot"
   ]
  },
  {
   "cell_type": "code",
   "execution_count": 109,
   "metadata": {},
   "outputs": [
    {
     "data": {
      "text/plain": [
       "<AxesSubplot:xlabel='SumbuUtama', ylabel='Kelas'>"
      ]
     },
     "execution_count": 109,
     "metadata": {},
     "output_type": "execute_result"
    },
    {
     "data": {
      "image/png": "[encoded data removed]",
      "text/plain": [
       "<Figure size 432x288 with 1 Axes>"
      ]
     },
     "metadata": {
      "needs_background": "light"
     },
     "output_type": "display_data"
    }
   ],
   "source": [
    "data.plot(kind=\"scatter\",x=\"SumbuUtama\",y= \"Kelas\", color = 'r')"
   ]
  },
  {
   "cell_type": "markdown",
   "metadata": {},
   "source": [
    "### Korelasi kolom Sumbu Kecil (non-target) dengan kolom kelas (target)"
   ]
  },
  {
   "cell_type": "markdown",
   "metadata": {},
   "source": [
    "cari nilai $ r $"
   ]
  },
  {
   "cell_type": "code",
   "execution_count": 140,
   "metadata": {},
   "outputs": [
    {
     "name": "stdout",
     "output_type": "stream",
     "text": [
      "nilai dari r adalah  -0.15297517335535024\n"
     ]
    }
   ],
   "source": [
    "dataSumbuKecil = data['SumbuKecil']\n",
    "dataKelas = data['Kelas']\n",
    "print(\"nilai dari r adalah \", dataSumbuKecil.corr(dataKelas))"
   ]
  },
  {
   "cell_type": "markdown",
   "metadata": {},
   "source": [
    "Karena $ r = -0.15297517335535024 $ , sehingga bernilai $ r < 0 $ dan berada pada interval $ 0.10 \\leq |r| < 0,30 $, maka korelasi antara kolom Daerah dan kolom Kelas dikatakan sebagai **Weak Negative Relationship**"
   ]
  },
  {
   "cell_type": "markdown",
   "metadata": {},
   "source": [
    "##### scatterplot "
   ]
  },
  {
   "cell_type": "code",
   "execution_count": 111,
   "metadata": {},
   "outputs": [
    {
     "data": {
      "text/plain": [
       "<AxesSubplot:xlabel='SumbuKecil', ylabel='Kelas'>"
      ]
     },
     "execution_count": 111,
     "metadata": {},
     "output_type": "execute_result"
    },
    {
     "data": {
      "image/png": "[encoded data removed]",
      "text/plain": [
       "<Figure size 432x288 with 1 Axes>"
      ]
     },
     "metadata": {
      "needs_background": "light"
     },
     "output_type": "display_data"
    }
   ],
   "source": [
    "data.plot(kind=\"scatter\",x=\"SumbuKecil\",y= \"Kelas\", color = 'r')"
   ]
  },
  {
   "cell_type": "markdown",
   "metadata": {},
   "source": [
    "### Korelasi kolom Keunikan (non-target) dengan kolom kelas (target)"
   ]
  },
  {
   "cell_type": "markdown",
   "metadata": {},
   "source": [
    "cari nilai $ r $"
   ]
  },
  {
   "cell_type": "code",
   "execution_count": 112,
   "metadata": {},
   "outputs": [
    {
     "name": "stdout",
     "output_type": "stream",
     "text": [
      "nilai dari r adalah  -0.7304563686511927\n"
     ]
    }
   ],
   "source": [
    "dataKeunikan = data['Keunikan']\n",
    "dataKelas = data['Kelas']\n",
    "print(\"nilai dari r adalah \", dataKeunikan.corr(dataKelas))"
   ]
  },
  {
   "cell_type": "markdown",
   "metadata": {},
   "source": [
    "Karena $ r = -0.7304563686511927 $ , sehingga bernilai $ r < 0 $ dan berada pada interval $ 0.70 \\leq |r| < 1 $, maka korelasi antara kolom Daerah dan kolom Kelas dikatakan sebagai **Very Strong Negative Relationship**"
   ]
  },
  {
   "cell_type": "markdown",
   "metadata": {},
   "source": [
    "##### scatterplot"
   ]
  },
  {
   "cell_type": "code",
   "execution_count": 113,
   "metadata": {},
   "outputs": [
    {
     "data": {
      "text/plain": [
       "<AxesSubplot:xlabel='Keunikan', ylabel='Kelas'>"
      ]
     },
     "execution_count": 113,
     "metadata": {},
     "output_type": "execute_result"
    },
    {
     "data": {
      "image/png": "[encoded data removed]",
      "text/plain": [
       "<Figure size 432x288 with 1 Axes>"
      ]
     },
     "metadata": {
      "needs_background": "light"
     },
     "output_type": "display_data"
    }
   ],
   "source": [
    "data.plot(kind=\"scatter\",x=\"Keunikan\",y= \"Kelas\", color = 'r')"
   ]
  },
  {
   "cell_type": "markdown",
   "metadata": {},
   "source": [
    "### Korelasi kolom Area Bulatan (non-target) dengan kolom kelas (target)"
   ]
  },
  {
   "cell_type": "markdown",
   "metadata": {},
   "source": [
    "cari nilai $ r $"
   ]
  },
  {
   "cell_type": "code",
   "execution_count": 141,
   "metadata": {},
   "outputs": [
    {
     "name": "stdout",
     "output_type": "stream",
     "text": [
      "nilai dari r adalah  -0.6073125434153747\n"
     ]
    }
   ],
   "source": [
    "dataAreaBulatan = data['AreaBulatan']\n",
    "dataKelas = data['Kelas']\n",
    "print(\"nilai dari r adalah \", dataAreaBulatan.corr(dataKelas))"
   ]
  },
  {
   "cell_type": "markdown",
   "metadata": {},
   "source": [
    "Karena $ r = -0.6073125434153747 $ , sehingga bernilai $ r < 0 $ dan berada pada interval $ 0.40 \\leq |r| < 0.70 $, maka korelasi antara kolom Daerah dan kolom Kelas dikatakan sebagai **Strong Negative Relationship**"
   ]
  },
  {
   "cell_type": "markdown",
   "metadata": {},
   "source": [
    "##### scatterplot"
   ]
  },
  {
   "cell_type": "code",
   "execution_count": 115,
   "metadata": {},
   "outputs": [
    {
     "data": {
      "text/plain": [
       "<AxesSubplot:xlabel='AreaBulatan', ylabel='Kelas'>"
      ]
     },
     "execution_count": 115,
     "metadata": {},
     "output_type": "execute_result"
    },
    {
     "data": {
      "image/png": "[encoded data removed]",
      "text/plain": [
       "<Figure size 432x288 with 1 Axes>"
      ]
     },
     "metadata": {
      "needs_background": "light"
     },
     "output_type": "display_data"
    }
   ],
   "source": [
    "data.plot(kind=\"scatter\",x=\"AreaBulatan\",y= \"Kelas\", color = 'r')"
   ]
  },
  {
   "cell_type": "markdown",
   "metadata": {},
   "source": [
    "### Korelasi kolom Diameter (non-target) dengan kolom kelas (target)"
   ]
  },
  {
   "cell_type": "markdown",
   "metadata": {},
   "source": [
    "cari nilai $ r $"
   ]
  },
  {
   "cell_type": "code",
   "execution_count": 116,
   "metadata": {},
   "outputs": [
    {
     "name": "stdout",
     "output_type": "stream",
     "text": [
      "nilai dari r adalah  -0.6025356896618811\n"
     ]
    }
   ],
   "source": [
    "dataDiameter = data['Diameter']\n",
    "dataKelas = data['Kelas']\n",
    "print(\"nilai dari r adalah \", dataDiameter.corr(dataKelas))"
   ]
  },
  {
   "cell_type": "markdown",
   "metadata": {},
   "source": [
    "Karena $ r = -0.6025356896618811 $ , sehingga bernilai $ r < 0 $ dan berada pada interval $ 0.40 \\leq |r| < 0.70 $, maka korelasi antara kolom Daerah dan kolom Kelas dikatakan sebagai **Strong Negative Relationship**"
   ]
  },
  {
   "cell_type": "markdown",
   "metadata": {},
   "source": [
    "###### scatterplot"
   ]
  },
  {
   "cell_type": "code",
   "execution_count": 117,
   "metadata": {},
   "outputs": [
    {
     "data": {
      "text/plain": [
       "<AxesSubplot:xlabel='Diameter', ylabel='Kelas'>"
      ]
     },
     "execution_count": 117,
     "metadata": {},
     "output_type": "execute_result"
    },
    {
     "data": {
      "image/png": "[encoded data removed]",
      "text/plain": [
       "<Figure size 432x288 with 1 Axes>"
      ]
     },
     "metadata": {
      "needs_background": "light"
     },
     "output_type": "display_data"
    }
   ],
   "source": [
    "data.plot(kind=\"scatter\",x=\"Diameter\",y= \"Kelas\", color = 'r')"
   ]
  },
  {
   "cell_type": "markdown",
   "metadata": {},
   "source": [
    "### Korelasi kolom KadarAir (non-target) dengan kolom kelas (target)"
   ]
  },
  {
   "cell_type": "markdown",
   "metadata": {},
   "source": [
    "cari nilai $ r $"
   ]
  },
  {
   "cell_type": "code",
   "execution_count": 142,
   "metadata": {},
   "outputs": [
    {
     "name": "stdout",
     "output_type": "stream",
     "text": [
      "nilai dari r adalah  0.13434422605727642\n"
     ]
    }
   ],
   "source": [
    "dataKadarAir = data['KadarAir']\n",
    "dataKelas = data['Kelas']\n",
    "print(\"nilai dari r adalah \", dataKadarAir.corr(dataKelas))"
   ]
  },
  {
   "cell_type": "markdown",
   "metadata": {},
   "source": [
    "Karena $ r = 0.13434422605727642 $ , sehingga bernilai $ r > 0 $ dan berada pada interval $ 0.10 \\leq |r| < 0.30 $, maka korelasi antara kolom Daerah dan kolom Kelas dikatakan sebagai **Weak Positive Relationship**"
   ]
  },
  {
   "cell_type": "markdown",
   "metadata": {},
   "source": [
    "###### scatterplot"
   ]
  },
  {
   "cell_type": "code",
   "execution_count": 119,
   "metadata": {},
   "outputs": [
    {
     "data": {
      "text/plain": [
       "<AxesSubplot:xlabel='KadarAir', ylabel='Kelas'>"
      ]
     },
     "execution_count": 119,
     "metadata": {},
     "output_type": "execute_result"
    },
    {
     "data": {
      "image/png": "[encoded data removed]",
      "text/plain": [
       "<Figure size 432x288 with 1 Axes>"
      ]
     },
     "metadata": {
      "needs_background": "light"
     },
     "output_type": "display_data"
    }
   ],
   "source": [
    "data.plot(kind=\"scatter\",x=\"KadarAir\",y= \"Kelas\", color = 'r')"
   ]
  },
  {
   "cell_type": "markdown",
   "metadata": {},
   "source": [
    "### Korelasi kolom Keliling (non-target) dengan kolom kelas (target)"
   ]
  },
  {
   "cell_type": "markdown",
   "metadata": {},
   "source": [
    "cari nilai $ r $"
   ]
  },
  {
   "cell_type": "code",
   "execution_count": 120,
   "metadata": {},
   "outputs": [
    {
     "name": "stdout",
     "output_type": "stream",
     "text": [
      "nilai dari r adalah  -0.6348607454756853\n"
     ]
    }
   ],
   "source": [
    "dataKeliling = data['Keliling']\n",
    "dataKelas = data['Kelas']\n",
    "print(\"nilai dari r adalah \", dataKeliling.corr(dataKelas))"
   ]
  },
  {
   "cell_type": "markdown",
   "metadata": {},
   "source": [
    "Karena $ r = -0.6348607454756853 $ , sehingga bernilai $ r < 0 $ dan berada pada interval $ 0.40 \\leq |r| < 0.70 $, maka korelasi antara kolom Daerah dan kolom Kelas dikatakan sebagai **Strong Negative Relationship**"
   ]
  },
  {
   "cell_type": "markdown",
   "metadata": {},
   "source": [
    "###### scatterplot"
   ]
  },
  {
   "cell_type": "code",
   "execution_count": 121,
   "metadata": {},
   "outputs": [
    {
     "data": {
      "text/plain": [
       "<AxesSubplot:xlabel='Keliling', ylabel='Kelas'>"
      ]
     },
     "execution_count": 121,
     "metadata": {},
     "output_type": "execute_result"
    },
    {
     "data": {
      "image/png": "[encoded data removed]",
      "text/plain": [
       "<Figure size 432x288 with 1 Axes>"
      ]
     },
     "metadata": {
      "needs_background": "light"
     },
     "output_type": "display_data"
    }
   ],
   "source": [
    "data.plot(kind=\"scatter\",x=\"Keliling\",y= \"Kelas\", color = 'r')"
   ]
  },
  {
   "cell_type": "markdown",
   "metadata": {},
   "source": [
    "### Korelasi kolom Bulatan (non-target) dengan kolom kelas (target)"
   ]
  },
  {
   "cell_type": "markdown",
   "metadata": {},
   "source": [
    "cari nilai $ r $"
   ]
  },
  {
   "cell_type": "code",
   "execution_count": 122,
   "metadata": {},
   "outputs": [
    {
     "name": "stdout",
     "output_type": "stream",
     "text": [
      "nilai dari r adalah  0.5450045317240073\n"
     ]
    }
   ],
   "source": [
    "dataBulatan = data['Bulatan']\n",
    "dataKelas = data['Kelas']\n",
    "print(\"nilai dari r adalah \", dataBulatan.corr(dataKelas))"
   ]
  },
  {
   "cell_type": "markdown",
   "metadata": {},
   "source": [
    "Karena $ r = 0.5450045317240073 $ , sehingga bernilai $ r > 0 $ dan berada pada interval $ 0.10 \\leq |r| < 0.30 $, maka korelasi antara kolom Daerah dan kolom Kelas dikatakan sebagai **Weak Positive Relationship**"
   ]
  },
  {
   "cell_type": "markdown",
   "metadata": {},
   "source": [
    "###### scatterplot"
   ]
  },
  {
   "cell_type": "code",
   "execution_count": 123,
   "metadata": {},
   "outputs": [
    {
     "data": {
      "text/plain": [
       "<AxesSubplot:xlabel='Bulatan', ylabel='Kelas'>"
      ]
     },
     "execution_count": 123,
     "metadata": {},
     "output_type": "execute_result"
    },
    {
     "data": {
      "image/png": "[encoded data removed]",
      "text/plain": [
       "<Figure size 432x288 with 1 Axes>"
      ]
     },
     "metadata": {
      "needs_background": "light"
     },
     "output_type": "display_data"
    }
   ],
   "source": [
    "data.plot(kind=\"scatter\",x=\"Bulatan\",y= \"Kelas\", color = 'r')"
   ]
  },
  {
   "cell_type": "markdown",
   "metadata": {},
   "source": [
    "### Korelasi kolom ransum (non-target) dengan kolom kelas (target)"
   ]
  },
  {
   "cell_type": "markdown",
   "metadata": {},
   "source": [
    "cari nilai $ r $"
   ]
  },
  {
   "cell_type": "code",
   "execution_count": 124,
   "metadata": {},
   "outputs": [
    {
     "name": "stdout",
     "output_type": "stream",
     "text": [
      "nilai dari r adalah  -0.8399038681287486\n"
     ]
    }
   ],
   "source": [
    "dataRansum = data['Ransum']\n",
    "dataKelas = data['Kelas']\n",
    "print(\"nilai dari r adalah \", dataRansum.corr(dataKelas))"
   ]
  },
  {
   "cell_type": "markdown",
   "metadata": {},
   "source": [
    "###### scatterplot"
   ]
  },
  {
   "cell_type": "code",
   "execution_count": 125,
   "metadata": {},
   "outputs": [
    {
     "data": {
      "text/plain": [
       "<AxesSubplot:xlabel='Ransum', ylabel='Kelas'>"
      ]
     },
     "execution_count": 125,
     "metadata": {},
     "output_type": "execute_result"
    },
    {
     "data": {
      "image/png": "[encoded data removed]",
      "text/plain": [
       "<Figure size 432x288 with 1 Axes>"
      ]
     },
     "metadata": {
      "needs_background": "light"
     },
     "output_type": "display_data"
    }
   ],
   "source": [
    "data.plot(kind=\"scatter\",x=\"Ransum\",y= \"Kelas\", color = 'r')"
   ]
  },
  {
   "cell_type": "code",
   "execution_count": null,
   "metadata": {},
   "outputs": [],
   "source": []
  }
 ],
 "metadata": {
  "kernelspec": {
   "display_name": "Python 3",
   "language": "python",
   "name": "python3"
  },
  "language_info": {
   "codemirror_mode": {
    "name": "ipython",
    "version": 3
   },
   "file_extension": ".py",
   "mimetype": "text/x-python",
   "name": "python",
   "nbconvert_exporter": "python",
   "pygments_lexer": "ipython3",
   "version": "3.8.3"
  }
 },
 "nbformat": 4,
 "nbformat_minor": 4
}
